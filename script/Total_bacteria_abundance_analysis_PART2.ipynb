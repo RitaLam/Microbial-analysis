{
 "cells": [
  {
   "cell_type": "markdown",
   "id": "divine-advisory",
   "metadata": {},
   "source": [
    "# Microbial analysis PART1\n",
    "# Total Bacteria Abundance Statisical Analysis\n",
    "____\n",
    "\n",
    "* qPCR is performed fo quantification of total bacteria abundance;\n",
    "* Samples included in the study: AirSample, AirDuct, Window, Saliva, Palm, and Blinds (Outside) for Regular room\n",
    "* qPCR **LOD is 35 copies per uL**, which the Log of this concentration is approximately 1.544\n",
    "* The Log copy number of genes (LogC) is for visualization and analysis\n",
    "* Room Type variable: View is EC window patient rooms | Regular= Regular Window patient room\n",
    "* For Time variable: T0 is baseline (before patient admission), T1 is first day of patient admission, T2 is second day of patient admission, and T3 is third day of patient admission\n"
   ]
  },
  {
   "cell_type": "code",
   "execution_count": 8,
   "id": "genuine-boost",
   "metadata": {},
   "outputs": [],
   "source": [
    "import numpy as np\n",
    "from numpy.random import seed\n",
    "from numpy.random import rand\n",
    "import pandas as pd\n",
    "import seaborn as sns\n",
    "import matplotlib.pyplot as plt\n",
    "from matplotlib.legend_handler import HandlerTuple\n",
    "import statsmodels.api as sm\n",
    "from statsmodels.formula.api import ols\n",
    "import sys\n",
    "from scipy import stats\n",
    "from scipy.stats import levene\n",
    "from scipy.stats import bartlett\n",
    "from scipy.stats import shapiro\n",
    "from scipy.stats.mstats import kruskal\n",
    "import scipy.spatial"
   ]
  },
  {
   "cell_type": "code",
   "execution_count": 9,
   "id": "fantastic-vampire",
   "metadata": {},
   "outputs": [],
   "source": [
    "from scipy.stats import f_oneway\n",
    "from scipy.stats import boxcox\n",
    "from scipy.stats import yeojohnson\n",
    "from statsmodels.stats.multicomp import pairwise_tukeyhsd\n",
    "from statsmodels.stats.anova import AnovaRM\n",
    "from pingouin import welch_anova, read_dataset\n",
    "from pingouin import kruskal, read_dataset\n",
    "from pingouin import ttest\n",
    "import pingouin as pg"
   ]
  },
  {
   "cell_type": "markdown",
   "id": "overall-junior",
   "metadata": {},
   "source": [
    "### Import Data"
   ]
  },
  {
   "cell_type": "code",
   "execution_count": 5,
   "id": "integral-correspondence",
   "metadata": {},
   "outputs": [],
   "source": [
    "df = None\n",
    "# NanoDrop file\n",
    "new_qPCR = pd.read_csv(\"/Users/ritalam519/Documents/GitHub/Microbial-analysis/Raw_data/qPCR_Data.csv\",delimiter=\",\")\n",
    "new_qPCR = new_qPCR.rename(columns={\"Copy No.uL\":\"Copy_Number\"})"
   ]
  },
  {
   "cell_type": "code",
   "execution_count": 6,
   "id": "ordinary-prerequisite",
   "metadata": {},
   "outputs": [
    {
     "data": {
      "text/html": [
       "<div>\n",
       "<style scoped>\n",
       "    .dataframe tbody tr th:only-of-type {\n",
       "        vertical-align: middle;\n",
       "    }\n",
       "\n",
       "    .dataframe tbody tr th {\n",
       "        vertical-align: top;\n",
       "    }\n",
       "\n",
       "    .dataframe thead th {\n",
       "        text-align: right;\n",
       "    }\n",
       "</style>\n",
       "<table border=\"1\" class=\"dataframe\">\n",
       "  <thead>\n",
       "    <tr style=\"text-align: right;\">\n",
       "      <th></th>\n",
       "      <th>PID</th>\n",
       "      <th>Room_Number</th>\n",
       "      <th>Sample</th>\n",
       "      <th>Room_Type</th>\n",
       "      <th>Time</th>\n",
       "      <th>LogC</th>\n",
       "      <th>Copy_Number</th>\n",
       "    </tr>\n",
       "  </thead>\n",
       "  <tbody>\n",
       "    <tr>\n",
       "      <th>0</th>\n",
       "      <td>RR1T1</td>\n",
       "      <td>1</td>\n",
       "      <td>AirSample</td>\n",
       "      <td>Regular</td>\n",
       "      <td>T1</td>\n",
       "      <td>1.544068</td>\n",
       "      <td>35.000</td>\n",
       "    </tr>\n",
       "    <tr>\n",
       "      <th>1</th>\n",
       "      <td>RR1T3</td>\n",
       "      <td>1</td>\n",
       "      <td>AirSample</td>\n",
       "      <td>Regular</td>\n",
       "      <td>T3</td>\n",
       "      <td>1.942307</td>\n",
       "      <td>87.560</td>\n",
       "    </tr>\n",
       "    <tr>\n",
       "      <th>2</th>\n",
       "      <td>RR2T1</td>\n",
       "      <td>2</td>\n",
       "      <td>AirSample</td>\n",
       "      <td>Regular</td>\n",
       "      <td>T1</td>\n",
       "      <td>1.727965</td>\n",
       "      <td>53.452</td>\n",
       "    </tr>\n",
       "    <tr>\n",
       "      <th>3</th>\n",
       "      <td>RR2T3</td>\n",
       "      <td>2</td>\n",
       "      <td>AirSample</td>\n",
       "      <td>Regular</td>\n",
       "      <td>T3</td>\n",
       "      <td>2.280807</td>\n",
       "      <td>190.900</td>\n",
       "    </tr>\n",
       "    <tr>\n",
       "      <th>4</th>\n",
       "      <td>RR3T1</td>\n",
       "      <td>3</td>\n",
       "      <td>AirSample</td>\n",
       "      <td>Regular</td>\n",
       "      <td>T1</td>\n",
       "      <td>2.050936</td>\n",
       "      <td>112.444</td>\n",
       "    </tr>\n",
       "  </tbody>\n",
       "</table>\n",
       "</div>"
      ],
      "text/plain": [
       "     PID  Room_Number     Sample Room_Type Time      LogC  Copy_Number\n",
       "0  RR1T1            1  AirSample   Regular   T1  1.544068       35.000\n",
       "1  RR1T3            1  AirSample   Regular   T3  1.942307       87.560\n",
       "2  RR2T1            2  AirSample   Regular   T1  1.727965       53.452\n",
       "3  RR2T3            2  AirSample   Regular   T3  2.280807      190.900\n",
       "4  RR3T1            3  AirSample   Regular   T1  2.050936      112.444"
      ]
     },
     "execution_count": 6,
     "metadata": {},
     "output_type": "execute_result"
    }
   ],
   "source": [
    "new_qPCR.head(5) #there is an extra sample in RR4T0 which was not included in the study"
   ]
  },
  {
   "cell_type": "code",
   "execution_count": 7,
   "id": "blank-yukon",
   "metadata": {},
   "outputs": [
    {
     "data": {
      "text/html": [
       "<div>\n",
       "<style scoped>\n",
       "    .dataframe tbody tr th:only-of-type {\n",
       "        vertical-align: middle;\n",
       "    }\n",
       "\n",
       "    .dataframe tbody tr th {\n",
       "        vertical-align: top;\n",
       "    }\n",
       "\n",
       "    .dataframe thead th {\n",
       "        text-align: right;\n",
       "    }\n",
       "</style>\n",
       "<table border=\"1\" class=\"dataframe\">\n",
       "  <thead>\n",
       "    <tr style=\"text-align: right;\">\n",
       "      <th></th>\n",
       "      <th>PID</th>\n",
       "      <th>Room_Number</th>\n",
       "      <th>Sample</th>\n",
       "      <th>Room_Type</th>\n",
       "      <th>Time</th>\n",
       "      <th>LogC</th>\n",
       "      <th>Copy_Number</th>\n",
       "    </tr>\n",
       "  </thead>\n",
       "  <tbody>\n",
       "    <tr>\n",
       "      <th>0</th>\n",
       "      <td>RR1T1</td>\n",
       "      <td>1</td>\n",
       "      <td>AirSample</td>\n",
       "      <td>Regular</td>\n",
       "      <td>T1</td>\n",
       "      <td>1.544068</td>\n",
       "      <td>35.000</td>\n",
       "    </tr>\n",
       "    <tr>\n",
       "      <th>1</th>\n",
       "      <td>RR1T3</td>\n",
       "      <td>1</td>\n",
       "      <td>AirSample</td>\n",
       "      <td>Regular</td>\n",
       "      <td>T3</td>\n",
       "      <td>1.942307</td>\n",
       "      <td>87.560</td>\n",
       "    </tr>\n",
       "    <tr>\n",
       "      <th>2</th>\n",
       "      <td>RR2T1</td>\n",
       "      <td>2</td>\n",
       "      <td>AirSample</td>\n",
       "      <td>Regular</td>\n",
       "      <td>T1</td>\n",
       "      <td>1.727965</td>\n",
       "      <td>53.452</td>\n",
       "    </tr>\n",
       "    <tr>\n",
       "      <th>3</th>\n",
       "      <td>RR2T3</td>\n",
       "      <td>2</td>\n",
       "      <td>AirSample</td>\n",
       "      <td>Regular</td>\n",
       "      <td>T3</td>\n",
       "      <td>2.280807</td>\n",
       "      <td>190.900</td>\n",
       "    </tr>\n",
       "    <tr>\n",
       "      <th>4</th>\n",
       "      <td>RR3T1</td>\n",
       "      <td>3</td>\n",
       "      <td>AirSample</td>\n",
       "      <td>Regular</td>\n",
       "      <td>T1</td>\n",
       "      <td>2.050936</td>\n",
       "      <td>112.444</td>\n",
       "    </tr>\n",
       "  </tbody>\n",
       "</table>\n",
       "</div>"
      ],
      "text/plain": [
       "     PID  Room_Number     Sample Room_Type Time      LogC  Copy_Number\n",
       "0  RR1T1            1  AirSample   Regular   T1  1.544068       35.000\n",
       "1  RR1T3            1  AirSample   Regular   T3  1.942307       87.560\n",
       "2  RR2T1            2  AirSample   Regular   T1  1.727965       53.452\n",
       "3  RR2T3            2  AirSample   Regular   T3  2.280807      190.900\n",
       "4  RR3T1            3  AirSample   Regular   T1  2.050936      112.444"
      ]
     },
     "execution_count": 7,
     "metadata": {},
     "output_type": "execute_result"
    }
   ],
   "source": [
    "new_qPCR=new_qPCR.drop(new_qPCR.index[6])\n",
    "new_qPCR.head(5)"
   ]
  },
  {
   "cell_type": "markdown",
   "id": "0dd89691-0491-4c7a-9ab6-ae428a37aa49",
   "metadata": {},
   "source": [
    " **LogC** means Log[Copy number of genes], which is the resutls used for analysis and graphing\n",
    " "
   ]
  },
  {
   "cell_type": "markdown",
   "id": "comprehensive-tribute",
   "metadata": {},
   "source": [
    "## 1. Sample Process & Subgrouping\n",
    "\n",
    "A function *subgroup* is defining for ease of analysis"
   ]
  },
  {
   "cell_type": "code",
   "execution_count": 136,
   "id": "a8ea7aec-2de2-4cea-9a64-b6b80a4f5659",
   "metadata": {},
   "outputs": [],
   "source": [
    "def subgroup(data, field, val):\n",
    "    return data.loc[data[field] == val]"
   ]
  },
  {
   "cell_type": "code",
   "execution_count": 137,
   "id": "close-minutes",
   "metadata": {},
   "outputs": [
    {
     "data": {
      "text/html": [
       "<div>\n",
       "<style scoped>\n",
       "    .dataframe tbody tr th:only-of-type {\n",
       "        vertical-align: middle;\n",
       "    }\n",
       "\n",
       "    .dataframe tbody tr th {\n",
       "        vertical-align: top;\n",
       "    }\n",
       "\n",
       "    .dataframe thead th {\n",
       "        text-align: right;\n",
       "    }\n",
       "</style>\n",
       "<table border=\"1\" class=\"dataframe\">\n",
       "  <thead>\n",
       "    <tr style=\"text-align: right;\">\n",
       "      <th></th>\n",
       "      <th>PID</th>\n",
       "      <th>Room_Number</th>\n",
       "      <th>Sample</th>\n",
       "      <th>Room_Type</th>\n",
       "      <th>Time</th>\n",
       "      <th>LogC</th>\n",
       "      <th>Copy_Number</th>\n",
       "    </tr>\n",
       "  </thead>\n",
       "  <tbody>\n",
       "    <tr>\n",
       "      <th>0</th>\n",
       "      <td>RR1T1</td>\n",
       "      <td>1</td>\n",
       "      <td>AirSample</td>\n",
       "      <td>Regular</td>\n",
       "      <td>T1</td>\n",
       "      <td>1.544068</td>\n",
       "      <td>35.000</td>\n",
       "    </tr>\n",
       "    <tr>\n",
       "      <th>1</th>\n",
       "      <td>RR1T3</td>\n",
       "      <td>1</td>\n",
       "      <td>AirSample</td>\n",
       "      <td>Regular</td>\n",
       "      <td>T3</td>\n",
       "      <td>1.942307</td>\n",
       "      <td>87.560</td>\n",
       "    </tr>\n",
       "    <tr>\n",
       "      <th>2</th>\n",
       "      <td>RR2T1</td>\n",
       "      <td>2</td>\n",
       "      <td>AirSample</td>\n",
       "      <td>Regular</td>\n",
       "      <td>T1</td>\n",
       "      <td>1.727965</td>\n",
       "      <td>53.452</td>\n",
       "    </tr>\n",
       "    <tr>\n",
       "      <th>3</th>\n",
       "      <td>RR2T3</td>\n",
       "      <td>2</td>\n",
       "      <td>AirSample</td>\n",
       "      <td>Regular</td>\n",
       "      <td>T3</td>\n",
       "      <td>2.280807</td>\n",
       "      <td>190.900</td>\n",
       "    </tr>\n",
       "    <tr>\n",
       "      <th>4</th>\n",
       "      <td>RR3T1</td>\n",
       "      <td>3</td>\n",
       "      <td>AirSample</td>\n",
       "      <td>Regular</td>\n",
       "      <td>T1</td>\n",
       "      <td>2.050936</td>\n",
       "      <td>112.444</td>\n",
       "    </tr>\n",
       "  </tbody>\n",
       "</table>\n",
       "</div>"
      ],
      "text/plain": [
       "     PID  Room_Number     Sample Room_Type Time      LogC  Copy_Number\n",
       "0  RR1T1            1  AirSample   Regular   T1  1.544068       35.000\n",
       "1  RR1T3            1  AirSample   Regular   T3  1.942307       87.560\n",
       "2  RR2T1            2  AirSample   Regular   T1  1.727965       53.452\n",
       "3  RR2T3            2  AirSample   Regular   T3  2.280807      190.900\n",
       "4  RR3T1            3  AirSample   Regular   T1  2.050936      112.444"
      ]
     },
     "execution_count": 137,
     "metadata": {},
     "output_type": "execute_result"
    }
   ],
   "source": [
    "#qPCR Subgroup based on the Sample type \n",
    "new_Blind =subgroup(new_qPCR,\"Sample\",\"Blinds\")\n",
    "new_Window = subgroup(new_qPCR,\"Sample\",\"Window\")\n",
    "new_AirDuct = subgroup(new_qPCR,\"Sample\",\"AirDuct\")\n",
    "new_AirSample = subgroup(new_qPCR,\"Sample\",\"AirSample\")\n",
    "new_Saliva = subgroup(new_qPCR,\"Sample\",\"Saliva\")\n",
    "new_Palm = subgroup(new_qPCR,\"Sample\",\"Palm\")\n",
    "new_AirSample.head(5)"
   ]
  },
  {
   "cell_type": "markdown",
   "id": "falling-virtue",
   "metadata": {},
   "source": [
    "### Subgrouping"
   ]
  },
  {
   "cell_type": "markdown",
   "id": "ccf13aef-affb-452f-8eb2-d50d56d9bf67",
   "metadata": {},
   "source": [
    "**Window**"
   ]
  },
  {
   "cell_type": "code",
   "execution_count": 138,
   "id": "corresponding-mainstream",
   "metadata": {},
   "outputs": [
    {
     "data": {
      "text/html": [
       "<div>\n",
       "<style scoped>\n",
       "    .dataframe tbody tr th:only-of-type {\n",
       "        vertical-align: middle;\n",
       "    }\n",
       "\n",
       "    .dataframe tbody tr th {\n",
       "        vertical-align: top;\n",
       "    }\n",
       "\n",
       "    .dataframe thead th {\n",
       "        text-align: right;\n",
       "    }\n",
       "</style>\n",
       "<table border=\"1\" class=\"dataframe\">\n",
       "  <thead>\n",
       "    <tr style=\"text-align: right;\">\n",
       "      <th></th>\n",
       "      <th>PID</th>\n",
       "      <th>Room_Number</th>\n",
       "      <th>Sample</th>\n",
       "      <th>Room_Type</th>\n",
       "      <th>Time</th>\n",
       "      <th>LogC</th>\n",
       "      <th>Copy_Number</th>\n",
       "    </tr>\n",
       "  </thead>\n",
       "  <tbody>\n",
       "    <tr>\n",
       "      <th>21</th>\n",
       "      <td>RR1T0</td>\n",
       "      <td>1</td>\n",
       "      <td>Window</td>\n",
       "      <td>Regular</td>\n",
       "      <td>T0</td>\n",
       "      <td>2.800744</td>\n",
       "      <td>632.039189</td>\n",
       "    </tr>\n",
       "    <tr>\n",
       "      <th>25</th>\n",
       "      <td>RR2T0</td>\n",
       "      <td>2</td>\n",
       "      <td>Window</td>\n",
       "      <td>Regular</td>\n",
       "      <td>T0</td>\n",
       "      <td>2.669652</td>\n",
       "      <td>467.360917</td>\n",
       "    </tr>\n",
       "    <tr>\n",
       "      <th>29</th>\n",
       "      <td>RR3T0</td>\n",
       "      <td>3</td>\n",
       "      <td>Window</td>\n",
       "      <td>Regular</td>\n",
       "      <td>T0</td>\n",
       "      <td>3.049488</td>\n",
       "      <td>1120.697405</td>\n",
       "    </tr>\n",
       "  </tbody>\n",
       "</table>\n",
       "</div>"
      ],
      "text/plain": [
       "      PID  Room_Number  Sample Room_Type Time      LogC  Copy_Number\n",
       "21  RR1T0            1  Window   Regular   T0  2.800744   632.039189\n",
       "25  RR2T0            2  Window   Regular   T0  2.669652   467.360917\n",
       "29  RR3T0            3  Window   Regular   T0  3.049488  1120.697405"
      ]
     },
     "execution_count": 138,
     "metadata": {},
     "output_type": "execute_result"
    }
   ],
   "source": [
    "new_Window_T0 = subgroup(new_Window,\"Time\",\"T0\")\n",
    "new_Window_T1 = subgroup(new_Window,\"Time\",\"T1\")\n",
    "new_Window_T2 = subgroup(new_Window,\"Time\",\"T2\")\n",
    "new_Window_T3 = subgroup(new_Window,\"Time\",\"T3\")\n",
    "new_Window_T0.head(3)"
   ]
  },
  {
   "cell_type": "code",
   "execution_count": 139,
   "id": "d281df7d-df1a-4df0-89b6-23ce7bd5d68d",
   "metadata": {},
   "outputs": [
    {
     "data": {
      "text/html": [
       "<div>\n",
       "<style scoped>\n",
       "    .dataframe tbody tr th:only-of-type {\n",
       "        vertical-align: middle;\n",
       "    }\n",
       "\n",
       "    .dataframe tbody tr th {\n",
       "        vertical-align: top;\n",
       "    }\n",
       "\n",
       "    .dataframe thead th {\n",
       "        text-align: right;\n",
       "    }\n",
       "</style>\n",
       "<table border=\"1\" class=\"dataframe\">\n",
       "  <thead>\n",
       "    <tr style=\"text-align: right;\">\n",
       "      <th></th>\n",
       "      <th>PID</th>\n",
       "      <th>Room_Number</th>\n",
       "      <th>Sample</th>\n",
       "      <th>Room_Type</th>\n",
       "      <th>Time</th>\n",
       "      <th>LogC</th>\n",
       "      <th>Copy_Number</th>\n",
       "    </tr>\n",
       "  </thead>\n",
       "  <tbody>\n",
       "    <tr>\n",
       "      <th>21</th>\n",
       "      <td>RR1T0</td>\n",
       "      <td>1</td>\n",
       "      <td>Window</td>\n",
       "      <td>Regular</td>\n",
       "      <td>T0</td>\n",
       "      <td>2.800744</td>\n",
       "      <td>632.039189</td>\n",
       "    </tr>\n",
       "    <tr>\n",
       "      <th>22</th>\n",
       "      <td>RR1T1</td>\n",
       "      <td>1</td>\n",
       "      <td>Window</td>\n",
       "      <td>Regular</td>\n",
       "      <td>T1</td>\n",
       "      <td>3.127445</td>\n",
       "      <td>1341.050934</td>\n",
       "    </tr>\n",
       "    <tr>\n",
       "      <th>23</th>\n",
       "      <td>RR1T2</td>\n",
       "      <td>1</td>\n",
       "      <td>Window</td>\n",
       "      <td>Regular</td>\n",
       "      <td>T2</td>\n",
       "      <td>3.756068</td>\n",
       "      <td>5702.535401</td>\n",
       "    </tr>\n",
       "  </tbody>\n",
       "</table>\n",
       "</div>"
      ],
      "text/plain": [
       "      PID  Room_Number  Sample Room_Type Time      LogC  Copy_Number\n",
       "21  RR1T0            1  Window   Regular   T0  2.800744   632.039189\n",
       "22  RR1T1            1  Window   Regular   T1  3.127445  1341.050934\n",
       "23  RR1T2            1  Window   Regular   T2  3.756068  5702.535401"
      ]
     },
     "execution_count": 139,
     "metadata": {},
     "output_type": "execute_result"
    }
   ],
   "source": [
    "#Subgroup Between Room Type to see the effect of Time\n",
    "new_Window_R= subgroup(new_Window, \"Room_Type\",\"Regular\")\n",
    "new_Window_V= subgroup(new_Window, \"Room_Type\",\"View\")\n",
    "new_Window_R.head(3)"
   ]
  },
  {
   "cell_type": "markdown",
   "id": "477e3b49-4a7d-42f8-9015-3496a99578a7",
   "metadata": {},
   "source": [
    "**AirDuct**"
   ]
  },
  {
   "cell_type": "code",
   "execution_count": 140,
   "id": "global-identification",
   "metadata": {},
   "outputs": [
    {
     "data": {
      "text/html": [
       "<div>\n",
       "<style scoped>\n",
       "    .dataframe tbody tr th:only-of-type {\n",
       "        vertical-align: middle;\n",
       "    }\n",
       "\n",
       "    .dataframe tbody tr th {\n",
       "        vertical-align: top;\n",
       "    }\n",
       "\n",
       "    .dataframe thead th {\n",
       "        text-align: right;\n",
       "    }\n",
       "</style>\n",
       "<table border=\"1\" class=\"dataframe\">\n",
       "  <thead>\n",
       "    <tr style=\"text-align: right;\">\n",
       "      <th></th>\n",
       "      <th>PID</th>\n",
       "      <th>Room_Number</th>\n",
       "      <th>Sample</th>\n",
       "      <th>Room_Type</th>\n",
       "      <th>Time</th>\n",
       "      <th>LogC</th>\n",
       "      <th>Copy_Number</th>\n",
       "    </tr>\n",
       "  </thead>\n",
       "  <tbody>\n",
       "    <tr>\n",
       "      <th>59</th>\n",
       "      <td>RR1T0</td>\n",
       "      <td>1</td>\n",
       "      <td>AirDuct</td>\n",
       "      <td>Regular</td>\n",
       "      <td>T0</td>\n",
       "      <td>3.355871</td>\n",
       "      <td>2269.192201</td>\n",
       "    </tr>\n",
       "    <tr>\n",
       "      <th>63</th>\n",
       "      <td>RR2T0</td>\n",
       "      <td>2</td>\n",
       "      <td>AirDuct</td>\n",
       "      <td>Regular</td>\n",
       "      <td>T0</td>\n",
       "      <td>3.911865</td>\n",
       "      <td>8163.289284</td>\n",
       "    </tr>\n",
       "    <tr>\n",
       "      <th>67</th>\n",
       "      <td>RR3T0</td>\n",
       "      <td>3</td>\n",
       "      <td>AirDuct</td>\n",
       "      <td>Regular</td>\n",
       "      <td>T0</td>\n",
       "      <td>4.043557</td>\n",
       "      <td>11054.956110</td>\n",
       "    </tr>\n",
       "  </tbody>\n",
       "</table>\n",
       "</div>"
      ],
      "text/plain": [
       "      PID  Room_Number   Sample Room_Type Time      LogC   Copy_Number\n",
       "59  RR1T0            1  AirDuct   Regular   T0  3.355871   2269.192201\n",
       "63  RR2T0            2  AirDuct   Regular   T0  3.911865   8163.289284\n",
       "67  RR3T0            3  AirDuct   Regular   T0  4.043557  11054.956110"
      ]
     },
     "execution_count": 140,
     "metadata": {},
     "output_type": "execute_result"
    }
   ],
   "source": [
    "new_AirDuct_T0 = subgroup(new_AirDuct,\"Time\",\"T0\")\n",
    "new_AirDuct_T1 = subgroup(new_AirDuct,\"Time\",\"T1\")\n",
    "new_AirDuct_T2 = subgroup(new_AirDuct,\"Time\",\"T2\")\n",
    "new_AirDuct_T3 = subgroup(new_AirDuct,\"Time\",\"T3\")\n",
    "new_AirDuct_T0.head(3)"
   ]
  },
  {
   "cell_type": "code",
   "execution_count": 141,
   "id": "babe59d0-99db-4231-91a4-6211b3ff2c19",
   "metadata": {},
   "outputs": [
    {
     "data": {
      "text/html": [
       "<div>\n",
       "<style scoped>\n",
       "    .dataframe tbody tr th:only-of-type {\n",
       "        vertical-align: middle;\n",
       "    }\n",
       "\n",
       "    .dataframe tbody tr th {\n",
       "        vertical-align: top;\n",
       "    }\n",
       "\n",
       "    .dataframe thead th {\n",
       "        text-align: right;\n",
       "    }\n",
       "</style>\n",
       "<table border=\"1\" class=\"dataframe\">\n",
       "  <thead>\n",
       "    <tr style=\"text-align: right;\">\n",
       "      <th></th>\n",
       "      <th>PID</th>\n",
       "      <th>Room_Number</th>\n",
       "      <th>Sample</th>\n",
       "      <th>Room_Type</th>\n",
       "      <th>Time</th>\n",
       "      <th>LogC</th>\n",
       "      <th>Copy_Number</th>\n",
       "    </tr>\n",
       "  </thead>\n",
       "  <tbody>\n",
       "    <tr>\n",
       "      <th>59</th>\n",
       "      <td>RR1T0</td>\n",
       "      <td>1</td>\n",
       "      <td>AirDuct</td>\n",
       "      <td>Regular</td>\n",
       "      <td>T0</td>\n",
       "      <td>3.355871</td>\n",
       "      <td>2269.192201</td>\n",
       "    </tr>\n",
       "    <tr>\n",
       "      <th>60</th>\n",
       "      <td>RR1T1</td>\n",
       "      <td>1</td>\n",
       "      <td>AirDuct</td>\n",
       "      <td>Regular</td>\n",
       "      <td>T1</td>\n",
       "      <td>2.795706</td>\n",
       "      <td>624.750030</td>\n",
       "    </tr>\n",
       "    <tr>\n",
       "      <th>61</th>\n",
       "      <td>RR1T2</td>\n",
       "      <td>1</td>\n",
       "      <td>AirDuct</td>\n",
       "      <td>Regular</td>\n",
       "      <td>T2</td>\n",
       "      <td>3.612296</td>\n",
       "      <td>4095.396392</td>\n",
       "    </tr>\n",
       "  </tbody>\n",
       "</table>\n",
       "</div>"
      ],
      "text/plain": [
       "      PID  Room_Number   Sample Room_Type Time      LogC  Copy_Number\n",
       "59  RR1T0            1  AirDuct   Regular   T0  3.355871  2269.192201\n",
       "60  RR1T1            1  AirDuct   Regular   T1  2.795706   624.750030\n",
       "61  RR1T2            1  AirDuct   Regular   T2  3.612296  4095.396392"
      ]
     },
     "execution_count": 141,
     "metadata": {},
     "output_type": "execute_result"
    }
   ],
   "source": [
    "#Subgroup Between Room Type to see the effect of Time\n",
    "new_AirDuct_R= subgroup(new_AirDuct, \"Room_Type\",\"Regular\")\n",
    "new_AirDuct_V= subgroup(new_AirDuct, \"Room_Type\",\"View\")\n",
    "new_AirDuct_R.head(3)"
   ]
  },
  {
   "cell_type": "markdown",
   "id": "b2f607f2-84c4-4209-b624-513d3036d65d",
   "metadata": {},
   "source": [
    "**Air Sample**"
   ]
  },
  {
   "cell_type": "code",
   "execution_count": 142,
   "id": "laughing-forth",
   "metadata": {},
   "outputs": [
    {
     "data": {
      "text/html": [
       "<div>\n",
       "<style scoped>\n",
       "    .dataframe tbody tr th:only-of-type {\n",
       "        vertical-align: middle;\n",
       "    }\n",
       "\n",
       "    .dataframe tbody tr th {\n",
       "        vertical-align: top;\n",
       "    }\n",
       "\n",
       "    .dataframe thead th {\n",
       "        text-align: right;\n",
       "    }\n",
       "</style>\n",
       "<table border=\"1\" class=\"dataframe\">\n",
       "  <thead>\n",
       "    <tr style=\"text-align: right;\">\n",
       "      <th></th>\n",
       "      <th>PID</th>\n",
       "      <th>Room_Number</th>\n",
       "      <th>Sample</th>\n",
       "      <th>Room_Type</th>\n",
       "      <th>Time</th>\n",
       "      <th>LogC</th>\n",
       "      <th>Copy_Number</th>\n",
       "    </tr>\n",
       "  </thead>\n",
       "  <tbody>\n",
       "    <tr>\n",
       "      <th>1</th>\n",
       "      <td>RR1T3</td>\n",
       "      <td>1</td>\n",
       "      <td>AirSample</td>\n",
       "      <td>Regular</td>\n",
       "      <td>T3</td>\n",
       "      <td>1.942307</td>\n",
       "      <td>87.560</td>\n",
       "    </tr>\n",
       "    <tr>\n",
       "      <th>3</th>\n",
       "      <td>RR2T3</td>\n",
       "      <td>2</td>\n",
       "      <td>AirSample</td>\n",
       "      <td>Regular</td>\n",
       "      <td>T3</td>\n",
       "      <td>2.280807</td>\n",
       "      <td>190.900</td>\n",
       "    </tr>\n",
       "    <tr>\n",
       "      <th>5</th>\n",
       "      <td>RR3T3</td>\n",
       "      <td>3</td>\n",
       "      <td>AirSample</td>\n",
       "      <td>Regular</td>\n",
       "      <td>T3</td>\n",
       "      <td>1.888357</td>\n",
       "      <td>77.332</td>\n",
       "    </tr>\n",
       "  </tbody>\n",
       "</table>\n",
       "</div>"
      ],
      "text/plain": [
       "     PID  Room_Number     Sample Room_Type Time      LogC  Copy_Number\n",
       "1  RR1T3            1  AirSample   Regular   T3  1.942307       87.560\n",
       "3  RR2T3            2  AirSample   Regular   T3  2.280807      190.900\n",
       "5  RR3T3            3  AirSample   Regular   T3  1.888357       77.332"
      ]
     },
     "execution_count": 142,
     "metadata": {},
     "output_type": "execute_result"
    }
   ],
   "source": [
    "new_AirSample_T1 = subgroup(new_AirSample,\"Time\",\"T1\")\n",
    "new_AirSample_T3 = subgroup(new_AirSample,\"Time\",\"T3\")\n",
    "new_AirSample_T3.head(3)"
   ]
  },
  {
   "cell_type": "code",
   "execution_count": 143,
   "id": "5c7a4324-e170-41e2-ba31-1aeed9d3697c",
   "metadata": {},
   "outputs": [
    {
     "data": {
      "text/html": [
       "<div>\n",
       "<style scoped>\n",
       "    .dataframe tbody tr th:only-of-type {\n",
       "        vertical-align: middle;\n",
       "    }\n",
       "\n",
       "    .dataframe tbody tr th {\n",
       "        vertical-align: top;\n",
       "    }\n",
       "\n",
       "    .dataframe thead th {\n",
       "        text-align: right;\n",
       "    }\n",
       "</style>\n",
       "<table border=\"1\" class=\"dataframe\">\n",
       "  <thead>\n",
       "    <tr style=\"text-align: right;\">\n",
       "      <th></th>\n",
       "      <th>PID</th>\n",
       "      <th>Room_Number</th>\n",
       "      <th>Sample</th>\n",
       "      <th>Room_Type</th>\n",
       "      <th>Time</th>\n",
       "      <th>LogC</th>\n",
       "      <th>Copy_Number</th>\n",
       "    </tr>\n",
       "  </thead>\n",
       "  <tbody>\n",
       "    <tr>\n",
       "      <th>11</th>\n",
       "      <td>WR1T1</td>\n",
       "      <td>1</td>\n",
       "      <td>AirSample</td>\n",
       "      <td>View</td>\n",
       "      <td>T1</td>\n",
       "      <td>2.417050</td>\n",
       "      <td>261.246</td>\n",
       "    </tr>\n",
       "    <tr>\n",
       "      <th>12</th>\n",
       "      <td>WR1T3</td>\n",
       "      <td>1</td>\n",
       "      <td>AirSample</td>\n",
       "      <td>View</td>\n",
       "      <td>T3</td>\n",
       "      <td>2.334914</td>\n",
       "      <td>216.229</td>\n",
       "    </tr>\n",
       "    <tr>\n",
       "      <th>13</th>\n",
       "      <td>WR3T1</td>\n",
       "      <td>3</td>\n",
       "      <td>AirSample</td>\n",
       "      <td>View</td>\n",
       "      <td>T1</td>\n",
       "      <td>2.820762</td>\n",
       "      <td>661.854</td>\n",
       "    </tr>\n",
       "  </tbody>\n",
       "</table>\n",
       "</div>"
      ],
      "text/plain": [
       "      PID  Room_Number     Sample Room_Type Time      LogC  Copy_Number\n",
       "11  WR1T1            1  AirSample      View   T1  2.417050      261.246\n",
       "12  WR1T3            1  AirSample      View   T3  2.334914      216.229\n",
       "13  WR3T1            3  AirSample      View   T1  2.820762      661.854"
      ]
     },
     "execution_count": 143,
     "metadata": {},
     "output_type": "execute_result"
    }
   ],
   "source": [
    "#subgroup between Room \n",
    "new_AirSample_R=subgroup(new_AirSample, \"Room_Type\",\"Regular\")\n",
    "new_AirSample_V=subgroup(new_AirSample, \"Room_Type\",\"View\")\n",
    "new_AirSample_V.head(3)"
   ]
  },
  {
   "cell_type": "markdown",
   "id": "ca7a6040-9f5f-4179-97b3-7fbe632498d2",
   "metadata": {},
   "source": [
    "**Saliva**"
   ]
  },
  {
   "cell_type": "code",
   "execution_count": 144,
   "id": "handy-thanks",
   "metadata": {},
   "outputs": [
    {
     "data": {
      "text/html": [
       "<div>\n",
       "<style scoped>\n",
       "    .dataframe tbody tr th:only-of-type {\n",
       "        vertical-align: middle;\n",
       "    }\n",
       "\n",
       "    .dataframe tbody tr th {\n",
       "        vertical-align: top;\n",
       "    }\n",
       "\n",
       "    .dataframe thead th {\n",
       "        text-align: right;\n",
       "    }\n",
       "</style>\n",
       "<table border=\"1\" class=\"dataframe\">\n",
       "  <thead>\n",
       "    <tr style=\"text-align: right;\">\n",
       "      <th></th>\n",
       "      <th>PID</th>\n",
       "      <th>Room_Number</th>\n",
       "      <th>Sample</th>\n",
       "      <th>Room_Type</th>\n",
       "      <th>Time</th>\n",
       "      <th>LogC</th>\n",
       "      <th>Copy_Number</th>\n",
       "    </tr>\n",
       "  </thead>\n",
       "  <tbody>\n",
       "    <tr>\n",
       "      <th>141</th>\n",
       "      <td>RR1T3</td>\n",
       "      <td>1</td>\n",
       "      <td>Saliva</td>\n",
       "      <td>Regular</td>\n",
       "      <td>T3</td>\n",
       "      <td>7.441391</td>\n",
       "      <td>2.763067e+07</td>\n",
       "    </tr>\n",
       "    <tr>\n",
       "      <th>143</th>\n",
       "      <td>RR2T3</td>\n",
       "      <td>2</td>\n",
       "      <td>Saliva</td>\n",
       "      <td>Regular</td>\n",
       "      <td>T3</td>\n",
       "      <td>7.919613</td>\n",
       "      <td>8.310236e+07</td>\n",
       "    </tr>\n",
       "    <tr>\n",
       "      <th>145</th>\n",
       "      <td>RR3T3</td>\n",
       "      <td>3</td>\n",
       "      <td>Saliva</td>\n",
       "      <td>Regular</td>\n",
       "      <td>T3</td>\n",
       "      <td>8.457771</td>\n",
       "      <td>2.869267e+08</td>\n",
       "    </tr>\n",
       "  </tbody>\n",
       "</table>\n",
       "</div>"
      ],
      "text/plain": [
       "       PID  Room_Number  Sample Room_Type Time      LogC   Copy_Number\n",
       "141  RR1T3            1  Saliva   Regular   T3  7.441391  2.763067e+07\n",
       "143  RR2T3            2  Saliva   Regular   T3  7.919613  8.310236e+07\n",
       "145  RR3T3            3  Saliva   Regular   T3  8.457771  2.869267e+08"
      ]
     },
     "execution_count": 144,
     "metadata": {},
     "output_type": "execute_result"
    }
   ],
   "source": [
    "new_Saliva_T1 = subgroup(new_Saliva,\"Time\",\"T1\")\n",
    "new_Saliva_T3 = subgroup(new_Saliva,\"Time\",\"T3\")\n",
    "new_Saliva_T3.head(3)"
   ]
  },
  {
   "cell_type": "code",
   "execution_count": 145,
   "id": "84800362-93e4-4dfa-a82a-44c7c1c57f34",
   "metadata": {},
   "outputs": [
    {
     "data": {
      "text/html": [
       "<div>\n",
       "<style scoped>\n",
       "    .dataframe tbody tr th:only-of-type {\n",
       "        vertical-align: middle;\n",
       "    }\n",
       "\n",
       "    .dataframe tbody tr th {\n",
       "        vertical-align: top;\n",
       "    }\n",
       "\n",
       "    .dataframe thead th {\n",
       "        text-align: right;\n",
       "    }\n",
       "</style>\n",
       "<table border=\"1\" class=\"dataframe\">\n",
       "  <thead>\n",
       "    <tr style=\"text-align: right;\">\n",
       "      <th></th>\n",
       "      <th>PID</th>\n",
       "      <th>Room_Number</th>\n",
       "      <th>Sample</th>\n",
       "      <th>Room_Type</th>\n",
       "      <th>Time</th>\n",
       "      <th>LogC</th>\n",
       "      <th>Copy_Number</th>\n",
       "    </tr>\n",
       "  </thead>\n",
       "  <tbody>\n",
       "    <tr>\n",
       "      <th>150</th>\n",
       "      <td>WR1T1</td>\n",
       "      <td>1</td>\n",
       "      <td>Saliva</td>\n",
       "      <td>View</td>\n",
       "      <td>T1</td>\n",
       "      <td>6.069071</td>\n",
       "      <td>1.172386e+06</td>\n",
       "    </tr>\n",
       "    <tr>\n",
       "      <th>151</th>\n",
       "      <td>WR1T3</td>\n",
       "      <td>1</td>\n",
       "      <td>Saliva</td>\n",
       "      <td>View</td>\n",
       "      <td>T3</td>\n",
       "      <td>7.388945</td>\n",
       "      <td>2.448754e+07</td>\n",
       "    </tr>\n",
       "    <tr>\n",
       "      <th>152</th>\n",
       "      <td>WR3T1</td>\n",
       "      <td>3</td>\n",
       "      <td>Saliva</td>\n",
       "      <td>View</td>\n",
       "      <td>T1</td>\n",
       "      <td>8.785558</td>\n",
       "      <td>6.103203e+08</td>\n",
       "    </tr>\n",
       "  </tbody>\n",
       "</table>\n",
       "</div>"
      ],
      "text/plain": [
       "       PID  Room_Number  Sample Room_Type Time      LogC   Copy_Number\n",
       "150  WR1T1            1  Saliva      View   T1  6.069071  1.172386e+06\n",
       "151  WR1T3            1  Saliva      View   T3  7.388945  2.448754e+07\n",
       "152  WR3T1            3  Saliva      View   T1  8.785558  6.103203e+08"
      ]
     },
     "execution_count": 145,
     "metadata": {},
     "output_type": "execute_result"
    }
   ],
   "source": [
    "#subgroup between Room \n",
    "new_Saliva_R=subgroup(new_Saliva, \"Room_Type\",\"Regular\")\n",
    "new_Saliva_V=subgroup(new_Saliva, \"Room_Type\",\"View\")\n",
    "new_Saliva_V.head(3)"
   ]
  },
  {
   "cell_type": "markdown",
   "id": "92498f5b-f33a-4650-babf-c45f4450394e",
   "metadata": {},
   "source": [
    "**Palm**"
   ]
  },
  {
   "cell_type": "code",
   "execution_count": 146,
   "id": "difficult-information",
   "metadata": {},
   "outputs": [
    {
     "data": {
      "text/html": [
       "<div>\n",
       "<style scoped>\n",
       "    .dataframe tbody tr th:only-of-type {\n",
       "        vertical-align: middle;\n",
       "    }\n",
       "\n",
       "    .dataframe tbody tr th {\n",
       "        vertical-align: top;\n",
       "    }\n",
       "\n",
       "    .dataframe thead th {\n",
       "        text-align: right;\n",
       "    }\n",
       "</style>\n",
       "<table border=\"1\" class=\"dataframe\">\n",
       "  <thead>\n",
       "    <tr style=\"text-align: right;\">\n",
       "      <th></th>\n",
       "      <th>PID</th>\n",
       "      <th>Room_Number</th>\n",
       "      <th>Sample</th>\n",
       "      <th>Room_Type</th>\n",
       "      <th>Time</th>\n",
       "      <th>LogC</th>\n",
       "      <th>Copy_Number</th>\n",
       "    </tr>\n",
       "  </thead>\n",
       "  <tbody>\n",
       "    <tr>\n",
       "      <th>121</th>\n",
       "      <td>RR1T3</td>\n",
       "      <td>1</td>\n",
       "      <td>Palm</td>\n",
       "      <td>Regular</td>\n",
       "      <td>T3</td>\n",
       "      <td>3.080013</td>\n",
       "      <td>1202.300979</td>\n",
       "    </tr>\n",
       "    <tr>\n",
       "      <th>123</th>\n",
       "      <td>RR2T3</td>\n",
       "      <td>2</td>\n",
       "      <td>Palm</td>\n",
       "      <td>Regular</td>\n",
       "      <td>T3</td>\n",
       "      <td>2.890964</td>\n",
       "      <td>777.971405</td>\n",
       "    </tr>\n",
       "    <tr>\n",
       "      <th>125</th>\n",
       "      <td>RR3T3</td>\n",
       "      <td>3</td>\n",
       "      <td>Palm</td>\n",
       "      <td>Regular</td>\n",
       "      <td>T3</td>\n",
       "      <td>2.425129</td>\n",
       "      <td>266.151835</td>\n",
       "    </tr>\n",
       "  </tbody>\n",
       "</table>\n",
       "</div>"
      ],
      "text/plain": [
       "       PID  Room_Number Sample Room_Type Time      LogC  Copy_Number\n",
       "121  RR1T3            1   Palm   Regular   T3  3.080013  1202.300979\n",
       "123  RR2T3            2   Palm   Regular   T3  2.890964   777.971405\n",
       "125  RR3T3            3   Palm   Regular   T3  2.425129   266.151835"
      ]
     },
     "execution_count": 146,
     "metadata": {},
     "output_type": "execute_result"
    }
   ],
   "source": [
    "new_Palm_T1 = subgroup(new_Palm,\"Time\",\"T1\")\n",
    "new_Palm_T3 = subgroup(new_Palm,\"Time\",\"T3\")\n",
    "new_Palm_T3.head(3)"
   ]
  },
  {
   "cell_type": "code",
   "execution_count": 147,
   "id": "fca5bf3b-4ea9-44de-b38d-3b885f5a9194",
   "metadata": {},
   "outputs": [
    {
     "data": {
      "text/html": [
       "<div>\n",
       "<style scoped>\n",
       "    .dataframe tbody tr th:only-of-type {\n",
       "        vertical-align: middle;\n",
       "    }\n",
       "\n",
       "    .dataframe tbody tr th {\n",
       "        vertical-align: top;\n",
       "    }\n",
       "\n",
       "    .dataframe thead th {\n",
       "        text-align: right;\n",
       "    }\n",
       "</style>\n",
       "<table border=\"1\" class=\"dataframe\">\n",
       "  <thead>\n",
       "    <tr style=\"text-align: right;\">\n",
       "      <th></th>\n",
       "      <th>PID</th>\n",
       "      <th>Room_Number</th>\n",
       "      <th>Sample</th>\n",
       "      <th>Room_Type</th>\n",
       "      <th>Time</th>\n",
       "      <th>LogC</th>\n",
       "      <th>Copy_Number</th>\n",
       "    </tr>\n",
       "  </thead>\n",
       "  <tbody>\n",
       "    <tr>\n",
       "      <th>130</th>\n",
       "      <td>WR1T1</td>\n",
       "      <td>1</td>\n",
       "      <td>Palm</td>\n",
       "      <td>View</td>\n",
       "      <td>T1</td>\n",
       "      <td>3.623007</td>\n",
       "      <td>4197.657807</td>\n",
       "    </tr>\n",
       "    <tr>\n",
       "      <th>131</th>\n",
       "      <td>WR1T3</td>\n",
       "      <td>1</td>\n",
       "      <td>Palm</td>\n",
       "      <td>View</td>\n",
       "      <td>T3</td>\n",
       "      <td>3.340345</td>\n",
       "      <td>2189.499256</td>\n",
       "    </tr>\n",
       "    <tr>\n",
       "      <th>132</th>\n",
       "      <td>WR3T1</td>\n",
       "      <td>3</td>\n",
       "      <td>Palm</td>\n",
       "      <td>View</td>\n",
       "      <td>T1</td>\n",
       "      <td>4.131513</td>\n",
       "      <td>13536.697440</td>\n",
       "    </tr>\n",
       "  </tbody>\n",
       "</table>\n",
       "</div>"
      ],
      "text/plain": [
       "       PID  Room_Number Sample Room_Type Time      LogC   Copy_Number\n",
       "130  WR1T1            1   Palm      View   T1  3.623007   4197.657807\n",
       "131  WR1T3            1   Palm      View   T3  3.340345   2189.499256\n",
       "132  WR3T1            3   Palm      View   T1  4.131513  13536.697440"
      ]
     },
     "execution_count": 147,
     "metadata": {},
     "output_type": "execute_result"
    }
   ],
   "source": [
    "#subgroup between Room \n",
    "new_Palm_R=subgroup(new_Palm, \"Room_Type\",\"Regular\")\n",
    "new_Palm_V=subgroup(new_Palm, \"Room_Type\",\"View\")\n",
    "new_Palm_V.head(3)"
   ]
  },
  {
   "cell_type": "markdown",
   "id": "7e0e6e65-b9f6-44ba-8da3-23a5893c3eaf",
   "metadata": {},
   "source": [
    "#### Intial data visualization"
   ]
  },
  {
   "cell_type": "code",
   "execution_count": 210,
   "id": "a5c03801-7f9b-464e-85fb-f6148c96e6d3",
   "metadata": {},
   "outputs": [
    {
     "data": {
      "text/plain": [
       "(0.0, 12.0)"
      ]
     },
     "execution_count": 210,
     "metadata": {},
     "output_type": "execute_result"
    },
    {
     "data": {
      "image/png": "[encoded data removed]",
      "text/plain": [
       "<Figure size 1561.25x800 with 2 Axes>"
      ]
     },
     "metadata": {},
     "output_type": "display_data"
    }
   ],
   "source": [
    "#Overview with timepoint\n",
    "g = sns.catplot(x=\"Time\", y=\"LogC\",\n",
    "                hue=\"Sample\", hue_order=['Window','AirDuct','Palm','Saliva','Blinds','AirSample'],\n",
    "                col='Room_Type',col_order=['View','Regular'],order=['T0','T1','T2','T3'],\n",
    "                col_wrap=2, palette='muted',\n",
    "                data=new_qPCR, kind=\"box\", dodge=True,\n",
    "                height=8, aspect=.9);\n",
    "g.set(ylabel='copy number of gene (log10)')\n",
    "\n",
    "plt.ylim(0,12)"
   ]
  },
  {
   "cell_type": "markdown",
   "id": "sixth-applicant",
   "metadata": {},
   "source": [
    "____\n",
    "\n",
    "#  2. Statistical analysis \n",
    "\n",
    "## Effects of indoor daylight (room-type variable) at each time point\n",
    " * **Two sample t-test** between Regular and EC window room (View) at each Timepoint if data is normally distributed and variance is homogenous \n",
    " * **Man-Whitnney U Test** if data is NOT normally distributed or variance test failed\n",
    " \n",
    "## Effects of occupancy (Time variable) in Regular and EC window Room\n",
    " * **One way repeated ANOVA** is used for comparison of results from baseline(T0) to T3 (3rd day of patients admission) if data is normally distributed within the same type of room. This considered the blocked design as it is a repeated measurement\n",
    " * **Fried man test** is used if data is NOT normally distributed or variance test failed\n",
    " \n",
    "___\n",
    "\n",
    "ANOVA assumptions includes **1) normal distribution and 2)homogenity of variance**\n",
    "\n",
    " \n",
    "### Normalty assessment ###\n",
    "\n",
    "**Shapiro Wilk Test** is used for assessing the normality of dataset. If P>0.05, we failed the reject null hypothesis hence data followed normal distribution.\n",
    "\n",
    "### Variance assumption ###\n",
    "\n",
    "Either **Leven's test or bartlett test** can be used for assessing the variance. If P>0.05, we failed the reject null hypothesis and data have homogenous of variance.\n",
    "___\n",
    "\n",
    "## Window Sample"
   ]
  },
  {
   "cell_type": "code",
   "execution_count": 213,
   "id": "368650f4-4650-4a80-b65b-c23e9b579f8f",
   "metadata": {},
   "outputs": [],
   "source": [
    "#Set color palette\n",
    "palette = {\"View\":\"#95d0fc\",\n",
    "           \"Regular\":\"#ffa756\"}\n",
    "palette2= {\"View\":\"white\",\n",
    "           \"Regular\":\"white\"}\n",
    "color1= {\"View\":\"#a2cffe\",\n",
    "           \"Regular\":\"#d8dcd6\"}\n",
    "color2= {\"View\":\"#75bbfd\",\n",
    "           \"Regular\":\"#929591\"}"
   ]
  },
  {
   "cell_type": "code",
   "execution_count": 221,
   "id": "387759cf-cf6a-4330-9c04-212ba3ab47fb",
   "metadata": {},
   "outputs": [
    {
     "data": {
      "text/plain": [
       "<Figure size 800x600 with 0 Axes>"
      ]
     },
     "execution_count": 221,
     "metadata": {},
     "output_type": "execute_result"
    },
    {
     "data": {
      "image/png": "[encoded data removed]",
      "text/plain": [
       "<Figure size 643.5x600 with 1 Axes>"
      ]
     },
     "metadata": {},
     "output_type": "display_data"
    },
    {
     "data": {
      "text/plain": [
       "<Figure size 800x600 with 0 Axes>"
      ]
     },
     "metadata": {},
     "output_type": "display_data"
    }
   ],
   "source": [
    "ax=sns.catplot(x=\"Time\", y=\"LogC\",\n",
    "            hue=\"Room_Type\", order=['T0','T1','T2','T3'], hue_order=('Regular','View'), \n",
    "            kind=\"box\", dodge=True, height=6, aspect=0.9,\n",
    "            palette=color1, data=new_Window)\n",
    "ax = sns.stripplot(x='Time', y='LogC', hue='Room_Type',order=['T0','T1','T2','T3'],\n",
    "                   hue_order=('Regular','View',), palette=color2,\n",
    "                   jitter=True,size=7, dodge=True, marker='o', alpha=0.75, data=new_Window)\n",
    "\n",
    "handles, labels = ax.get_legend_handles_labels()\n",
    "# specify just one legend\n",
    "l = plt.legend(handles[1:1], labels[1:1]).set_title('')\n",
    "ax.set(ylabel=\"copy number of gene (log10)\")\n",
    "plt.ylim(0,6)\n",
    "plt.axhline(y=1.544068,color=\"black\",linestyle='-.', linewidth=1) # This is the qPCR LOD\n",
    "plt.figure(figsize= (8,6))"
   ]
  },
  {
   "cell_type": "markdown",
   "id": "b2382b2c-46bf-4a0f-976d-3ac5a1e64755",
   "metadata": {},
   "source": [
    "**Normality assessment**"
   ]
  },
  {
   "cell_type": "code",
   "execution_count": 148,
   "id": "9fa187bd-62ea-420d-8bbe-4f974c4be900",
   "metadata": {},
   "outputs": [
    {
     "name": "stdout",
     "output_type": "stream",
     "text": [
      "P-value of shapiro wilk test for Window  is: 0.013288493268191814\n"
     ]
    }
   ],
   "source": [
    "# Normality of Window Dataframe for each Timepoints\n",
    "stat, p =  shapiro(new_Window[\"LogC\"])\n",
    "print(\"P-value of shapiro wilk test for Window  is:\", p)"
   ]
  },
  {
   "cell_type": "code",
   "execution_count": 149,
   "id": "55f0993d-68ed-4897-b3f9-37de7175f5cc",
   "metadata": {},
   "outputs": [
    {
     "data": {
      "text/html": [
       "<div>\n",
       "<style scoped>\n",
       "    .dataframe tbody tr th:only-of-type {\n",
       "        vertical-align: middle;\n",
       "    }\n",
       "\n",
       "    .dataframe tbody tr th {\n",
       "        vertical-align: top;\n",
       "    }\n",
       "\n",
       "    .dataframe thead th {\n",
       "        text-align: right;\n",
       "    }\n",
       "</style>\n",
       "<table border=\"1\" class=\"dataframe\">\n",
       "  <thead>\n",
       "    <tr style=\"text-align: right;\">\n",
       "      <th></th>\n",
       "      <th>W</th>\n",
       "      <th>pval</th>\n",
       "      <th>normal</th>\n",
       "    </tr>\n",
       "  </thead>\n",
       "  <tbody>\n",
       "    <tr>\n",
       "      <th>T0</th>\n",
       "      <td>0.839259</td>\n",
       "      <td>0.074012</td>\n",
       "      <td>True</td>\n",
       "    </tr>\n",
       "    <tr>\n",
       "      <th>T1</th>\n",
       "      <td>0.961205</td>\n",
       "      <td>0.799516</td>\n",
       "      <td>True</td>\n",
       "    </tr>\n",
       "    <tr>\n",
       "      <th>T2</th>\n",
       "      <td>0.887170</td>\n",
       "      <td>0.157541</td>\n",
       "      <td>True</td>\n",
       "    </tr>\n",
       "    <tr>\n",
       "      <th>T3</th>\n",
       "      <td>0.938673</td>\n",
       "      <td>0.538343</td>\n",
       "      <td>True</td>\n",
       "    </tr>\n",
       "  </tbody>\n",
       "</table>\n",
       "</div>"
      ],
      "text/plain": [
       "           W      pval  normal\n",
       "T0  0.839259  0.074012    True\n",
       "T1  0.961205  0.799516    True\n",
       "T2  0.887170  0.157541    True\n",
       "T3  0.938673  0.538343    True"
      ]
     },
     "execution_count": 149,
     "metadata": {},
     "output_type": "execute_result"
    }
   ],
   "source": [
    "# Normality of Window Dataframe for each Timepoints\n",
    "pg.normality(data=new_Window, dv='LogC', group='Time')"
   ]
  },
  {
   "cell_type": "code",
   "execution_count": 150,
   "id": "f2853100-8fa6-467e-a096-d0db8f64e10b",
   "metadata": {},
   "outputs": [
    {
     "data": {
      "text/html": [
       "<div>\n",
       "<style scoped>\n",
       "    .dataframe tbody tr th:only-of-type {\n",
       "        vertical-align: middle;\n",
       "    }\n",
       "\n",
       "    .dataframe tbody tr th {\n",
       "        vertical-align: top;\n",
       "    }\n",
       "\n",
       "    .dataframe thead th {\n",
       "        text-align: right;\n",
       "    }\n",
       "</style>\n",
       "<table border=\"1\" class=\"dataframe\">\n",
       "  <thead>\n",
       "    <tr style=\"text-align: right;\">\n",
       "      <th></th>\n",
       "      <th>W</th>\n",
       "      <th>pval</th>\n",
       "      <th>normal</th>\n",
       "    </tr>\n",
       "  </thead>\n",
       "  <tbody>\n",
       "    <tr>\n",
       "      <th>Regular</th>\n",
       "      <td>0.814062</td>\n",
       "      <td>0.001843</td>\n",
       "      <td>False</td>\n",
       "    </tr>\n",
       "    <tr>\n",
       "      <th>View</th>\n",
       "      <td>0.893850</td>\n",
       "      <td>0.037706</td>\n",
       "      <td>False</td>\n",
       "    </tr>\n",
       "  </tbody>\n",
       "</table>\n",
       "</div>"
      ],
      "text/plain": [
       "                W      pval  normal\n",
       "Regular  0.814062  0.001843   False\n",
       "View     0.893850  0.037706   False"
      ]
     },
     "execution_count": 150,
     "metadata": {},
     "output_type": "execute_result"
    }
   ],
   "source": [
    "# Normality of Window Dataframe for each Timepoints\n",
    "pg.normality(data=new_Window, dv='LogC', group='Room_Type')"
   ]
  },
  {
   "cell_type": "code",
   "execution_count": 151,
   "id": "6f513b90-fb2d-4958-9f3d-81de13075faa",
   "metadata": {},
   "outputs": [
    {
     "name": "stdout",
     "output_type": "stream",
     "text": [
      "Shapiro statistics of transformed Window in Regular Room 0=0.947, p=0.347\n"
     ]
    }
   ],
   "source": [
    "#Transformation of dataframe using boxcos \n",
    "new_Window_bx,fitted_lambda =stats.boxcox(new_Window_R['LogC'])\n",
    "stat, p = shapiro(new_Window_bx)\n",
    "print('Shapiro statistics of transformed Window in Regular Room 0=%.3f, p=%.3f' % (stat, p))"
   ]
  },
  {
   "cell_type": "code",
   "execution_count": 152,
   "id": "7188223d-bac5-4637-be2d-ce86337ac3b3",
   "metadata": {},
   "outputs": [
    {
     "name": "stdout",
     "output_type": "stream",
     "text": [
      "Shapiro statistics of transformed Window in EC Window Room 0=0.914, p=0.089\n"
     ]
    }
   ],
   "source": [
    "#Transformation of dataframe using boxcos \n",
    "new_Window_bx,fitted_lambda =stats.boxcox(new_Window_V['LogC'])\n",
    "stat, p = shapiro(new_Window_bx)\n",
    "print('Shapiro statistics of transformed Window in EC Window Room 0=%.3f, p=%.3f' % (stat, p))"
   ]
  },
  {
   "cell_type": "markdown",
   "id": "5ec34300-30e1-4047-8520-33c42a8d5246",
   "metadata": {},
   "source": [
    "* Data at individual timepoint is normally distributed\n",
    "* Regular and EC window room are also indivudally normally distributed after boxcox transformation\n",
    "\n",
    "**Variance assessment**"
   ]
  },
  {
   "cell_type": "code",
   "execution_count": 153,
   "id": "f4bff11e-6679-41f5-a201-68b6e8f76bcb",
   "metadata": {},
   "outputs": [
    {
     "name": "stdout",
     "output_type": "stream",
     "text": [
      "P-value of levene test for Window Regular and EC Window room is: 0.3464576619245988\n",
      "P-value of levene test for Window between time is: 0.9786949329608553\n"
     ]
    }
   ],
   "source": [
    "#Variance\n",
    "stat, p =  levene(new_Window_R[\"LogC\"], new_Window_V[\"LogC\"])\n",
    "print(\"P-value of levene test for Window Regular and EC Window room is:\", p)\n",
    "stat, p =  levene(new_Window_T0[\"LogC\"], new_Window_T1[\"LogC\"],new_Window_T2[\"LogC\"],new_Window_T3[\"LogC\"] )\n",
    "print(\"P-value of levene test for Window between time is:\", p)"
   ]
  },
  {
   "cell_type": "markdown",
   "id": "12cec935-7e2f-481a-877a-78980ec8dc72",
   "metadata": {},
   "source": [
    "* The entire Window dataset is NOT normally distributed, though at individual time point it is\n",
    "\n",
    "* Variance is homogenmous between timepoints and room type\n"
   ]
  },
  {
   "cell_type": "markdown",
   "id": "11cff7e0-95ac-4b4f-bef3-a649c942826d",
   "metadata": {},
   "source": [
    "### Statistical Test: effect of Indoor daylight on total bacteria abundance on WINDOW"
   ]
  },
  {
   "cell_type": "code",
   "execution_count": 154,
   "id": "consistent-specialist",
   "metadata": {},
   "outputs": [],
   "source": [
    "#Subgroup for each Timepoint \n",
    "new_Window_T1_R=subgroup(new_Window_T1, \"Room_Type\",\"Regular\")\n",
    "new_Window_T1_V=subgroup(new_Window_T1, \"Room_Type\",\"View\")\n",
    "new_Window_T2_R=subgroup(new_Window_T2, \"Room_Type\",\"Regular\")\n",
    "new_Window_T2_V=subgroup(new_Window_T2, \"Room_Type\",\"View\")\n",
    "new_Window_T0_R=subgroup(new_Window_T0, \"Room_Type\",\"Regular\")\n",
    "new_Window_T0_V=subgroup(new_Window_T0, \"Room_Type\",\"View\")\n",
    "new_Window_T3_R=subgroup(new_Window_T3, \"Room_Type\",\"Regular\")\n",
    "new_Window_T3_V=subgroup(new_Window_T3, \"Room_Type\",\"View\")"
   ]
  },
  {
   "cell_type": "code",
   "execution_count": 155,
   "id": "2c08e337-6ea0-4aaa-94a2-47e38c114e86",
   "metadata": {},
   "outputs": [
    {
     "data": {
      "text/html": [
       "<div>\n",
       "<style scoped>\n",
       "    .dataframe tbody tr th:only-of-type {\n",
       "        vertical-align: middle;\n",
       "    }\n",
       "\n",
       "    .dataframe tbody tr th {\n",
       "        vertical-align: top;\n",
       "    }\n",
       "\n",
       "    .dataframe thead th {\n",
       "        text-align: right;\n",
       "    }\n",
       "</style>\n",
       "<table border=\"1\" class=\"dataframe\">\n",
       "  <thead>\n",
       "    <tr style=\"text-align: right;\">\n",
       "      <th></th>\n",
       "      <th>T</th>\n",
       "      <th>dof</th>\n",
       "      <th>alternative</th>\n",
       "      <th>p-val</th>\n",
       "      <th>CI95%</th>\n",
       "      <th>cohen-d</th>\n",
       "      <th>BF10</th>\n",
       "      <th>power</th>\n",
       "    </tr>\n",
       "  </thead>\n",
       "  <tbody>\n",
       "    <tr>\n",
       "      <th>T-test</th>\n",
       "      <td>0.936464</td>\n",
       "      <td>6</td>\n",
       "      <td>two-sided</td>\n",
       "      <td>0.385179</td>\n",
       "      <td>[-0.52, 1.17]</td>\n",
       "      <td>0.66218</td>\n",
       "      <td>0.673</td>\n",
       "      <td>0.124885</td>\n",
       "    </tr>\n",
       "  </tbody>\n",
       "</table>\n",
       "</div>"
      ],
      "text/plain": [
       "               T  dof alternative     p-val          CI95%  cohen-d   BF10  \\\n",
       "T-test  0.936464    6   two-sided  0.385179  [-0.52, 1.17]  0.66218  0.673   \n",
       "\n",
       "           power  \n",
       "T-test  0.124885  "
      ]
     },
     "execution_count": 155,
     "metadata": {},
     "output_type": "execute_result"
    }
   ],
   "source": [
    "# One way ANOVA between Room Type\n",
    "res=ttest(new_Window_T0_R['LogC'], new_Window_T0_V['LogC'],paired = False)\n",
    "res"
   ]
  },
  {
   "cell_type": "code",
   "execution_count": 156,
   "id": "lightweight-hungary",
   "metadata": {},
   "outputs": [
    {
     "data": {
      "text/html": [
       "<div>\n",
       "<style scoped>\n",
       "    .dataframe tbody tr th:only-of-type {\n",
       "        vertical-align: middle;\n",
       "    }\n",
       "\n",
       "    .dataframe tbody tr th {\n",
       "        vertical-align: top;\n",
       "    }\n",
       "\n",
       "    .dataframe thead th {\n",
       "        text-align: right;\n",
       "    }\n",
       "</style>\n",
       "<table border=\"1\" class=\"dataframe\">\n",
       "  <thead>\n",
       "    <tr style=\"text-align: right;\">\n",
       "      <th></th>\n",
       "      <th>T</th>\n",
       "      <th>dof</th>\n",
       "      <th>alternative</th>\n",
       "      <th>p-val</th>\n",
       "      <th>CI95%</th>\n",
       "      <th>cohen-d</th>\n",
       "      <th>BF10</th>\n",
       "      <th>power</th>\n",
       "    </tr>\n",
       "  </thead>\n",
       "  <tbody>\n",
       "    <tr>\n",
       "      <th>T-test</th>\n",
       "      <td>2.824505</td>\n",
       "      <td>8</td>\n",
       "      <td>two-sided</td>\n",
       "      <td>0.022338</td>\n",
       "      <td>[0.15, 1.44]</td>\n",
       "      <td>1.786374</td>\n",
       "      <td>3.07</td>\n",
       "      <td>0.697276</td>\n",
       "    </tr>\n",
       "  </tbody>\n",
       "</table>\n",
       "</div>"
      ],
      "text/plain": [
       "               T  dof alternative     p-val         CI95%   cohen-d  BF10  \\\n",
       "T-test  2.824505    8   two-sided  0.022338  [0.15, 1.44]  1.786374  3.07   \n",
       "\n",
       "           power  \n",
       "T-test  0.697276  "
      ]
     },
     "execution_count": 156,
     "metadata": {},
     "output_type": "execute_result"
    }
   ],
   "source": [
    "# One way ANOVA between Room Type\n",
    "res=ttest(new_Window_T1_R['LogC'], new_Window_T1_V['LogC'],paired = False)\n",
    "res"
   ]
  },
  {
   "cell_type": "code",
   "execution_count": 157,
   "id": "fifth-costume",
   "metadata": {},
   "outputs": [
    {
     "data": {
      "text/html": [
       "<div>\n",
       "<style scoped>\n",
       "    .dataframe tbody tr th:only-of-type {\n",
       "        vertical-align: middle;\n",
       "    }\n",
       "\n",
       "    .dataframe tbody tr th {\n",
       "        vertical-align: top;\n",
       "    }\n",
       "\n",
       "    .dataframe thead th {\n",
       "        text-align: right;\n",
       "    }\n",
       "</style>\n",
       "<table border=\"1\" class=\"dataframe\">\n",
       "  <thead>\n",
       "    <tr style=\"text-align: right;\">\n",
       "      <th></th>\n",
       "      <th>T</th>\n",
       "      <th>dof</th>\n",
       "      <th>alternative</th>\n",
       "      <th>p-val</th>\n",
       "      <th>CI95%</th>\n",
       "      <th>cohen-d</th>\n",
       "      <th>BF10</th>\n",
       "      <th>power</th>\n",
       "    </tr>\n",
       "  </thead>\n",
       "  <tbody>\n",
       "    <tr>\n",
       "      <th>T-test</th>\n",
       "      <td>2.251178</td>\n",
       "      <td>8</td>\n",
       "      <td>two-sided</td>\n",
       "      <td>0.054467</td>\n",
       "      <td>[-0.02, 1.52]</td>\n",
       "      <td>1.42377</td>\n",
       "      <td>1.768</td>\n",
       "      <td>0.507729</td>\n",
       "    </tr>\n",
       "  </tbody>\n",
       "</table>\n",
       "</div>"
      ],
      "text/plain": [
       "               T  dof alternative     p-val          CI95%  cohen-d   BF10  \\\n",
       "T-test  2.251178    8   two-sided  0.054467  [-0.02, 1.52]  1.42377  1.768   \n",
       "\n",
       "           power  \n",
       "T-test  0.507729  "
      ]
     },
     "execution_count": 157,
     "metadata": {},
     "output_type": "execute_result"
    }
   ],
   "source": [
    "# One way ANOVA between Room Type\n",
    "res=ttest(new_Window_T2_R['LogC'], new_Window_T2_V['LogC'],paired = False)\n",
    "res"
   ]
  },
  {
   "cell_type": "code",
   "execution_count": 158,
   "id": "falling-mother",
   "metadata": {},
   "outputs": [
    {
     "data": {
      "text/html": [
       "<div>\n",
       "<style scoped>\n",
       "    .dataframe tbody tr th:only-of-type {\n",
       "        vertical-align: middle;\n",
       "    }\n",
       "\n",
       "    .dataframe tbody tr th {\n",
       "        vertical-align: top;\n",
       "    }\n",
       "\n",
       "    .dataframe thead th {\n",
       "        text-align: right;\n",
       "    }\n",
       "</style>\n",
       "<table border=\"1\" class=\"dataframe\">\n",
       "  <thead>\n",
       "    <tr style=\"text-align: right;\">\n",
       "      <th></th>\n",
       "      <th>T</th>\n",
       "      <th>dof</th>\n",
       "      <th>alternative</th>\n",
       "      <th>p-val</th>\n",
       "      <th>CI95%</th>\n",
       "      <th>cohen-d</th>\n",
       "      <th>BF10</th>\n",
       "      <th>power</th>\n",
       "    </tr>\n",
       "  </thead>\n",
       "  <tbody>\n",
       "    <tr>\n",
       "      <th>T-test</th>\n",
       "      <td>1.490529</td>\n",
       "      <td>8</td>\n",
       "      <td>two-sided</td>\n",
       "      <td>0.17442</td>\n",
       "      <td>[-0.28, 1.33]</td>\n",
       "      <td>0.942693</td>\n",
       "      <td>0.923</td>\n",
       "      <td>0.260065</td>\n",
       "    </tr>\n",
       "  </tbody>\n",
       "</table>\n",
       "</div>"
      ],
      "text/plain": [
       "               T  dof alternative    p-val          CI95%   cohen-d   BF10  \\\n",
       "T-test  1.490529    8   two-sided  0.17442  [-0.28, 1.33]  0.942693  0.923   \n",
       "\n",
       "           power  \n",
       "T-test  0.260065  "
      ]
     },
     "execution_count": 158,
     "metadata": {},
     "output_type": "execute_result"
    }
   ],
   "source": [
    "# One way ANOVA between Room Type\n",
    "res=ttest(new_Window_T3_R['LogC'], new_Window_T3_V['LogC'],paired = False)\n",
    "res"
   ]
  },
  {
   "cell_type": "code",
   "execution_count": 159,
   "id": "single-administrator",
   "metadata": {},
   "outputs": [
    {
     "data": {
      "text/plain": [
       "MannwhitneyuResult(statistic=10.0, pvalue=0.6857142857142857)"
      ]
     },
     "execution_count": 159,
     "metadata": {},
     "output_type": "execute_result"
    }
   ],
   "source": [
    "#Window T0 MannWhitney U test\n",
    "scipy.stats.mannwhitneyu(new_Window_T0_R['LogC'],new_Window_T0_V['LogC'], alternative='two-sided')"
   ]
  },
  {
   "cell_type": "code",
   "execution_count": 160,
   "id": "starting-pendant",
   "metadata": {},
   "outputs": [
    {
     "data": {
      "text/plain": [
       "MannwhitneyuResult(statistic=25.0, pvalue=0.007936507936507936)"
      ]
     },
     "execution_count": 160,
     "metadata": {},
     "output_type": "execute_result"
    }
   ],
   "source": [
    "#Window T1 MannWhitney U test\n",
    "scipy.stats.mannwhitneyu(new_Window_T1_R['LogC'],new_Window_T1_V['LogC'], alternative='two-sided')"
   ]
  },
  {
   "cell_type": "code",
   "execution_count": 161,
   "id": "charming-collapse",
   "metadata": {},
   "outputs": [
    {
     "data": {
      "text/plain": [
       "MannwhitneyuResult(statistic=23.0, pvalue=0.03614514204656228)"
      ]
     },
     "execution_count": 161,
     "metadata": {},
     "output_type": "execute_result"
    }
   ],
   "source": [
    "#Window T2 MannWhitney U test\n",
    "scipy.stats.mannwhitneyu(new_Window_T2_R['LogC'],new_Window_T2_V['LogC'], alternative='two-sided')"
   ]
  },
  {
   "cell_type": "code",
   "execution_count": 162,
   "id": "1ce8fa73-eb71-4507-8bb7-57ae6f75024b",
   "metadata": {},
   "outputs": [
    {
     "data": {
      "text/plain": [
       "MannwhitneyuResult(statistic=19.0, pvalue=0.2222222222222222)"
      ]
     },
     "execution_count": 162,
     "metadata": {},
     "output_type": "execute_result"
    }
   ],
   "source": [
    "#Window T3 MannWhitney U test\n",
    "scipy.stats.mannwhitneyu(new_Window_T3_R['LogC'],new_Window_T3_V['LogC'], alternative='two-sided')"
   ]
  },
  {
   "cell_type": "markdown",
   "id": "vertical-logan",
   "metadata": {},
   "source": [
    "### Statistical test: effect of occupancy on total bacteria abundance on Window ###"
   ]
  },
  {
   "cell_type": "code",
   "execution_count": 163,
   "id": "enormous-handling",
   "metadata": {},
   "outputs": [
    {
     "data": {
      "text/html": [
       "<div>\n",
       "<style scoped>\n",
       "    .dataframe tbody tr th:only-of-type {\n",
       "        vertical-align: middle;\n",
       "    }\n",
       "\n",
       "    .dataframe tbody tr th {\n",
       "        vertical-align: top;\n",
       "    }\n",
       "\n",
       "    .dataframe thead th {\n",
       "        text-align: right;\n",
       "    }\n",
       "</style>\n",
       "<table border=\"1\" class=\"dataframe\">\n",
       "  <thead>\n",
       "    <tr style=\"text-align: right;\">\n",
       "      <th></th>\n",
       "      <th>Source</th>\n",
       "      <th>W</th>\n",
       "      <th>ddof1</th>\n",
       "      <th>Q</th>\n",
       "      <th>p-unc</th>\n",
       "    </tr>\n",
       "  </thead>\n",
       "  <tbody>\n",
       "    <tr>\n",
       "      <th>Friedman</th>\n",
       "      <td>Time</td>\n",
       "      <td>0.075</td>\n",
       "      <td>3</td>\n",
       "      <td>0.9</td>\n",
       "      <td>0.825428</td>\n",
       "    </tr>\n",
       "  </tbody>\n",
       "</table>\n",
       "</div>"
      ],
      "text/plain": [
       "         Source      W  ddof1    Q     p-unc\n",
       "Friedman   Time  0.075      3  0.9  0.825428"
      ]
     },
     "execution_count": 163,
     "metadata": {},
     "output_type": "execute_result"
    }
   ],
   "source": [
    "#Friedman Test to see the block effect of TIME\n",
    "res= pg.friedman(data=new_Window_R, dv=\"LogC\", within=\"Time\", subject=\"Room_Number\")\n",
    "res"
   ]
  },
  {
   "cell_type": "code",
   "execution_count": 164,
   "id": "certified-handbook",
   "metadata": {},
   "outputs": [
    {
     "name": "stdout",
     "output_type": "stream",
     "text": [
      "  Source  ddof1  ddof2         F    p-unc       np2       eps\n",
      "0   Time      3      9  0.421745  0.74199  0.123254  0.565376\n"
     ]
    }
   ],
   "source": [
    "# Try repeated One Way ANOVA\n",
    "aov = pg.rm_anova(dv='LogC', within=['Time'], subject='Room_Number', data=new_Window_R)\n",
    "print(aov)"
   ]
  },
  {
   "cell_type": "code",
   "execution_count": 165,
   "id": "adult-wilderness",
   "metadata": {},
   "outputs": [
    {
     "data": {
      "text/html": [
       "<div>\n",
       "<style scoped>\n",
       "    .dataframe tbody tr th:only-of-type {\n",
       "        vertical-align: middle;\n",
       "    }\n",
       "\n",
       "    .dataframe tbody tr th {\n",
       "        vertical-align: top;\n",
       "    }\n",
       "\n",
       "    .dataframe thead th {\n",
       "        text-align: right;\n",
       "    }\n",
       "</style>\n",
       "<table border=\"1\" class=\"dataframe\">\n",
       "  <thead>\n",
       "    <tr style=\"text-align: right;\">\n",
       "      <th></th>\n",
       "      <th>Source</th>\n",
       "      <th>W</th>\n",
       "      <th>ddof1</th>\n",
       "      <th>Q</th>\n",
       "      <th>p-unc</th>\n",
       "    </tr>\n",
       "  </thead>\n",
       "  <tbody>\n",
       "    <tr>\n",
       "      <th>Friedman</th>\n",
       "      <td>Time</td>\n",
       "      <td>0.075</td>\n",
       "      <td>3</td>\n",
       "      <td>0.9</td>\n",
       "      <td>0.825428</td>\n",
       "    </tr>\n",
       "  </tbody>\n",
       "</table>\n",
       "</div>"
      ],
      "text/plain": [
       "         Source      W  ddof1    Q     p-unc\n",
       "Friedman   Time  0.075      3  0.9  0.825428"
      ]
     },
     "execution_count": 165,
     "metadata": {},
     "output_type": "execute_result"
    }
   ],
   "source": [
    "#Friedman Test to see the block effect of TIME\n",
    "res= pg.friedman(data=new_Window_V, dv=\"LogC\", within=\"Time\", subject=\"Room_Number\")\n",
    "res"
   ]
  },
  {
   "cell_type": "code",
   "execution_count": 166,
   "id": "permanent-upper",
   "metadata": {},
   "outputs": [
    {
     "name": "stdout",
     "output_type": "stream",
     "text": [
      "  Source  ddof1  ddof2         F     p-unc       np2       eps\n",
      "0   Time      3      9  0.159898  0.920632  0.050602  0.524855\n"
     ]
    }
   ],
   "source": [
    "# Try repeated One Way ANOVA\n",
    "aov = pg.rm_anova(dv='LogC', within=['Time'], subject='Room_Number', data=new_Window_V)\n",
    "print(aov)"
   ]
  },
  {
   "cell_type": "markdown",
   "id": "comparative-savings",
   "metadata": {},
   "source": [
    "___\n",
    "## Air Sample \n",
    "\n",
    "**Initial visualization**"
   ]
  },
  {
   "cell_type": "code",
   "execution_count": 224,
   "id": "minor-convert",
   "metadata": {},
   "outputs": [
    {
     "data": {
      "text/plain": [
       "<matplotlib.lines.Line2D at 0x7fa8554b6a00>"
      ]
     },
     "execution_count": 224,
     "metadata": {},
     "output_type": "execute_result"
    },
    {
     "data": {
      "image/png": "[encoded data removed]",
      "text/plain": [
       "<Figure size 643.5x600 with 1 Axes>"
      ]
     },
     "metadata": {},
     "output_type": "display_data"
    }
   ],
   "source": [
    "#AirSample\n",
    "#Plot qPCR Results Separatly\n",
    "ax=sns.catplot(x=\"Time\", y=\"LogC\",\n",
    "            hue=\"Room_Type\", order=['T1','T3'], hue_order=('Regular','View'), \n",
    "            kind=\"box\", dodge=True, height=6, aspect=.9,\n",
    "            palette=color1, data=new_AirSample)\n",
    "ax = sns.stripplot(x='Time', y='LogC', hue='Room_Type',order=['T1','T3'],\n",
    "                   hue_order=('Regular','View',), palette=color2,\n",
    "                   jitter=True,size=7, dodge=True, marker='o', alpha=0.75, data=new_AirSample)\n",
    "\n",
    "# how to remove redundant legends in Python\n",
    "# Let us first get legend information from the plot object\n",
    "handles, labels = ax.get_legend_handles_labels()\n",
    "# specify just one legend\n",
    "l = plt.legend(handles[1:1], labels[1:1]).set_title('')\n",
    "ax.set(ylabel=\"copy number of gene (log10)\")\n",
    "plt.ylim(0,6)\n",
    "plt.axhline(y=1.544068,color=\"black\",linestyle='-.', linewidth=1)"
   ]
  },
  {
   "cell_type": "markdown",
   "id": "17ea9532-05f7-4745-9ac6-8f5df984d575",
   "metadata": {},
   "source": [
    "#### Normality assessment ####"
   ]
  },
  {
   "cell_type": "code",
   "execution_count": 168,
   "id": "437c1757-b5d9-4fbf-8f07-1e2abe57ec2c",
   "metadata": {},
   "outputs": [
    {
     "name": "stdout",
     "output_type": "stream",
     "text": [
      "P-value of shapiro wilk test for AirSample  is: 0.7132822871208191\n"
     ]
    }
   ],
   "source": [
    "stat, p =  shapiro(new_AirSample[\"LogC\"])\n",
    "print(\"P-value of shapiro wilk test for AirSample  is:\", p)"
   ]
  },
  {
   "cell_type": "code",
   "execution_count": 169,
   "id": "61fe3ca4-c854-43a6-87f9-eb4fd4cfa2dd",
   "metadata": {},
   "outputs": [
    {
     "data": {
      "text/html": [
       "<div>\n",
       "<style scoped>\n",
       "    .dataframe tbody tr th:only-of-type {\n",
       "        vertical-align: middle;\n",
       "    }\n",
       "\n",
       "    .dataframe tbody tr th {\n",
       "        vertical-align: top;\n",
       "    }\n",
       "\n",
       "    .dataframe thead th {\n",
       "        text-align: right;\n",
       "    }\n",
       "</style>\n",
       "<table border=\"1\" class=\"dataframe\">\n",
       "  <thead>\n",
       "    <tr style=\"text-align: right;\">\n",
       "      <th></th>\n",
       "      <th>W</th>\n",
       "      <th>pval</th>\n",
       "      <th>normal</th>\n",
       "    </tr>\n",
       "  </thead>\n",
       "  <tbody>\n",
       "    <tr>\n",
       "      <th>T1</th>\n",
       "      <td>0.946085</td>\n",
       "      <td>0.622474</td>\n",
       "      <td>True</td>\n",
       "    </tr>\n",
       "    <tr>\n",
       "      <th>T3</th>\n",
       "      <td>0.877615</td>\n",
       "      <td>0.122503</td>\n",
       "      <td>True</td>\n",
       "    </tr>\n",
       "  </tbody>\n",
       "</table>\n",
       "</div>"
      ],
      "text/plain": [
       "           W      pval  normal\n",
       "T1  0.946085  0.622474    True\n",
       "T3  0.877615  0.122503    True"
      ]
     },
     "execution_count": 169,
     "metadata": {},
     "output_type": "execute_result"
    }
   ],
   "source": [
    "# Normality of Window Dataframe for each Timepoints\n",
    "pg.normality(data=new_AirSample, dv='LogC', group='Time')"
   ]
  },
  {
   "cell_type": "code",
   "execution_count": 170,
   "id": "06597081-4b10-4f21-879a-9bf61de1983e",
   "metadata": {},
   "outputs": [
    {
     "data": {
      "text/html": [
       "<div>\n",
       "<style scoped>\n",
       "    .dataframe tbody tr th:only-of-type {\n",
       "        vertical-align: middle;\n",
       "    }\n",
       "\n",
       "    .dataframe tbody tr th {\n",
       "        vertical-align: top;\n",
       "    }\n",
       "\n",
       "    .dataframe thead th {\n",
       "        text-align: right;\n",
       "    }\n",
       "</style>\n",
       "<table border=\"1\" class=\"dataframe\">\n",
       "  <thead>\n",
       "    <tr style=\"text-align: right;\">\n",
       "      <th></th>\n",
       "      <th>W</th>\n",
       "      <th>pval</th>\n",
       "      <th>normal</th>\n",
       "    </tr>\n",
       "  </thead>\n",
       "  <tbody>\n",
       "    <tr>\n",
       "      <th>Regular</th>\n",
       "      <td>0.959794</td>\n",
       "      <td>0.783524</td>\n",
       "      <td>True</td>\n",
       "    </tr>\n",
       "    <tr>\n",
       "      <th>View</th>\n",
       "      <td>0.844712</td>\n",
       "      <td>0.050240</td>\n",
       "      <td>True</td>\n",
       "    </tr>\n",
       "  </tbody>\n",
       "</table>\n",
       "</div>"
      ],
      "text/plain": [
       "                W      pval  normal\n",
       "Regular  0.959794  0.783524    True\n",
       "View     0.844712  0.050240    True"
      ]
     },
     "execution_count": 170,
     "metadata": {},
     "output_type": "execute_result"
    }
   ],
   "source": [
    "# Normality of Window Dataframe for each Timepoints\n",
    "pg.normality(data=new_AirSample, dv='LogC', group='Room_Type')"
   ]
  },
  {
   "cell_type": "markdown",
   "id": "a22e7cbc-6bb5-4110-9779-41f8ba144ef4",
   "metadata": {},
   "source": [
    "* Air Sample datasets are all normally distributed *\n",
    "\n",
    "#### Variance test ####"
   ]
  },
  {
   "cell_type": "code",
   "execution_count": 171,
   "id": "fcfbbb92-1433-482e-81b3-3d4fc52ddec8",
   "metadata": {},
   "outputs": [
    {
     "name": "stdout",
     "output_type": "stream",
     "text": [
      "P-value of levene test for AirSample Regular and EC Window room is: 0.7816165883413314\n",
      "P-value of levene test for Air Sample between time is: 0.06065687825016659\n"
     ]
    }
   ],
   "source": [
    "#Variance\n",
    "stat, p =  levene(new_AirSample_R[\"LogC\"], new_AirSample_V[\"LogC\"])\n",
    "print(\"P-value of levene test for AirSample Regular and EC Window room is:\", p)\n",
    "stat, p =  levene(new_AirSample_T1[\"LogC\"],new_AirSample_T3[\"LogC\"] )\n",
    "print(\"P-value of levene test for Air Sample between time is:\", p)"
   ]
  },
  {
   "cell_type": "markdown",
   "id": "77b8b652-9291-401b-a555-c0edf4f31165",
   "metadata": {},
   "source": [
    "____\n",
    "#### Statistical test: Effect of indoor daylight on **Air Sample** microbiome ###"
   ]
  },
  {
   "cell_type": "code",
   "execution_count": 172,
   "id": "otherwise-produce",
   "metadata": {},
   "outputs": [],
   "source": [
    "#Subgroup for each Time point\n",
    "new_AirSample_T1_R=subgroup(new_AirSample_T1, \"Room_Type\",\"Regular\")\n",
    "new_AirSample_T1_V=subgroup(new_AirSample_T1, \"Room_Type\",\"View\")\n",
    "new_AirSample_T3_R=subgroup(new_AirSample_T3, \"Room_Type\",\"Regular\")\n",
    "new_AirSample_T3_V=subgroup(new_AirSample_T3, \"Room_Type\",\"View\")"
   ]
  },
  {
   "cell_type": "code",
   "execution_count": 173,
   "id": "numerous-earth",
   "metadata": {},
   "outputs": [
    {
     "data": {
      "text/html": [
       "<div>\n",
       "<style scoped>\n",
       "    .dataframe tbody tr th:only-of-type {\n",
       "        vertical-align: middle;\n",
       "    }\n",
       "\n",
       "    .dataframe tbody tr th {\n",
       "        vertical-align: top;\n",
       "    }\n",
       "\n",
       "    .dataframe thead th {\n",
       "        text-align: right;\n",
       "    }\n",
       "</style>\n",
       "<table border=\"1\" class=\"dataframe\">\n",
       "  <thead>\n",
       "    <tr style=\"text-align: right;\">\n",
       "      <th></th>\n",
       "      <th>T</th>\n",
       "      <th>dof</th>\n",
       "      <th>alternative</th>\n",
       "      <th>p-val</th>\n",
       "      <th>CI95%</th>\n",
       "      <th>cohen-d</th>\n",
       "      <th>BF10</th>\n",
       "      <th>power</th>\n",
       "    </tr>\n",
       "  </thead>\n",
       "  <tbody>\n",
       "    <tr>\n",
       "      <th>T-test</th>\n",
       "      <td>-5.99172</td>\n",
       "      <td>8</td>\n",
       "      <td>two-sided</td>\n",
       "      <td>0.000326</td>\n",
       "      <td>[-1.04, -0.46]</td>\n",
       "      <td>3.789497</td>\n",
       "      <td>64.802</td>\n",
       "      <td>0.999356</td>\n",
       "    </tr>\n",
       "  </tbody>\n",
       "</table>\n",
       "</div>"
      ],
      "text/plain": [
       "              T  dof alternative     p-val           CI95%   cohen-d    BF10  \\\n",
       "T-test -5.99172    8   two-sided  0.000326  [-1.04, -0.46]  3.789497  64.802   \n",
       "\n",
       "           power  \n",
       "T-test  0.999356  "
      ]
     },
     "execution_count": 173,
     "metadata": {},
     "output_type": "execute_result"
    }
   ],
   "source": [
    "#2 sample t-test ANOVA for Air Sample\n",
    "#At Time 1 between Two Room Type\n",
    "res=ttest(new_AirSample_T1_R['LogC'], new_AirSample_T1_V['LogC'],paired = False)\n",
    "res"
   ]
  },
  {
   "cell_type": "code",
   "execution_count": 174,
   "id": "differential-light",
   "metadata": {},
   "outputs": [
    {
     "data": {
      "text/html": [
       "<div>\n",
       "<style scoped>\n",
       "    .dataframe tbody tr th:only-of-type {\n",
       "        vertical-align: middle;\n",
       "    }\n",
       "\n",
       "    .dataframe tbody tr th {\n",
       "        vertical-align: top;\n",
       "    }\n",
       "\n",
       "    .dataframe thead th {\n",
       "        text-align: right;\n",
       "    }\n",
       "</style>\n",
       "<table border=\"1\" class=\"dataframe\">\n",
       "  <thead>\n",
       "    <tr style=\"text-align: right;\">\n",
       "      <th></th>\n",
       "      <th>T</th>\n",
       "      <th>dof</th>\n",
       "      <th>alternative</th>\n",
       "      <th>p-val</th>\n",
       "      <th>CI95%</th>\n",
       "      <th>cohen-d</th>\n",
       "      <th>BF10</th>\n",
       "      <th>power</th>\n",
       "    </tr>\n",
       "  </thead>\n",
       "  <tbody>\n",
       "    <tr>\n",
       "      <th>T-test</th>\n",
       "      <td>-2.02804</td>\n",
       "      <td>8</td>\n",
       "      <td>two-sided</td>\n",
       "      <td>0.077091</td>\n",
       "      <td>[-0.69, 0.04]</td>\n",
       "      <td>1.282645</td>\n",
       "      <td>1.442</td>\n",
       "      <td>0.430625</td>\n",
       "    </tr>\n",
       "  </tbody>\n",
       "</table>\n",
       "</div>"
      ],
      "text/plain": [
       "              T  dof alternative     p-val          CI95%   cohen-d   BF10  \\\n",
       "T-test -2.02804    8   two-sided  0.077091  [-0.69, 0.04]  1.282645  1.442   \n",
       "\n",
       "           power  \n",
       "T-test  0.430625  "
      ]
     },
     "execution_count": 174,
     "metadata": {},
     "output_type": "execute_result"
    }
   ],
   "source": [
    "#2 sample t-test ANOVA for Air Sample\n",
    "#At Time 1 between Two Room Type\n",
    "res=ttest(new_AirSample_T3_R['LogC'], new_AirSample_T3_V['LogC'],paired = False)\n",
    "res"
   ]
  },
  {
   "cell_type": "markdown",
   "id": "1642e99a-e78b-4ce9-9e71-1c65f99390df",
   "metadata": {},
   "source": [
    "#### Statistical test: Effect of occupancy (Time) on **Air Sample** microbiome ###"
   ]
  },
  {
   "cell_type": "code",
   "execution_count": 175,
   "id": "received-treasury",
   "metadata": {},
   "outputs": [
    {
     "name": "stdout",
     "output_type": "stream",
     "text": [
      "  Source  ddof1  ddof2         F    p-unc       np2  eps\n",
      "0   Time      1      4  3.953018  0.11769  0.497046  1.0\n"
     ]
    }
   ],
   "source": [
    "#View Room IS normally distributed, so One-Ways Repeated ANOVA on AirSample\n",
    "aov = pg.rm_anova(dv='LogC', within=['Time'], subject='Room_Number', data=new_AirSample_R)\n",
    "print(aov)"
   ]
  },
  {
   "cell_type": "code",
   "execution_count": 176,
   "id": "vietnamese-movement",
   "metadata": {},
   "outputs": [
    {
     "name": "stdout",
     "output_type": "stream",
     "text": [
      "  Source  ddof1  ddof2        F     p-unc       np2  eps\n",
      "0   Time      1      4  2.78021  0.170762  0.410048  1.0\n"
     ]
    }
   ],
   "source": [
    "#View Room IS normally distributed, so One-Ways Repeated ANOVA on AirSample\n",
    "aov = pg.rm_anova(dv='LogC', within=['Time'], subject='Room_Number', data=new_AirSample_V)\n",
    "print(aov)"
   ]
  },
  {
   "cell_type": "markdown",
   "id": "b4a43459-9a56-4264-b084-20de6eefe293",
   "metadata": {},
   "source": [
    "___\n",
    "### AirDuct ###\n",
    "\n",
    "**Initial data visualization**"
   ]
  },
  {
   "cell_type": "code",
   "execution_count": 223,
   "id": "a715b6f4-29f7-44b1-8e9a-af32ee31168c",
   "metadata": {},
   "outputs": [
    {
     "data": {
      "text/plain": [
       "<matplotlib.lines.Line2D at 0x7fa857842370>"
      ]
     },
     "execution_count": 223,
     "metadata": {},
     "output_type": "execute_result"
    },
    {
     "data": {
      "image/png": "[encoded data removed]",
      "text/plain": [
       "<Figure size 643.5x600 with 1 Axes>"
      ]
     },
     "metadata": {},
     "output_type": "display_data"
    }
   ],
   "source": [
    "#Another Version\n",
    "#Plot qPCR Results Separatly\n",
    "ax=sns.catplot(x=\"Time\", y=\"LogC\",\n",
    "            hue=\"Room_Type\", order=['T0','T1','T2','T3'], hue_order=('Regular','View'), \n",
    "            kind=\"box\", dodge=True, height=6, aspect=.9,\n",
    "            palette=color1, data=new_AirDuct)\n",
    "ax = sns.stripplot(x='Time', y='LogC', hue='Room_Type',order=['T0','T1','T2','T3'],\n",
    "                   hue_order=('Regular','View',), palette=color2,\n",
    "                   jitter=True,size=7, dodge=True, marker='o', alpha=0.75, data=new_AirDuct)\n",
    "# how to remove redundant legends in Python\n",
    "# Let us first get legend information from the plot object\n",
    "handles, labels = ax.get_legend_handles_labels()\n",
    "# specify just one legend\n",
    "l = plt.legend(handles[1:1], labels[1:1]).set_title('')\n",
    "ax.set(ylabel=\"copy number of gene (log10)\")\n",
    "plt.ylim(0,6)\n",
    "plt.axhline(y=1.544068,color=\"black\",linestyle='-.', linewidth=1)"
   ]
  },
  {
   "cell_type": "markdown",
   "id": "2f95224e-9d46-4d64-8a4c-bddd5da304d2",
   "metadata": {},
   "source": [
    "#### Normality assessment"
   ]
  },
  {
   "cell_type": "code",
   "execution_count": 177,
   "id": "7e62d1fa-7e6b-4d37-8ee0-0c623c1b91d5",
   "metadata": {},
   "outputs": [
    {
     "name": "stdout",
     "output_type": "stream",
     "text": [
      "P-value of shapiro wilk test for AirDuct Sample  is: 0.05195183679461479\n"
     ]
    }
   ],
   "source": [
    "stat, p =  shapiro(new_AirDuct[\"LogC\"])\n",
    "print(\"P-value of shapiro wilk test for AirDuct Sample  is:\", p)"
   ]
  },
  {
   "cell_type": "code",
   "execution_count": 178,
   "id": "a0342135-1b67-4e91-80ad-3bffba6d5b2e",
   "metadata": {},
   "outputs": [
    {
     "data": {
      "text/html": [
       "<div>\n",
       "<style scoped>\n",
       "    .dataframe tbody tr th:only-of-type {\n",
       "        vertical-align: middle;\n",
       "    }\n",
       "\n",
       "    .dataframe tbody tr th {\n",
       "        vertical-align: top;\n",
       "    }\n",
       "\n",
       "    .dataframe thead th {\n",
       "        text-align: right;\n",
       "    }\n",
       "</style>\n",
       "<table border=\"1\" class=\"dataframe\">\n",
       "  <thead>\n",
       "    <tr style=\"text-align: right;\">\n",
       "      <th></th>\n",
       "      <th>W</th>\n",
       "      <th>pval</th>\n",
       "      <th>normal</th>\n",
       "    </tr>\n",
       "  </thead>\n",
       "  <tbody>\n",
       "    <tr>\n",
       "      <th>T0</th>\n",
       "      <td>0.940261</td>\n",
       "      <td>0.584651</td>\n",
       "      <td>True</td>\n",
       "    </tr>\n",
       "    <tr>\n",
       "      <th>T1</th>\n",
       "      <td>0.973093</td>\n",
       "      <td>0.915931</td>\n",
       "      <td>True</td>\n",
       "    </tr>\n",
       "    <tr>\n",
       "      <th>T2</th>\n",
       "      <td>0.851212</td>\n",
       "      <td>0.060049</td>\n",
       "      <td>True</td>\n",
       "    </tr>\n",
       "    <tr>\n",
       "      <th>T3</th>\n",
       "      <td>0.866271</td>\n",
       "      <td>0.090423</td>\n",
       "      <td>True</td>\n",
       "    </tr>\n",
       "  </tbody>\n",
       "</table>\n",
       "</div>"
      ],
      "text/plain": [
       "           W      pval  normal\n",
       "T0  0.940261  0.584651    True\n",
       "T1  0.973093  0.915931    True\n",
       "T2  0.851212  0.060049    True\n",
       "T3  0.866271  0.090423    True"
      ]
     },
     "execution_count": 178,
     "metadata": {},
     "output_type": "execute_result"
    }
   ],
   "source": [
    "# Normality of AirDuct Dataframe for each Timepoints\n",
    "pg.normality(data=new_AirDuct, dv='LogC', group='Time')"
   ]
  },
  {
   "cell_type": "code",
   "execution_count": 179,
   "id": "e47a5ad1-b085-406f-91c4-5d67c5a5f11f",
   "metadata": {},
   "outputs": [
    {
     "data": {
      "text/html": [
       "<div>\n",
       "<style scoped>\n",
       "    .dataframe tbody tr th:only-of-type {\n",
       "        vertical-align: middle;\n",
       "    }\n",
       "\n",
       "    .dataframe tbody tr th {\n",
       "        vertical-align: top;\n",
       "    }\n",
       "\n",
       "    .dataframe thead th {\n",
       "        text-align: right;\n",
       "    }\n",
       "</style>\n",
       "<table border=\"1\" class=\"dataframe\">\n",
       "  <thead>\n",
       "    <tr style=\"text-align: right;\">\n",
       "      <th></th>\n",
       "      <th>W</th>\n",
       "      <th>pval</th>\n",
       "      <th>normal</th>\n",
       "    </tr>\n",
       "  </thead>\n",
       "  <tbody>\n",
       "    <tr>\n",
       "      <th>Regular</th>\n",
       "      <td>0.905320</td>\n",
       "      <td>0.044427</td>\n",
       "      <td>False</td>\n",
       "    </tr>\n",
       "    <tr>\n",
       "      <th>View</th>\n",
       "      <td>0.923234</td>\n",
       "      <td>0.129879</td>\n",
       "      <td>True</td>\n",
       "    </tr>\n",
       "  </tbody>\n",
       "</table>\n",
       "</div>"
      ],
      "text/plain": [
       "                W      pval  normal\n",
       "Regular  0.905320  0.044427   False\n",
       "View     0.923234  0.129879    True"
      ]
     },
     "execution_count": 179,
     "metadata": {},
     "output_type": "execute_result"
    }
   ],
   "source": [
    "# Normality of AirDuct Dataframe for each Room Type\n",
    "pg.normality(data=new_AirDuct, dv='LogC', group='Room_Type')"
   ]
  },
  {
   "cell_type": "markdown",
   "id": "36876aaf-83e5-4794-885a-600e34cdb828",
   "metadata": {},
   "source": [
    "#### Variance Analysis "
   ]
  },
  {
   "cell_type": "code",
   "execution_count": 180,
   "id": "e54f8fd1-093b-452b-8f4a-310b1f2d282d",
   "metadata": {},
   "outputs": [
    {
     "name": "stdout",
     "output_type": "stream",
     "text": [
      "P-value of levene test for AirDuct Regular and EC Window room is: 0.2851615166127224\n",
      "P-value of levene test for AirDuct between time is: 0.7319067968469165\n"
     ]
    }
   ],
   "source": [
    "#Variance\n",
    "stat, p =  levene(new_AirDuct_R[\"LogC\"], new_AirDuct_V[\"LogC\"])\n",
    "print(\"P-value of levene test for AirDuct Regular and EC Window room is:\", p)\n",
    "stat, p =  levene(new_AirDuct_T0[\"LogC\"], new_AirDuct_T1[\"LogC\"],new_AirDuct_T2[\"LogC\"],new_AirDuct_T3[\"LogC\"] )\n",
    "print(\"P-value of levene test for AirDuct between time is:\", p)"
   ]
  },
  {
   "cell_type": "markdown",
   "id": "70380d75-3db6-4e0b-9cb1-b01ddc8bb328",
   "metadata": {},
   "source": [
    "* Air Duct regular room is NOT normally distributed \n",
    "\n",
    "#### Statistical test: Effect of occupancy (Time) on **Air Duct** microbiome ###\n"
   ]
  },
  {
   "cell_type": "code",
   "execution_count": 181,
   "id": "405838dc-fece-4247-84af-185f83fc5318",
   "metadata": {},
   "outputs": [],
   "source": [
    "#Subgroup for each Time point\n",
    "new_AirDuct_T1_R=subgroup(new_AirDuct_T1, \"Room_Type\",\"Regular\")\n",
    "new_AirDuct_T1_V=subgroup(new_AirDuct_T1, \"Room_Type\",\"View\")\n",
    "new_AirDuct_T2_R=subgroup(new_AirDuct_T2, \"Room_Type\",\"Regular\")\n",
    "new_AirDuct_T2_V=subgroup(new_AirDuct_T2, \"Room_Type\",\"View\")\n",
    "new_AirDuct_T0_R=subgroup(new_AirDuct_T0, \"Room_Type\",\"Regular\")\n",
    "new_AirDuct_T0_V=subgroup(new_AirDuct_T0, \"Room_Type\",\"View\")\n",
    "new_AirDuct_T3_R=subgroup(new_AirDuct_T3, \"Room_Type\",\"Regular\")\n",
    "new_AirDuct_T3_V=subgroup(new_AirDuct_T3, \"Room_Type\",\"View\")"
   ]
  },
  {
   "cell_type": "code",
   "execution_count": 182,
   "id": "559f4f70-106b-4e96-a782-58bae48634ce",
   "metadata": {},
   "outputs": [
    {
     "data": {
      "text/html": [
       "<div>\n",
       "<style scoped>\n",
       "    .dataframe tbody tr th:only-of-type {\n",
       "        vertical-align: middle;\n",
       "    }\n",
       "\n",
       "    .dataframe tbody tr th {\n",
       "        vertical-align: top;\n",
       "    }\n",
       "\n",
       "    .dataframe thead th {\n",
       "        text-align: right;\n",
       "    }\n",
       "</style>\n",
       "<table border=\"1\" class=\"dataframe\">\n",
       "  <thead>\n",
       "    <tr style=\"text-align: right;\">\n",
       "      <th></th>\n",
       "      <th>T</th>\n",
       "      <th>dof</th>\n",
       "      <th>alternative</th>\n",
       "      <th>p-val</th>\n",
       "      <th>CI95%</th>\n",
       "      <th>cohen-d</th>\n",
       "      <th>BF10</th>\n",
       "      <th>power</th>\n",
       "    </tr>\n",
       "  </thead>\n",
       "  <tbody>\n",
       "    <tr>\n",
       "      <th>T-test</th>\n",
       "      <td>0.385982</td>\n",
       "      <td>6.993878</td>\n",
       "      <td>two-sided</td>\n",
       "      <td>0.710982</td>\n",
       "      <td>[-1.11, 1.55]</td>\n",
       "      <td>0.249981</td>\n",
       "      <td>0.532</td>\n",
       "      <td>0.06215</td>\n",
       "    </tr>\n",
       "  </tbody>\n",
       "</table>\n",
       "</div>"
      ],
      "text/plain": [
       "               T       dof alternative     p-val          CI95%   cohen-d  \\\n",
       "T-test  0.385982  6.993878   two-sided  0.710982  [-1.11, 1.55]  0.249981   \n",
       "\n",
       "         BF10    power  \n",
       "T-test  0.532  0.06215  "
      ]
     },
     "execution_count": 182,
     "metadata": {},
     "output_type": "execute_result"
    }
   ],
   "source": [
    "###Two sample T-test at baseline (T0)\n",
    "res=ttest(new_AirDuct_T0_R['LogC'], new_AirDuct_T0_V['LogC'],paired = False)\n",
    "res"
   ]
  },
  {
   "cell_type": "code",
   "execution_count": 183,
   "id": "1b181388-af7b-4f93-b278-e5b552f4cf99",
   "metadata": {},
   "outputs": [
    {
     "data": {
      "text/html": [
       "<div>\n",
       "<style scoped>\n",
       "    .dataframe tbody tr th:only-of-type {\n",
       "        vertical-align: middle;\n",
       "    }\n",
       "\n",
       "    .dataframe tbody tr th {\n",
       "        vertical-align: top;\n",
       "    }\n",
       "\n",
       "    .dataframe thead th {\n",
       "        text-align: right;\n",
       "    }\n",
       "</style>\n",
       "<table border=\"1\" class=\"dataframe\">\n",
       "  <thead>\n",
       "    <tr style=\"text-align: right;\">\n",
       "      <th></th>\n",
       "      <th>T</th>\n",
       "      <th>dof</th>\n",
       "      <th>alternative</th>\n",
       "      <th>p-val</th>\n",
       "      <th>CI95%</th>\n",
       "      <th>cohen-d</th>\n",
       "      <th>BF10</th>\n",
       "      <th>power</th>\n",
       "    </tr>\n",
       "  </thead>\n",
       "  <tbody>\n",
       "    <tr>\n",
       "      <th>T-test</th>\n",
       "      <td>0.792217</td>\n",
       "      <td>7.186763</td>\n",
       "      <td>two-sided</td>\n",
       "      <td>0.453586</td>\n",
       "      <td>[-0.95, 1.92]</td>\n",
       "      <td>0.494925</td>\n",
       "      <td>0.584</td>\n",
       "      <td>0.113502</td>\n",
       "    </tr>\n",
       "  </tbody>\n",
       "</table>\n",
       "</div>"
      ],
      "text/plain": [
       "               T       dof alternative     p-val          CI95%   cohen-d  \\\n",
       "T-test  0.792217  7.186763   two-sided  0.453586  [-0.95, 1.92]  0.494925   \n",
       "\n",
       "         BF10     power  \n",
       "T-test  0.584  0.113502  "
      ]
     },
     "execution_count": 183,
     "metadata": {},
     "output_type": "execute_result"
    }
   ],
   "source": [
    "###Two sample T-test at T1\n",
    "res=ttest(new_AirDuct_T1_R['LogC'], new_AirDuct_T1_V['LogC'],paired = False)\n",
    "res"
   ]
  },
  {
   "cell_type": "code",
   "execution_count": 184,
   "id": "0208fa6b-5254-47ef-a423-3ad23221a56f",
   "metadata": {},
   "outputs": [
    {
     "data": {
      "text/html": [
       "<div>\n",
       "<style scoped>\n",
       "    .dataframe tbody tr th:only-of-type {\n",
       "        vertical-align: middle;\n",
       "    }\n",
       "\n",
       "    .dataframe tbody tr th {\n",
       "        vertical-align: top;\n",
       "    }\n",
       "\n",
       "    .dataframe thead th {\n",
       "        text-align: right;\n",
       "    }\n",
       "</style>\n",
       "<table border=\"1\" class=\"dataframe\">\n",
       "  <thead>\n",
       "    <tr style=\"text-align: right;\">\n",
       "      <th></th>\n",
       "      <th>T</th>\n",
       "      <th>dof</th>\n",
       "      <th>alternative</th>\n",
       "      <th>p-val</th>\n",
       "      <th>CI95%</th>\n",
       "      <th>cohen-d</th>\n",
       "      <th>BF10</th>\n",
       "      <th>power</th>\n",
       "    </tr>\n",
       "  </thead>\n",
       "  <tbody>\n",
       "    <tr>\n",
       "      <th>T-test</th>\n",
       "      <td>2.506938</td>\n",
       "      <td>8</td>\n",
       "      <td>two-sided</td>\n",
       "      <td>0.036545</td>\n",
       "      <td>[0.07, 1.7]</td>\n",
       "      <td>1.585527</td>\n",
       "      <td>2.252</td>\n",
       "      <td>0.595412</td>\n",
       "    </tr>\n",
       "  </tbody>\n",
       "</table>\n",
       "</div>"
      ],
      "text/plain": [
       "               T  dof alternative     p-val        CI95%   cohen-d   BF10  \\\n",
       "T-test  2.506938    8   two-sided  0.036545  [0.07, 1.7]  1.585527  2.252   \n",
       "\n",
       "           power  \n",
       "T-test  0.595412  "
      ]
     },
     "execution_count": 184,
     "metadata": {},
     "output_type": "execute_result"
    }
   ],
   "source": [
    "###Two sample T-test at T2\n",
    "res=ttest(new_AirDuct_T2_R['LogC'], new_AirDuct_T2_V['LogC'],paired = False)\n",
    "res"
   ]
  },
  {
   "cell_type": "code",
   "execution_count": 185,
   "id": "dd1e7931-ce7b-45a1-8d10-cb48fbbb87e1",
   "metadata": {},
   "outputs": [
    {
     "data": {
      "text/html": [
       "<div>\n",
       "<style scoped>\n",
       "    .dataframe tbody tr th:only-of-type {\n",
       "        vertical-align: middle;\n",
       "    }\n",
       "\n",
       "    .dataframe tbody tr th {\n",
       "        vertical-align: top;\n",
       "    }\n",
       "\n",
       "    .dataframe thead th {\n",
       "        text-align: right;\n",
       "    }\n",
       "</style>\n",
       "<table border=\"1\" class=\"dataframe\">\n",
       "  <thead>\n",
       "    <tr style=\"text-align: right;\">\n",
       "      <th></th>\n",
       "      <th>T</th>\n",
       "      <th>dof</th>\n",
       "      <th>alternative</th>\n",
       "      <th>p-val</th>\n",
       "      <th>CI95%</th>\n",
       "      <th>cohen-d</th>\n",
       "      <th>BF10</th>\n",
       "      <th>power</th>\n",
       "    </tr>\n",
       "  </thead>\n",
       "  <tbody>\n",
       "    <tr>\n",
       "      <th>T-test</th>\n",
       "      <td>1.52383</td>\n",
       "      <td>8</td>\n",
       "      <td>two-sided</td>\n",
       "      <td>0.166056</td>\n",
       "      <td>[-0.35, 1.72]</td>\n",
       "      <td>0.963754</td>\n",
       "      <td>0.946</td>\n",
       "      <td>0.269556</td>\n",
       "    </tr>\n",
       "  </tbody>\n",
       "</table>\n",
       "</div>"
      ],
      "text/plain": [
       "              T  dof alternative     p-val          CI95%   cohen-d   BF10  \\\n",
       "T-test  1.52383    8   two-sided  0.166056  [-0.35, 1.72]  0.963754  0.946   \n",
       "\n",
       "           power  \n",
       "T-test  0.269556  "
      ]
     },
     "execution_count": 185,
     "metadata": {},
     "output_type": "execute_result"
    }
   ],
   "source": [
    "###Two sample T-test at T3\n",
    "res=ttest(new_AirDuct_T3_R['LogC'], new_AirDuct_T3_V['LogC'],paired = False)\n",
    "res"
   ]
  },
  {
   "cell_type": "markdown",
   "id": "678ffdaf-a163-480d-b968-2233dd787f97",
   "metadata": {},
   "source": [
    "#### Statistical test: Effect of occupancy (Time) on **Air Duct** microbiome ###"
   ]
  },
  {
   "cell_type": "code",
   "execution_count": 186,
   "id": "45100e65-97dc-48dc-93a4-caf29e8f429f",
   "metadata": {},
   "outputs": [
    {
     "data": {
      "text/html": [
       "<div>\n",
       "<style scoped>\n",
       "    .dataframe tbody tr th:only-of-type {\n",
       "        vertical-align: middle;\n",
       "    }\n",
       "\n",
       "    .dataframe tbody tr th {\n",
       "        vertical-align: top;\n",
       "    }\n",
       "\n",
       "    .dataframe thead th {\n",
       "        text-align: right;\n",
       "    }\n",
       "</style>\n",
       "<table border=\"1\" class=\"dataframe\">\n",
       "  <thead>\n",
       "    <tr style=\"text-align: right;\">\n",
       "      <th></th>\n",
       "      <th>Source</th>\n",
       "      <th>W</th>\n",
       "      <th>ddof1</th>\n",
       "      <th>Q</th>\n",
       "      <th>p-unc</th>\n",
       "    </tr>\n",
       "  </thead>\n",
       "  <tbody>\n",
       "    <tr>\n",
       "      <th>Friedman</th>\n",
       "      <td>Time</td>\n",
       "      <td>0.575</td>\n",
       "      <td>3</td>\n",
       "      <td>6.9</td>\n",
       "      <td>0.075154</td>\n",
       "    </tr>\n",
       "  </tbody>\n",
       "</table>\n",
       "</div>"
      ],
      "text/plain": [
       "         Source      W  ddof1    Q     p-unc\n",
       "Friedman   Time  0.575      3  6.9  0.075154"
      ]
     },
     "execution_count": 186,
     "metadata": {},
     "output_type": "execute_result"
    }
   ],
   "source": [
    "#Regular Room is NOT normally distributedm, Friedman Test to see the block effect of TIME\n",
    "res= pg.friedman(data=new_AirDuct_R, dv=\"LogC\", within=\"Time\", subject=\"Room_Number\")\n",
    "res"
   ]
  },
  {
   "cell_type": "code",
   "execution_count": 187,
   "id": "6da0842b-91ea-404b-81af-7b527667787d",
   "metadata": {},
   "outputs": [
    {
     "name": "stdout",
     "output_type": "stream",
     "text": [
      "  Source  ddof1  ddof2         F     p-unc       np2       eps\n",
      "0   Time      3      9  0.854422  0.498738  0.221673  0.508278\n"
     ]
    }
   ],
   "source": [
    "#One-Ways Repeated ANOVA on Air Duct EC Window room\n",
    "aov = pg.rm_anova(dv='LogC', within=['Time'], subject='Room_Number', data=new_AirDuct_V)\n",
    "print(aov)"
   ]
  },
  {
   "cell_type": "markdown",
   "id": "modular-result",
   "metadata": {},
   "source": [
    "___\n",
    "### Palm ###\n",
    "\n",
    "**Initial data visualization**"
   ]
  },
  {
   "cell_type": "code",
   "execution_count": 225,
   "id": "66bfd771-9852-494f-b02a-f11207a76e27",
   "metadata": {},
   "outputs": [
    {
     "data": {
      "text/plain": [
       "(0.0, 12.0)"
      ]
     },
     "execution_count": 225,
     "metadata": {},
     "output_type": "execute_result"
    },
    {
     "data": {
      "image/png": "[encoded data removed]",
      "text/plain": [
       "<Figure size 643.5x600 with 1 Axes>"
      ]
     },
     "metadata": {},
     "output_type": "display_data"
    }
   ],
   "source": [
    "#Plot qPCR Results Separatly\n",
    "ax=sns.catplot(x=\"Time\", y=\"LogC\",\n",
    "            hue=\"Room_Type\", order=['T1','T3'], hue_order=('Regular','View'), \n",
    "            kind=\"box\", dodge=True, height=6, aspect=.9,\n",
    "            palette=color1, data=new_Palm)\n",
    "ax = sns.stripplot(x='Time', y='LogC', hue='Room_Type',order=['T1','T3'],\n",
    "                   hue_order=('Regular','View',), palette=color2,\n",
    "                   jitter=True,size=7, dodge=True, marker='o', alpha=0.75, data=new_Palm)\n",
    "\n",
    "# how to remove redundant legends in Python\n",
    "# Let us first get legend information from the plot object\n",
    "handles, labels = ax.get_legend_handles_labels()\n",
    "# specify just one legend\n",
    "l = plt.legend(handles[1:1], labels[1:1]).set_title('')\n",
    "ax.set(ylabel=\"copy number of gene (log10)\")\n",
    "plt.axhline(y=1.544068,color=\"black\",linestyle='-.', linewidth=1)\n",
    "plt.ylim(0,12)"
   ]
  },
  {
   "cell_type": "markdown",
   "id": "5c37faa6-ffbc-451a-bf00-ec1270bb628f",
   "metadata": {},
   "source": [
    "#### Normality test"
   ]
  },
  {
   "cell_type": "code",
   "execution_count": 189,
   "id": "2b79bc8b-692c-4eb0-b764-6967a75d8814",
   "metadata": {},
   "outputs": [
    {
     "name": "stdout",
     "output_type": "stream",
     "text": [
      "P-value of shapiro wilk test for Palm Sample  is: 0.880913496017456\n"
     ]
    }
   ],
   "source": [
    "stat, p =  shapiro(new_Palm[\"LogC\"])\n",
    "print(\"P-value of shapiro wilk test for Palm Sample  is:\", p)"
   ]
  },
  {
   "cell_type": "code",
   "execution_count": 190,
   "id": "2c037268-e8a8-483e-9fb6-a9c466fb80d8",
   "metadata": {},
   "outputs": [
    {
     "data": {
      "text/html": [
       "<div>\n",
       "<style scoped>\n",
       "    .dataframe tbody tr th:only-of-type {\n",
       "        vertical-align: middle;\n",
       "    }\n",
       "\n",
       "    .dataframe tbody tr th {\n",
       "        vertical-align: top;\n",
       "    }\n",
       "\n",
       "    .dataframe thead th {\n",
       "        text-align: right;\n",
       "    }\n",
       "</style>\n",
       "<table border=\"1\" class=\"dataframe\">\n",
       "  <thead>\n",
       "    <tr style=\"text-align: right;\">\n",
       "      <th></th>\n",
       "      <th>W</th>\n",
       "      <th>pval</th>\n",
       "      <th>normal</th>\n",
       "    </tr>\n",
       "  </thead>\n",
       "  <tbody>\n",
       "    <tr>\n",
       "      <th>Regular</th>\n",
       "      <td>0.935871</td>\n",
       "      <td>0.508053</td>\n",
       "      <td>True</td>\n",
       "    </tr>\n",
       "    <tr>\n",
       "      <th>View</th>\n",
       "      <td>0.966012</td>\n",
       "      <td>0.851607</td>\n",
       "      <td>True</td>\n",
       "    </tr>\n",
       "  </tbody>\n",
       "</table>\n",
       "</div>"
      ],
      "text/plain": [
       "                W      pval  normal\n",
       "Regular  0.935871  0.508053    True\n",
       "View     0.966012  0.851607    True"
      ]
     },
     "execution_count": 190,
     "metadata": {},
     "output_type": "execute_result"
    }
   ],
   "source": [
    "# Normality of Window Dataframe for each Timepoints\n",
    "pg.normality(data=new_Palm, dv='LogC', group='Room_Type')"
   ]
  },
  {
   "cell_type": "markdown",
   "id": "09ac50a4-52cd-42b3-a37a-b2c678c1d029",
   "metadata": {},
   "source": [
    "#### Variance Test ####"
   ]
  },
  {
   "cell_type": "code",
   "execution_count": 191,
   "id": "672f87d9-ecfe-4f8e-9231-cd9afd2727be",
   "metadata": {},
   "outputs": [
    {
     "name": "stdout",
     "output_type": "stream",
     "text": [
      "P-value of levene test for palm Regular and EC Window room is: 0.09989426160438675\n",
      "P-value of levene test for Palm between time is: 0.7114309369290224\n"
     ]
    }
   ],
   "source": [
    "#Variance\n",
    "stat, p =  levene(new_Palm_R[\"LogC\"], new_Palm_V[\"LogC\"])\n",
    "print(\"P-value of levene test for palm Regular and EC Window room is:\", p)\n",
    "stat, p =  levene(new_Palm_T1[\"LogC\"],new_Palm_T3[\"LogC\"] )\n",
    "print(\"P-value of levene test for Palm between time is:\", p)"
   ]
  },
  {
   "cell_type": "markdown",
   "id": "670fe30a-d23a-42d2-8b8c-a450dee629bf",
   "metadata": {},
   "source": [
    "* Palm dataset passed both normality and variance assumption *\n",
    "\n",
    "#### Statistical test: Effect of occupancy (Time) on **Palm** microbiome ###"
   ]
  },
  {
   "cell_type": "code",
   "execution_count": 192,
   "id": "existing-rescue",
   "metadata": {},
   "outputs": [],
   "source": [
    "new_Palm_T1_R=subgroup(new_Palm_T1, \"Room_Type\",\"Regular\")\n",
    "new_Palm_T1_V=subgroup(new_Palm_T1, \"Room_Type\",\"View\")\n",
    "new_Palm_T3_R=subgroup(new_Palm_T3, \"Room_Type\",\"Regular\")\n",
    "new_Palm_T3_V=subgroup(new_Palm_T3, \"Room_Type\",\"View\")"
   ]
  },
  {
   "cell_type": "code",
   "execution_count": 193,
   "id": "coral-privilege",
   "metadata": {},
   "outputs": [
    {
     "data": {
      "text/html": [
       "<div>\n",
       "<style scoped>\n",
       "    .dataframe tbody tr th:only-of-type {\n",
       "        vertical-align: middle;\n",
       "    }\n",
       "\n",
       "    .dataframe tbody tr th {\n",
       "        vertical-align: top;\n",
       "    }\n",
       "\n",
       "    .dataframe thead th {\n",
       "        text-align: right;\n",
       "    }\n",
       "</style>\n",
       "<table border=\"1\" class=\"dataframe\">\n",
       "  <thead>\n",
       "    <tr style=\"text-align: right;\">\n",
       "      <th></th>\n",
       "      <th>T</th>\n",
       "      <th>dof</th>\n",
       "      <th>alternative</th>\n",
       "      <th>p-val</th>\n",
       "      <th>CI95%</th>\n",
       "      <th>cohen-d</th>\n",
       "      <th>BF10</th>\n",
       "      <th>power</th>\n",
       "    </tr>\n",
       "  </thead>\n",
       "  <tbody>\n",
       "    <tr>\n",
       "      <th>T-test</th>\n",
       "      <td>0.078476</td>\n",
       "      <td>8</td>\n",
       "      <td>two-sided</td>\n",
       "      <td>0.939377</td>\n",
       "      <td>[-1.71, 1.83]</td>\n",
       "      <td>0.049632</td>\n",
       "      <td>0.493</td>\n",
       "      <td>0.050554</td>\n",
       "    </tr>\n",
       "  </tbody>\n",
       "</table>\n",
       "</div>"
      ],
      "text/plain": [
       "               T  dof alternative     p-val          CI95%   cohen-d   BF10  \\\n",
       "T-test  0.078476    8   two-sided  0.939377  [-1.71, 1.83]  0.049632  0.493   \n",
       "\n",
       "           power  \n",
       "T-test  0.050554  "
      ]
     },
     "execution_count": 193,
     "metadata": {},
     "output_type": "execute_result"
    }
   ],
   "source": [
    "###Two sample T-test\n",
    "res=ttest(new_Palm_T1_R['LogC'], new_Palm_T1_V['LogC'],paired = False)\n",
    "res"
   ]
  },
  {
   "cell_type": "code",
   "execution_count": 194,
   "id": "front-telling",
   "metadata": {},
   "outputs": [
    {
     "data": {
      "text/html": [
       "<div>\n",
       "<style scoped>\n",
       "    .dataframe tbody tr th:only-of-type {\n",
       "        vertical-align: middle;\n",
       "    }\n",
       "\n",
       "    .dataframe tbody tr th {\n",
       "        vertical-align: top;\n",
       "    }\n",
       "\n",
       "    .dataframe thead th {\n",
       "        text-align: right;\n",
       "    }\n",
       "</style>\n",
       "<table border=\"1\" class=\"dataframe\">\n",
       "  <thead>\n",
       "    <tr style=\"text-align: right;\">\n",
       "      <th></th>\n",
       "      <th>T</th>\n",
       "      <th>dof</th>\n",
       "      <th>alternative</th>\n",
       "      <th>p-val</th>\n",
       "      <th>CI95%</th>\n",
       "      <th>cohen-d</th>\n",
       "      <th>BF10</th>\n",
       "      <th>power</th>\n",
       "    </tr>\n",
       "  </thead>\n",
       "  <tbody>\n",
       "    <tr>\n",
       "      <th>T-test</th>\n",
       "      <td>-1.666589</td>\n",
       "      <td>8</td>\n",
       "      <td>two-sided</td>\n",
       "      <td>0.134156</td>\n",
       "      <td>[-2.45, 0.4]</td>\n",
       "      <td>1.054044</td>\n",
       "      <td>1.059</td>\n",
       "      <td>0.312147</td>\n",
       "    </tr>\n",
       "  </tbody>\n",
       "</table>\n",
       "</div>"
      ],
      "text/plain": [
       "               T  dof alternative     p-val         CI95%   cohen-d   BF10  \\\n",
       "T-test -1.666589    8   two-sided  0.134156  [-2.45, 0.4]  1.054044  1.059   \n",
       "\n",
       "           power  \n",
       "T-test  0.312147  "
      ]
     },
     "execution_count": 194,
     "metadata": {},
     "output_type": "execute_result"
    }
   ],
   "source": [
    "###Two sample T-test\n",
    "res=ttest(new_Palm_T3_R['LogC'], new_Palm_T3_V['LogC'],paired = False)\n",
    "res"
   ]
  },
  {
   "cell_type": "markdown",
   "id": "81297310-3805-4e18-b78f-e28343f8c63a",
   "metadata": {},
   "source": [
    "#### Statistical test: Effect of occupancy (Time) on **Palm** microbiome ###"
   ]
  },
  {
   "cell_type": "code",
   "execution_count": 195,
   "id": "6dd0bcdc-27fc-4eda-8f63-ced3840f129c",
   "metadata": {},
   "outputs": [
    {
     "name": "stdout",
     "output_type": "stream",
     "text": [
      "  Source  ddof1  ddof2         F     p-unc       np2  eps\n",
      "0   Time      1      4  3.917803  0.118891  0.494809  1.0\n"
     ]
    }
   ],
   "source": [
    "#One-Ways Repeated ANOVA \n",
    "aov = pg.rm_anova(dv='LogC', within=['Time'], subject='Room_Number', data=new_Palm_R)\n",
    "print(aov)"
   ]
  },
  {
   "cell_type": "code",
   "execution_count": 196,
   "id": "94c723dc-9284-4e9b-9e14-a6492271b6d5",
   "metadata": {},
   "outputs": [
    {
     "name": "stdout",
     "output_type": "stream",
     "text": [
      "  Source  ddof1  ddof2             F     p-unc           np2  eps\n",
      "0   Time      1      4  3.024675e-07  0.999588  7.561687e-08  1.0\n"
     ]
    }
   ],
   "source": [
    "#One-Ways Repeated ANOVA \n",
    "aov = pg.rm_anova(dv='LogC', within=['Time'], subject='Room_Number', data=new_Palm_V)\n",
    "print(aov)"
   ]
  },
  {
   "cell_type": "markdown",
   "id": "younger-prison",
   "metadata": {},
   "source": [
    "___\n",
    "### SALIVA ###\n",
    "\n",
    "**Initial data visualization**"
   ]
  },
  {
   "cell_type": "code",
   "execution_count": 226,
   "id": "3b4a4011-0be5-4732-a1d5-f0246f961e92",
   "metadata": {},
   "outputs": [
    {
     "data": {
      "text/plain": [
       "(0.0, 12.0)"
      ]
     },
     "execution_count": 226,
     "metadata": {},
     "output_type": "execute_result"
    },
    {
     "data": {
      "image/png": "[encoded data removed]",
      "text/plain": [
       "<Figure size 643.5x600 with 1 Axes>"
      ]
     },
     "metadata": {},
     "output_type": "display_data"
    }
   ],
   "source": [
    "#Saliva\n",
    "#Plot qPCR Results Separatly\n",
    "ax=sns.catplot(x=\"Time\", y=\"LogC\",\n",
    "            hue=\"Room_Type\", order=['T1','T3'], hue_order=('Regular','View'), \n",
    "            kind=\"box\", dodge=True, height=6, aspect=.9,\n",
    "            palette=color1, data=new_Saliva)\n",
    "ax = sns.stripplot(x='Time', y='LogC', hue='Room_Type',order=['T1','T3'],\n",
    "                   hue_order=('Regular','View',), palette=color2,\n",
    "                   jitter=True,size=7, dodge=True, marker='o', alpha=0.75, data=new_Saliva)\n",
    "\n",
    "# how to remove redundant legends in Python\n",
    "# Let us first get legend information from the plot object\n",
    "handles, labels = ax.get_legend_handles_labels()\n",
    "# specify just one legend\n",
    "l = plt.legend(handles[1:1], labels[1:1]).set_title('')\n",
    "ax.set(ylabel=\"copy number of gene (log10)\")\n",
    "plt.axhline(y=1.544068,color=\"black\",linestyle='-.', linewidth=1)\n",
    "plt.ylim(0,12)"
   ]
  },
  {
   "cell_type": "code",
   "execution_count": null,
   "id": "1817f177-dda7-4e74-8989-8a4ba216fd2a",
   "metadata": {},
   "outputs": [],
   "source": [
    "**Normality Test**"
   ]
  },
  {
   "cell_type": "code",
   "execution_count": 197,
   "id": "fbc03484-4707-496f-b358-62966a0c74f3",
   "metadata": {},
   "outputs": [
    {
     "name": "stdout",
     "output_type": "stream",
     "text": [
      "P-value of shapiro wilk test for Saliva Sample  is: 0.3795774281024933\n"
     ]
    }
   ],
   "source": [
    "stat, p =  shapiro(new_Saliva[\"LogC\"])\n",
    "print(\"P-value of shapiro wilk test for Saliva Sample  is:\", p)"
   ]
  },
  {
   "cell_type": "code",
   "execution_count": 198,
   "id": "16bf6186-617d-453a-910f-4a96a9198957",
   "metadata": {},
   "outputs": [
    {
     "data": {
      "text/html": [
       "<div>\n",
       "<style scoped>\n",
       "    .dataframe tbody tr th:only-of-type {\n",
       "        vertical-align: middle;\n",
       "    }\n",
       "\n",
       "    .dataframe tbody tr th {\n",
       "        vertical-align: top;\n",
       "    }\n",
       "\n",
       "    .dataframe thead th {\n",
       "        text-align: right;\n",
       "    }\n",
       "</style>\n",
       "<table border=\"1\" class=\"dataframe\">\n",
       "  <thead>\n",
       "    <tr style=\"text-align: right;\">\n",
       "      <th></th>\n",
       "      <th>W</th>\n",
       "      <th>pval</th>\n",
       "      <th>normal</th>\n",
       "    </tr>\n",
       "  </thead>\n",
       "  <tbody>\n",
       "    <tr>\n",
       "      <th>Regular</th>\n",
       "      <td>0.982539</td>\n",
       "      <td>0.977296</td>\n",
       "      <td>True</td>\n",
       "    </tr>\n",
       "    <tr>\n",
       "      <th>View</th>\n",
       "      <td>0.912496</td>\n",
       "      <td>0.298578</td>\n",
       "      <td>True</td>\n",
       "    </tr>\n",
       "  </tbody>\n",
       "</table>\n",
       "</div>"
      ],
      "text/plain": [
       "                W      pval  normal\n",
       "Regular  0.982539  0.977296    True\n",
       "View     0.912496  0.298578    True"
      ]
     },
     "execution_count": 198,
     "metadata": {},
     "output_type": "execute_result"
    }
   ],
   "source": [
    "# Normality of Window Dataframe for each Timepoints\n",
    "pg.normality(data=new_Saliva, dv='LogC', group='Room_Type')"
   ]
  },
  {
   "cell_type": "code",
   "execution_count": 199,
   "id": "371f1da3-b118-4a14-9f36-1beb889673e6",
   "metadata": {},
   "outputs": [
    {
     "data": {
      "text/html": [
       "<div>\n",
       "<style scoped>\n",
       "    .dataframe tbody tr th:only-of-type {\n",
       "        vertical-align: middle;\n",
       "    }\n",
       "\n",
       "    .dataframe tbody tr th {\n",
       "        vertical-align: top;\n",
       "    }\n",
       "\n",
       "    .dataframe thead th {\n",
       "        text-align: right;\n",
       "    }\n",
       "</style>\n",
       "<table border=\"1\" class=\"dataframe\">\n",
       "  <thead>\n",
       "    <tr style=\"text-align: right;\">\n",
       "      <th></th>\n",
       "      <th>W</th>\n",
       "      <th>pval</th>\n",
       "      <th>normal</th>\n",
       "    </tr>\n",
       "  </thead>\n",
       "  <tbody>\n",
       "    <tr>\n",
       "      <th>T1</th>\n",
       "      <td>0.876811</td>\n",
       "      <td>0.119914</td>\n",
       "      <td>True</td>\n",
       "    </tr>\n",
       "    <tr>\n",
       "      <th>T3</th>\n",
       "      <td>0.898822</td>\n",
       "      <td>0.212655</td>\n",
       "      <td>True</td>\n",
       "    </tr>\n",
       "  </tbody>\n",
       "</table>\n",
       "</div>"
      ],
      "text/plain": [
       "           W      pval  normal\n",
       "T1  0.876811  0.119914    True\n",
       "T3  0.898822  0.212655    True"
      ]
     },
     "execution_count": 199,
     "metadata": {},
     "output_type": "execute_result"
    }
   ],
   "source": [
    "# Normality of Window Dataframe for each Room Type\n",
    "pg.normality(data=new_Saliva, dv='LogC', group='Time')"
   ]
  },
  {
   "cell_type": "markdown",
   "id": "a87e7605-7b07-450e-97ac-a120c3077ed9",
   "metadata": {},
   "source": [
    "**Variance test**"
   ]
  },
  {
   "cell_type": "code",
   "execution_count": 200,
   "id": "131fea99-1665-4c01-a315-a82fa78275d3",
   "metadata": {},
   "outputs": [
    {
     "name": "stdout",
     "output_type": "stream",
     "text": [
      "P-value of levene test for saliva Regular and EC Window room is: 0.4687473968323175\n",
      "P-value of levene test for saliva between time is: 0.48374157870577217\n"
     ]
    }
   ],
   "source": [
    "#Variance\n",
    "stat, p =  levene(new_Saliva_R[\"LogC\"], new_Saliva_V[\"LogC\"])\n",
    "print(\"P-value of levene test for saliva Regular and EC Window room is:\", p)\n",
    "stat, p =  levene(new_Saliva_T1[\"LogC\"],new_Saliva_T3[\"LogC\"] )\n",
    "print(\"P-value of levene test for saliva between time is:\", p)"
   ]
  },
  {
   "cell_type": "markdown",
   "id": "4c684d53-9f14-44d6-bdd6-aaed5f7bd6d3",
   "metadata": {},
   "source": [
    "* Saliva dataset passed both normality and variance assumption\n",
    "\n",
    "#### Statistical test: Effect of occupancy (Time) on **Saliva** microbiome ###"
   ]
  },
  {
   "cell_type": "code",
   "execution_count": 201,
   "id": "difficult-patch",
   "metadata": {},
   "outputs": [],
   "source": [
    "new_Saliva_T1_R=subgroup(new_Saliva_T1, \"Room_Type\",\"Regular\")\n",
    "new_Saliva_T1_V=subgroup(new_Saliva_T1, \"Room_Type\",\"View\")\n",
    "new_Saliva_T3_R=subgroup(new_Saliva_T3, \"Room_Type\",\"Regular\")\n",
    "new_Saliva_T3_V=subgroup(new_Saliva_T3, \"Room_Type\",\"View\")"
   ]
  },
  {
   "cell_type": "code",
   "execution_count": 202,
   "id": "turned-productivity",
   "metadata": {},
   "outputs": [
    {
     "data": {
      "text/html": [
       "<div>\n",
       "<style scoped>\n",
       "    .dataframe tbody tr th:only-of-type {\n",
       "        vertical-align: middle;\n",
       "    }\n",
       "\n",
       "    .dataframe tbody tr th {\n",
       "        vertical-align: top;\n",
       "    }\n",
       "\n",
       "    .dataframe thead th {\n",
       "        text-align: right;\n",
       "    }\n",
       "</style>\n",
       "<table border=\"1\" class=\"dataframe\">\n",
       "  <thead>\n",
       "    <tr style=\"text-align: right;\">\n",
       "      <th></th>\n",
       "      <th>T</th>\n",
       "      <th>dof</th>\n",
       "      <th>alternative</th>\n",
       "      <th>p-val</th>\n",
       "      <th>CI95%</th>\n",
       "      <th>cohen-d</th>\n",
       "      <th>BF10</th>\n",
       "      <th>power</th>\n",
       "    </tr>\n",
       "  </thead>\n",
       "  <tbody>\n",
       "    <tr>\n",
       "      <th>T-test</th>\n",
       "      <td>2.382397</td>\n",
       "      <td>8</td>\n",
       "      <td>two-sided</td>\n",
       "      <td>0.044379</td>\n",
       "      <td>[0.04, 2.35]</td>\n",
       "      <td>1.50676</td>\n",
       "      <td>2.0</td>\n",
       "      <td>0.553058</td>\n",
       "    </tr>\n",
       "  </tbody>\n",
       "</table>\n",
       "</div>"
      ],
      "text/plain": [
       "               T  dof alternative     p-val         CI95%  cohen-d BF10  \\\n",
       "T-test  2.382397    8   two-sided  0.044379  [0.04, 2.35]  1.50676  2.0   \n",
       "\n",
       "           power  \n",
       "T-test  0.553058  "
      ]
     },
     "execution_count": 202,
     "metadata": {},
     "output_type": "execute_result"
    }
   ],
   "source": [
    "###Two sample T-test\n",
    "res=ttest(new_Saliva_T1_R['LogC'], new_Saliva_T1_V['LogC'],paired = False)\n",
    "res"
   ]
  },
  {
   "cell_type": "code",
   "execution_count": 203,
   "id": "acute-devices",
   "metadata": {},
   "outputs": [
    {
     "data": {
      "text/html": [
       "<div>\n",
       "<style scoped>\n",
       "    .dataframe tbody tr th:only-of-type {\n",
       "        vertical-align: middle;\n",
       "    }\n",
       "\n",
       "    .dataframe tbody tr th {\n",
       "        vertical-align: top;\n",
       "    }\n",
       "\n",
       "    .dataframe thead th {\n",
       "        text-align: right;\n",
       "    }\n",
       "</style>\n",
       "<table border=\"1\" class=\"dataframe\">\n",
       "  <thead>\n",
       "    <tr style=\"text-align: right;\">\n",
       "      <th></th>\n",
       "      <th>T</th>\n",
       "      <th>dof</th>\n",
       "      <th>alternative</th>\n",
       "      <th>p-val</th>\n",
       "      <th>CI95%</th>\n",
       "      <th>cohen-d</th>\n",
       "      <th>BF10</th>\n",
       "      <th>power</th>\n",
       "    </tr>\n",
       "  </thead>\n",
       "  <tbody>\n",
       "    <tr>\n",
       "      <th>T-test</th>\n",
       "      <td>1.400775</td>\n",
       "      <td>8</td>\n",
       "      <td>two-sided</td>\n",
       "      <td>0.198856</td>\n",
       "      <td>[-0.38, 1.56]</td>\n",
       "      <td>0.885928</td>\n",
       "      <td>0.863</td>\n",
       "      <td>0.235393</td>\n",
       "    </tr>\n",
       "  </tbody>\n",
       "</table>\n",
       "</div>"
      ],
      "text/plain": [
       "               T  dof alternative     p-val          CI95%   cohen-d   BF10  \\\n",
       "T-test  1.400775    8   two-sided  0.198856  [-0.38, 1.56]  0.885928  0.863   \n",
       "\n",
       "           power  \n",
       "T-test  0.235393  "
      ]
     },
     "execution_count": 203,
     "metadata": {},
     "output_type": "execute_result"
    }
   ],
   "source": [
    "###Two sample T-test\n",
    "res=ttest(new_Saliva_T3_R['LogC'], new_Saliva_T3_V['LogC'],paired = False)\n",
    "res"
   ]
  },
  {
   "cell_type": "code",
   "execution_count": 204,
   "id": "typical-northwest",
   "metadata": {},
   "outputs": [
    {
     "name": "stdout",
     "output_type": "stream",
     "text": [
      "  Source  ddof1  ddof2         F     p-unc       np2  eps\n",
      "0   Time      1      4  0.000429  0.984474  0.000107  1.0\n"
     ]
    }
   ],
   "source": [
    "#One-Ways Repeated ANOVA for regular room\n",
    "aov = pg.rm_anova(dv='LogC', within=['Time'], subject='Room_Number', data=new_Saliva_R)\n",
    "print(aov)"
   ]
  },
  {
   "cell_type": "code",
   "execution_count": 205,
   "id": "9be2654d-5fd2-4296-b51b-a73381191978",
   "metadata": {},
   "outputs": [
    {
     "name": "stdout",
     "output_type": "stream",
     "text": [
      "  Source  ddof1  ddof2        F     p-unc       np2  eps\n",
      "0   Time      1      4  3.57814  0.131508  0.472166  1.0\n"
     ]
    }
   ],
   "source": [
    "#One-Ways Repeated ANOVA EC Window Room\n",
    "aov = pg.rm_anova(dv='LogC', within=['Time'], subject='Room_Number', data=new_Saliva_V)\n",
    "print(aov)"
   ]
  }
 ],
 "metadata": {
  "kernelspec": {
   "display_name": "Python 3 (ipykernel)",
   "language": "python",
   "name": "python3"
  },
  "language_info": {
   "codemirror_mode": {
    "name": "ipython",
    "version": 3
   },
   "file_extension": ".py",
   "mimetype": "text/x-python",
   "name": "python",
   "nbconvert_exporter": "python",
   "pygments_lexer": "ipython3",
   "version": "3.8.13"
  }
 },
 "nbformat": 4,
 "nbformat_minor": 5
}
