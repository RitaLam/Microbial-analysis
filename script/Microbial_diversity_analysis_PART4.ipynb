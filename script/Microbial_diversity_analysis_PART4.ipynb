{
 "cells": [
  {
   "cell_type": "markdown",
   "id": "comparable-celebration",
   "metadata": {},
   "source": [
    "# Microbial Diversity Analysis\n",
    "\n",
    "The following analysis consists of two parts:\n",
    "\n",
    "## Part 1: Alpha diversity analysis\n",
    "* Alpha diversity is measured with **Shannnon index** which is calculated in R and have 0.1% ASV removed\n",
    "## Part 2: EKSPAE Pathogen abundance analysis\n",
    "* The relative abundance of potential pathogen in genus ***Staphylococcus*** and ***Pseudomonas*** are calculated in R and analyzed here\n",
    "\n",
    "____"
   ]
  },
  {
   "cell_type": "code",
   "execution_count": 1,
   "id": "tribal-committee",
   "metadata": {},
   "outputs": [],
   "source": [
    "import numpy as np\n",
    "from numpy.random import seed\n",
    "from numpy.random import rand\n",
    "import pandas as pd\n",
    "import seaborn as sns\n",
    "import matplotlib.pyplot as plt\n",
    "from matplotlib.legend_handler import HandlerTuple\n",
    "import statsmodels.api as sm\n",
    "from statsmodels.formula.api import ols\n",
    "import sys\n",
    "from scipy import stats\n",
    "from scipy.stats import levene\n",
    "from scipy.stats import bartlett\n",
    "from scipy.stats import shapiro\n",
    "from scipy.stats.mstats import kruskal\n",
    "import scipy.spatial"
   ]
  },
  {
   "cell_type": "code",
   "execution_count": 2,
   "id": "9dffbf4e-0ea0-4531-a553-18bddb6eb085",
   "metadata": {},
   "outputs": [],
   "source": [
    "from scipy.stats import f_oneway\n",
    "from scipy.stats import boxcox\n",
    "from scipy.stats import yeojohnson\n",
    "from statsmodels.stats.multicomp import pairwise_tukeyhsd\n",
    "from statsmodels.stats.anova import AnovaRM\n",
    "from pingouin import welch_anova, read_dataset\n",
    "from pingouin import kruskal, read_dataset\n",
    "from pingouin import ttest\n",
    "import pingouin as pg"
   ]
  },
  {
   "cell_type": "markdown",
   "id": "7422c580-4d9c-40f3-92a0-d6637c64f28f",
   "metadata": {},
   "source": [
    "## Part1: Alpha diversity analysis\n",
    "**Import Dataframe**"
   ]
  },
  {
   "cell_type": "code",
   "execution_count": 3,
   "id": "76b14eeb-659c-4b19-b241-02eab073b749",
   "metadata": {},
   "outputs": [
    {
     "name": "stderr",
     "output_type": "stream",
     "text": [
      "/Users/ritalam519/opt/miniconda3/lib/python3.8/site-packages/outdated/utils.py:14: OutdatedPackageWarning: The package pingouin is out of date. Your version is 0.5.1, the latest is 0.5.3.\n",
      "Set the environment variable OUTDATED_IGNORE=1 to disable these warnings.\n",
      "  return warn(\n",
      "/Users/ritalam519/opt/miniconda3/lib/python3.8/site-packages/outdated/utils.py:14: OutdatedPackageWarning: The package outdated is out of date. Your version is 0.2.1, the latest is 0.2.2.\n",
      "Set the environment variable OUTDATED_IGNORE=1 to disable these warnings.\n",
      "  return warn(\n"
     ]
    }
   ],
   "source": [
    "#Shannon index Calculated in R with ASV <0.1% removed\n",
    "df = None\n",
    "updated_shannon=pd.read_csv(\"/Users/ritalam519/Desktop/Analysis/UVM/updated_shannon.csv\",delimiter=\",\")"
   ]
  },
  {
   "cell_type": "code",
   "execution_count": 4,
   "id": "interesting-difference",
   "metadata": {},
   "outputs": [
    {
     "data": {
      "text/html": [
       "<div>\n",
       "<style scoped>\n",
       "    .dataframe tbody tr th:only-of-type {\n",
       "        vertical-align: middle;\n",
       "    }\n",
       "\n",
       "    .dataframe tbody tr th {\n",
       "        vertical-align: top;\n",
       "    }\n",
       "\n",
       "    .dataframe thead th {\n",
       "        text-align: right;\n",
       "    }\n",
       "</style>\n",
       "<table border=\"1\" class=\"dataframe\">\n",
       "  <thead>\n",
       "    <tr style=\"text-align: right;\">\n",
       "      <th></th>\n",
       "      <th>PID</th>\n",
       "      <th>Time</th>\n",
       "      <th>Room_Type</th>\n",
       "      <th>Room_Number</th>\n",
       "      <th>Location</th>\n",
       "      <th>shannon</th>\n",
       "    </tr>\n",
       "  </thead>\n",
       "  <tbody>\n",
       "    <tr>\n",
       "      <th>0</th>\n",
       "      <td>R1T0</td>\n",
       "      <td>T0</td>\n",
       "      <td>Regular</td>\n",
       "      <td>1</td>\n",
       "      <td>AirDuct</td>\n",
       "      <td>3.675357</td>\n",
       "    </tr>\n",
       "    <tr>\n",
       "      <th>1</th>\n",
       "      <td>R1T0</td>\n",
       "      <td>T0</td>\n",
       "      <td>Regular</td>\n",
       "      <td>1</td>\n",
       "      <td>Inside_Blind</td>\n",
       "      <td>3.863660</td>\n",
       "    </tr>\n",
       "    <tr>\n",
       "      <th>2</th>\n",
       "      <td>R1T0</td>\n",
       "      <td>T0</td>\n",
       "      <td>Regular</td>\n",
       "      <td>1</td>\n",
       "      <td>Outside_Blind</td>\n",
       "      <td>4.554154</td>\n",
       "    </tr>\n",
       "    <tr>\n",
       "      <th>3</th>\n",
       "      <td>R1T0</td>\n",
       "      <td>T0</td>\n",
       "      <td>Regular</td>\n",
       "      <td>1</td>\n",
       "      <td>Window</td>\n",
       "      <td>2.414630</td>\n",
       "    </tr>\n",
       "    <tr>\n",
       "      <th>4</th>\n",
       "      <td>R1T1</td>\n",
       "      <td>T1</td>\n",
       "      <td>Regular</td>\n",
       "      <td>1</td>\n",
       "      <td>AirDuct</td>\n",
       "      <td>2.948366</td>\n",
       "    </tr>\n",
       "  </tbody>\n",
       "</table>\n",
       "</div>"
      ],
      "text/plain": [
       "    PID Time Room_Type  Room_Number       Location   shannon\n",
       "0  R1T0   T0   Regular            1        AirDuct  3.675357\n",
       "1  R1T0   T0   Regular            1   Inside_Blind  3.863660\n",
       "2  R1T0   T0   Regular            1  Outside_Blind  4.554154\n",
       "3  R1T0   T0   Regular            1         Window  2.414630\n",
       "4  R1T1   T1   Regular            1        AirDuct  2.948366"
      ]
     },
     "execution_count": 4,
     "metadata": {},
     "output_type": "execute_result"
    }
   ],
   "source": [
    "updated_shannon.head(5)"
   ]
  },
  {
   "cell_type": "markdown",
   "id": "9d941f68-5400-4dbc-88a2-e7cc3b76b531",
   "metadata": {},
   "source": [
    "* Location: Type of samples collected\n",
    "* Room_Type: The type of window installed in the patient room, Regular means room with regular window, View mean room with electrochromic (EC) window\n",
    "* Time: Time that samples were collected: T0 is baseline before patient admission\n",
    "* shannon: Shannon index which is caulculated for alpha diversity of samples"
   ]
  },
  {
   "cell_type": "markdown",
   "id": "heard-display",
   "metadata": {},
   "source": [
    "## 1. Data Processing "
   ]
  },
  {
   "cell_type": "code",
   "execution_count": 5,
   "id": "sexual-report",
   "metadata": {},
   "outputs": [],
   "source": [
    "def subgroup(data, field, val):\n",
    "    return data.loc[data[field] == val]"
   ]
  },
  {
   "cell_type": "code",
   "execution_count": 6,
   "id": "1a67a33a-301d-4c98-9351-f444e9ba1e21",
   "metadata": {},
   "outputs": [
    {
     "data": {
      "text/html": [
       "<div>\n",
       "<style scoped>\n",
       "    .dataframe tbody tr th:only-of-type {\n",
       "        vertical-align: middle;\n",
       "    }\n",
       "\n",
       "    .dataframe tbody tr th {\n",
       "        vertical-align: top;\n",
       "    }\n",
       "\n",
       "    .dataframe thead th {\n",
       "        text-align: right;\n",
       "    }\n",
       "</style>\n",
       "<table border=\"1\" class=\"dataframe\">\n",
       "  <thead>\n",
       "    <tr style=\"text-align: right;\">\n",
       "      <th></th>\n",
       "      <th>PID</th>\n",
       "      <th>Time</th>\n",
       "      <th>Room_Type</th>\n",
       "      <th>Room_Number</th>\n",
       "      <th>Location</th>\n",
       "      <th>shannon</th>\n",
       "    </tr>\n",
       "  </thead>\n",
       "  <tbody>\n",
       "    <tr>\n",
       "      <th>5</th>\n",
       "      <td>R1T1</td>\n",
       "      <td>T1</td>\n",
       "      <td>Regular</td>\n",
       "      <td>1</td>\n",
       "      <td>AirSample</td>\n",
       "      <td>2.244214</td>\n",
       "    </tr>\n",
       "    <tr>\n",
       "      <th>16</th>\n",
       "      <td>R1T3</td>\n",
       "      <td>T3</td>\n",
       "      <td>Regular</td>\n",
       "      <td>1</td>\n",
       "      <td>AirSample</td>\n",
       "      <td>2.437575</td>\n",
       "    </tr>\n",
       "    <tr>\n",
       "      <th>27</th>\n",
       "      <td>R2T1</td>\n",
       "      <td>T1</td>\n",
       "      <td>Regular</td>\n",
       "      <td>2</td>\n",
       "      <td>AirSample</td>\n",
       "      <td>2.277708</td>\n",
       "    </tr>\n",
       "  </tbody>\n",
       "</table>\n",
       "</div>"
      ],
      "text/plain": [
       "     PID Time Room_Type  Room_Number   Location   shannon\n",
       "5   R1T1   T1   Regular            1  AirSample  2.244214\n",
       "16  R1T3   T3   Regular            1  AirSample  2.437575\n",
       "27  R2T1   T1   Regular            2  AirSample  2.277708"
      ]
     },
     "execution_count": 6,
     "metadata": {},
     "output_type": "execute_result"
    }
   ],
   "source": [
    "# Subgrouping based on sample\n",
    "updated_Window=subgroup(updated_shannon,\"Location\",\"Window\")\n",
    "updated_AirSample=subgroup(updated_shannon,\"Location\",\"AirSample\")\n",
    "updated_AirDuct=subgroup(updated_shannon,\"Location\",\"AirDuct\")\n",
    "updated_Palm=subgroup(updated_shannon,\"Location\",\"Palm\")\n",
    "updated_Saliva=subgroup(updated_shannon,\"Location\",\"Saliva\")\n",
    "updated_AirSample.head(3)"
   ]
  },
  {
   "cell_type": "markdown",
   "id": "46f7e292-47f3-4758-a999-19597964df76",
   "metadata": {},
   "source": [
    "**Window**"
   ]
  },
  {
   "cell_type": "code",
   "execution_count": 7,
   "id": "fdd17ae2-53d6-4f39-b816-c659f5b685bf",
   "metadata": {},
   "outputs": [
    {
     "data": {
      "text/html": [
       "<div>\n",
       "<style scoped>\n",
       "    .dataframe tbody tr th:only-of-type {\n",
       "        vertical-align: middle;\n",
       "    }\n",
       "\n",
       "    .dataframe tbody tr th {\n",
       "        vertical-align: top;\n",
       "    }\n",
       "\n",
       "    .dataframe thead th {\n",
       "        text-align: right;\n",
       "    }\n",
       "</style>\n",
       "<table border=\"1\" class=\"dataframe\">\n",
       "  <thead>\n",
       "    <tr style=\"text-align: right;\">\n",
       "      <th></th>\n",
       "      <th>PID</th>\n",
       "      <th>Time</th>\n",
       "      <th>Room_Type</th>\n",
       "      <th>Room_Number</th>\n",
       "      <th>Location</th>\n",
       "      <th>shannon</th>\n",
       "    </tr>\n",
       "  </thead>\n",
       "  <tbody>\n",
       "    <tr>\n",
       "      <th>3</th>\n",
       "      <td>R1T0</td>\n",
       "      <td>T0</td>\n",
       "      <td>Regular</td>\n",
       "      <td>1</td>\n",
       "      <td>Window</td>\n",
       "      <td>2.414630</td>\n",
       "    </tr>\n",
       "    <tr>\n",
       "      <th>25</th>\n",
       "      <td>R2T0</td>\n",
       "      <td>T0</td>\n",
       "      <td>Regular</td>\n",
       "      <td>2</td>\n",
       "      <td>Window</td>\n",
       "      <td>3.856632</td>\n",
       "    </tr>\n",
       "    <tr>\n",
       "      <th>47</th>\n",
       "      <td>R3T0</td>\n",
       "      <td>T0</td>\n",
       "      <td>Regular</td>\n",
       "      <td>3</td>\n",
       "      <td>Window</td>\n",
       "      <td>2.834841</td>\n",
       "    </tr>\n",
       "  </tbody>\n",
       "</table>\n",
       "</div>"
      ],
      "text/plain": [
       "     PID Time Room_Type  Room_Number Location   shannon\n",
       "3   R1T0   T0   Regular            1   Window  2.414630\n",
       "25  R2T0   T0   Regular            2   Window  3.856632\n",
       "47  R3T0   T0   Regular            3   Window  2.834841"
      ]
     },
     "execution_count": 7,
     "metadata": {},
     "output_type": "execute_result"
    }
   ],
   "source": [
    "updated_Window_RR=subgroup(updated_Window,\"Room_Type\",\"Regular\")\n",
    "updated_Window_VR=subgroup(updated_Window,\"Room_Type\",\"View\")\n",
    "updated_Window_T0 = subgroup(updated_Window,\"Time\",\"T0\")\n",
    "updated_Window_T1 = subgroup(updated_Window,\"Time\",\"T1\")\n",
    "updated_Window_T2 = subgroup(updated_Window,\"Time\",\"T2\")\n",
    "updated_Window_T3 = subgroup(updated_Window,\"Time\",\"T3\")\n",
    "updated_Window_T0.head(3)"
   ]
  },
  {
   "cell_type": "markdown",
   "id": "2a0706c2-d99c-4e08-aba3-1b242c43d3eb",
   "metadata": {},
   "source": [
    "**Air Duct**"
   ]
  },
  {
   "cell_type": "code",
   "execution_count": 8,
   "id": "8e56c89f-4d00-45e8-bbaf-93cf574201df",
   "metadata": {},
   "outputs": [
    {
     "data": {
      "text/html": [
       "<div>\n",
       "<style scoped>\n",
       "    .dataframe tbody tr th:only-of-type {\n",
       "        vertical-align: middle;\n",
       "    }\n",
       "\n",
       "    .dataframe tbody tr th {\n",
       "        vertical-align: top;\n",
       "    }\n",
       "\n",
       "    .dataframe thead th {\n",
       "        text-align: right;\n",
       "    }\n",
       "</style>\n",
       "<table border=\"1\" class=\"dataframe\">\n",
       "  <thead>\n",
       "    <tr style=\"text-align: right;\">\n",
       "      <th></th>\n",
       "      <th>PID</th>\n",
       "      <th>Time</th>\n",
       "      <th>Room_Type</th>\n",
       "      <th>Room_Number</th>\n",
       "      <th>Location</th>\n",
       "      <th>shannon</th>\n",
       "    </tr>\n",
       "  </thead>\n",
       "  <tbody>\n",
       "    <tr>\n",
       "      <th>0</th>\n",
       "      <td>R1T0</td>\n",
       "      <td>T0</td>\n",
       "      <td>Regular</td>\n",
       "      <td>1</td>\n",
       "      <td>AirDuct</td>\n",
       "      <td>3.675357</td>\n",
       "    </tr>\n",
       "    <tr>\n",
       "      <th>22</th>\n",
       "      <td>R2T0</td>\n",
       "      <td>T0</td>\n",
       "      <td>Regular</td>\n",
       "      <td>2</td>\n",
       "      <td>AirDuct</td>\n",
       "      <td>4.369782</td>\n",
       "    </tr>\n",
       "    <tr>\n",
       "      <th>44</th>\n",
       "      <td>R3T0</td>\n",
       "      <td>T0</td>\n",
       "      <td>Regular</td>\n",
       "      <td>3</td>\n",
       "      <td>AirDuct</td>\n",
       "      <td>4.364270</td>\n",
       "    </tr>\n",
       "  </tbody>\n",
       "</table>\n",
       "</div>"
      ],
      "text/plain": [
       "     PID Time Room_Type  Room_Number Location   shannon\n",
       "0   R1T0   T0   Regular            1  AirDuct  3.675357\n",
       "22  R2T0   T0   Regular            2  AirDuct  4.369782\n",
       "44  R3T0   T0   Regular            3  AirDuct  4.364270"
      ]
     },
     "execution_count": 8,
     "metadata": {},
     "output_type": "execute_result"
    }
   ],
   "source": [
    "updated_AirDuct_RR=subgroup(updated_AirDuct,\"Room_Type\",\"Regular\")\n",
    "updated_AirDuct_VR=subgroup(updated_AirDuct,\"Room_Type\",\"View\")\n",
    "updated_AirDuct_T0 = subgroup(updated_AirDuct,\"Time\",\"T0\")\n",
    "updated_AirDuct_T1 = subgroup(updated_AirDuct,\"Time\",\"T1\")\n",
    "updated_AirDuct_T2 = subgroup(updated_AirDuct,\"Time\",\"T2\")\n",
    "updated_AirDuct_T3 = subgroup(updated_AirDuct,\"Time\",\"T3\")\n",
    "updated_AirDuct_T0.head(3)"
   ]
  },
  {
   "cell_type": "markdown",
   "id": "d0645472-fb7f-4e96-930a-433ba486aead",
   "metadata": {},
   "source": [
    "**Air Sample**"
   ]
  },
  {
   "cell_type": "code",
   "execution_count": 9,
   "id": "6619b242-8e31-42de-a483-7f9c58716d03",
   "metadata": {},
   "outputs": [
    {
     "data": {
      "text/html": [
       "<div>\n",
       "<style scoped>\n",
       "    .dataframe tbody tr th:only-of-type {\n",
       "        vertical-align: middle;\n",
       "    }\n",
       "\n",
       "    .dataframe tbody tr th {\n",
       "        vertical-align: top;\n",
       "    }\n",
       "\n",
       "    .dataframe thead th {\n",
       "        text-align: right;\n",
       "    }\n",
       "</style>\n",
       "<table border=\"1\" class=\"dataframe\">\n",
       "  <thead>\n",
       "    <tr style=\"text-align: right;\">\n",
       "      <th></th>\n",
       "      <th>PID</th>\n",
       "      <th>Time</th>\n",
       "      <th>Room_Type</th>\n",
       "      <th>Room_Number</th>\n",
       "      <th>Location</th>\n",
       "      <th>shannon</th>\n",
       "    </tr>\n",
       "  </thead>\n",
       "  <tbody>\n",
       "    <tr>\n",
       "      <th>5</th>\n",
       "      <td>R1T1</td>\n",
       "      <td>T1</td>\n",
       "      <td>Regular</td>\n",
       "      <td>1</td>\n",
       "      <td>AirSample</td>\n",
       "      <td>2.244214</td>\n",
       "    </tr>\n",
       "    <tr>\n",
       "      <th>27</th>\n",
       "      <td>R2T1</td>\n",
       "      <td>T1</td>\n",
       "      <td>Regular</td>\n",
       "      <td>2</td>\n",
       "      <td>AirSample</td>\n",
       "      <td>2.277708</td>\n",
       "    </tr>\n",
       "    <tr>\n",
       "      <th>49</th>\n",
       "      <td>R3T1</td>\n",
       "      <td>T1</td>\n",
       "      <td>Regular</td>\n",
       "      <td>3</td>\n",
       "      <td>AirSample</td>\n",
       "      <td>2.713925</td>\n",
       "    </tr>\n",
       "  </tbody>\n",
       "</table>\n",
       "</div>"
      ],
      "text/plain": [
       "     PID Time Room_Type  Room_Number   Location   shannon\n",
       "5   R1T1   T1   Regular            1  AirSample  2.244214\n",
       "27  R2T1   T1   Regular            2  AirSample  2.277708\n",
       "49  R3T1   T1   Regular            3  AirSample  2.713925"
      ]
     },
     "execution_count": 9,
     "metadata": {},
     "output_type": "execute_result"
    }
   ],
   "source": [
    "updated_AirSample_RR=subgroup(updated_AirSample,\"Room_Type\",\"Regular\")\n",
    "updated_AirSample_VR=subgroup(updated_AirSample,\"Room_Type\",\"View\")\n",
    "updated_AirSample_T1 = subgroup(updated_AirSample,\"Time\",\"T1\")\n",
    "updated_AirSample_T3 = subgroup(updated_AirSample,\"Time\",\"T3\")\n",
    "updated_AirSample_T1.head(3)"
   ]
  },
  {
   "cell_type": "markdown",
   "id": "ff4d168b-3c16-4447-aa7a-bbac86ce3642",
   "metadata": {},
   "source": [
    "**Palm**"
   ]
  },
  {
   "cell_type": "code",
   "execution_count": 10,
   "id": "60218de7-f47b-4c6b-afe9-2d1c76817f08",
   "metadata": {},
   "outputs": [
    {
     "data": {
      "text/html": [
       "<div>\n",
       "<style scoped>\n",
       "    .dataframe tbody tr th:only-of-type {\n",
       "        vertical-align: middle;\n",
       "    }\n",
       "\n",
       "    .dataframe tbody tr th {\n",
       "        vertical-align: top;\n",
       "    }\n",
       "\n",
       "    .dataframe thead th {\n",
       "        text-align: right;\n",
       "    }\n",
       "</style>\n",
       "<table border=\"1\" class=\"dataframe\">\n",
       "  <thead>\n",
       "    <tr style=\"text-align: right;\">\n",
       "      <th></th>\n",
       "      <th>PID</th>\n",
       "      <th>Time</th>\n",
       "      <th>Room_Type</th>\n",
       "      <th>Room_Number</th>\n",
       "      <th>Location</th>\n",
       "      <th>shannon</th>\n",
       "    </tr>\n",
       "  </thead>\n",
       "  <tbody>\n",
       "    <tr>\n",
       "      <th>8</th>\n",
       "      <td>R1T1</td>\n",
       "      <td>T1</td>\n",
       "      <td>Regular</td>\n",
       "      <td>1</td>\n",
       "      <td>Palm</td>\n",
       "      <td>4.006666</td>\n",
       "    </tr>\n",
       "    <tr>\n",
       "      <th>30</th>\n",
       "      <td>R2T1</td>\n",
       "      <td>T1</td>\n",
       "      <td>Regular</td>\n",
       "      <td>2</td>\n",
       "      <td>Palm</td>\n",
       "      <td>4.010411</td>\n",
       "    </tr>\n",
       "    <tr>\n",
       "      <th>52</th>\n",
       "      <td>R3T1</td>\n",
       "      <td>T1</td>\n",
       "      <td>Regular</td>\n",
       "      <td>3</td>\n",
       "      <td>Palm</td>\n",
       "      <td>2.935132</td>\n",
       "    </tr>\n",
       "  </tbody>\n",
       "</table>\n",
       "</div>"
      ],
      "text/plain": [
       "     PID Time Room_Type  Room_Number Location   shannon\n",
       "8   R1T1   T1   Regular            1     Palm  4.006666\n",
       "30  R2T1   T1   Regular            2     Palm  4.010411\n",
       "52  R3T1   T1   Regular            3     Palm  2.935132"
      ]
     },
     "execution_count": 10,
     "metadata": {},
     "output_type": "execute_result"
    }
   ],
   "source": [
    "updated_Palm_RR=subgroup(updated_Palm,\"Room_Type\",\"Regular\")\n",
    "updated_Palm_VR=subgroup(updated_Palm,\"Room_Type\",\"View\")\n",
    "updated_Palm_T1 = subgroup(updated_Palm,\"Time\",\"T1\")\n",
    "updated_Palm_T3 = subgroup(updated_Palm,\"Time\",\"T3\")\n",
    "updated_Palm_T1.head(3)"
   ]
  },
  {
   "cell_type": "markdown",
   "id": "66c985d4-aa23-4a09-8491-6fa7dda23a1c",
   "metadata": {},
   "source": [
    "**Saliva**"
   ]
  },
  {
   "cell_type": "code",
   "execution_count": 11,
   "id": "c671569a-87ec-4ca8-afbe-b4f28c3893b8",
   "metadata": {},
   "outputs": [
    {
     "data": {
      "text/html": [
       "<div>\n",
       "<style scoped>\n",
       "    .dataframe tbody tr th:only-of-type {\n",
       "        vertical-align: middle;\n",
       "    }\n",
       "\n",
       "    .dataframe tbody tr th {\n",
       "        vertical-align: top;\n",
       "    }\n",
       "\n",
       "    .dataframe thead th {\n",
       "        text-align: right;\n",
       "    }\n",
       "</style>\n",
       "<table border=\"1\" class=\"dataframe\">\n",
       "  <thead>\n",
       "    <tr style=\"text-align: right;\">\n",
       "      <th></th>\n",
       "      <th>PID</th>\n",
       "      <th>Time</th>\n",
       "      <th>Room_Type</th>\n",
       "      <th>Room_Number</th>\n",
       "      <th>Location</th>\n",
       "      <th>shannon</th>\n",
       "    </tr>\n",
       "  </thead>\n",
       "  <tbody>\n",
       "    <tr>\n",
       "      <th>20</th>\n",
       "      <td>R1T3</td>\n",
       "      <td>T3</td>\n",
       "      <td>Regular</td>\n",
       "      <td>1</td>\n",
       "      <td>Saliva</td>\n",
       "      <td>3.230730</td>\n",
       "    </tr>\n",
       "    <tr>\n",
       "      <th>42</th>\n",
       "      <td>R2T3</td>\n",
       "      <td>T3</td>\n",
       "      <td>Regular</td>\n",
       "      <td>2</td>\n",
       "      <td>Saliva</td>\n",
       "      <td>2.100370</td>\n",
       "    </tr>\n",
       "    <tr>\n",
       "      <th>64</th>\n",
       "      <td>R3T3</td>\n",
       "      <td>T3</td>\n",
       "      <td>Regular</td>\n",
       "      <td>3</td>\n",
       "      <td>Saliva</td>\n",
       "      <td>3.114857</td>\n",
       "    </tr>\n",
       "  </tbody>\n",
       "</table>\n",
       "</div>"
      ],
      "text/plain": [
       "     PID Time Room_Type  Room_Number Location   shannon\n",
       "20  R1T3   T3   Regular            1   Saliva  3.230730\n",
       "42  R2T3   T3   Regular            2   Saliva  2.100370\n",
       "64  R3T3   T3   Regular            3   Saliva  3.114857"
      ]
     },
     "execution_count": 11,
     "metadata": {},
     "output_type": "execute_result"
    }
   ],
   "source": [
    "updated_Saliva_RR=subgroup(updated_Saliva,\"Room_Type\",\"Regular\")\n",
    "updated_Saliva_VR=subgroup(updated_Saliva,\"Room_Type\",\"View\")\n",
    "updated_Saliva_T1 = subgroup(updated_Saliva,\"Time\",\"T1\")\n",
    "updated_Saliva_T3 = subgroup(updated_Saliva,\"Time\",\"T3\")\n",
    "updated_Saliva_T3.head(3)"
   ]
  },
  {
   "cell_type": "markdown",
   "id": "14bd8d44-c97a-4591-9351-63bf6675e9b2",
   "metadata": {},
   "source": [
    "### Initial Data visualization"
   ]
  },
  {
   "cell_type": "code",
   "execution_count": 12,
   "id": "e9479f90-da35-46d0-b686-a6a401947593",
   "metadata": {},
   "outputs": [],
   "source": [
    "#Set color palette\n",
    "palette = {\"View\":\"#95d0fc\",\n",
    "           \"Regular\":\"#ffa756\"}\n",
    "palette2= {\"View\":\"white\",\n",
    "           \"Regular\":\"white\"}\n",
    "color1= {\"View\":\"#a2cffe\",\n",
    "           \"Regular\":\"#d8dcd6\"}\n",
    "color2= {\"View\":\"#75bbfd\",\n",
    "           \"Regular\":\"#929591\"}"
   ]
  },
  {
   "cell_type": "code",
   "execution_count": 13,
   "id": "af30f8f8-76ab-4592-9da7-44b45d39fada",
   "metadata": {},
   "outputs": [
    {
     "data": {
      "text/plain": [
       "(0.0, 6.0)"
      ]
     },
     "execution_count": 13,
     "metadata": {},
     "output_type": "execute_result"
    },
    {
     "data": {
      "text/plain": [
       "<Figure size 1600x1400 with 0 Axes>"
      ]
     },
     "metadata": {},
     "output_type": "display_data"
    },
    {
     "data": {
      "image/png": "[encoded data removed]",
      "text/plain": [
       "<Figure size 1425.5x800 with 2 Axes>"
      ]
     },
     "metadata": {},
     "output_type": "display_data"
    }
   ],
   "source": [
    "#Overview of shannon diversity calculated from R\n",
    "plt.figure(figsize= (16,14))\n",
    "g = sns.catplot(x=\"Time\", y=\"shannon\",\n",
    "                hue=\"Location\", hue_order=['Window','AirDuct','Palm','Saliva',\n",
    "                                           'Outside_Blind','AirSample','Inside_Blind'],\n",
    "                col='Room_Type',order=['T0','T1','T2','T3'],\n",
    "                col_wrap=2, col_order=['View','Regular'], palette='muted',\n",
    "                data=updated_shannon, kind=\"box\", dodge=True,\n",
    "                height=8, aspect=.8);\n",
    "plt.ylim(0,6)"
   ]
  },
  {
   "cell_type": "markdown",
   "id": "attached-immune",
   "metadata": {},
   "source": [
    "____\n",
    "##  Statistical analysis of Alpha diversity\n",
    "\n",
    "###  Window (Shannon index)\n",
    "\n",
    "**Inital data visualizaiton**"
   ]
  },
  {
   "cell_type": "code",
   "execution_count": 14,
   "id": "e093a64d-e527-41a7-8334-6cc34a2a7720",
   "metadata": {},
   "outputs": [
    {
     "data": {
      "text/plain": [
       "(0.0, 6.0)"
      ]
     },
     "execution_count": 14,
     "metadata": {},
     "output_type": "execute_result"
    },
    {
     "data": {
      "text/plain": [
       "<Figure size 1000x800 with 0 Axes>"
      ]
     },
     "metadata": {},
     "output_type": "display_data"
    },
    {
     "data": {
      "image/png": "[encoded data removed]",
      "text/plain": [
       "<Figure size 643.5x600 with 1 Axes>"
      ]
     },
     "metadata": {},
     "output_type": "display_data"
    }
   ],
   "source": [
    "plt.figure(figsize= (10,8))\n",
    "#Plot qPCR Results Separatly\n",
    "ax=sns.catplot(x=\"Time\", y=\"shannon\",\n",
    "            hue=\"Room_Type\", order=['T0','T1','T2','T3'], hue_order=('Regular','View'), \n",
    "            kind=\"box\", dodge=True, height=6, aspect=.9,\n",
    "            palette=color1, data=updated_Window)\n",
    "ax = sns.stripplot(x='Time', y='shannon', hue='Room_Type',order=['T0','T1','T2','T3'],\n",
    "                   hue_order=('Regular','View'), palette=color2,\n",
    "                   jitter=True,size=7, dodge=True, marker='o', alpha=0.75, data=updated_Window)\n",
    "\n",
    "# how to remove redundant legends in Python\n",
    "# Let us first get legend information from the plot object\n",
    "handles, labels = ax.get_legend_handles_labels()\n",
    "# specify just one legend\n",
    "l = plt.legend(handles[1:1], labels[1:1]).set_title('')\n",
    "ax.set(ylabel=\"shannon\")\n",
    "plt.ylim(0,6)"
   ]
  },
  {
   "cell_type": "markdown",
   "id": "f276774a-fb0f-489d-8e4f-e40b4788f56f",
   "metadata": {},
   "source": [
    "#### Normality assessment"
   ]
  },
  {
   "cell_type": "code",
   "execution_count": 15,
   "id": "0256ff80-8f13-4140-ae59-d52b016f7512",
   "metadata": {},
   "outputs": [
    {
     "name": "stdout",
     "output_type": "stream",
     "text": [
      "Shapiro statistics of Window shannnon iindex=0.986, p=0.899\n"
     ]
    }
   ],
   "source": [
    "stat, p = shapiro(updated_Window['shannon'])\n",
    "print('Shapiro statistics of Window shannnon iindex=%.3f, p=%.3f' % (stat, p))"
   ]
  },
  {
   "cell_type": "code",
   "execution_count": 16,
   "id": "05886b78-84da-4191-8f58-6bb404f5d75e",
   "metadata": {},
   "outputs": [
    {
     "data": {
      "text/html": [
       "<div>\n",
       "<style scoped>\n",
       "    .dataframe tbody tr th:only-of-type {\n",
       "        vertical-align: middle;\n",
       "    }\n",
       "\n",
       "    .dataframe tbody tr th {\n",
       "        vertical-align: top;\n",
       "    }\n",
       "\n",
       "    .dataframe thead th {\n",
       "        text-align: right;\n",
       "    }\n",
       "</style>\n",
       "<table border=\"1\" class=\"dataframe\">\n",
       "  <thead>\n",
       "    <tr style=\"text-align: right;\">\n",
       "      <th></th>\n",
       "      <th>W</th>\n",
       "      <th>pval</th>\n",
       "      <th>normal</th>\n",
       "    </tr>\n",
       "  </thead>\n",
       "  <tbody>\n",
       "    <tr>\n",
       "      <th>T0</th>\n",
       "      <td>0.936394</td>\n",
       "      <td>0.575984</td>\n",
       "      <td>True</td>\n",
       "    </tr>\n",
       "    <tr>\n",
       "      <th>T1</th>\n",
       "      <td>0.944943</td>\n",
       "      <td>0.609201</td>\n",
       "      <td>True</td>\n",
       "    </tr>\n",
       "    <tr>\n",
       "      <th>T2</th>\n",
       "      <td>0.978892</td>\n",
       "      <td>0.958962</td>\n",
       "      <td>True</td>\n",
       "    </tr>\n",
       "    <tr>\n",
       "      <th>T3</th>\n",
       "      <td>0.871885</td>\n",
       "      <td>0.105147</td>\n",
       "      <td>True</td>\n",
       "    </tr>\n",
       "  </tbody>\n",
       "</table>\n",
       "</div>"
      ],
      "text/plain": [
       "           W      pval  normal\n",
       "T0  0.936394  0.575984    True\n",
       "T1  0.944943  0.609201    True\n",
       "T2  0.978892  0.958962    True\n",
       "T3  0.871885  0.105147    True"
      ]
     },
     "execution_count": 16,
     "metadata": {},
     "output_type": "execute_result"
    }
   ],
   "source": [
    "#Using Pinguin to access normality \n",
    "pg.normality(data=updated_Window, dv='shannon', group='Time') "
   ]
  },
  {
   "cell_type": "code",
   "execution_count": 17,
   "id": "b7491979-353b-4b0e-b959-bc9c6b7d5a72",
   "metadata": {},
   "outputs": [
    {
     "data": {
      "text/html": [
       "<div>\n",
       "<style scoped>\n",
       "    .dataframe tbody tr th:only-of-type {\n",
       "        vertical-align: middle;\n",
       "    }\n",
       "\n",
       "    .dataframe tbody tr th {\n",
       "        vertical-align: top;\n",
       "    }\n",
       "\n",
       "    .dataframe thead th {\n",
       "        text-align: right;\n",
       "    }\n",
       "</style>\n",
       "<table border=\"1\" class=\"dataframe\">\n",
       "  <thead>\n",
       "    <tr style=\"text-align: right;\">\n",
       "      <th></th>\n",
       "      <th>W</th>\n",
       "      <th>pval</th>\n",
       "      <th>normal</th>\n",
       "    </tr>\n",
       "  </thead>\n",
       "  <tbody>\n",
       "    <tr>\n",
       "      <th>Regular</th>\n",
       "      <td>0.963076</td>\n",
       "      <td>0.634259</td>\n",
       "      <td>True</td>\n",
       "    </tr>\n",
       "    <tr>\n",
       "      <th>View</th>\n",
       "      <td>0.986428</td>\n",
       "      <td>0.990703</td>\n",
       "      <td>True</td>\n",
       "    </tr>\n",
       "  </tbody>\n",
       "</table>\n",
       "</div>"
      ],
      "text/plain": [
       "                W      pval  normal\n",
       "Regular  0.963076  0.634259    True\n",
       "View     0.986428  0.990703    True"
      ]
     },
     "execution_count": 17,
     "metadata": {},
     "output_type": "execute_result"
    }
   ],
   "source": [
    "#Using Pinguin to access normality with Shapiro Wilk test\n",
    "pg.normality(data=updated_Window, dv='shannon', group='Room_Type') "
   ]
  },
  {
   "cell_type": "markdown",
   "id": "655b3baf-3cea-4172-ac54-150bcdd450a0",
   "metadata": {},
   "source": [
    "**Variance test**"
   ]
  },
  {
   "cell_type": "code",
   "execution_count": 18,
   "id": "de1b2169-2975-4e4b-8293-0b25cc9877d7",
   "metadata": {},
   "outputs": [
    {
     "name": "stdout",
     "output_type": "stream",
     "text": [
      "P-value of levene test for variance acroos Regular and EC Window room is: 0.8687165517626236\n",
      "P-value of levene test for variance across time is: 0.3068766327715562\n"
     ]
    }
   ],
   "source": [
    "# Levene Test\n",
    "stat, p =  levene(updated_Window_RR[\"shannon\"], updated_Window_VR[\"shannon\"])\n",
    "print(\"P-value of levene test for variance acroos Regular and EC Window room is:\", p)\n",
    "stat, p =  levene(updated_Window_T0[\"shannon\"], updated_Window_T1[\"shannon\"],\n",
    "                  updated_Window_T2[\"shannon\"], updated_Window_T3[\"shannon\"])\n",
    "print(\"P-value of levene test for variance across time is:\", p)"
   ]
  },
  {
   "cell_type": "markdown",
   "id": "de2bd6f7-b5fb-480a-ba34-cf8ab02a9f7a",
   "metadata": {},
   "source": [
    "**Shannon diversity of window samples are nmormally distributed and have homogenous variance** \n",
    "\n",
    "#### Effect of Indoor daylight (Room_Type variable) on **Window** shannon index at each time"
   ]
  },
  {
   "cell_type": "code",
   "execution_count": 19,
   "id": "aac5bf52-6223-4724-acdd-7cedbf61aa47",
   "metadata": {},
   "outputs": [
    {
     "data": {
      "text/html": [
       "<div>\n",
       "<style scoped>\n",
       "    .dataframe tbody tr th:only-of-type {\n",
       "        vertical-align: middle;\n",
       "    }\n",
       "\n",
       "    .dataframe tbody tr th {\n",
       "        vertical-align: top;\n",
       "    }\n",
       "\n",
       "    .dataframe thead th {\n",
       "        text-align: right;\n",
       "    }\n",
       "</style>\n",
       "<table border=\"1\" class=\"dataframe\">\n",
       "  <thead>\n",
       "    <tr style=\"text-align: right;\">\n",
       "      <th></th>\n",
       "      <th>PID</th>\n",
       "      <th>Time</th>\n",
       "      <th>Room_Type</th>\n",
       "      <th>Room_Number</th>\n",
       "      <th>Location</th>\n",
       "      <th>shannon</th>\n",
       "    </tr>\n",
       "  </thead>\n",
       "  <tbody>\n",
       "    <tr>\n",
       "      <th>10</th>\n",
       "      <td>R1T1</td>\n",
       "      <td>T1</td>\n",
       "      <td>Regular</td>\n",
       "      <td>1</td>\n",
       "      <td>Window</td>\n",
       "      <td>2.994318</td>\n",
       "    </tr>\n",
       "    <tr>\n",
       "      <th>32</th>\n",
       "      <td>R2T1</td>\n",
       "      <td>T1</td>\n",
       "      <td>Regular</td>\n",
       "      <td>2</td>\n",
       "      <td>Window</td>\n",
       "      <td>3.604434</td>\n",
       "    </tr>\n",
       "    <tr>\n",
       "      <th>54</th>\n",
       "      <td>R3T1</td>\n",
       "      <td>T1</td>\n",
       "      <td>Regular</td>\n",
       "      <td>3</td>\n",
       "      <td>Window</td>\n",
       "      <td>3.479172</td>\n",
       "    </tr>\n",
       "    <tr>\n",
       "      <th>78</th>\n",
       "      <td>R5T1</td>\n",
       "      <td>T1</td>\n",
       "      <td>Regular</td>\n",
       "      <td>5</td>\n",
       "      <td>Window</td>\n",
       "      <td>4.244032</td>\n",
       "    </tr>\n",
       "    <tr>\n",
       "      <th>96</th>\n",
       "      <td>R6T1</td>\n",
       "      <td>T1</td>\n",
       "      <td>Regular</td>\n",
       "      <td>6</td>\n",
       "      <td>Window</td>\n",
       "      <td>3.814508</td>\n",
       "    </tr>\n",
       "  </tbody>\n",
       "</table>\n",
       "</div>"
      ],
      "text/plain": [
       "     PID Time Room_Type  Room_Number Location   shannon\n",
       "10  R1T1   T1   Regular            1   Window  2.994318\n",
       "32  R2T1   T1   Regular            2   Window  3.604434\n",
       "54  R3T1   T1   Regular            3   Window  3.479172\n",
       "78  R5T1   T1   Regular            5   Window  4.244032\n",
       "96  R6T1   T1   Regular            6   Window  3.814508"
      ]
     },
     "execution_count": 19,
     "metadata": {},
     "output_type": "execute_result"
    }
   ],
   "source": [
    "#Subgroup for each Timepoint \n",
    "updated_Window_T1_R=subgroup(updated_Window_T1, \"Room_Type\",\"Regular\")\n",
    "updated_Window_T1_V=subgroup(updated_Window_T1, \"Room_Type\",\"View\")\n",
    "updated_Window_T2_R=subgroup(updated_Window_T2, \"Room_Type\",\"Regular\")\n",
    "updated_Window_T2_V=subgroup(updated_Window_T2, \"Room_Type\",\"View\")\n",
    "updated_Window_T3_R=subgroup(updated_Window_T3, \"Room_Type\",\"Regular\")\n",
    "updated_Window_T3_V=subgroup(updated_Window_T3, \"Room_Type\",\"View\")\n",
    "updated_Window_T0_R=subgroup(updated_Window_T0, \"Room_Type\",\"Regular\")\n",
    "updated_Window_T0_V=subgroup(updated_Window_T0, \"Room_Type\",\"View\")\n",
    "updated_Window_T1_R"
   ]
  },
  {
   "cell_type": "code",
   "execution_count": 20,
   "id": "a997f32b-b2ce-49a3-bd4c-bd97c984f0ee",
   "metadata": {},
   "outputs": [
    {
     "data": {
      "text/html": [
       "<div>\n",
       "<style scoped>\n",
       "    .dataframe tbody tr th:only-of-type {\n",
       "        vertical-align: middle;\n",
       "    }\n",
       "\n",
       "    .dataframe tbody tr th {\n",
       "        vertical-align: top;\n",
       "    }\n",
       "\n",
       "    .dataframe thead th {\n",
       "        text-align: right;\n",
       "    }\n",
       "</style>\n",
       "<table border=\"1\" class=\"dataframe\">\n",
       "  <thead>\n",
       "    <tr style=\"text-align: right;\">\n",
       "      <th></th>\n",
       "      <th>T</th>\n",
       "      <th>dof</th>\n",
       "      <th>alternative</th>\n",
       "      <th>p-val</th>\n",
       "      <th>CI95%</th>\n",
       "      <th>cohen-d</th>\n",
       "      <th>BF10</th>\n",
       "      <th>power</th>\n",
       "    </tr>\n",
       "  </thead>\n",
       "  <tbody>\n",
       "    <tr>\n",
       "      <th>T-test</th>\n",
       "      <td>0.159066</td>\n",
       "      <td>6</td>\n",
       "      <td>two-sided</td>\n",
       "      <td>0.878836</td>\n",
       "      <td>[-1.02, 1.16]</td>\n",
       "      <td>0.112477</td>\n",
       "      <td>0.527</td>\n",
       "      <td>0.052104</td>\n",
       "    </tr>\n",
       "  </tbody>\n",
       "</table>\n",
       "</div>"
      ],
      "text/plain": [
       "               T  dof alternative     p-val          CI95%   cohen-d   BF10  \\\n",
       "T-test  0.159066    6   two-sided  0.878836  [-1.02, 1.16]  0.112477  0.527   \n",
       "\n",
       "           power  \n",
       "T-test  0.052104  "
      ]
     },
     "execution_count": 20,
     "metadata": {},
     "output_type": "execute_result"
    }
   ],
   "source": [
    "#Two sample T-test at T0 between Two Room Type\n",
    "res=ttest(updated_Window_T0_R['shannon'], updated_Window_T0_V['shannon'],paired = False)\n",
    "res"
   ]
  },
  {
   "cell_type": "code",
   "execution_count": 21,
   "id": "b1e21377-8e7a-4825-9bbc-c118a2d78ab4",
   "metadata": {},
   "outputs": [
    {
     "data": {
      "text/html": [
       "<div>\n",
       "<style scoped>\n",
       "    .dataframe tbody tr th:only-of-type {\n",
       "        vertical-align: middle;\n",
       "    }\n",
       "\n",
       "    .dataframe tbody tr th {\n",
       "        vertical-align: top;\n",
       "    }\n",
       "\n",
       "    .dataframe thead th {\n",
       "        text-align: right;\n",
       "    }\n",
       "</style>\n",
       "<table border=\"1\" class=\"dataframe\">\n",
       "  <thead>\n",
       "    <tr style=\"text-align: right;\">\n",
       "      <th></th>\n",
       "      <th>T</th>\n",
       "      <th>dof</th>\n",
       "      <th>alternative</th>\n",
       "      <th>p-val</th>\n",
       "      <th>CI95%</th>\n",
       "      <th>cohen-d</th>\n",
       "      <th>BF10</th>\n",
       "      <th>power</th>\n",
       "    </tr>\n",
       "  </thead>\n",
       "  <tbody>\n",
       "    <tr>\n",
       "      <th>T-test</th>\n",
       "      <td>2.576158</td>\n",
       "      <td>8</td>\n",
       "      <td>two-sided</td>\n",
       "      <td>0.032812</td>\n",
       "      <td>[0.07, 1.34]</td>\n",
       "      <td>1.629306</td>\n",
       "      <td>2.408</td>\n",
       "      <td>0.61849</td>\n",
       "    </tr>\n",
       "  </tbody>\n",
       "</table>\n",
       "</div>"
      ],
      "text/plain": [
       "               T  dof alternative     p-val         CI95%   cohen-d   BF10  \\\n",
       "T-test  2.576158    8   two-sided  0.032812  [0.07, 1.34]  1.629306  2.408   \n",
       "\n",
       "          power  \n",
       "T-test  0.61849  "
      ]
     },
     "execution_count": 21,
     "metadata": {},
     "output_type": "execute_result"
    }
   ],
   "source": [
    "#Two sample T-test at T1 between Two Room Type\n",
    "res=ttest(updated_Window_T1_R['shannon'], updated_Window_T1_V['shannon'],paired = False)\n",
    "res"
   ]
  },
  {
   "cell_type": "code",
   "execution_count": 22,
   "id": "db81caf9-2a68-4025-86eb-668db7084a94",
   "metadata": {},
   "outputs": [
    {
     "data": {
      "text/html": [
       "<div>\n",
       "<style scoped>\n",
       "    .dataframe tbody tr th:only-of-type {\n",
       "        vertical-align: middle;\n",
       "    }\n",
       "\n",
       "    .dataframe tbody tr th {\n",
       "        vertical-align: top;\n",
       "    }\n",
       "\n",
       "    .dataframe thead th {\n",
       "        text-align: right;\n",
       "    }\n",
       "</style>\n",
       "<table border=\"1\" class=\"dataframe\">\n",
       "  <thead>\n",
       "    <tr style=\"text-align: right;\">\n",
       "      <th></th>\n",
       "      <th>T</th>\n",
       "      <th>dof</th>\n",
       "      <th>alternative</th>\n",
       "      <th>p-val</th>\n",
       "      <th>CI95%</th>\n",
       "      <th>cohen-d</th>\n",
       "      <th>BF10</th>\n",
       "      <th>power</th>\n",
       "    </tr>\n",
       "  </thead>\n",
       "  <tbody>\n",
       "    <tr>\n",
       "      <th>T-test</th>\n",
       "      <td>2.388895</td>\n",
       "      <td>8</td>\n",
       "      <td>two-sided</td>\n",
       "      <td>0.043932</td>\n",
       "      <td>[0.03, 1.61]</td>\n",
       "      <td>1.51087</td>\n",
       "      <td>2.012</td>\n",
       "      <td>0.555289</td>\n",
       "    </tr>\n",
       "  </tbody>\n",
       "</table>\n",
       "</div>"
      ],
      "text/plain": [
       "               T  dof alternative     p-val         CI95%  cohen-d   BF10  \\\n",
       "T-test  2.388895    8   two-sided  0.043932  [0.03, 1.61]  1.51087  2.012   \n",
       "\n",
       "           power  \n",
       "T-test  0.555289  "
      ]
     },
     "execution_count": 22,
     "metadata": {},
     "output_type": "execute_result"
    }
   ],
   "source": [
    "#Two sample T-test at T2 between Two Room Type\n",
    "res=ttest(updated_Window_T2_R['shannon'], updated_Window_T2_V['shannon'],paired = False)\n",
    "res"
   ]
  },
  {
   "cell_type": "code",
   "execution_count": 23,
   "id": "8251da39-d0b8-4e45-80c6-a981dc8648b9",
   "metadata": {},
   "outputs": [
    {
     "data": {
      "text/html": [
       "<div>\n",
       "<style scoped>\n",
       "    .dataframe tbody tr th:only-of-type {\n",
       "        vertical-align: middle;\n",
       "    }\n",
       "\n",
       "    .dataframe tbody tr th {\n",
       "        vertical-align: top;\n",
       "    }\n",
       "\n",
       "    .dataframe thead th {\n",
       "        text-align: right;\n",
       "    }\n",
       "</style>\n",
       "<table border=\"1\" class=\"dataframe\">\n",
       "  <thead>\n",
       "    <tr style=\"text-align: right;\">\n",
       "      <th></th>\n",
       "      <th>T</th>\n",
       "      <th>dof</th>\n",
       "      <th>alternative</th>\n",
       "      <th>p-val</th>\n",
       "      <th>CI95%</th>\n",
       "      <th>cohen-d</th>\n",
       "      <th>BF10</th>\n",
       "      <th>power</th>\n",
       "    </tr>\n",
       "  </thead>\n",
       "  <tbody>\n",
       "    <tr>\n",
       "      <th>T-test</th>\n",
       "      <td>1.756198</td>\n",
       "      <td>8</td>\n",
       "      <td>two-sided</td>\n",
       "      <td>0.117123</td>\n",
       "      <td>[-0.14, 1.01]</td>\n",
       "      <td>1.110717</td>\n",
       "      <td>1.14</td>\n",
       "      <td>0.340294</td>\n",
       "    </tr>\n",
       "  </tbody>\n",
       "</table>\n",
       "</div>"
      ],
      "text/plain": [
       "               T  dof alternative     p-val          CI95%   cohen-d  BF10  \\\n",
       "T-test  1.756198    8   two-sided  0.117123  [-0.14, 1.01]  1.110717  1.14   \n",
       "\n",
       "           power  \n",
       "T-test  0.340294  "
      ]
     },
     "execution_count": 23,
     "metadata": {},
     "output_type": "execute_result"
    }
   ],
   "source": [
    "#Two sample T-test at T3 between Two Room Type\n",
    "res=ttest(updated_Window_T3_R['shannon'], updated_Window_T3_V['shannon'],paired = False)\n",
    "res"
   ]
  },
  {
   "cell_type": "markdown",
   "id": "887d0a99-2a14-4e08-8446-ab165ad5ea0c",
   "metadata": {},
   "source": [
    "#### Effect of Occupancy (Time variable) on **Window** shannon index in each rom type"
   ]
  },
  {
   "cell_type": "code",
   "execution_count": 24,
   "id": "f0015d61-e284-4554-9eda-2975c2c33879",
   "metadata": {},
   "outputs": [
    {
     "name": "stdout",
     "output_type": "stream",
     "text": [
      "  Source  ddof1  ddof2         F     p-unc       np2       eps\n",
      "0   Time      3      6  0.832228  0.523069  0.293842  0.346123\n"
     ]
    }
   ],
   "source": [
    "# One-Ways Repeated ANOVA on AirSample in regular room\n",
    "aov = pg.rm_anova(dv='shannon', within=['Time'], subject='Room_Number', data=updated_Window_RR)\n",
    "print(aov)"
   ]
  },
  {
   "cell_type": "code",
   "execution_count": 25,
   "id": "201ddc46-a894-47d4-9c5b-37df6cf77037",
   "metadata": {},
   "outputs": [
    {
     "name": "stdout",
     "output_type": "stream",
     "text": [
      "  Source  ddof1  ddof2        F     p-unc       np2       eps\n",
      "0   Time      3      9  0.28114  0.837786  0.085684  0.565585\n"
     ]
    }
   ],
   "source": [
    "# One-Ways Repeated ANOVA on AirSample in EC window Room\n",
    "aov = pg.rm_anova(dv='shannon', within=['Time'], subject='Room_Number', data=updated_Window_VR)\n",
    "print(aov)"
   ]
  },
  {
   "cell_type": "markdown",
   "id": "7e2f6978-6677-4c86-b3e3-07941fb5e69b",
   "metadata": {},
   "source": [
    "\n",
    "## Air Sample (Shannon index)\n",
    "**Initial data visualization**"
   ]
  },
  {
   "cell_type": "code",
   "execution_count": 26,
   "id": "b8ea43d8-d1c8-4749-a672-c75bdba7a22d",
   "metadata": {},
   "outputs": [
    {
     "data": {
      "text/plain": [
       "(0.0, 6.0)"
      ]
     },
     "execution_count": 26,
     "metadata": {},
     "output_type": "execute_result"
    },
    {
     "data": {
      "text/plain": [
       "<Figure size 1000x800 with 0 Axes>"
      ]
     },
     "metadata": {},
     "output_type": "display_data"
    },
    {
     "data": {
      "image/png": "[encoded data removed]",
      "text/plain": [
       "<Figure size 643.5x600 with 1 Axes>"
      ]
     },
     "metadata": {},
     "output_type": "display_data"
    }
   ],
   "source": [
    "#AirSample\n",
    "plt.figure(figsize= (10,8))\n",
    "#Plot qPCR Results Separatly\n",
    "ax=sns.catplot(x=\"Time\", y=\"shannon\",\n",
    "            hue=\"Room_Type\", order=['T1','T3'], hue_order=('Regular','View'), \n",
    "            kind=\"box\", dodge=True, height=6, aspect=.9,\n",
    "            palette=color1, data=updated_AirSample)\n",
    "ax = sns.stripplot(x='Time', y='shannon', hue='Room_Type',order=['T1','T3'],\n",
    "                   hue_order=('Regular','View'), palette=color2,\n",
    "                   jitter=True,size=7, dodge=True, marker='o', alpha=0.75, data=updated_AirSample)\n",
    "\n",
    "# how to remove redundant legends in Python\n",
    "# Let us first get legend information from the plot object\n",
    "handles, labels = ax.get_legend_handles_labels()\n",
    "# specify just one legend\n",
    "l = plt.legend(handles[1:1], labels[1:1]).set_title('')\n",
    "ax.set(ylabel=\"shannon\")\n",
    "plt.ylim(0,6)"
   ]
  },
  {
   "cell_type": "markdown",
   "id": "9790ed0c-726a-44bc-b9ce-87bbb1f3af27",
   "metadata": {},
   "source": [
    "#### Noirmality test"
   ]
  },
  {
   "cell_type": "code",
   "execution_count": 27,
   "id": "a3062f72-6b7a-46e6-ae9e-e86bed5adfad",
   "metadata": {},
   "outputs": [
    {
     "name": "stdout",
     "output_type": "stream",
     "text": [
      "Shapiro statistics of AirSample shannnon iindex=0.924, p=0.118\n"
     ]
    }
   ],
   "source": [
    "stat, p = shapiro(updated_AirSample['shannon'])\n",
    "print('Shapiro statistics of AirSample shannnon iindex=%.3f, p=%.3f' % (stat, p))"
   ]
  },
  {
   "cell_type": "code",
   "execution_count": 28,
   "id": "b9dd852c-a9b4-4f65-922b-94e4ddae8d2e",
   "metadata": {},
   "outputs": [
    {
     "data": {
      "text/html": [
       "<div>\n",
       "<style scoped>\n",
       "    .dataframe tbody tr th:only-of-type {\n",
       "        vertical-align: middle;\n",
       "    }\n",
       "\n",
       "    .dataframe tbody tr th {\n",
       "        vertical-align: top;\n",
       "    }\n",
       "\n",
       "    .dataframe thead th {\n",
       "        text-align: right;\n",
       "    }\n",
       "</style>\n",
       "<table border=\"1\" class=\"dataframe\">\n",
       "  <thead>\n",
       "    <tr style=\"text-align: right;\">\n",
       "      <th></th>\n",
       "      <th>W</th>\n",
       "      <th>pval</th>\n",
       "      <th>normal</th>\n",
       "    </tr>\n",
       "  </thead>\n",
       "  <tbody>\n",
       "    <tr>\n",
       "      <th>Regular</th>\n",
       "      <td>0.887742</td>\n",
       "      <td>0.159909</td>\n",
       "      <td>True</td>\n",
       "    </tr>\n",
       "    <tr>\n",
       "      <th>View</th>\n",
       "      <td>0.915201</td>\n",
       "      <td>0.318663</td>\n",
       "      <td>True</td>\n",
       "    </tr>\n",
       "  </tbody>\n",
       "</table>\n",
       "</div>"
      ],
      "text/plain": [
       "                W      pval  normal\n",
       "Regular  0.887742  0.159909    True\n",
       "View     0.915201  0.318663    True"
      ]
     },
     "execution_count": 28,
     "metadata": {},
     "output_type": "execute_result"
    }
   ],
   "source": [
    "# Normality of Window Dataframe for each Timepoints\n",
    "pg.normality(data=updated_AirSample, dv='shannon', group='Room_Type')"
   ]
  },
  {
   "cell_type": "code",
   "execution_count": 29,
   "id": "9c42119f-1f3d-4b69-aef2-da2d28073e78",
   "metadata": {},
   "outputs": [
    {
     "data": {
      "text/html": [
       "<div>\n",
       "<style scoped>\n",
       "    .dataframe tbody tr th:only-of-type {\n",
       "        vertical-align: middle;\n",
       "    }\n",
       "\n",
       "    .dataframe tbody tr th {\n",
       "        vertical-align: top;\n",
       "    }\n",
       "\n",
       "    .dataframe thead th {\n",
       "        text-align: right;\n",
       "    }\n",
       "</style>\n",
       "<table border=\"1\" class=\"dataframe\">\n",
       "  <thead>\n",
       "    <tr style=\"text-align: right;\">\n",
       "      <th></th>\n",
       "      <th>W</th>\n",
       "      <th>pval</th>\n",
       "      <th>normal</th>\n",
       "    </tr>\n",
       "  </thead>\n",
       "  <tbody>\n",
       "    <tr>\n",
       "      <th>T0</th>\n",
       "      <td>0.936394</td>\n",
       "      <td>0.575984</td>\n",
       "      <td>True</td>\n",
       "    </tr>\n",
       "    <tr>\n",
       "      <th>T1</th>\n",
       "      <td>0.944943</td>\n",
       "      <td>0.609201</td>\n",
       "      <td>True</td>\n",
       "    </tr>\n",
       "    <tr>\n",
       "      <th>T2</th>\n",
       "      <td>0.978892</td>\n",
       "      <td>0.958962</td>\n",
       "      <td>True</td>\n",
       "    </tr>\n",
       "    <tr>\n",
       "      <th>T3</th>\n",
       "      <td>0.871885</td>\n",
       "      <td>0.105147</td>\n",
       "      <td>True</td>\n",
       "    </tr>\n",
       "  </tbody>\n",
       "</table>\n",
       "</div>"
      ],
      "text/plain": [
       "           W      pval  normal\n",
       "T0  0.936394  0.575984    True\n",
       "T1  0.944943  0.609201    True\n",
       "T2  0.978892  0.958962    True\n",
       "T3  0.871885  0.105147    True"
      ]
     },
     "execution_count": 29,
     "metadata": {},
     "output_type": "execute_result"
    }
   ],
   "source": [
    "# Normality of Window Dataframe for each Timepoints\n",
    "pg.normality(data=updated_Window, dv='shannon', group='Time')"
   ]
  },
  {
   "cell_type": "markdown",
   "id": "c455e1ff-4490-4477-a8af-bb03df5bc89f",
   "metadata": {},
   "source": [
    "**Variance Test**"
   ]
  },
  {
   "cell_type": "code",
   "execution_count": 30,
   "id": "95a6df17-2d8c-43c1-83fa-a47c6e10a49c",
   "metadata": {},
   "outputs": [
    {
     "name": "stdout",
     "output_type": "stream",
     "text": [
      "P-value of levene test for variance acroos Regular and EC Window room is: 0.21356299965333705\n",
      "P-value of levene test for variance across time is: 0.9530811070290648\n"
     ]
    }
   ],
   "source": [
    "# Levene Test\n",
    "stat, p =  levene(updated_AirSample_RR[\"shannon\"], updated_AirSample_VR[\"shannon\"])\n",
    "print(\"P-value of levene test for variance acroos Regular and EC Window room is:\", p)\n",
    "stat, p =  levene(updated_AirSample_T1[\"shannon\"], updated_AirSample_T3[\"shannon\"])\n",
    "print(\"P-value of levene test for variance across time is:\", p)"
   ]
  },
  {
   "cell_type": "markdown",
   "id": "267c1a65-dd4a-4a98-b037-7756f92d9ec4",
   "metadata": {},
   "source": [
    "* Air Sample's Shannon index met both normality and variance assumptions\n",
    "\n",
    "\n",
    "#### Effect of Indoor daylight (Room_Type variable) on **Air Sample** shannon index at each time"
   ]
  },
  {
   "cell_type": "code",
   "execution_count": 31,
   "id": "96aa8650-ad03-4063-a35a-2b2e37cd4ed8",
   "metadata": {},
   "outputs": [],
   "source": [
    "#Subgrouping\n",
    "updated_AirSample_T1_R=subgroup(updated_AirSample_T1, \"Room_Type\",\"Regular\")\n",
    "updated_AirSample_T1_V=subgroup(updated_AirSample_T1, \"Room_Type\",\"View\")\n",
    "updated_AirSample_T3_R=subgroup(updated_AirSample_T3, \"Room_Type\",\"Regular\")\n",
    "updated_AirSample_T3_V=subgroup(updated_AirSample_T3, \"Room_Type\",\"View\")"
   ]
  },
  {
   "cell_type": "code",
   "execution_count": 32,
   "id": "facial-sauce",
   "metadata": {},
   "outputs": [
    {
     "data": {
      "text/html": [
       "<div>\n",
       "<style scoped>\n",
       "    .dataframe tbody tr th:only-of-type {\n",
       "        vertical-align: middle;\n",
       "    }\n",
       "\n",
       "    .dataframe tbody tr th {\n",
       "        vertical-align: top;\n",
       "    }\n",
       "\n",
       "    .dataframe thead th {\n",
       "        text-align: right;\n",
       "    }\n",
       "</style>\n",
       "<table border=\"1\" class=\"dataframe\">\n",
       "  <thead>\n",
       "    <tr style=\"text-align: right;\">\n",
       "      <th></th>\n",
       "      <th>T</th>\n",
       "      <th>dof</th>\n",
       "      <th>alternative</th>\n",
       "      <th>p-val</th>\n",
       "      <th>CI95%</th>\n",
       "      <th>cohen-d</th>\n",
       "      <th>BF10</th>\n",
       "      <th>power</th>\n",
       "    </tr>\n",
       "  </thead>\n",
       "  <tbody>\n",
       "    <tr>\n",
       "      <th>T-test</th>\n",
       "      <td>-4.087481</td>\n",
       "      <td>8</td>\n",
       "      <td>two-sided</td>\n",
       "      <td>0.003498</td>\n",
       "      <td>[-1.43, -0.4]</td>\n",
       "      <td>2.58515</td>\n",
       "      <td>10.842</td>\n",
       "      <td>0.945515</td>\n",
       "    </tr>\n",
       "  </tbody>\n",
       "</table>\n",
       "</div>"
      ],
      "text/plain": [
       "               T  dof alternative     p-val          CI95%  cohen-d    BF10  \\\n",
       "T-test -4.087481    8   two-sided  0.003498  [-1.43, -0.4]  2.58515  10.842   \n",
       "\n",
       "           power  \n",
       "T-test  0.945515  "
      ]
     },
     "execution_count": 32,
     "metadata": {},
     "output_type": "execute_result"
    }
   ],
   "source": [
    "# 2 sample T-test At Time 1 between Two Room Type\n",
    "res=ttest(updated_AirSample_T1_R['shannon'], updated_AirSample_T1_V['shannon'],paired = False)\n",
    "res"
   ]
  },
  {
   "cell_type": "code",
   "execution_count": 33,
   "id": "2b8c744c-43b7-4b04-a25b-1d165e9e1bdf",
   "metadata": {},
   "outputs": [
    {
     "data": {
      "text/html": [
       "<div>\n",
       "<style scoped>\n",
       "    .dataframe tbody tr th:only-of-type {\n",
       "        vertical-align: middle;\n",
       "    }\n",
       "\n",
       "    .dataframe tbody tr th {\n",
       "        vertical-align: top;\n",
       "    }\n",
       "\n",
       "    .dataframe thead th {\n",
       "        text-align: right;\n",
       "    }\n",
       "</style>\n",
       "<table border=\"1\" class=\"dataframe\">\n",
       "  <thead>\n",
       "    <tr style=\"text-align: right;\">\n",
       "      <th></th>\n",
       "      <th>T</th>\n",
       "      <th>dof</th>\n",
       "      <th>alternative</th>\n",
       "      <th>p-val</th>\n",
       "      <th>CI95%</th>\n",
       "      <th>cohen-d</th>\n",
       "      <th>BF10</th>\n",
       "      <th>power</th>\n",
       "    </tr>\n",
       "  </thead>\n",
       "  <tbody>\n",
       "    <tr>\n",
       "      <th>T-test</th>\n",
       "      <td>-2.981767</td>\n",
       "      <td>8</td>\n",
       "      <td>two-sided</td>\n",
       "      <td>0.017553</td>\n",
       "      <td>[-1.43, -0.18]</td>\n",
       "      <td>1.885835</td>\n",
       "      <td>3.588</td>\n",
       "      <td>0.742966</td>\n",
       "    </tr>\n",
       "  </tbody>\n",
       "</table>\n",
       "</div>"
      ],
      "text/plain": [
       "               T  dof alternative     p-val           CI95%   cohen-d   BF10  \\\n",
       "T-test -2.981767    8   two-sided  0.017553  [-1.43, -0.18]  1.885835  3.588   \n",
       "\n",
       "           power  \n",
       "T-test  0.742966  "
      ]
     },
     "execution_count": 33,
     "metadata": {},
     "output_type": "execute_result"
    }
   ],
   "source": [
    "# 2 sample T-test At Time 3 between Two Room Type\n",
    "res=ttest(updated_AirSample_T3_R['shannon'], updated_AirSample_T3_V['shannon'],paired = False)\n",
    "res"
   ]
  },
  {
   "cell_type": "markdown",
   "id": "dbc79234-80db-46ad-8bab-410a8df954d3",
   "metadata": {},
   "source": [
    "#### Effect of Occupancy (Time variable) on **AirSample** shannon index in each rom type"
   ]
  },
  {
   "cell_type": "code",
   "execution_count": 34,
   "id": "fb0818eb-5c56-4990-b47a-151a58ff6b85",
   "metadata": {},
   "outputs": [
    {
     "name": "stdout",
     "output_type": "stream",
     "text": [
      "  Source  ddof1  ddof2         F     p-unc       np2  eps\n",
      "0   Time      1      4  3.995933  0.116251  0.499746  1.0\n"
     ]
    }
   ],
   "source": [
    "# One-Ways Repeated ANOVA on AirSample in regular room\n",
    "aov = pg.rm_anova(dv='shannon', within=['Time'], subject='Room_Number', data=updated_AirSample_RR)\n",
    "print(aov)"
   ]
  },
  {
   "cell_type": "code",
   "execution_count": 35,
   "id": "ade49904-5ac4-41c7-a951-7a0eec8b9da0",
   "metadata": {},
   "outputs": [
    {
     "name": "stdout",
     "output_type": "stream",
     "text": [
      "  Source  ddof1  ddof2         F     p-unc       np2  eps\n",
      "0   Time      1      4  0.401248  0.560856  0.091167  1.0\n"
     ]
    }
   ],
   "source": [
    "# One-Ways Repeated ANOVA on AirSample in EC Window room\n",
    "aov = pg.rm_anova(dv='shannon', within=['Time'], subject='Room_Number', data=updated_AirSample_VR)\n",
    "print(aov)"
   ]
  },
  {
   "cell_type": "markdown",
   "id": "9038d0ae-9c13-4899-b42d-9e8a8c89cea1",
   "metadata": {},
   "source": [
    "\n",
    "## AirDuct (Shannon index)\n",
    "**Initial data visualization**"
   ]
  },
  {
   "cell_type": "code",
   "execution_count": 36,
   "id": "1cd1ca50-c403-4672-bada-495a09fa00b3",
   "metadata": {},
   "outputs": [
    {
     "data": {
      "text/plain": [
       "(0.0, 6.0)"
      ]
     },
     "execution_count": 36,
     "metadata": {},
     "output_type": "execute_result"
    },
    {
     "data": {
      "text/plain": [
       "<Figure size 1000x800 with 0 Axes>"
      ]
     },
     "metadata": {},
     "output_type": "display_data"
    },
    {
     "data": {
      "image/png": "[encoded data removed]",
      "text/plain": [
       "<Figure size 643.5x600 with 1 Axes>"
      ]
     },
     "metadata": {},
     "output_type": "display_data"
    }
   ],
   "source": [
    "plt.figure(figsize= (10,8))\n",
    "ax=sns.catplot(x=\"Time\", y=\"shannon\",\n",
    "            hue=\"Room_Type\", order=['T0','T1','T2','T3'], hue_order=('Regular','View'), \n",
    "            kind=\"box\", dodge=True, height=6, aspect=.9,\n",
    "            palette=color1, data=updated_AirDuct)\n",
    "ax = sns.stripplot(x='Time', y='shannon', hue='Room_Type',order=['T0','T1','T2','T3'],\n",
    "                   hue_order=('Regular','View'), palette=color2,\n",
    "                   jitter=True,size=7, dodge=True, marker='o', alpha=0.75, data=updated_AirDuct)\n",
    "\n",
    "# how to remove redundant legends in Python\n",
    "# Let us first get legend information from the plot object\n",
    "handles, labels = ax.get_legend_handles_labels()\n",
    "# specify just one legend\n",
    "l = plt.legend(handles[1:1], labels[1:1]).set_title('')\n",
    "ax.set(ylabel=\"shannon\")\n",
    "plt.ylim(0,6)"
   ]
  },
  {
   "cell_type": "markdown",
   "id": "20e4ee8f-0a94-49b7-bd59-e2bb37aeea7b",
   "metadata": {},
   "source": [
    "#### Normality assessment"
   ]
  },
  {
   "cell_type": "code",
   "execution_count": 37,
   "id": "83038795-aa64-4ee5-9ef9-c89860a072ca",
   "metadata": {},
   "outputs": [
    {
     "name": "stdout",
     "output_type": "stream",
     "text": [
      "Shapiro statistics of AirDuct shannnon iindex=0.809, p=0.000\n"
     ]
    }
   ],
   "source": [
    "stat, p = shapiro(updated_AirDuct['shannon'])\n",
    "print('Shapiro statistics of AirDuct shannnon iindex=%.3f, p=%.3f' % (stat, p))"
   ]
  },
  {
   "cell_type": "code",
   "execution_count": 38,
   "id": "be5317fb-7b2f-420a-8c74-00c38a4af504",
   "metadata": {},
   "outputs": [
    {
     "data": {
      "text/html": [
       "<div>\n",
       "<style scoped>\n",
       "    .dataframe tbody tr th:only-of-type {\n",
       "        vertical-align: middle;\n",
       "    }\n",
       "\n",
       "    .dataframe tbody tr th {\n",
       "        vertical-align: top;\n",
       "    }\n",
       "\n",
       "    .dataframe thead th {\n",
       "        text-align: right;\n",
       "    }\n",
       "</style>\n",
       "<table border=\"1\" class=\"dataframe\">\n",
       "  <thead>\n",
       "    <tr style=\"text-align: right;\">\n",
       "      <th></th>\n",
       "      <th>W</th>\n",
       "      <th>pval</th>\n",
       "      <th>normal</th>\n",
       "    </tr>\n",
       "  </thead>\n",
       "  <tbody>\n",
       "    <tr>\n",
       "      <th>Regular</th>\n",
       "      <td>0.692142</td>\n",
       "      <td>0.000022</td>\n",
       "      <td>False</td>\n",
       "    </tr>\n",
       "    <tr>\n",
       "      <th>View</th>\n",
       "      <td>0.941997</td>\n",
       "      <td>0.286381</td>\n",
       "      <td>True</td>\n",
       "    </tr>\n",
       "  </tbody>\n",
       "</table>\n",
       "</div>"
      ],
      "text/plain": [
       "                W      pval  normal\n",
       "Regular  0.692142  0.000022   False\n",
       "View     0.941997  0.286381    True"
      ]
     },
     "execution_count": 38,
     "metadata": {},
     "output_type": "execute_result"
    }
   ],
   "source": [
    "# Normality of AirDuct Dataframe for each Timepoints\n",
    "pg.normality(data=updated_AirDuct, dv='shannon', group='Room_Type')"
   ]
  },
  {
   "cell_type": "code",
   "execution_count": 39,
   "id": "0b07e4fb-d474-4aa0-8db4-b58a911c9378",
   "metadata": {},
   "outputs": [
    {
     "data": {
      "text/html": [
       "<div>\n",
       "<style scoped>\n",
       "    .dataframe tbody tr th:only-of-type {\n",
       "        vertical-align: middle;\n",
       "    }\n",
       "\n",
       "    .dataframe tbody tr th {\n",
       "        vertical-align: top;\n",
       "    }\n",
       "\n",
       "    .dataframe thead th {\n",
       "        text-align: right;\n",
       "    }\n",
       "</style>\n",
       "<table border=\"1\" class=\"dataframe\">\n",
       "  <thead>\n",
       "    <tr style=\"text-align: right;\">\n",
       "      <th></th>\n",
       "      <th>W</th>\n",
       "      <th>pval</th>\n",
       "      <th>normal</th>\n",
       "    </tr>\n",
       "  </thead>\n",
       "  <tbody>\n",
       "    <tr>\n",
       "      <th>T0</th>\n",
       "      <td>0.674424</td>\n",
       "      <td>0.000713</td>\n",
       "      <td>False</td>\n",
       "    </tr>\n",
       "    <tr>\n",
       "      <th>T1</th>\n",
       "      <td>0.932485</td>\n",
       "      <td>0.436537</td>\n",
       "      <td>True</td>\n",
       "    </tr>\n",
       "    <tr>\n",
       "      <th>T2</th>\n",
       "      <td>0.930973</td>\n",
       "      <td>0.457528</td>\n",
       "      <td>True</td>\n",
       "    </tr>\n",
       "    <tr>\n",
       "      <th>T3</th>\n",
       "      <td>0.929463</td>\n",
       "      <td>0.442630</td>\n",
       "      <td>True</td>\n",
       "    </tr>\n",
       "  </tbody>\n",
       "</table>\n",
       "</div>"
      ],
      "text/plain": [
       "           W      pval  normal\n",
       "T0  0.674424  0.000713   False\n",
       "T1  0.932485  0.436537    True\n",
       "T2  0.930973  0.457528    True\n",
       "T3  0.929463  0.442630    True"
      ]
     },
     "execution_count": 39,
     "metadata": {},
     "output_type": "execute_result"
    }
   ],
   "source": [
    "# Normality of AirDuct Dataframe for each Timepoints\n",
    "pg.normality(data=updated_AirDuct, dv='shannon', group='Time')"
   ]
  },
  {
   "cell_type": "markdown",
   "id": "af0e211b-47e1-43b6-84b4-5c20f0490ba8",
   "metadata": {},
   "source": [
    "**Variance test**"
   ]
  },
  {
   "cell_type": "code",
   "execution_count": 40,
   "id": "578764db-461d-4114-a5f2-6e57cf371693",
   "metadata": {},
   "outputs": [
    {
     "name": "stdout",
     "output_type": "stream",
     "text": [
      "P-value of levene test for variance across Regular and EC Window room is: 0.6891546614618668\n",
      "P-value of levene test for variance across time is: 0.3597458989385709\n"
     ]
    }
   ],
   "source": [
    "# Levene Test\n",
    "stat, p =  levene(updated_AirDuct_RR[\"shannon\"], updated_AirDuct_VR[\"shannon\"])\n",
    "print(\"P-value of levene test for variance across Regular and EC Window room is:\", p)\n",
    "stat, p =  levene(updated_AirDuct_T0[\"shannon\"], updated_AirDuct_T1[\"shannon\"],\n",
    "                  updated_AirDuct_T2[\"shannon\"], updated_AirDuct_T3[\"shannon\"])\n",
    "print(\"P-value of levene test for variance across time is:\", p)"
   ]
  },
  {
   "cell_type": "markdown",
   "id": "5cea6cc9-ffaa-4968-8e9f-48402654c50d",
   "metadata": {},
   "source": [
    "* Shannon index of Air Duct are NOT normally distributed overall, (Air duct in regular window room and at baseline)\n",
    "\n",
    "\n",
    "#### Effect of Indoor daylight (Room_Type variable) on **Air Sample** shannon index at each time"
   ]
  },
  {
   "cell_type": "code",
   "execution_count": 41,
   "id": "3407299b-ed2d-4253-9f46-e95b8c1b7fde",
   "metadata": {},
   "outputs": [
    {
     "data": {
      "text/html": [
       "<div>\n",
       "<style scoped>\n",
       "    .dataframe tbody tr th:only-of-type {\n",
       "        vertical-align: middle;\n",
       "    }\n",
       "\n",
       "    .dataframe tbody tr th {\n",
       "        vertical-align: top;\n",
       "    }\n",
       "\n",
       "    .dataframe thead th {\n",
       "        text-align: right;\n",
       "    }\n",
       "</style>\n",
       "<table border=\"1\" class=\"dataframe\">\n",
       "  <thead>\n",
       "    <tr style=\"text-align: right;\">\n",
       "      <th></th>\n",
       "      <th>PID</th>\n",
       "      <th>Time</th>\n",
       "      <th>Room_Type</th>\n",
       "      <th>Room_Number</th>\n",
       "      <th>Location</th>\n",
       "      <th>shannon</th>\n",
       "    </tr>\n",
       "  </thead>\n",
       "  <tbody>\n",
       "    <tr>\n",
       "      <th>4</th>\n",
       "      <td>R1T1</td>\n",
       "      <td>T1</td>\n",
       "      <td>Regular</td>\n",
       "      <td>1</td>\n",
       "      <td>AirDuct</td>\n",
       "      <td>2.948366</td>\n",
       "    </tr>\n",
       "    <tr>\n",
       "      <th>26</th>\n",
       "      <td>R2T1</td>\n",
       "      <td>T1</td>\n",
       "      <td>Regular</td>\n",
       "      <td>2</td>\n",
       "      <td>AirDuct</td>\n",
       "      <td>4.067485</td>\n",
       "    </tr>\n",
       "    <tr>\n",
       "      <th>48</th>\n",
       "      <td>R3T1</td>\n",
       "      <td>T1</td>\n",
       "      <td>Regular</td>\n",
       "      <td>3</td>\n",
       "      <td>AirDuct</td>\n",
       "      <td>4.549596</td>\n",
       "    </tr>\n",
       "    <tr>\n",
       "      <th>67</th>\n",
       "      <td>R4T1</td>\n",
       "      <td>T1</td>\n",
       "      <td>Regular</td>\n",
       "      <td>4</td>\n",
       "      <td>AirDuct</td>\n",
       "      <td>4.807048</td>\n",
       "    </tr>\n",
       "    <tr>\n",
       "      <th>72</th>\n",
       "      <td>R5T1</td>\n",
       "      <td>T1</td>\n",
       "      <td>Regular</td>\n",
       "      <td>5</td>\n",
       "      <td>AirDuct</td>\n",
       "      <td>3.446957</td>\n",
       "    </tr>\n",
       "    <tr>\n",
       "      <th>90</th>\n",
       "      <td>R6T1</td>\n",
       "      <td>T1</td>\n",
       "      <td>Regular</td>\n",
       "      <td>6</td>\n",
       "      <td>AirDuct</td>\n",
       "      <td>4.225236</td>\n",
       "    </tr>\n",
       "  </tbody>\n",
       "</table>\n",
       "</div>"
      ],
      "text/plain": [
       "     PID Time Room_Type  Room_Number Location   shannon\n",
       "4   R1T1   T1   Regular            1  AirDuct  2.948366\n",
       "26  R2T1   T1   Regular            2  AirDuct  4.067485\n",
       "48  R3T1   T1   Regular            3  AirDuct  4.549596\n",
       "67  R4T1   T1   Regular            4  AirDuct  4.807048\n",
       "72  R5T1   T1   Regular            5  AirDuct  3.446957\n",
       "90  R6T1   T1   Regular            6  AirDuct  4.225236"
      ]
     },
     "execution_count": 41,
     "metadata": {},
     "output_type": "execute_result"
    }
   ],
   "source": [
    "#Subgroup for each Timepoint \n",
    "updated_AirDuct_T1_R=subgroup(updated_AirDuct_T1, \"Room_Type\",\"Regular\")\n",
    "updated_AirDuct_T1_V=subgroup(updated_AirDuct_T1, \"Room_Type\",\"View\")\n",
    "updated_AirDuct_T2_R=subgroup(updated_AirDuct_T2, \"Room_Type\",\"Regular\")\n",
    "updated_AirDuct_T2_V=subgroup(updated_AirDuct_T2, \"Room_Type\",\"View\")\n",
    "updated_AirDuct_T3_R=subgroup(updated_AirDuct_T3, \"Room_Type\",\"Regular\")\n",
    "updated_AirDuct_T3_V=subgroup(updated_AirDuct_T3, \"Room_Type\",\"View\")\n",
    "updated_AirDuct_T0_R=subgroup(updated_AirDuct_T0, \"Room_Type\",\"Regular\")\n",
    "updated_AirDuct_T0_V=subgroup(updated_AirDuct_T0, \"Room_Type\",\"View\")\n",
    "updated_AirDuct_T1_R"
   ]
  },
  {
   "cell_type": "code",
   "execution_count": 42,
   "id": "850463e9-edc9-41eb-9d8c-ee86eb5dab54",
   "metadata": {},
   "outputs": [
    {
     "data": {
      "text/plain": [
       "MannwhitneyuResult(statistic=11.0, pvalue=0.9047619047619049)"
      ]
     },
     "execution_count": 42,
     "metadata": {},
     "output_type": "execute_result"
    }
   ],
   "source": [
    "#AirDuct T0 MannWhitney U test as it is NOT normally diostributed\n",
    "scipy.stats.mannwhitneyu(updated_AirDuct_T0_R['shannon'], updated_AirDuct_T0_V['shannon'], alternative='two-sided')"
   ]
  },
  {
   "cell_type": "code",
   "execution_count": 162,
   "id": "bd67dfbf-e8d6-4f19-b576-854f22736d7f",
   "metadata": {},
   "outputs": [
    {
     "data": {
      "text/plain": [
       "MannwhitneyuResult(statistic=22.0, pvalue=0.24675324675324672)"
      ]
     },
     "execution_count": 162,
     "metadata": {},
     "output_type": "execute_result"
    }
   ],
   "source": [
    "#AirDuct T1 MannWhitney U test \n",
    "scipy.stats.mannwhitneyu(updated_AirDuct_T1_R['shannon'], updated_AirDuct_T1_V['shannon'], alternative='two-sided')"
   ]
  },
  {
   "cell_type": "code",
   "execution_count": 163,
   "id": "567764e0-52d7-4600-9282-75602791a7df",
   "metadata": {},
   "outputs": [
    {
     "data": {
      "text/plain": [
       "MannwhitneyuResult(statistic=18.0, pvalue=0.30952380952380953)"
      ]
     },
     "execution_count": 163,
     "metadata": {},
     "output_type": "execute_result"
    }
   ],
   "source": [
    "#AirDuct T2\n",
    "scipy.stats.mannwhitneyu(updated_AirDuct_T2_R['shannon'], updated_AirDuct_T2_V['shannon'], alternative='two-sided')"
   ]
  },
  {
   "cell_type": "code",
   "execution_count": 164,
   "id": "d7cd3960-20e2-4cbb-b674-54c18998f58e",
   "metadata": {},
   "outputs": [
    {
     "data": {
      "text/plain": [
       "MannwhitneyuResult(statistic=21.0, pvalue=0.09523809523809523)"
      ]
     },
     "execution_count": 164,
     "metadata": {},
     "output_type": "execute_result"
    }
   ],
   "source": [
    "#AirDuct T3\n",
    "scipy.stats.mannwhitneyu(updated_AirDuct_T3_R['shannon'], updated_AirDuct_T3_V['shannon'], alternative='two-sided')"
   ]
  },
  {
   "cell_type": "code",
   "execution_count": 43,
   "id": "14495f52-bb6a-43e6-8fdf-3cb5853b2b01",
   "metadata": {},
   "outputs": [
    {
     "data": {
      "text/html": [
       "<div>\n",
       "<style scoped>\n",
       "    .dataframe tbody tr th:only-of-type {\n",
       "        vertical-align: middle;\n",
       "    }\n",
       "\n",
       "    .dataframe tbody tr th {\n",
       "        vertical-align: top;\n",
       "    }\n",
       "\n",
       "    .dataframe thead th {\n",
       "        text-align: right;\n",
       "    }\n",
       "</style>\n",
       "<table border=\"1\" class=\"dataframe\">\n",
       "  <thead>\n",
       "    <tr style=\"text-align: right;\">\n",
       "      <th></th>\n",
       "      <th>T</th>\n",
       "      <th>dof</th>\n",
       "      <th>alternative</th>\n",
       "      <th>p-val</th>\n",
       "      <th>CI95%</th>\n",
       "      <th>cohen-d</th>\n",
       "      <th>BF10</th>\n",
       "      <th>power</th>\n",
       "    </tr>\n",
       "  </thead>\n",
       "  <tbody>\n",
       "    <tr>\n",
       "      <th>T-test</th>\n",
       "      <td>1.059293</td>\n",
       "      <td>8.755866</td>\n",
       "      <td>two-sided</td>\n",
       "      <td>0.317812</td>\n",
       "      <td>[-0.5, 1.38]</td>\n",
       "      <td>0.63909</td>\n",
       "      <td>0.676</td>\n",
       "      <td>0.157159</td>\n",
       "    </tr>\n",
       "  </tbody>\n",
       "</table>\n",
       "</div>"
      ],
      "text/plain": [
       "               T       dof alternative     p-val         CI95%  cohen-d  \\\n",
       "T-test  1.059293  8.755866   two-sided  0.317812  [-0.5, 1.38]  0.63909   \n",
       "\n",
       "         BF10     power  \n",
       "T-test  0.676  0.157159  "
      ]
     },
     "execution_count": 43,
     "metadata": {},
     "output_type": "execute_result"
    }
   ],
   "source": [
    "# 2 sample T-test At Time 1 between Two Room Type\n",
    "res=ttest(updated_AirDuct_T1_R['shannon'], updated_AirDuct_T1_V['shannon'],paired = False)\n",
    "res"
   ]
  },
  {
   "cell_type": "code",
   "execution_count": 44,
   "id": "dc90a443-411d-45d9-86ef-0643d65f0ac6",
   "metadata": {},
   "outputs": [
    {
     "data": {
      "text/html": [
       "<div>\n",
       "<style scoped>\n",
       "    .dataframe tbody tr th:only-of-type {\n",
       "        vertical-align: middle;\n",
       "    }\n",
       "\n",
       "    .dataframe tbody tr th {\n",
       "        vertical-align: top;\n",
       "    }\n",
       "\n",
       "    .dataframe thead th {\n",
       "        text-align: right;\n",
       "    }\n",
       "</style>\n",
       "<table border=\"1\" class=\"dataframe\">\n",
       "  <thead>\n",
       "    <tr style=\"text-align: right;\">\n",
       "      <th></th>\n",
       "      <th>T</th>\n",
       "      <th>dof</th>\n",
       "      <th>alternative</th>\n",
       "      <th>p-val</th>\n",
       "      <th>CI95%</th>\n",
       "      <th>cohen-d</th>\n",
       "      <th>BF10</th>\n",
       "      <th>power</th>\n",
       "    </tr>\n",
       "  </thead>\n",
       "  <tbody>\n",
       "    <tr>\n",
       "      <th>T-test</th>\n",
       "      <td>1.429615</td>\n",
       "      <td>8</td>\n",
       "      <td>two-sided</td>\n",
       "      <td>0.190694</td>\n",
       "      <td>[-0.27, 1.14]</td>\n",
       "      <td>0.904168</td>\n",
       "      <td>0.881</td>\n",
       "      <td>0.243172</td>\n",
       "    </tr>\n",
       "  </tbody>\n",
       "</table>\n",
       "</div>"
      ],
      "text/plain": [
       "               T  dof alternative     p-val          CI95%   cohen-d   BF10  \\\n",
       "T-test  1.429615    8   two-sided  0.190694  [-0.27, 1.14]  0.904168  0.881   \n",
       "\n",
       "           power  \n",
       "T-test  0.243172  "
      ]
     },
     "execution_count": 44,
     "metadata": {},
     "output_type": "execute_result"
    }
   ],
   "source": [
    "# 2 sample T-test At Time 2 between Two Room Type\n",
    "res=ttest(updated_AirDuct_T2_R['shannon'], updated_AirDuct_T2_V['shannon'],paired = False)\n",
    "res"
   ]
  },
  {
   "cell_type": "code",
   "execution_count": 45,
   "id": "55e7f504-d8fa-48a9-baed-8bcf1770a7af",
   "metadata": {},
   "outputs": [
    {
     "data": {
      "text/html": [
       "<div>\n",
       "<style scoped>\n",
       "    .dataframe tbody tr th:only-of-type {\n",
       "        vertical-align: middle;\n",
       "    }\n",
       "\n",
       "    .dataframe tbody tr th {\n",
       "        vertical-align: top;\n",
       "    }\n",
       "\n",
       "    .dataframe thead th {\n",
       "        text-align: right;\n",
       "    }\n",
       "</style>\n",
       "<table border=\"1\" class=\"dataframe\">\n",
       "  <thead>\n",
       "    <tr style=\"text-align: right;\">\n",
       "      <th></th>\n",
       "      <th>T</th>\n",
       "      <th>dof</th>\n",
       "      <th>alternative</th>\n",
       "      <th>p-val</th>\n",
       "      <th>CI95%</th>\n",
       "      <th>cohen-d</th>\n",
       "      <th>BF10</th>\n",
       "      <th>power</th>\n",
       "    </tr>\n",
       "  </thead>\n",
       "  <tbody>\n",
       "    <tr>\n",
       "      <th>T-test</th>\n",
       "      <td>1.738196</td>\n",
       "      <td>8</td>\n",
       "      <td>two-sided</td>\n",
       "      <td>0.120374</td>\n",
       "      <td>[-0.1, 0.69]</td>\n",
       "      <td>1.099332</td>\n",
       "      <td>1.123</td>\n",
       "      <td>0.334561</td>\n",
       "    </tr>\n",
       "  </tbody>\n",
       "</table>\n",
       "</div>"
      ],
      "text/plain": [
       "               T  dof alternative     p-val         CI95%   cohen-d   BF10  \\\n",
       "T-test  1.738196    8   two-sided  0.120374  [-0.1, 0.69]  1.099332  1.123   \n",
       "\n",
       "           power  \n",
       "T-test  0.334561  "
      ]
     },
     "execution_count": 45,
     "metadata": {},
     "output_type": "execute_result"
    }
   ],
   "source": [
    "# 2 sample T-test At Time 3 between Two Room Type\n",
    "res=ttest(updated_AirDuct_T3_R['shannon'], updated_AirDuct_T3_V['shannon'],paired = False)\n",
    "res"
   ]
  },
  {
   "cell_type": "markdown",
   "id": "67eb2c67-7b0f-469f-bc0d-13f6dc8b8709",
   "metadata": {},
   "source": [
    "#### Effect of Occupancy (Time variable) on **Air Duct** shannon index in each rom type"
   ]
  },
  {
   "cell_type": "code",
   "execution_count": 46,
   "id": "8c4b1ed0",
   "metadata": {},
   "outputs": [
    {
     "data": {
      "text/html": [
       "<div>\n",
       "<style scoped>\n",
       "    .dataframe tbody tr th:only-of-type {\n",
       "        vertical-align: middle;\n",
       "    }\n",
       "\n",
       "    .dataframe tbody tr th {\n",
       "        vertical-align: top;\n",
       "    }\n",
       "\n",
       "    .dataframe thead th {\n",
       "        text-align: right;\n",
       "    }\n",
       "</style>\n",
       "<table border=\"1\" class=\"dataframe\">\n",
       "  <thead>\n",
       "    <tr style=\"text-align: right;\">\n",
       "      <th></th>\n",
       "      <th>Source</th>\n",
       "      <th>W</th>\n",
       "      <th>ddof1</th>\n",
       "      <th>Q</th>\n",
       "      <th>p-unc</th>\n",
       "    </tr>\n",
       "  </thead>\n",
       "  <tbody>\n",
       "    <tr>\n",
       "      <th>Friedman</th>\n",
       "      <td>Time</td>\n",
       "      <td>0.225</td>\n",
       "      <td>3</td>\n",
       "      <td>2.7</td>\n",
       "      <td>0.440227</td>\n",
       "    </tr>\n",
       "  </tbody>\n",
       "</table>\n",
       "</div>"
      ],
      "text/plain": [
       "         Source      W  ddof1    Q     p-unc\n",
       "Friedman   Time  0.225      3  2.7  0.440227"
      ]
     },
     "execution_count": 46,
     "metadata": {},
     "output_type": "execute_result"
    }
   ],
   "source": [
    "#Regular Room is not normally distribtued, friedman test to see the block effect of TIME\n",
    "res= pg.friedman(data=updated_AirDuct_RR, dv=\"shannon\", within=\"Time\", subject=\"Room_Number\")\n",
    "res"
   ]
  },
  {
   "cell_type": "code",
   "execution_count": 47,
   "id": "20cea77f-c4f3-4983-b33b-af6b3f45d04c",
   "metadata": {},
   "outputs": [
    {
     "name": "stdout",
     "output_type": "stream",
     "text": [
      "  Source  ddof1  ddof2         F     p-unc       np2       eps\n",
      "0   Time      3      9  1.240826  0.351018  0.292591  0.549603\n"
     ]
    }
   ],
   "source": [
    "# One-Ways Repeated ANOVA on AirSample in EC window room\n",
    "aov = pg.rm_anova(dv='shannon', within=['Time'], subject='Room_Number', data=updated_AirDuct_VR)\n",
    "print(aov)"
   ]
  },
  {
   "cell_type": "markdown",
   "id": "1b283d49-76fa-4088-9401-f9bee6b25b96",
   "metadata": {},
   "source": [
    "**Did not detect differences in any of the Palm sample**\n",
    "\n",
    "### Saliva (Shannon index)\n",
    "\n",
    "**Inital data vsiauzalizationt**"
   ]
  },
  {
   "cell_type": "code",
   "execution_count": 48,
   "id": "7d8a034a-d089-4e13-8e2c-1923e4801158",
   "metadata": {},
   "outputs": [
    {
     "data": {
      "text/plain": [
       "(0.0, 6.0)"
      ]
     },
     "execution_count": 48,
     "metadata": {},
     "output_type": "execute_result"
    },
    {
     "data": {
      "text/plain": [
       "<Figure size 1000x800 with 0 Axes>"
      ]
     },
     "metadata": {},
     "output_type": "display_data"
    },
    {
     "data": {
      "image/png": "[encoded data removed]",
      "text/plain": [
       "<Figure size 643.5x600 with 1 Axes>"
      ]
     },
     "metadata": {},
     "output_type": "display_data"
    }
   ],
   "source": [
    "plt.figure(figsize= (10,8))\n",
    "#Plot qPCR Results Separatly\n",
    "ax=sns.catplot(x=\"Time\", y=\"shannon\",\n",
    "            hue=\"Room_Type\", order=['T1','T3'], hue_order=('Regular','View'), \n",
    "            kind=\"box\", dodge=True, height=6, aspect=.9,\n",
    "            palette=color1, data=updated_Saliva)\n",
    "ax = sns.stripplot(x='Time', y='shannon', hue='Room_Type',order=['T1','T3'],\n",
    "                   hue_order=('Regular','View'), palette=color2,\n",
    "                   jitter=True,size=7, dodge=True, marker='o', alpha=0.75, data=updated_Saliva)\n",
    "\n",
    "# how to remove redundant legends in Python\n",
    "# Let us first get legend information from the plot object\n",
    "handles, labels = ax.get_legend_handles_labels()\n",
    "# specify just one legend\n",
    "l = plt.legend(handles[1:1], labels[1:1]).set_title('')\n",
    "ax.set(ylabel=\"shannon\")\n",
    "plt.ylim(0,6)"
   ]
  },
  {
   "cell_type": "markdown",
   "id": "9b33a092-e9ee-456c-94bc-34a786b83f09",
   "metadata": {},
   "source": [
    "**Normlaity and variance test**"
   ]
  },
  {
   "cell_type": "code",
   "execution_count": 49,
   "id": "f5f68650-c48b-48f9-8ea7-a8790de6f26e",
   "metadata": {},
   "outputs": [
    {
     "name": "stdout",
     "output_type": "stream",
     "text": [
      "Shapiro statistics of Saliva shannnon iindex=0.926, p=0.129\n"
     ]
    }
   ],
   "source": [
    "stat, p = shapiro(updated_Saliva['shannon'])\n",
    "print('Shapiro statistics of Saliva shannnon iindex=%.3f, p=%.3f' % (stat, p))"
   ]
  },
  {
   "cell_type": "code",
   "execution_count": 50,
   "id": "581c68ae-6e62-4e7f-9738-6793e8f1470a",
   "metadata": {},
   "outputs": [
    {
     "name": "stdout",
     "output_type": "stream",
     "text": [
      "P-value of levene test for variance across Regular and EC Window room is: 0.7706389185493803\n",
      "P-value of levene test for variance across time is: 0.9966161106371884\n"
     ]
    }
   ],
   "source": [
    "# Levene Test\n",
    "stat, p =  levene(updated_Saliva_RR[\"shannon\"], updated_Saliva_VR[\"shannon\"])\n",
    "print(\"P-value of levene test for variance across Regular and EC Window room is:\", p)\n",
    "stat, p =  levene(updated_Saliva_T1[\"shannon\"],\n",
    "                  updated_Saliva_T3[\"shannon\"])\n",
    "print(\"P-value of levene test for variance across time is:\", p)"
   ]
  },
  {
   "cell_type": "markdown",
   "id": "2a115715-40dd-4bd4-aa64-5913f277d431",
   "metadata": {},
   "source": [
    "\n",
    "#### Effect of Indoor daylight (Room_Type variable) on shannon index of **Saliva** at each time"
   ]
  },
  {
   "cell_type": "code",
   "execution_count": 51,
   "id": "f7af9338-ce59-4905-b50d-ccd66f4b027e",
   "metadata": {},
   "outputs": [],
   "source": [
    "updated_Saliva_T1_R=subgroup(updated_Saliva_T1, \"Room_Type\",\"Regular\")\n",
    "updated_Saliva_T1_V=subgroup(updated_Saliva_T1, \"Room_Type\",\"View\")\n",
    "updated_Saliva_T3_R=subgroup(updated_Saliva_T3, \"Room_Type\",\"Regular\")\n",
    "updated_Saliva_T3_V=subgroup(updated_Saliva_T3, \"Room_Type\",\"View\")"
   ]
  },
  {
   "cell_type": "code",
   "execution_count": 52,
   "id": "f4d301df-73e1-4c4a-b4f3-acf5e5d341a4",
   "metadata": {},
   "outputs": [
    {
     "data": {
      "text/html": [
       "<div>\n",
       "<style scoped>\n",
       "    .dataframe tbody tr th:only-of-type {\n",
       "        vertical-align: middle;\n",
       "    }\n",
       "\n",
       "    .dataframe tbody tr th {\n",
       "        vertical-align: top;\n",
       "    }\n",
       "\n",
       "    .dataframe thead th {\n",
       "        text-align: right;\n",
       "    }\n",
       "</style>\n",
       "<table border=\"1\" class=\"dataframe\">\n",
       "  <thead>\n",
       "    <tr style=\"text-align: right;\">\n",
       "      <th></th>\n",
       "      <th>T</th>\n",
       "      <th>dof</th>\n",
       "      <th>alternative</th>\n",
       "      <th>p-val</th>\n",
       "      <th>CI95%</th>\n",
       "      <th>cohen-d</th>\n",
       "      <th>BF10</th>\n",
       "      <th>power</th>\n",
       "    </tr>\n",
       "  </thead>\n",
       "  <tbody>\n",
       "    <tr>\n",
       "      <th>T-test</th>\n",
       "      <td>-0.707444</td>\n",
       "      <td>8</td>\n",
       "      <td>two-sided</td>\n",
       "      <td>0.499377</td>\n",
       "      <td>[-1.49, 0.79]</td>\n",
       "      <td>0.447427</td>\n",
       "      <td>0.574</td>\n",
       "      <td>0.096</td>\n",
       "    </tr>\n",
       "  </tbody>\n",
       "</table>\n",
       "</div>"
      ],
      "text/plain": [
       "               T  dof alternative     p-val          CI95%   cohen-d   BF10  \\\n",
       "T-test -0.707444    8   two-sided  0.499377  [-1.49, 0.79]  0.447427  0.574   \n",
       "\n",
       "        power  \n",
       "T-test  0.096  "
      ]
     },
     "execution_count": 52,
     "metadata": {},
     "output_type": "execute_result"
    }
   ],
   "source": [
    "# 2 sample T-test At Time 1 between Two Room Type\n",
    "res=ttest(updated_Saliva_T1_R['shannon'], updated_Saliva_T1_V['shannon'],paired = False)\n",
    "res"
   ]
  },
  {
   "cell_type": "code",
   "execution_count": 53,
   "id": "b556a106-a3c5-4d44-a4d6-f7bb23b5107b",
   "metadata": {},
   "outputs": [
    {
     "data": {
      "text/html": [
       "<div>\n",
       "<style scoped>\n",
       "    .dataframe tbody tr th:only-of-type {\n",
       "        vertical-align: middle;\n",
       "    }\n",
       "\n",
       "    .dataframe tbody tr th {\n",
       "        vertical-align: top;\n",
       "    }\n",
       "\n",
       "    .dataframe thead th {\n",
       "        text-align: right;\n",
       "    }\n",
       "</style>\n",
       "<table border=\"1\" class=\"dataframe\">\n",
       "  <thead>\n",
       "    <tr style=\"text-align: right;\">\n",
       "      <th></th>\n",
       "      <th>T</th>\n",
       "      <th>dof</th>\n",
       "      <th>alternative</th>\n",
       "      <th>p-val</th>\n",
       "      <th>CI95%</th>\n",
       "      <th>cohen-d</th>\n",
       "      <th>BF10</th>\n",
       "      <th>power</th>\n",
       "    </tr>\n",
       "  </thead>\n",
       "  <tbody>\n",
       "    <tr>\n",
       "      <th>T-test</th>\n",
       "      <td>-0.937354</td>\n",
       "      <td>8</td>\n",
       "      <td>two-sided</td>\n",
       "      <td>0.376008</td>\n",
       "      <td>[-1.59, 0.67]</td>\n",
       "      <td>0.592835</td>\n",
       "      <td>0.642</td>\n",
       "      <td>0.131694</td>\n",
       "    </tr>\n",
       "  </tbody>\n",
       "</table>\n",
       "</div>"
      ],
      "text/plain": [
       "               T  dof alternative     p-val          CI95%   cohen-d   BF10  \\\n",
       "T-test -0.937354    8   two-sided  0.376008  [-1.59, 0.67]  0.592835  0.642   \n",
       "\n",
       "           power  \n",
       "T-test  0.131694  "
      ]
     },
     "execution_count": 53,
     "metadata": {},
     "output_type": "execute_result"
    }
   ],
   "source": [
    "# 2 sample T-test at Time 3 between Two Room Type\n",
    "res=ttest(updated_Saliva_T3_R['shannon'], updated_Saliva_T3_V['shannon'],paired = False)\n",
    "res"
   ]
  },
  {
   "cell_type": "markdown",
   "id": "06623368-1d75-4168-a991-ef6d819cbfb4",
   "metadata": {},
   "source": [
    "#### Effect of Occupancy (Time variable) on **Saliva** shannon index in each rom type"
   ]
  },
  {
   "cell_type": "code",
   "execution_count": 54,
   "id": "d78e6159-6135-4d20-b3ab-19fec131a968",
   "metadata": {},
   "outputs": [
    {
     "name": "stdout",
     "output_type": "stream",
     "text": [
      "  Source  ddof1  ddof2         F    p-unc       np2  eps\n",
      "0   Time      1      4  8.310145  0.04489  0.675065  1.0\n"
     ]
    }
   ],
   "source": [
    "# One-Ways Repeated ANOVA on AirSample in EC window room\n",
    "aov = pg.rm_anova(dv='shannon', within=['Time'], subject='Room_Number', data=updated_Saliva_RR)\n",
    "print(aov)"
   ]
  },
  {
   "cell_type": "code",
   "execution_count": 55,
   "id": "80c237ce-53ea-4422-9864-ef19ba19b892",
   "metadata": {},
   "outputs": [
    {
     "name": "stdout",
     "output_type": "stream",
     "text": [
      "  Source  ddof1  ddof2         F     p-unc       np2  eps\n",
      "0   Time      1      4  1.034372  0.366647  0.205462  1.0\n"
     ]
    }
   ],
   "source": [
    "# One-Ways Repeated ANOVA on AirSample in EC window room\n",
    "aov = pg.rm_anova(dv='shannon', within=['Time'], subject='Room_Number', data=updated_Saliva_VR)\n",
    "print(aov)"
   ]
  },
  {
   "cell_type": "markdown",
   "id": "295ffcf9-3a39-462a-8e4e-478d926e6550",
   "metadata": {},
   "source": [
    "\n",
    "### Palm Sample (Shannon index)\n"
   ]
  },
  {
   "cell_type": "code",
   "execution_count": 56,
   "id": "8f9ce996-557a-451a-9b01-0b07402730d5",
   "metadata": {},
   "outputs": [
    {
     "data": {
      "text/plain": [
       "(0.0, 6.0)"
      ]
     },
     "execution_count": 56,
     "metadata": {},
     "output_type": "execute_result"
    },
    {
     "data": {
      "text/plain": [
       "<Figure size 1000x800 with 0 Axes>"
      ]
     },
     "metadata": {},
     "output_type": "display_data"
    },
    {
     "data": {
      "image/png": "[encoded data removed]",
      "text/plain": [
       "<Figure size 643.5x600 with 1 Axes>"
      ]
     },
     "metadata": {},
     "output_type": "display_data"
    }
   ],
   "source": [
    "plt.figure(figsize= (10,8))\n",
    "#Plot qPCR Results Separatly\n",
    "ax=sns.catplot(x=\"Time\", y=\"shannon\",\n",
    "            hue=\"Room_Type\", order=['T1','T3'], hue_order=('Regular','View'), \n",
    "            kind=\"box\", dodge=True, height=6, aspect=.9,\n",
    "            palette=color1, data=updated_Palm)\n",
    "ax = sns.stripplot(x='Time', y='shannon', hue='Room_Type',order=['T1','T3'],\n",
    "                   hue_order=('Regular','View'), palette=color2,\n",
    "                   jitter=True,size=7, dodge=True, marker='o', alpha=0.75, data=updated_Palm)\n",
    "\n",
    "# how to remove redundant legends in Python\n",
    "# Let us first get legend information from the plot object\n",
    "handles, labels = ax.get_legend_handles_labels()\n",
    "# specify just one legend\n",
    "l = plt.legend(handles[1:1], labels[1:1]).set_title('')\n",
    "ax.set(ylabel=\"shannon\")\n",
    "plt.ylim(0,6)"
   ]
  },
  {
   "cell_type": "markdown",
   "id": "70c32434-6fcf-4fa0-80cc-80dedbad5ec4",
   "metadata": {},
   "source": [
    "**Normality and variance test**"
   ]
  },
  {
   "cell_type": "code",
   "execution_count": 57,
   "id": "certain-consultation",
   "metadata": {},
   "outputs": [
    {
     "name": "stdout",
     "output_type": "stream",
     "text": [
      "Shapiro statistics of Palm shannnon index=0.898, p=0.038\n"
     ]
    }
   ],
   "source": [
    "stat, p = shapiro(updated_Palm['shannon'])\n",
    "print('Shapiro statistics of Palm shannnon index=%.3f, p=%.3f' % (stat, p))"
   ]
  },
  {
   "cell_type": "code",
   "execution_count": 58,
   "id": "5cf20a6d-360b-493f-9a95-5758bee170c3",
   "metadata": {},
   "outputs": [
    {
     "data": {
      "text/html": [
       "<div>\n",
       "<style scoped>\n",
       "    .dataframe tbody tr th:only-of-type {\n",
       "        vertical-align: middle;\n",
       "    }\n",
       "\n",
       "    .dataframe tbody tr th {\n",
       "        vertical-align: top;\n",
       "    }\n",
       "\n",
       "    .dataframe thead th {\n",
       "        text-align: right;\n",
       "    }\n",
       "</style>\n",
       "<table border=\"1\" class=\"dataframe\">\n",
       "  <thead>\n",
       "    <tr style=\"text-align: right;\">\n",
       "      <th></th>\n",
       "      <th>W</th>\n",
       "      <th>pval</th>\n",
       "      <th>normal</th>\n",
       "    </tr>\n",
       "  </thead>\n",
       "  <tbody>\n",
       "    <tr>\n",
       "      <th>T1</th>\n",
       "      <td>0.779226</td>\n",
       "      <td>0.008101</td>\n",
       "      <td>False</td>\n",
       "    </tr>\n",
       "    <tr>\n",
       "      <th>T3</th>\n",
       "      <td>0.979985</td>\n",
       "      <td>0.965088</td>\n",
       "      <td>True</td>\n",
       "    </tr>\n",
       "  </tbody>\n",
       "</table>\n",
       "</div>"
      ],
      "text/plain": [
       "           W      pval  normal\n",
       "T1  0.779226  0.008101   False\n",
       "T3  0.979985  0.965088    True"
      ]
     },
     "execution_count": 58,
     "metadata": {},
     "output_type": "execute_result"
    }
   ],
   "source": [
    "# Normality of AirDuct Dataframe for each Timepoints\n",
    "pg.normality(data=updated_Palm, dv='shannon', group='Time')"
   ]
  },
  {
   "cell_type": "code",
   "execution_count": 59,
   "id": "63a86008-0795-493a-8f87-ef6ace100a9d",
   "metadata": {},
   "outputs": [
    {
     "data": {
      "text/html": [
       "<div>\n",
       "<style scoped>\n",
       "    .dataframe tbody tr th:only-of-type {\n",
       "        vertical-align: middle;\n",
       "    }\n",
       "\n",
       "    .dataframe tbody tr th {\n",
       "        vertical-align: top;\n",
       "    }\n",
       "\n",
       "    .dataframe thead th {\n",
       "        text-align: right;\n",
       "    }\n",
       "</style>\n",
       "<table border=\"1\" class=\"dataframe\">\n",
       "  <thead>\n",
       "    <tr style=\"text-align: right;\">\n",
       "      <th></th>\n",
       "      <th>W</th>\n",
       "      <th>pval</th>\n",
       "      <th>normal</th>\n",
       "    </tr>\n",
       "  </thead>\n",
       "  <tbody>\n",
       "    <tr>\n",
       "      <th>Regular</th>\n",
       "      <td>0.869663</td>\n",
       "      <td>0.099065</td>\n",
       "      <td>True</td>\n",
       "    </tr>\n",
       "    <tr>\n",
       "      <th>View</th>\n",
       "      <td>0.889076</td>\n",
       "      <td>0.165556</td>\n",
       "      <td>True</td>\n",
       "    </tr>\n",
       "  </tbody>\n",
       "</table>\n",
       "</div>"
      ],
      "text/plain": [
       "                W      pval  normal\n",
       "Regular  0.869663  0.099065    True\n",
       "View     0.889076  0.165556    True"
      ]
     },
     "execution_count": 59,
     "metadata": {},
     "output_type": "execute_result"
    }
   ],
   "source": [
    "# Normality of AirDuct Dataframe for each Timepoints\n",
    "pg.normality(data=updated_Palm, dv='shannon', group='Room_Type')"
   ]
  },
  {
   "cell_type": "code",
   "execution_count": 60,
   "id": "207b4e8b-fa24-4684-8e0d-c8dfb8e58260",
   "metadata": {},
   "outputs": [
    {
     "name": "stdout",
     "output_type": "stream",
     "text": [
      "P-value of levene test for variance across Regular and EC Window room is: 0.45178767367121764\n",
      "P-value of levene test for variance across time is: 0.2187000112386129\n"
     ]
    }
   ],
   "source": [
    "# Levene Test\n",
    "stat, p =  levene(updated_Palm_RR[\"shannon\"], updated_Palm_VR[\"shannon\"])\n",
    "print(\"P-value of levene test for variance across Regular and EC Window room is:\", p)\n",
    "stat, p =  levene(updated_Palm_T1[\"shannon\"],\n",
    "                  updated_Palm_T3[\"shannon\"])\n",
    "print(\"P-value of levene test for variance across time is:\", p)"
   ]
  },
  {
   "cell_type": "markdown",
   "id": "c04d38ae-d478-4fa6-992b-be9c761061dc",
   "metadata": {},
   "source": [
    "\n",
    "#### Effect of Indoor daylight (Room_Type variable) on shannon index of **Palm** at each time"
   ]
  },
  {
   "cell_type": "code",
   "execution_count": 61,
   "id": "7c713ea0-12bf-42e8-882c-31a123ce2f26",
   "metadata": {},
   "outputs": [],
   "source": [
    "updated_Palm_T1_R=subgroup(updated_Palm_T1, \"Room_Type\",\"Regular\")\n",
    "updated_Palm_T1_V=subgroup(updated_Palm_T1, \"Room_Type\",\"View\")\n",
    "updated_Palm_T3_R=subgroup(updated_Palm_T3, \"Room_Type\",\"Regular\")\n",
    "updated_Palm_T3_V=subgroup(updated_Palm_T3, \"Room_Type\",\"View\")"
   ]
  },
  {
   "cell_type": "code",
   "execution_count": 62,
   "id": "d41fdeed-2bb3-43be-8cea-b624bef38656",
   "metadata": {},
   "outputs": [
    {
     "data": {
      "text/plain": [
       "MannwhitneyuResult(statistic=16.0, pvalue=0.5476190476190477)"
      ]
     },
     "execution_count": 62,
     "metadata": {},
     "output_type": "execute_result"
    }
   ],
   "source": [
    "#Palm T1 MannWhitney U test\n",
    "scipy.stats.mannwhitneyu(updated_Palm_T1_R['shannon'], updated_Palm_T1_V['shannon'], alternative='two-sided')"
   ]
  },
  {
   "cell_type": "code",
   "execution_count": 165,
   "id": "c7fc6643-924b-4edc-8fc7-7be69e70bd64",
   "metadata": {},
   "outputs": [
    {
     "data": {
      "text/plain": [
       "MannwhitneyuResult(statistic=17.0, pvalue=0.42063492063492064)"
      ]
     },
     "execution_count": 165,
     "metadata": {},
     "output_type": "execute_result"
    }
   ],
   "source": [
    "#Palm T3 MannWhitney U test\n",
    "scipy.stats.mannwhitneyu(updated_Palm_T3_R['shannon'], updated_Palm_T3_V['shannon'], alternative='two-sided')"
   ]
  },
  {
   "cell_type": "code",
   "execution_count": 63,
   "id": "2084c556-8431-46be-b0fd-836f5febfecd",
   "metadata": {},
   "outputs": [
    {
     "data": {
      "text/html": [
       "<div>\n",
       "<style scoped>\n",
       "    .dataframe tbody tr th:only-of-type {\n",
       "        vertical-align: middle;\n",
       "    }\n",
       "\n",
       "    .dataframe tbody tr th {\n",
       "        vertical-align: top;\n",
       "    }\n",
       "\n",
       "    .dataframe thead th {\n",
       "        text-align: right;\n",
       "    }\n",
       "</style>\n",
       "<table border=\"1\" class=\"dataframe\">\n",
       "  <thead>\n",
       "    <tr style=\"text-align: right;\">\n",
       "      <th></th>\n",
       "      <th>T</th>\n",
       "      <th>dof</th>\n",
       "      <th>alternative</th>\n",
       "      <th>p-val</th>\n",
       "      <th>CI95%</th>\n",
       "      <th>cohen-d</th>\n",
       "      <th>BF10</th>\n",
       "      <th>power</th>\n",
       "    </tr>\n",
       "  </thead>\n",
       "  <tbody>\n",
       "    <tr>\n",
       "      <th>T-test</th>\n",
       "      <td>0.851978</td>\n",
       "      <td>8</td>\n",
       "      <td>two-sided</td>\n",
       "      <td>0.418999</td>\n",
       "      <td>[-0.96, 2.08]</td>\n",
       "      <td>0.538838</td>\n",
       "      <td>0.614</td>\n",
       "      <td>0.117204</td>\n",
       "    </tr>\n",
       "  </tbody>\n",
       "</table>\n",
       "</div>"
      ],
      "text/plain": [
       "               T  dof alternative     p-val          CI95%   cohen-d   BF10  \\\n",
       "T-test  0.851978    8   two-sided  0.418999  [-0.96, 2.08]  0.538838  0.614   \n",
       "\n",
       "           power  \n",
       "T-test  0.117204  "
      ]
     },
     "execution_count": 63,
     "metadata": {},
     "output_type": "execute_result"
    }
   ],
   "source": [
    "#Palm Time3 2 sample t-test\n",
    "res=ttest(updated_Palm_T3_R['shannon'], updated_Palm_T3_V['shannon'],paired = False)\n",
    "res"
   ]
  },
  {
   "cell_type": "code",
   "execution_count": 167,
   "id": "f5cee988-9a3c-4f6c-a14f-072d1e0517f0",
   "metadata": {},
   "outputs": [
    {
     "data": {
      "text/html": [
       "<div>\n",
       "<style scoped>\n",
       "    .dataframe tbody tr th:only-of-type {\n",
       "        vertical-align: middle;\n",
       "    }\n",
       "\n",
       "    .dataframe tbody tr th {\n",
       "        vertical-align: top;\n",
       "    }\n",
       "\n",
       "    .dataframe thead th {\n",
       "        text-align: right;\n",
       "    }\n",
       "</style>\n",
       "<table border=\"1\" class=\"dataframe\">\n",
       "  <thead>\n",
       "    <tr style=\"text-align: right;\">\n",
       "      <th></th>\n",
       "      <th>Source</th>\n",
       "      <th>W</th>\n",
       "      <th>ddof1</th>\n",
       "      <th>Q</th>\n",
       "      <th>p-unc</th>\n",
       "    </tr>\n",
       "  </thead>\n",
       "  <tbody>\n",
       "    <tr>\n",
       "      <th>Friedman</th>\n",
       "      <td>Time</td>\n",
       "      <td>0.04</td>\n",
       "      <td>1</td>\n",
       "      <td>0.2</td>\n",
       "      <td>0.654721</td>\n",
       "    </tr>\n",
       "  </tbody>\n",
       "</table>\n",
       "</div>"
      ],
      "text/plain": [
       "         Source     W  ddof1    Q     p-unc\n",
       "Friedman   Time  0.04      1  0.2  0.654721"
      ]
     },
     "execution_count": 167,
     "metadata": {},
     "output_type": "execute_result"
    }
   ],
   "source": [
    "#Regular Rooom friedman test to see the block effect of TIME\n",
    "res= pg.friedman(data=updated_Palm_RR, dv=\"shannon\", within=\"Time\", subject=\"Room_Number\")\n",
    "res"
   ]
  },
  {
   "cell_type": "code",
   "execution_count": 168,
   "id": "d1fb3ae0-0f34-4e03-b722-fa120ebb267c",
   "metadata": {},
   "outputs": [
    {
     "data": {
      "text/html": [
       "<div>\n",
       "<style scoped>\n",
       "    .dataframe tbody tr th:only-of-type {\n",
       "        vertical-align: middle;\n",
       "    }\n",
       "\n",
       "    .dataframe tbody tr th {\n",
       "        vertical-align: top;\n",
       "    }\n",
       "\n",
       "    .dataframe thead th {\n",
       "        text-align: right;\n",
       "    }\n",
       "</style>\n",
       "<table border=\"1\" class=\"dataframe\">\n",
       "  <thead>\n",
       "    <tr style=\"text-align: right;\">\n",
       "      <th></th>\n",
       "      <th>Source</th>\n",
       "      <th>W</th>\n",
       "      <th>ddof1</th>\n",
       "      <th>Q</th>\n",
       "      <th>p-unc</th>\n",
       "    </tr>\n",
       "  </thead>\n",
       "  <tbody>\n",
       "    <tr>\n",
       "      <th>Friedman</th>\n",
       "      <td>Time</td>\n",
       "      <td>0.04</td>\n",
       "      <td>1</td>\n",
       "      <td>0.2</td>\n",
       "      <td>0.654721</td>\n",
       "    </tr>\n",
       "  </tbody>\n",
       "</table>\n",
       "</div>"
      ],
      "text/plain": [
       "         Source     W  ddof1    Q     p-unc\n",
       "Friedman   Time  0.04      1  0.2  0.654721"
      ]
     },
     "execution_count": 168,
     "metadata": {},
     "output_type": "execute_result"
    }
   ],
   "source": [
    "#EC window Rooom friedman test to see the block effect of TIME\n",
    "res= pg.friedman(data=updated_Palm_VR, dv=\"shannon\", within=\"Time\", subject=\"Room_Number\")\n",
    "res"
   ]
  },
  {
   "cell_type": "code",
   "execution_count": 169,
   "id": "5e9d01e7-498b-491e-9b20-abc05e55b43c",
   "metadata": {},
   "outputs": [
    {
     "name": "stdout",
     "output_type": "stream",
     "text": [
      "  Source  ddof1  ddof2         F     p-unc       np2  eps\n",
      "0   Time      1      4  0.118244  0.748262  0.028712  1.0\n"
     ]
    }
   ],
   "source": [
    "# One-Ways Repeated ANOVA on AirSample in EC window room\n",
    "aov = pg.rm_anova(dv='shannon', within=['Time'], subject='Room_Number', data=updated_Palm_VR)\n",
    "print(aov)"
   ]
  },
  {
   "cell_type": "code",
   "execution_count": 171,
   "id": "d13333a4-41b8-4276-a97a-8586fd3d5a19",
   "metadata": {},
   "outputs": [
    {
     "name": "stdout",
     "output_type": "stream",
     "text": [
      "  Source  ddof1  ddof2         F     p-unc       np2  eps\n",
      "0   Time      1      4  0.083393  0.787098  0.020423  1.0\n"
     ]
    }
   ],
   "source": [
    "# One-Ways Repeated ANOVA on AirSample in EC window room\n",
    "aov = pg.rm_anova(dv='shannon', within=['Time'], subject='Room_Number', data=updated_Palm_RR)\n",
    "print(aov)"
   ]
  },
  {
   "cell_type": "markdown",
   "id": "c8f8f845-c56b-4dd0-8f86-cd754c83f9b2",
   "metadata": {},
   "source": [
    "___\n",
    "# Part 2: EKSPAE pathogen's relative abundance analysis\n",
    "\n",
    "* Relative abundance of genus ***Staphylococcus*** AND ***Pseudomonas*** are calculated in R, and imported here. Raw data can be found in the folder \"Data\"\n",
    "\n",
    "**Import Data**"
   ]
  },
  {
   "cell_type": "code",
   "execution_count": 64,
   "id": "c20f0a63-fadf-45a3-8824-253fd4448a21",
   "metadata": {
    "tags": []
   },
   "outputs": [
    {
     "data": {
      "text/html": [
       "<div>\n",
       "<style scoped>\n",
       "    .dataframe tbody tr th:only-of-type {\n",
       "        vertical-align: middle;\n",
       "    }\n",
       "\n",
       "    .dataframe tbody tr th {\n",
       "        vertical-align: top;\n",
       "    }\n",
       "\n",
       "    .dataframe thead th {\n",
       "        text-align: right;\n",
       "    }\n",
       "</style>\n",
       "<table border=\"1\" class=\"dataframe\">\n",
       "  <thead>\n",
       "    <tr style=\"text-align: right;\">\n",
       "      <th></th>\n",
       "      <th>Room_Number</th>\n",
       "      <th>Abundance</th>\n",
       "      <th>location</th>\n",
       "      <th>Room_Type</th>\n",
       "      <th>Time</th>\n",
       "      <th>Kingdom</th>\n",
       "      <th>Phlylum</th>\n",
       "      <th>Class</th>\n",
       "      <th>Order</th>\n",
       "      <th>Family</th>\n",
       "      <th>Genus</th>\n",
       "    </tr>\n",
       "    <tr>\n",
       "      <th>Sample</th>\n",
       "      <th></th>\n",
       "      <th></th>\n",
       "      <th></th>\n",
       "      <th></th>\n",
       "      <th></th>\n",
       "      <th></th>\n",
       "      <th></th>\n",
       "      <th></th>\n",
       "      <th></th>\n",
       "      <th></th>\n",
       "      <th></th>\n",
       "    </tr>\n",
       "  </thead>\n",
       "  <tbody>\n",
       "    <tr>\n",
       "      <th>R1T0_AD</th>\n",
       "      <td>1</td>\n",
       "      <td>0.265085</td>\n",
       "      <td>AirDuct</td>\n",
       "      <td>Regular</td>\n",
       "      <td>T0</td>\n",
       "      <td>Bacteria</td>\n",
       "      <td>Firmicutes</td>\n",
       "      <td>Bacilli</td>\n",
       "      <td>Bacillales</td>\n",
       "      <td>Staphylococcaceae</td>\n",
       "      <td>Staphylococcus</td>\n",
       "    </tr>\n",
       "    <tr>\n",
       "      <th>R1T0_IB</th>\n",
       "      <td>1</td>\n",
       "      <td>0.529014</td>\n",
       "      <td>Inside-Blind</td>\n",
       "      <td>Regular</td>\n",
       "      <td>T0</td>\n",
       "      <td>Bacteria</td>\n",
       "      <td>Firmicutes</td>\n",
       "      <td>Bacilli</td>\n",
       "      <td>Bacillales</td>\n",
       "      <td>Staphylococcaceae</td>\n",
       "      <td>Staphylococcus</td>\n",
       "    </tr>\n",
       "    <tr>\n",
       "      <th>R1T0_OB</th>\n",
       "      <td>1</td>\n",
       "      <td>0.257763</td>\n",
       "      <td>Outside-Blind</td>\n",
       "      <td>Regular</td>\n",
       "      <td>T0</td>\n",
       "      <td>Bacteria</td>\n",
       "      <td>Firmicutes</td>\n",
       "      <td>Bacilli</td>\n",
       "      <td>Bacillales</td>\n",
       "      <td>Staphylococcaceae</td>\n",
       "      <td>Staphylococcus</td>\n",
       "    </tr>\n",
       "    <tr>\n",
       "      <th>R1T0_W</th>\n",
       "      <td>1</td>\n",
       "      <td>0.504211</td>\n",
       "      <td>Window</td>\n",
       "      <td>Regular</td>\n",
       "      <td>T0</td>\n",
       "      <td>Bacteria</td>\n",
       "      <td>Firmicutes</td>\n",
       "      <td>Bacilli</td>\n",
       "      <td>Bacillales</td>\n",
       "      <td>Staphylococcaceae</td>\n",
       "      <td>Staphylococcus</td>\n",
       "    </tr>\n",
       "    <tr>\n",
       "      <th>R1T1_AD</th>\n",
       "      <td>1</td>\n",
       "      <td>0.265734</td>\n",
       "      <td>AirDuct</td>\n",
       "      <td>Regular</td>\n",
       "      <td>T1</td>\n",
       "      <td>Bacteria</td>\n",
       "      <td>Firmicutes</td>\n",
       "      <td>Bacilli</td>\n",
       "      <td>Bacillales</td>\n",
       "      <td>Staphylococcaceae</td>\n",
       "      <td>Staphylococcus</td>\n",
       "    </tr>\n",
       "  </tbody>\n",
       "</table>\n",
       "</div>"
      ],
      "text/plain": [
       "         Room_Number  Abundance       location Room_Type Time   Kingdom  \\\n",
       "Sample                                                                    \n",
       "R1T0_AD            1   0.265085        AirDuct   Regular   T0  Bacteria   \n",
       "R1T0_IB            1   0.529014   Inside-Blind   Regular   T0  Bacteria   \n",
       "R1T0_OB            1   0.257763  Outside-Blind   Regular   T0  Bacteria   \n",
       "R1T0_W             1   0.504211         Window   Regular   T0  Bacteria   \n",
       "R1T1_AD            1   0.265734        AirDuct   Regular   T1  Bacteria   \n",
       "\n",
       "            Phlylum    Class       Order             Family           Genus  \n",
       "Sample                                                                       \n",
       "R1T0_AD  Firmicutes  Bacilli  Bacillales  Staphylococcaceae  Staphylococcus  \n",
       "R1T0_IB  Firmicutes  Bacilli  Bacillales  Staphylococcaceae  Staphylococcus  \n",
       "R1T0_OB  Firmicutes  Bacilli  Bacillales  Staphylococcaceae  Staphylococcus  \n",
       "R1T0_W   Firmicutes  Bacilli  Bacillales  Staphylococcaceae  Staphylococcus  \n",
       "R1T1_AD  Firmicutes  Bacilli  Bacillales  Staphylococcaceae  Staphylococcus  "
      ]
     },
     "execution_count": 64,
     "metadata": {},
     "output_type": "execute_result"
    }
   ],
   "source": [
    "#Staphylococcus Relative Abundance at the genus level\n",
    "Staph = pd.read_csv(\"/Users/ritalam519/Desktop/Analysis/UVM/All_Staph_Abundance_v2.csv\",delimiter=\",\", header = 0,index_col=0)\n",
    "Staph.head(5)"
   ]
  },
  {
   "cell_type": "code",
   "execution_count": 65,
   "id": "9759d7d1-3e30-457c-9a06-5f19ca10ba24",
   "metadata": {},
   "outputs": [
    {
     "data": {
      "text/html": [
       "<div>\n",
       "<style scoped>\n",
       "    .dataframe tbody tr th:only-of-type {\n",
       "        vertical-align: middle;\n",
       "    }\n",
       "\n",
       "    .dataframe tbody tr th {\n",
       "        vertical-align: top;\n",
       "    }\n",
       "\n",
       "    .dataframe thead th {\n",
       "        text-align: right;\n",
       "    }\n",
       "</style>\n",
       "<table border=\"1\" class=\"dataframe\">\n",
       "  <thead>\n",
       "    <tr style=\"text-align: right;\">\n",
       "      <th></th>\n",
       "      <th>Room_Number</th>\n",
       "      <th>Abundance</th>\n",
       "      <th>location</th>\n",
       "      <th>Room_Type</th>\n",
       "      <th>Time</th>\n",
       "      <th>Kingdom</th>\n",
       "      <th>Genus</th>\n",
       "    </tr>\n",
       "    <tr>\n",
       "      <th>Sample</th>\n",
       "      <th></th>\n",
       "      <th></th>\n",
       "      <th></th>\n",
       "      <th></th>\n",
       "      <th></th>\n",
       "      <th></th>\n",
       "      <th></th>\n",
       "    </tr>\n",
       "  </thead>\n",
       "  <tbody>\n",
       "    <tr>\n",
       "      <th>R1T0_AD</th>\n",
       "      <td>1</td>\n",
       "      <td>0.014183</td>\n",
       "      <td>AirDuct</td>\n",
       "      <td>Regular</td>\n",
       "      <td>T0</td>\n",
       "      <td>Bacteria</td>\n",
       "      <td>Pseudomonas</td>\n",
       "    </tr>\n",
       "    <tr>\n",
       "      <th>R1T0_IB</th>\n",
       "      <td>1</td>\n",
       "      <td>0.021184</td>\n",
       "      <td>Inside-Blind</td>\n",
       "      <td>Regular</td>\n",
       "      <td>T0</td>\n",
       "      <td>Bacteria</td>\n",
       "      <td>Pseudomonas</td>\n",
       "    </tr>\n",
       "    <tr>\n",
       "      <th>R1T0_OB</th>\n",
       "      <td>1</td>\n",
       "      <td>0.032749</td>\n",
       "      <td>Outside-Blind</td>\n",
       "      <td>Regular</td>\n",
       "      <td>T0</td>\n",
       "      <td>Bacteria</td>\n",
       "      <td>Pseudomonas</td>\n",
       "    </tr>\n",
       "    <tr>\n",
       "      <th>R1T0_W</th>\n",
       "      <td>1</td>\n",
       "      <td>0.000000</td>\n",
       "      <td>Window</td>\n",
       "      <td>Regular</td>\n",
       "      <td>T0</td>\n",
       "      <td>Bacteria</td>\n",
       "      <td>Pseudomonas</td>\n",
       "    </tr>\n",
       "    <tr>\n",
       "      <th>R1T1_AD</th>\n",
       "      <td>1</td>\n",
       "      <td>0.000000</td>\n",
       "      <td>AirDuct</td>\n",
       "      <td>Regular</td>\n",
       "      <td>T1</td>\n",
       "      <td>Bacteria</td>\n",
       "      <td>Pseudomonas</td>\n",
       "    </tr>\n",
       "  </tbody>\n",
       "</table>\n",
       "</div>"
      ],
      "text/plain": [
       "         Room_Number  Abundance       location Room_Type Time   Kingdom  \\\n",
       "Sample                                                                    \n",
       "R1T0_AD            1   0.014183        AirDuct   Regular   T0  Bacteria   \n",
       "R1T0_IB            1   0.021184   Inside-Blind   Regular   T0  Bacteria   \n",
       "R1T0_OB            1   0.032749  Outside-Blind   Regular   T0  Bacteria   \n",
       "R1T0_W             1   0.000000         Window   Regular   T0  Bacteria   \n",
       "R1T1_AD            1   0.000000        AirDuct   Regular   T1  Bacteria   \n",
       "\n",
       "               Genus  \n",
       "Sample                \n",
       "R1T0_AD  Pseudomonas  \n",
       "R1T0_IB  Pseudomonas  \n",
       "R1T0_OB  Pseudomonas  \n",
       "R1T0_W   Pseudomonas  \n",
       "R1T1_AD  Pseudomonas  "
      ]
     },
     "execution_count": 65,
     "metadata": {},
     "output_type": "execute_result"
    }
   ],
   "source": [
    "#Staphylococcus Relative Abundance at the genus level\n",
    "Pseudo = pd.read_csv(\"/Users/ritalam519/Desktop/Analysis/UVM/Pseudomonas-Abundance-Genus.csv\",delimiter=\",\", header = 0,index_col=0)\n",
    "Pseudo.head(5)"
   ]
  },
  {
   "cell_type": "markdown",
   "id": "6ccbd891-0443-47a7-848b-125605ced155",
   "metadata": {},
   "source": [
    "## Data processing \n",
    "\n",
    "**Genus Staphylcooccus**"
   ]
  },
  {
   "cell_type": "code",
   "execution_count": 66,
   "id": "d08cda17-9bc1-4336-8324-6239654e11bd",
   "metadata": {},
   "outputs": [
    {
     "data": {
      "text/html": [
       "<div>\n",
       "<style scoped>\n",
       "    .dataframe tbody tr th:only-of-type {\n",
       "        vertical-align: middle;\n",
       "    }\n",
       "\n",
       "    .dataframe tbody tr th {\n",
       "        vertical-align: top;\n",
       "    }\n",
       "\n",
       "    .dataframe thead th {\n",
       "        text-align: right;\n",
       "    }\n",
       "</style>\n",
       "<table border=\"1\" class=\"dataframe\">\n",
       "  <thead>\n",
       "    <tr style=\"text-align: right;\">\n",
       "      <th></th>\n",
       "      <th>Room_Number</th>\n",
       "      <th>Abundance</th>\n",
       "      <th>location</th>\n",
       "      <th>Room_Type</th>\n",
       "      <th>Time</th>\n",
       "      <th>Kingdom</th>\n",
       "      <th>Phlylum</th>\n",
       "      <th>Class</th>\n",
       "      <th>Order</th>\n",
       "      <th>Family</th>\n",
       "      <th>Genus</th>\n",
       "    </tr>\n",
       "    <tr>\n",
       "      <th>Sample</th>\n",
       "      <th></th>\n",
       "      <th></th>\n",
       "      <th></th>\n",
       "      <th></th>\n",
       "      <th></th>\n",
       "      <th></th>\n",
       "      <th></th>\n",
       "      <th></th>\n",
       "      <th></th>\n",
       "      <th></th>\n",
       "      <th></th>\n",
       "    </tr>\n",
       "  </thead>\n",
       "  <tbody>\n",
       "    <tr>\n",
       "      <th>R1T1_AF</th>\n",
       "      <td>1</td>\n",
       "      <td>0.000000</td>\n",
       "      <td>AirFilter</td>\n",
       "      <td>Regular</td>\n",
       "      <td>T1</td>\n",
       "      <td>Bacteria</td>\n",
       "      <td>Firmicutes</td>\n",
       "      <td>Bacilli</td>\n",
       "      <td>Bacillales</td>\n",
       "      <td>Staphylococcaceae</td>\n",
       "      <td>Staphylococcus</td>\n",
       "    </tr>\n",
       "    <tr>\n",
       "      <th>R1T3_AF</th>\n",
       "      <td>1</td>\n",
       "      <td>0.000000</td>\n",
       "      <td>AirFilter</td>\n",
       "      <td>Regular</td>\n",
       "      <td>T3</td>\n",
       "      <td>Bacteria</td>\n",
       "      <td>Firmicutes</td>\n",
       "      <td>Bacilli</td>\n",
       "      <td>Bacillales</td>\n",
       "      <td>Staphylococcaceae</td>\n",
       "      <td>Staphylococcus</td>\n",
       "    </tr>\n",
       "    <tr>\n",
       "      <th>R2T1_AF</th>\n",
       "      <td>2</td>\n",
       "      <td>0.000248</td>\n",
       "      <td>AirFilter</td>\n",
       "      <td>Regular</td>\n",
       "      <td>T1</td>\n",
       "      <td>Bacteria</td>\n",
       "      <td>Firmicutes</td>\n",
       "      <td>Bacilli</td>\n",
       "      <td>Bacillales</td>\n",
       "      <td>Staphylococcaceae</td>\n",
       "      <td>Staphylococcus</td>\n",
       "    </tr>\n",
       "    <tr>\n",
       "      <th>R2T3_AF</th>\n",
       "      <td>2</td>\n",
       "      <td>0.166901</td>\n",
       "      <td>AirFilter</td>\n",
       "      <td>Regular</td>\n",
       "      <td>T3</td>\n",
       "      <td>Bacteria</td>\n",
       "      <td>Firmicutes</td>\n",
       "      <td>Bacilli</td>\n",
       "      <td>Bacillales</td>\n",
       "      <td>Staphylococcaceae</td>\n",
       "      <td>Staphylococcus</td>\n",
       "    </tr>\n",
       "    <tr>\n",
       "      <th>R3T1_AF</th>\n",
       "      <td>3</td>\n",
       "      <td>0.086688</td>\n",
       "      <td>AirFilter</td>\n",
       "      <td>Regular</td>\n",
       "      <td>T1</td>\n",
       "      <td>Bacteria</td>\n",
       "      <td>Firmicutes</td>\n",
       "      <td>Bacilli</td>\n",
       "      <td>Bacillales</td>\n",
       "      <td>Staphylococcaceae</td>\n",
       "      <td>Staphylococcus</td>\n",
       "    </tr>\n",
       "  </tbody>\n",
       "</table>\n",
       "</div>"
      ],
      "text/plain": [
       "         Room_Number  Abundance   location Room_Type Time   Kingdom  \\\n",
       "Sample                                                                \n",
       "R1T1_AF            1   0.000000  AirFilter   Regular   T1  Bacteria   \n",
       "R1T3_AF            1   0.000000  AirFilter   Regular   T3  Bacteria   \n",
       "R2T1_AF            2   0.000248  AirFilter   Regular   T1  Bacteria   \n",
       "R2T3_AF            2   0.166901  AirFilter   Regular   T3  Bacteria   \n",
       "R3T1_AF            3   0.086688  AirFilter   Regular   T1  Bacteria   \n",
       "\n",
       "            Phlylum    Class       Order             Family           Genus  \n",
       "Sample                                                                       \n",
       "R1T1_AF  Firmicutes  Bacilli  Bacillales  Staphylococcaceae  Staphylococcus  \n",
       "R1T3_AF  Firmicutes  Bacilli  Bacillales  Staphylococcaceae  Staphylococcus  \n",
       "R2T1_AF  Firmicutes  Bacilli  Bacillales  Staphylococcaceae  Staphylococcus  \n",
       "R2T3_AF  Firmicutes  Bacilli  Bacillales  Staphylococcaceae  Staphylococcus  \n",
       "R3T1_AF  Firmicutes  Bacilli  Bacillales  Staphylococcaceae  Staphylococcus  "
      ]
     },
     "execution_count": 66,
     "metadata": {},
     "output_type": "execute_result"
    }
   ],
   "source": [
    "#subgroup for each sample\n",
    "Window_Staph=subgroup(Staph,\"location\",\"Window\")\n",
    "AirDuct_Staph=subgroup(Staph, \"location\",\"AirDuct\")\n",
    "Saliva_Staph=subgroup(Staph,\"location\",\"Saliva\")\n",
    "Palm_Staph=subgroup(Staph,\"location\",\"Palm\")\n",
    "OB_Staph=subgroup(Staph,\"location\",\"Outside-Blind\")\n",
    "IB_Staph=subgroup(Staph,\"location\",\"Inside-Blind\")\n",
    "AirSample_Staph=subgroup(Staph,\"location\",\"AirFilter\")\n",
    "AirSample_Staph.head(5)"
   ]
  },
  {
   "cell_type": "markdown",
   "id": "166e8112-2bcf-48b2-9f6e-8d27127b2b2c",
   "metadata": {},
   "source": [
    "**Genus Pseudomonmas**"
   ]
  },
  {
   "cell_type": "code",
   "execution_count": 67,
   "id": "561c2f43-2e59-4534-9d09-f55ade466c99",
   "metadata": {},
   "outputs": [
    {
     "data": {
      "text/html": [
       "<div>\n",
       "<style scoped>\n",
       "    .dataframe tbody tr th:only-of-type {\n",
       "        vertical-align: middle;\n",
       "    }\n",
       "\n",
       "    .dataframe tbody tr th {\n",
       "        vertical-align: top;\n",
       "    }\n",
       "\n",
       "    .dataframe thead th {\n",
       "        text-align: right;\n",
       "    }\n",
       "</style>\n",
       "<table border=\"1\" class=\"dataframe\">\n",
       "  <thead>\n",
       "    <tr style=\"text-align: right;\">\n",
       "      <th></th>\n",
       "      <th>Room_Number</th>\n",
       "      <th>Abundance</th>\n",
       "      <th>location</th>\n",
       "      <th>Room_Type</th>\n",
       "      <th>Time</th>\n",
       "      <th>Kingdom</th>\n",
       "      <th>Genus</th>\n",
       "    </tr>\n",
       "    <tr>\n",
       "      <th>Sample</th>\n",
       "      <th></th>\n",
       "      <th></th>\n",
       "      <th></th>\n",
       "      <th></th>\n",
       "      <th></th>\n",
       "      <th></th>\n",
       "      <th></th>\n",
       "    </tr>\n",
       "  </thead>\n",
       "  <tbody>\n",
       "    <tr>\n",
       "      <th>R1T1_AF</th>\n",
       "      <td>1</td>\n",
       "      <td>0.000000</td>\n",
       "      <td>AirFilter</td>\n",
       "      <td>Regular</td>\n",
       "      <td>T1</td>\n",
       "      <td>Bacteria</td>\n",
       "      <td>Pseudomonas</td>\n",
       "    </tr>\n",
       "    <tr>\n",
       "      <th>R1T3_AF</th>\n",
       "      <td>1</td>\n",
       "      <td>0.068674</td>\n",
       "      <td>AirFilter</td>\n",
       "      <td>Regular</td>\n",
       "      <td>T3</td>\n",
       "      <td>Bacteria</td>\n",
       "      <td>Pseudomonas</td>\n",
       "    </tr>\n",
       "    <tr>\n",
       "      <th>R2T1_AF</th>\n",
       "      <td>2</td>\n",
       "      <td>0.000000</td>\n",
       "      <td>AirFilter</td>\n",
       "      <td>Regular</td>\n",
       "      <td>T1</td>\n",
       "      <td>Bacteria</td>\n",
       "      <td>Pseudomonas</td>\n",
       "    </tr>\n",
       "    <tr>\n",
       "      <th>R2T3_AF</th>\n",
       "      <td>2</td>\n",
       "      <td>0.000000</td>\n",
       "      <td>AirFilter</td>\n",
       "      <td>Regular</td>\n",
       "      <td>T3</td>\n",
       "      <td>Bacteria</td>\n",
       "      <td>Pseudomonas</td>\n",
       "    </tr>\n",
       "    <tr>\n",
       "      <th>R3T1_AF</th>\n",
       "      <td>3</td>\n",
       "      <td>0.000000</td>\n",
       "      <td>AirFilter</td>\n",
       "      <td>Regular</td>\n",
       "      <td>T1</td>\n",
       "      <td>Bacteria</td>\n",
       "      <td>Pseudomonas</td>\n",
       "    </tr>\n",
       "  </tbody>\n",
       "</table>\n",
       "</div>"
      ],
      "text/plain": [
       "         Room_Number  Abundance   location Room_Type Time   Kingdom  \\\n",
       "Sample                                                                \n",
       "R1T1_AF            1   0.000000  AirFilter   Regular   T1  Bacteria   \n",
       "R1T3_AF            1   0.068674  AirFilter   Regular   T3  Bacteria   \n",
       "R2T1_AF            2   0.000000  AirFilter   Regular   T1  Bacteria   \n",
       "R2T3_AF            2   0.000000  AirFilter   Regular   T3  Bacteria   \n",
       "R3T1_AF            3   0.000000  AirFilter   Regular   T1  Bacteria   \n",
       "\n",
       "               Genus  \n",
       "Sample                \n",
       "R1T1_AF  Pseudomonas  \n",
       "R1T3_AF  Pseudomonas  \n",
       "R2T1_AF  Pseudomonas  \n",
       "R2T3_AF  Pseudomonas  \n",
       "R3T1_AF  Pseudomonas  "
      ]
     },
     "execution_count": 67,
     "metadata": {},
     "output_type": "execute_result"
    }
   ],
   "source": [
    "#subgroup for each sample\n",
    "Window_Pseudo=subgroup(Pseudo,\"location\",\"Window\")\n",
    "AirDuct_Pseudo=subgroup(Pseudo, \"location\",\"AirDuct\")\n",
    "Saliva_Pseudo=subgroup(Pseudo,\"location\",\"Saliva\")\n",
    "Palm_Pseudo=subgroup(Pseudo,\"location\",\"Palm\")\n",
    "OB_Pseudo=subgroup(Pseudo,\"location\",\"Outside-Blind\")\n",
    "IB_Pseudo=subgroup(Pseudo,\"location\",\"Inside-Blind\")\n",
    "AirSample_Pseudo=subgroup(Pseudo,\"location\",\"AirFilter\")\n",
    "AirSample_Pseudo.head(5)"
   ]
  },
  {
   "cell_type": "markdown",
   "id": "86f8a9d5-3097-43b8-b161-224ba05fb142",
   "metadata": {},
   "source": [
    "___\n",
    "## Statistical analysis: Staphylcooccus\n",
    "### Initial Data visualization"
   ]
  },
  {
   "cell_type": "code",
   "execution_count": 68,
   "id": "f221cc99-c4e3-4545-bd9d-793563cfdc19",
   "metadata": {},
   "outputs": [
    {
     "data": {
      "text/plain": [
       "(0.0, 1.0)"
      ]
     },
     "execution_count": 68,
     "metadata": {},
     "output_type": "execute_result"
    },
    {
     "data": {
      "text/plain": [
       "<Figure size 1200x1000 with 0 Axes>"
      ]
     },
     "metadata": {},
     "output_type": "display_data"
    },
    {
     "data": {
      "image/png": "[encoded data removed]",
      "text/plain": [
       "<Figure size 1422.88x800 with 2 Axes>"
      ]
     },
     "metadata": {},
     "output_type": "display_data"
    }
   ],
   "source": [
    "plt.figure(figsize= (12,10))\n",
    "g = sns.catplot(x=\"Time\", y=\"Abundance\",\n",
    "                hue=\"location\", hue_order=['Window','AirDuct','Palm','Saliva','Outside-Blind','AirFilter','Inside-Blind'],\n",
    "                col='Room_Type',order=['T0','T1','T2','T3'],\n",
    "                col_wrap=2, col_order=['View','Regular'], palette='muted',\n",
    "                data=Staph, kind=\"box\", dodge=True,\n",
    "                height=8, aspect=0.8);\n",
    "g.set(ylabel='Relative Abundance')\n",
    "plt.ylim(0,1)"
   ]
  },
  {
   "cell_type": "markdown",
   "id": "2dc60f56-1628-4692-9400-2ac1564ec8a3",
   "metadata": {},
   "source": [
    "\n",
    "* Air Sample (brown have VERY low abundance of staphylococcus relative abundance\n",
    "* Saliva also did not have detectable stahylcooccus\n",
    "\n",
    "___\n",
    "### Window (Staphylcoocccus)"
   ]
  },
  {
   "cell_type": "code",
   "execution_count": 69,
   "id": "ffe8d892-d466-4663-a820-d1e409080dea",
   "metadata": {},
   "outputs": [
    {
     "data": {
      "text/html": [
       "<div>\n",
       "<style scoped>\n",
       "    .dataframe tbody tr th:only-of-type {\n",
       "        vertical-align: middle;\n",
       "    }\n",
       "\n",
       "    .dataframe tbody tr th {\n",
       "        vertical-align: top;\n",
       "    }\n",
       "\n",
       "    .dataframe thead th {\n",
       "        text-align: right;\n",
       "    }\n",
       "</style>\n",
       "<table border=\"1\" class=\"dataframe\">\n",
       "  <thead>\n",
       "    <tr style=\"text-align: right;\">\n",
       "      <th></th>\n",
       "      <th>Room_Number</th>\n",
       "      <th>Abundance</th>\n",
       "      <th>location</th>\n",
       "      <th>Room_Type</th>\n",
       "      <th>Time</th>\n",
       "      <th>Kingdom</th>\n",
       "      <th>Phlylum</th>\n",
       "      <th>Class</th>\n",
       "      <th>Order</th>\n",
       "      <th>Family</th>\n",
       "      <th>Genus</th>\n",
       "    </tr>\n",
       "    <tr>\n",
       "      <th>Sample</th>\n",
       "      <th></th>\n",
       "      <th></th>\n",
       "      <th></th>\n",
       "      <th></th>\n",
       "      <th></th>\n",
       "      <th></th>\n",
       "      <th></th>\n",
       "      <th></th>\n",
       "      <th></th>\n",
       "      <th></th>\n",
       "      <th></th>\n",
       "    </tr>\n",
       "  </thead>\n",
       "  <tbody>\n",
       "    <tr>\n",
       "      <th>W1T3_W</th>\n",
       "      <td>1</td>\n",
       "      <td>0.160823</td>\n",
       "      <td>Window</td>\n",
       "      <td>View</td>\n",
       "      <td>T3</td>\n",
       "      <td>Bacteria</td>\n",
       "      <td>Firmicutes</td>\n",
       "      <td>Bacilli</td>\n",
       "      <td>Bacillales</td>\n",
       "      <td>Staphylococcaceae</td>\n",
       "      <td>Staphylococcus</td>\n",
       "    </tr>\n",
       "    <tr>\n",
       "      <th>W3T3_W</th>\n",
       "      <td>3</td>\n",
       "      <td>0.000170</td>\n",
       "      <td>Window</td>\n",
       "      <td>View</td>\n",
       "      <td>T3</td>\n",
       "      <td>Bacteria</td>\n",
       "      <td>Firmicutes</td>\n",
       "      <td>Bacilli</td>\n",
       "      <td>Bacillales</td>\n",
       "      <td>Staphylococcaceae</td>\n",
       "      <td>Staphylococcus</td>\n",
       "    </tr>\n",
       "    <tr>\n",
       "      <th>W4T3_W</th>\n",
       "      <td>4</td>\n",
       "      <td>0.434334</td>\n",
       "      <td>Window</td>\n",
       "      <td>View</td>\n",
       "      <td>T3</td>\n",
       "      <td>Bacteria</td>\n",
       "      <td>Firmicutes</td>\n",
       "      <td>Bacilli</td>\n",
       "      <td>Bacillales</td>\n",
       "      <td>Staphylococcaceae</td>\n",
       "      <td>Staphylococcus</td>\n",
       "    </tr>\n",
       "    <tr>\n",
       "      <th>W5T3_W</th>\n",
       "      <td>5</td>\n",
       "      <td>0.041946</td>\n",
       "      <td>Window</td>\n",
       "      <td>View</td>\n",
       "      <td>T3</td>\n",
       "      <td>Bacteria</td>\n",
       "      <td>Firmicutes</td>\n",
       "      <td>Bacilli</td>\n",
       "      <td>Bacillales</td>\n",
       "      <td>Staphylococcaceae</td>\n",
       "      <td>Staphylococcus</td>\n",
       "    </tr>\n",
       "    <tr>\n",
       "      <th>W6T3_W</th>\n",
       "      <td>6</td>\n",
       "      <td>0.063906</td>\n",
       "      <td>Window</td>\n",
       "      <td>View</td>\n",
       "      <td>T3</td>\n",
       "      <td>Bacteria</td>\n",
       "      <td>Firmicutes</td>\n",
       "      <td>Bacilli</td>\n",
       "      <td>Bacillales</td>\n",
       "      <td>Staphylococcaceae</td>\n",
       "      <td>Staphylococcus</td>\n",
       "    </tr>\n",
       "  </tbody>\n",
       "</table>\n",
       "</div>"
      ],
      "text/plain": [
       "        Room_Number  Abundance location Room_Type Time   Kingdom     Phlylum  \\\n",
       "Sample                                                                         \n",
       "W1T3_W            1   0.160823   Window      View   T3  Bacteria  Firmicutes   \n",
       "W3T3_W            3   0.000170   Window      View   T3  Bacteria  Firmicutes   \n",
       "W4T3_W            4   0.434334   Window      View   T3  Bacteria  Firmicutes   \n",
       "W5T3_W            5   0.041946   Window      View   T3  Bacteria  Firmicutes   \n",
       "W6T3_W            6   0.063906   Window      View   T3  Bacteria  Firmicutes   \n",
       "\n",
       "          Class       Order             Family           Genus  \n",
       "Sample                                                          \n",
       "W1T3_W  Bacilli  Bacillales  Staphylococcaceae  Staphylococcus  \n",
       "W3T3_W  Bacilli  Bacillales  Staphylococcaceae  Staphylococcus  \n",
       "W4T3_W  Bacilli  Bacillales  Staphylococcaceae  Staphylococcus  \n",
       "W5T3_W  Bacilli  Bacillales  Staphylococcaceae  Staphylococcus  \n",
       "W6T3_W  Bacilli  Bacillales  Staphylococcaceae  Staphylococcus  "
      ]
     },
     "execution_count": 69,
     "metadata": {},
     "output_type": "execute_result"
    }
   ],
   "source": [
    "Staph_Window_Regular= subgroup(Window_Staph, \"Room_Type\", \"Regular\")\n",
    "Staph_Window_View= subgroup(≈, \"Room_Type\", \"View\")\n",
    "#Subgroup for each Timepoint \n",
    "Staph_WR_T0=subgroup(Staph_Window_Regular, \"Time\",\"T0\")\n",
    "Staph_WR_T1=subgroup(Staph_Window_Regular, \"Time\",\"T1\")\n",
    "Staph_WR_T2=subgroup(Staph_Window_Regular, \"Time\",\"T2\")\n",
    "Staph_WR_T3=subgroup(Staph_Window_Regular, \"Time\",\"T3\")\n",
    "Staph_WV_T0=subgroup(Staph_Window_View, \"Time\",\"T0\")\n",
    "Staph_WV_T1=subgroup(Staph_Window_View, \"Time\",\"T1\")\n",
    "Staph_WV_T2=subgroup(Staph_Window_View, \"Time\",\"T2\")\n",
    "Staph_WV_T3=subgroup(Staph_Window_View, \"Time\",\"T3\")\n",
    "Staph_WV_T3"
   ]
  },
  {
   "cell_type": "code",
   "execution_count": 173,
   "id": "1b8c29fb-f748-4aed-8b3e-5aee5ae819bf",
   "metadata": {},
   "outputs": [
    {
     "name": "stdout",
     "output_type": "stream",
     "text": [
      "Shapiro statistics of Window =0.906, p=0.004\n"
     ]
    }
   ],
   "source": [
    "# Overall Shapiro Wilk Test \n",
    "stat, p = shapiro(Window_Staph[\"Abundance\"])\n",
    "print('Shapiro statistics of Window =%.3f, p=%.3f' % (stat, p))"
   ]
  },
  {
   "cell_type": "markdown",
   "id": "2c01d697-edd0-4132-8940-71578c6e6553",
   "metadata": {},
   "source": [
    "**Normality and variance test**"
   ]
  },
  {
   "cell_type": "code",
   "execution_count": 70,
   "id": "ed26083c-4a34-463a-aafe-ab3431ad511b",
   "metadata": {},
   "outputs": [
    {
     "data": {
      "text/html": [
       "<div>\n",
       "<style scoped>\n",
       "    .dataframe tbody tr th:only-of-type {\n",
       "        vertical-align: middle;\n",
       "    }\n",
       "\n",
       "    .dataframe tbody tr th {\n",
       "        vertical-align: top;\n",
       "    }\n",
       "\n",
       "    .dataframe thead th {\n",
       "        text-align: right;\n",
       "    }\n",
       "</style>\n",
       "<table border=\"1\" class=\"dataframe\">\n",
       "  <thead>\n",
       "    <tr style=\"text-align: right;\">\n",
       "      <th></th>\n",
       "      <th>W</th>\n",
       "      <th>pval</th>\n",
       "      <th>normal</th>\n",
       "    </tr>\n",
       "  </thead>\n",
       "  <tbody>\n",
       "    <tr>\n",
       "      <th>T0</th>\n",
       "      <td>0.828474</td>\n",
       "      <td>0.057235</td>\n",
       "      <td>True</td>\n",
       "    </tr>\n",
       "    <tr>\n",
       "      <th>T1</th>\n",
       "      <td>0.899980</td>\n",
       "      <td>0.218988</td>\n",
       "      <td>True</td>\n",
       "    </tr>\n",
       "    <tr>\n",
       "      <th>T2</th>\n",
       "      <td>0.934051</td>\n",
       "      <td>0.488901</td>\n",
       "      <td>True</td>\n",
       "    </tr>\n",
       "    <tr>\n",
       "      <th>T3</th>\n",
       "      <td>0.864288</td>\n",
       "      <td>0.085709</td>\n",
       "      <td>True</td>\n",
       "    </tr>\n",
       "  </tbody>\n",
       "</table>\n",
       "</div>"
      ],
      "text/plain": [
       "           W      pval  normal\n",
       "T0  0.828474  0.057235    True\n",
       "T1  0.899980  0.218988    True\n",
       "T2  0.934051  0.488901    True\n",
       "T3  0.864288  0.085709    True"
      ]
     },
     "execution_count": 70,
     "metadata": {},
     "output_type": "execute_result"
    }
   ],
   "source": [
    "# Normality of Window Dataframe for each Timepoints\n",
    "pg.normality(data=Window_Staph, dv='Abundance', group='Time')"
   ]
  },
  {
   "cell_type": "code",
   "execution_count": 71,
   "id": "c80b2929-7cc7-4cd6-a34a-244785ed014b",
   "metadata": {},
   "outputs": [
    {
     "data": {
      "text/html": [
       "<div>\n",
       "<style scoped>\n",
       "    .dataframe tbody tr th:only-of-type {\n",
       "        vertical-align: middle;\n",
       "    }\n",
       "\n",
       "    .dataframe tbody tr th {\n",
       "        vertical-align: top;\n",
       "    }\n",
       "\n",
       "    .dataframe thead th {\n",
       "        text-align: right;\n",
       "    }\n",
       "</style>\n",
       "<table border=\"1\" class=\"dataframe\">\n",
       "  <thead>\n",
       "    <tr style=\"text-align: right;\">\n",
       "      <th></th>\n",
       "      <th>W</th>\n",
       "      <th>pval</th>\n",
       "      <th>normal</th>\n",
       "    </tr>\n",
       "  </thead>\n",
       "  <tbody>\n",
       "    <tr>\n",
       "      <th>Regular</th>\n",
       "      <td>0.934594</td>\n",
       "      <td>0.210332</td>\n",
       "      <td>True</td>\n",
       "    </tr>\n",
       "    <tr>\n",
       "      <th>View</th>\n",
       "      <td>0.813905</td>\n",
       "      <td>0.001833</td>\n",
       "      <td>False</td>\n",
       "    </tr>\n",
       "  </tbody>\n",
       "</table>\n",
       "</div>"
      ],
      "text/plain": [
       "                W      pval  normal\n",
       "Regular  0.934594  0.210332    True\n",
       "View     0.813905  0.001833   False"
      ]
     },
     "execution_count": 71,
     "metadata": {},
     "output_type": "execute_result"
    }
   ],
   "source": [
    "# Normality of Window Dataframe for each Timepoints\n",
    "pg.normality(data=Window_Staph, dv='Abundance', group='Room_Type')"
   ]
  },
  {
   "cell_type": "code",
   "execution_count": 72,
   "id": "365ab086-b6d3-4691-a264-d00b068d66cb",
   "metadata": {},
   "outputs": [
    {
     "data": {
      "text/html": [
       "<div>\n",
       "<style scoped>\n",
       "    .dataframe tbody tr th:only-of-type {\n",
       "        vertical-align: middle;\n",
       "    }\n",
       "\n",
       "    .dataframe tbody tr th {\n",
       "        vertical-align: top;\n",
       "    }\n",
       "\n",
       "    .dataframe thead th {\n",
       "        text-align: right;\n",
       "    }\n",
       "</style>\n",
       "<table border=\"1\" class=\"dataframe\">\n",
       "  <thead>\n",
       "    <tr style=\"text-align: right;\">\n",
       "      <th></th>\n",
       "      <th>W</th>\n",
       "      <th>pval</th>\n",
       "      <th>equal_var</th>\n",
       "    </tr>\n",
       "  </thead>\n",
       "  <tbody>\n",
       "    <tr>\n",
       "      <th>levene</th>\n",
       "      <td>0.260099</td>\n",
       "      <td>0.613165</td>\n",
       "      <td>True</td>\n",
       "    </tr>\n",
       "  </tbody>\n",
       "</table>\n",
       "</div>"
      ],
      "text/plain": [
       "               W      pval  equal_var\n",
       "levene  0.260099  0.613165       True"
      ]
     },
     "execution_count": 72,
     "metadata": {},
     "output_type": "execute_result"
    }
   ],
   "source": [
    "#Leven's test for variance assumption\n",
    "pg.homoscedasticity(data=Window_Staph, dv='Abundance', group='Room_Type')"
   ]
  },
  {
   "cell_type": "code",
   "execution_count": 73,
   "id": "816641e9-5a58-4304-a6b6-47b231933711",
   "metadata": {},
   "outputs": [
    {
     "data": {
      "text/html": [
       "<div>\n",
       "<style scoped>\n",
       "    .dataframe tbody tr th:only-of-type {\n",
       "        vertical-align: middle;\n",
       "    }\n",
       "\n",
       "    .dataframe tbody tr th {\n",
       "        vertical-align: top;\n",
       "    }\n",
       "\n",
       "    .dataframe thead th {\n",
       "        text-align: right;\n",
       "    }\n",
       "</style>\n",
       "<table border=\"1\" class=\"dataframe\">\n",
       "  <thead>\n",
       "    <tr style=\"text-align: right;\">\n",
       "      <th></th>\n",
       "      <th>W</th>\n",
       "      <th>pval</th>\n",
       "      <th>equal_var</th>\n",
       "    </tr>\n",
       "  </thead>\n",
       "  <tbody>\n",
       "    <tr>\n",
       "      <th>levene</th>\n",
       "      <td>0.987015</td>\n",
       "      <td>0.410484</td>\n",
       "      <td>True</td>\n",
       "    </tr>\n",
       "  </tbody>\n",
       "</table>\n",
       "</div>"
      ],
      "text/plain": [
       "               W      pval  equal_var\n",
       "levene  0.987015  0.410484       True"
      ]
     },
     "execution_count": 73,
     "metadata": {},
     "output_type": "execute_result"
    }
   ],
   "source": [
    "#Leven's test for variance assumption\n",
    "pg.homoscedasticity(data=Window_Staph, dv='Abundance', group='Time')"
   ]
  },
  {
   "cell_type": "markdown",
   "id": "b20b9b26-1a55-4d61-96ca-6278483c5604",
   "metadata": {},
   "source": [
    "#### Effect of indoor daylight (Room Type) on relative abundnace of genus Staphylococcus on Window "
   ]
  },
  {
   "cell_type": "code",
   "execution_count": 175,
   "id": "770a3144-36b6-447d-871e-8b71e467bf1f",
   "metadata": {},
   "outputs": [
    {
     "data": {
      "text/plain": [
       "MannwhitneyuResult(statistic=7.0, pvalue=0.8857142857142857)"
      ]
     },
     "execution_count": 175,
     "metadata": {},
     "output_type": "execute_result"
    }
   ],
   "source": [
    "#T0 MannWhitney U test\n",
    "scipy.stats.mannwhitneyu(Staph_WR_T0['Abundance'], Staph_WV_T0['Abundance'], alternative='two-sided')"
   ]
  },
  {
   "cell_type": "code",
   "execution_count": 176,
   "id": "9f9e8e51-32ca-4bc5-b056-8a1e56922378",
   "metadata": {},
   "outputs": [
    {
     "data": {
      "text/plain": [
       "MannwhitneyuResult(statistic=15.0, pvalue=0.6904761904761905)"
      ]
     },
     "execution_count": 176,
     "metadata": {},
     "output_type": "execute_result"
    }
   ],
   "source": [
    "#T1 MannWhitney U test\n",
    "scipy.stats.mannwhitneyu(Staph_WR_T1['Abundance'], Staph_WV_T1['Abundance'], alternative='two-sided')"
   ]
  },
  {
   "cell_type": "code",
   "execution_count": 177,
   "id": "bdcf13c4-cec3-43c4-9c17-ec7546cfa006",
   "metadata": {},
   "outputs": [
    {
     "data": {
      "text/plain": [
       "MannwhitneyuResult(statistic=21.0, pvalue=0.09523809523809523)"
      ]
     },
     "execution_count": 177,
     "metadata": {},
     "output_type": "execute_result"
    }
   ],
   "source": [
    "#T2 MannWhitney U test\n",
    "scipy.stats.mannwhitneyu(Staph_WR_T2['Abundance'], Staph_WV_T2['Abundance'], alternative='two-sided')"
   ]
  },
  {
   "cell_type": "code",
   "execution_count": 178,
   "id": "fe2c0b35-f70f-4e83-a5e8-b7a84e0a5f10",
   "metadata": {},
   "outputs": [
    {
     "data": {
      "text/plain": [
       "MannwhitneyuResult(statistic=14.0, pvalue=0.8412698412698413)"
      ]
     },
     "execution_count": 178,
     "metadata": {},
     "output_type": "execute_result"
    }
   ],
   "source": [
    "#T2 MannWhitney U test\n",
    "scipy.stats.mannwhitneyu(Staph_WR_T3['Abundance'], Staph_WV_T3['Abundance'], alternative='two-sided')"
   ]
  },
  {
   "cell_type": "code",
   "execution_count": 74,
   "id": "53599393-39b3-4988-9a47-e3d213f5bbdc",
   "metadata": {},
   "outputs": [
    {
     "data": {
      "text/html": [
       "<div>\n",
       "<style scoped>\n",
       "    .dataframe tbody tr th:only-of-type {\n",
       "        vertical-align: middle;\n",
       "    }\n",
       "\n",
       "    .dataframe tbody tr th {\n",
       "        vertical-align: top;\n",
       "    }\n",
       "\n",
       "    .dataframe thead th {\n",
       "        text-align: right;\n",
       "    }\n",
       "</style>\n",
       "<table border=\"1\" class=\"dataframe\">\n",
       "  <thead>\n",
       "    <tr style=\"text-align: right;\">\n",
       "      <th></th>\n",
       "      <th>T</th>\n",
       "      <th>dof</th>\n",
       "      <th>alternative</th>\n",
       "      <th>p-val</th>\n",
       "      <th>CI95%</th>\n",
       "      <th>cohen-d</th>\n",
       "      <th>BF10</th>\n",
       "      <th>power</th>\n",
       "    </tr>\n",
       "  </thead>\n",
       "  <tbody>\n",
       "    <tr>\n",
       "      <th>T-test</th>\n",
       "      <td>0.214346</td>\n",
       "      <td>6</td>\n",
       "      <td>two-sided</td>\n",
       "      <td>0.837376</td>\n",
       "      <td>[-0.3, 0.36]</td>\n",
       "      <td>0.151566</td>\n",
       "      <td>0.531</td>\n",
       "      <td>0.053824</td>\n",
       "    </tr>\n",
       "  </tbody>\n",
       "</table>\n",
       "</div>"
      ],
      "text/plain": [
       "               T  dof alternative     p-val         CI95%   cohen-d   BF10  \\\n",
       "T-test  0.214346    6   two-sided  0.837376  [-0.3, 0.36]  0.151566  0.531   \n",
       "\n",
       "           power  \n",
       "T-test  0.053824  "
      ]
     },
     "execution_count": 74,
     "metadata": {},
     "output_type": "execute_result"
    }
   ],
   "source": [
    "#At Time 0 between Two Room Type\n",
    "res=ttest(Staph_WR_T0['Abundance'], Staph_WV_T0['Abundance'],paired = False)\n",
    "res"
   ]
  },
  {
   "cell_type": "code",
   "execution_count": 75,
   "id": "2e795278-ed2d-4488-92e8-0cf40cd79c49",
   "metadata": {},
   "outputs": [
    {
     "data": {
      "text/html": [
       "<div>\n",
       "<style scoped>\n",
       "    .dataframe tbody tr th:only-of-type {\n",
       "        vertical-align: middle;\n",
       "    }\n",
       "\n",
       "    .dataframe tbody tr th {\n",
       "        vertical-align: top;\n",
       "    }\n",
       "\n",
       "    .dataframe thead th {\n",
       "        text-align: right;\n",
       "    }\n",
       "</style>\n",
       "<table border=\"1\" class=\"dataframe\">\n",
       "  <thead>\n",
       "    <tr style=\"text-align: right;\">\n",
       "      <th></th>\n",
       "      <th>T</th>\n",
       "      <th>dof</th>\n",
       "      <th>alternative</th>\n",
       "      <th>p-val</th>\n",
       "      <th>CI95%</th>\n",
       "      <th>cohen-d</th>\n",
       "      <th>BF10</th>\n",
       "      <th>power</th>\n",
       "    </tr>\n",
       "  </thead>\n",
       "  <tbody>\n",
       "    <tr>\n",
       "      <th>T-test</th>\n",
       "      <td>0.55725</td>\n",
       "      <td>8</td>\n",
       "      <td>two-sided</td>\n",
       "      <td>0.592601</td>\n",
       "      <td>[-0.12, 0.19]</td>\n",
       "      <td>0.352436</td>\n",
       "      <td>0.542</td>\n",
       "      <td>0.078337</td>\n",
       "    </tr>\n",
       "  </tbody>\n",
       "</table>\n",
       "</div>"
      ],
      "text/plain": [
       "              T  dof alternative     p-val          CI95%   cohen-d   BF10  \\\n",
       "T-test  0.55725    8   two-sided  0.592601  [-0.12, 0.19]  0.352436  0.542   \n",
       "\n",
       "           power  \n",
       "T-test  0.078337  "
      ]
     },
     "execution_count": 75,
     "metadata": {},
     "output_type": "execute_result"
    }
   ],
   "source": [
    "#At Time 1 between Two Room Type\n",
    "res=ttest(Staph_WR_T1['Abundance'], Staph_WV_T1['Abundance'],paired = False)\n",
    "res"
   ]
  },
  {
   "cell_type": "code",
   "execution_count": 76,
   "id": "3acd0d10-2e7a-4780-9327-c1b505732829",
   "metadata": {},
   "outputs": [
    {
     "data": {
      "text/html": [
       "<div>\n",
       "<style scoped>\n",
       "    .dataframe tbody tr th:only-of-type {\n",
       "        vertical-align: middle;\n",
       "    }\n",
       "\n",
       "    .dataframe tbody tr th {\n",
       "        vertical-align: top;\n",
       "    }\n",
       "\n",
       "    .dataframe thead th {\n",
       "        text-align: right;\n",
       "    }\n",
       "</style>\n",
       "<table border=\"1\" class=\"dataframe\">\n",
       "  <thead>\n",
       "    <tr style=\"text-align: right;\">\n",
       "      <th></th>\n",
       "      <th>T</th>\n",
       "      <th>dof</th>\n",
       "      <th>alternative</th>\n",
       "      <th>p-val</th>\n",
       "      <th>CI95%</th>\n",
       "      <th>cohen-d</th>\n",
       "      <th>BF10</th>\n",
       "      <th>power</th>\n",
       "    </tr>\n",
       "  </thead>\n",
       "  <tbody>\n",
       "    <tr>\n",
       "      <th>T-test</th>\n",
       "      <td>2.199509</td>\n",
       "      <td>8</td>\n",
       "      <td>two-sided</td>\n",
       "      <td>0.059039</td>\n",
       "      <td>[-0.01, 0.35]</td>\n",
       "      <td>1.391092</td>\n",
       "      <td>1.685</td>\n",
       "      <td>0.489806</td>\n",
       "    </tr>\n",
       "  </tbody>\n",
       "</table>\n",
       "</div>"
      ],
      "text/plain": [
       "               T  dof alternative     p-val          CI95%   cohen-d   BF10  \\\n",
       "T-test  2.199509    8   two-sided  0.059039  [-0.01, 0.35]  1.391092  1.685   \n",
       "\n",
       "           power  \n",
       "T-test  0.489806  "
      ]
     },
     "execution_count": 76,
     "metadata": {},
     "output_type": "execute_result"
    }
   ],
   "source": [
    "#At Time 2 between Two Room Type\n",
    "res=ttest(Staph_WR_T2['Abundance'], Staph_WV_T2['Abundance'],paired = False)\n",
    "res"
   ]
  },
  {
   "cell_type": "code",
   "execution_count": 77,
   "id": "85818dff-66e0-47cd-8b19-641cfedac7d2",
   "metadata": {},
   "outputs": [
    {
     "data": {
      "text/html": [
       "<div>\n",
       "<style scoped>\n",
       "    .dataframe tbody tr th:only-of-type {\n",
       "        vertical-align: middle;\n",
       "    }\n",
       "\n",
       "    .dataframe tbody tr th {\n",
       "        vertical-align: top;\n",
       "    }\n",
       "\n",
       "    .dataframe thead th {\n",
       "        text-align: right;\n",
       "    }\n",
       "</style>\n",
       "<table border=\"1\" class=\"dataframe\">\n",
       "  <thead>\n",
       "    <tr style=\"text-align: right;\">\n",
       "      <th></th>\n",
       "      <th>T</th>\n",
       "      <th>dof</th>\n",
       "      <th>alternative</th>\n",
       "      <th>p-val</th>\n",
       "      <th>CI95%</th>\n",
       "      <th>cohen-d</th>\n",
       "      <th>BF10</th>\n",
       "      <th>power</th>\n",
       "    </tr>\n",
       "  </thead>\n",
       "  <tbody>\n",
       "    <tr>\n",
       "      <th>T-test</th>\n",
       "      <td>0.536246</td>\n",
       "      <td>8</td>\n",
       "      <td>two-sided</td>\n",
       "      <td>0.606373</td>\n",
       "      <td>[-0.2, 0.31]</td>\n",
       "      <td>0.339152</td>\n",
       "      <td>0.538</td>\n",
       "      <td>0.076217</td>\n",
       "    </tr>\n",
       "  </tbody>\n",
       "</table>\n",
       "</div>"
      ],
      "text/plain": [
       "               T  dof alternative     p-val         CI95%   cohen-d   BF10  \\\n",
       "T-test  0.536246    8   two-sided  0.606373  [-0.2, 0.31]  0.339152  0.538   \n",
       "\n",
       "           power  \n",
       "T-test  0.076217  "
      ]
     },
     "execution_count": 77,
     "metadata": {},
     "output_type": "execute_result"
    }
   ],
   "source": [
    "#At Time 2 between Two Room Type\n",
    "res=ttest(Staph_WR_T3['Abundance'], Staph_WV_T3['Abundance'],paired = False)\n",
    "res"
   ]
  },
  {
   "cell_type": "markdown",
   "id": "cf4bbbbb-fe84-407e-b6ff-1a88fd8b53e3",
   "metadata": {},
   "source": [
    "#### Effect of occupancy (Time) on relative abundnace of genus Staphylococcus on Window "
   ]
  },
  {
   "cell_type": "code",
   "execution_count": 78,
   "id": "81ea7377-ec7c-44c7-a7a8-6048fcddc757",
   "metadata": {},
   "outputs": [
    {
     "data": {
      "text/html": [
       "<div>\n",
       "<style scoped>\n",
       "    .dataframe tbody tr th:only-of-type {\n",
       "        vertical-align: middle;\n",
       "    }\n",
       "\n",
       "    .dataframe tbody tr th {\n",
       "        vertical-align: top;\n",
       "    }\n",
       "\n",
       "    .dataframe thead th {\n",
       "        text-align: right;\n",
       "    }\n",
       "</style>\n",
       "<table border=\"1\" class=\"dataframe\">\n",
       "  <thead>\n",
       "    <tr style=\"text-align: right;\">\n",
       "      <th></th>\n",
       "      <th>Source</th>\n",
       "      <th>W</th>\n",
       "      <th>ddof1</th>\n",
       "      <th>Q</th>\n",
       "      <th>p-unc</th>\n",
       "    </tr>\n",
       "  </thead>\n",
       "  <tbody>\n",
       "    <tr>\n",
       "      <th>Friedman</th>\n",
       "      <td>Time</td>\n",
       "      <td>0.625</td>\n",
       "      <td>3</td>\n",
       "      <td>7.5</td>\n",
       "      <td>0.057558</td>\n",
       "    </tr>\n",
       "  </tbody>\n",
       "</table>\n",
       "</div>"
      ],
      "text/plain": [
       "         Source      W  ddof1    Q     p-unc\n",
       "Friedman   Time  0.625      3  7.5  0.057558"
      ]
     },
     "execution_count": 78,
     "metadata": {},
     "output_type": "execute_result"
    }
   ],
   "source": [
    "#Friedman Test to see the block effect of TIME\n",
    "res= pg.friedman(data=Staph_Window_Regular, dv=\"Abundance\", within=\"Time\", subject=\"Room_Number\")\n",
    "res"
   ]
  },
  {
   "cell_type": "code",
   "execution_count": 79,
   "id": "4571727a-593b-4ded-afc5-f9b0e8a75d74",
   "metadata": {},
   "outputs": [
    {
     "name": "stdout",
     "output_type": "stream",
     "text": [
      "  Source  ddof1  ddof2         F     p-unc      np2       eps\n",
      "0   Time      3      9  4.758945  0.029699  0.61335  0.665717\n"
     ]
    }
   ],
   "source": [
    "# Try repeated One Way ANOVA\n",
    "aov = pg.rm_anova(data=Staph_Window_View, dv=\"Abundance\", within=[\"Time\"], subject='Room_Number')\n",
    "print(aov)"
   ]
  },
  {
   "cell_type": "code",
   "execution_count": 181,
   "id": "8328fcb5-dde7-499e-952d-9ae1655524e4",
   "metadata": {},
   "outputs": [
    {
     "data": {
      "text/html": [
       "<div>\n",
       "<style scoped>\n",
       "    .dataframe tbody tr th:only-of-type {\n",
       "        vertical-align: middle;\n",
       "    }\n",
       "\n",
       "    .dataframe tbody tr th {\n",
       "        vertical-align: top;\n",
       "    }\n",
       "\n",
       "    .dataframe thead th {\n",
       "        text-align: right;\n",
       "    }\n",
       "</style>\n",
       "<table border=\"1\" class=\"dataframe\">\n",
       "  <thead>\n",
       "    <tr style=\"text-align: right;\">\n",
       "      <th></th>\n",
       "      <th>A</th>\n",
       "      <th>B</th>\n",
       "      <th>mean(A)</th>\n",
       "      <th>mean(B)</th>\n",
       "      <th>diff</th>\n",
       "      <th>se</th>\n",
       "      <th>T</th>\n",
       "      <th>p-tukey</th>\n",
       "      <th>hedges</th>\n",
       "    </tr>\n",
       "  </thead>\n",
       "  <tbody>\n",
       "    <tr>\n",
       "      <th>0</th>\n",
       "      <td>T0</td>\n",
       "      <td>T1</td>\n",
       "      <td>0.406</td>\n",
       "      <td>0.104</td>\n",
       "      <td>0.302</td>\n",
       "      <td>0.097</td>\n",
       "      <td>3.116</td>\n",
       "      <td>0.032</td>\n",
       "      <td>1.858</td>\n",
       "    </tr>\n",
       "    <tr>\n",
       "      <th>1</th>\n",
       "      <td>T0</td>\n",
       "      <td>T2</td>\n",
       "      <td>0.406</td>\n",
       "      <td>0.094</td>\n",
       "      <td>0.312</td>\n",
       "      <td>0.097</td>\n",
       "      <td>3.219</td>\n",
       "      <td>0.026</td>\n",
       "      <td>1.920</td>\n",
       "    </tr>\n",
       "    <tr>\n",
       "      <th>2</th>\n",
       "      <td>T0</td>\n",
       "      <td>T3</td>\n",
       "      <td>0.406</td>\n",
       "      <td>0.140</td>\n",
       "      <td>0.266</td>\n",
       "      <td>0.097</td>\n",
       "      <td>2.739</td>\n",
       "      <td>0.065</td>\n",
       "      <td>1.633</td>\n",
       "    </tr>\n",
       "    <tr>\n",
       "      <th>3</th>\n",
       "      <td>T1</td>\n",
       "      <td>T2</td>\n",
       "      <td>0.104</td>\n",
       "      <td>0.094</td>\n",
       "      <td>0.010</td>\n",
       "      <td>0.091</td>\n",
       "      <td>0.109</td>\n",
       "      <td>1.000</td>\n",
       "      <td>0.062</td>\n",
       "    </tr>\n",
       "    <tr>\n",
       "      <th>4</th>\n",
       "      <td>T1</td>\n",
       "      <td>T3</td>\n",
       "      <td>0.104</td>\n",
       "      <td>0.140</td>\n",
       "      <td>-0.037</td>\n",
       "      <td>0.091</td>\n",
       "      <td>-0.400</td>\n",
       "      <td>0.977</td>\n",
       "      <td>-0.229</td>\n",
       "    </tr>\n",
       "    <tr>\n",
       "      <th>5</th>\n",
       "      <td>T2</td>\n",
       "      <td>T3</td>\n",
       "      <td>0.094</td>\n",
       "      <td>0.140</td>\n",
       "      <td>-0.047</td>\n",
       "      <td>0.091</td>\n",
       "      <td>-0.509</td>\n",
       "      <td>0.956</td>\n",
       "      <td>-0.291</td>\n",
       "    </tr>\n",
       "  </tbody>\n",
       "</table>\n",
       "</div>"
      ],
      "text/plain": [
       "    A   B  mean(A)  mean(B)   diff     se      T  p-tukey  hedges\n",
       "0  T0  T1    0.406    0.104  0.302  0.097  3.116    0.032   1.858\n",
       "1  T0  T2    0.406    0.094  0.312  0.097  3.219    0.026   1.920\n",
       "2  T0  T3    0.406    0.140  0.266  0.097  2.739    0.065   1.633\n",
       "3  T1  T2    0.104    0.094  0.010  0.091  0.109    1.000   0.062\n",
       "4  T1  T3    0.104    0.140 -0.037  0.091 -0.400    0.977  -0.229\n",
       "5  T2  T3    0.094    0.140 -0.047  0.091 -0.509    0.956  -0.291"
      ]
     },
     "execution_count": 181,
     "metadata": {},
     "output_type": "execute_result"
    }
   ],
   "source": [
    "###Pairwise Comparison with Tukey HSD\n",
    "Staph_Window_View.pairwise_tukey(dv='Abundance', between='Time').round(3)"
   ]
  },
  {
   "cell_type": "code",
   "execution_count": 81,
   "id": "236877e1-a9df-47df-a85c-727d69cf0fc5",
   "metadata": {},
   "outputs": [
    {
     "data": {
      "text/html": [
       "<div>\n",
       "<style scoped>\n",
       "    .dataframe tbody tr th:only-of-type {\n",
       "        vertical-align: middle;\n",
       "    }\n",
       "\n",
       "    .dataframe tbody tr th {\n",
       "        vertical-align: top;\n",
       "    }\n",
       "\n",
       "    .dataframe thead th {\n",
       "        text-align: right;\n",
       "    }\n",
       "</style>\n",
       "<table border=\"1\" class=\"dataframe\">\n",
       "  <thead>\n",
       "    <tr style=\"text-align: right;\">\n",
       "      <th></th>\n",
       "      <th>A</th>\n",
       "      <th>B</th>\n",
       "      <th>mean(A)</th>\n",
       "      <th>mean(B)</th>\n",
       "      <th>diff</th>\n",
       "      <th>se</th>\n",
       "      <th>T</th>\n",
       "      <th>p-tukey</th>\n",
       "      <th>hedges</th>\n",
       "    </tr>\n",
       "  </thead>\n",
       "  <tbody>\n",
       "    <tr>\n",
       "      <th>0</th>\n",
       "      <td>T0</td>\n",
       "      <td>T1</td>\n",
       "      <td>0.435</td>\n",
       "      <td>0.141</td>\n",
       "      <td>0.294</td>\n",
       "      <td>0.104</td>\n",
       "      <td>2.831</td>\n",
       "      <td>0.055</td>\n",
       "      <td>1.688</td>\n",
       "    </tr>\n",
       "    <tr>\n",
       "      <th>1</th>\n",
       "      <td>T0</td>\n",
       "      <td>T2</td>\n",
       "      <td>0.435</td>\n",
       "      <td>0.263</td>\n",
       "      <td>0.172</td>\n",
       "      <td>0.104</td>\n",
       "      <td>1.653</td>\n",
       "      <td>0.381</td>\n",
       "      <td>0.986</td>\n",
       "    </tr>\n",
       "    <tr>\n",
       "      <th>2</th>\n",
       "      <td>T0</td>\n",
       "      <td>T3</td>\n",
       "      <td>0.435</td>\n",
       "      <td>0.200</td>\n",
       "      <td>0.235</td>\n",
       "      <td>0.104</td>\n",
       "      <td>2.266</td>\n",
       "      <td>0.151</td>\n",
       "      <td>1.351</td>\n",
       "    </tr>\n",
       "    <tr>\n",
       "      <th>3</th>\n",
       "      <td>T1</td>\n",
       "      <td>T2</td>\n",
       "      <td>0.141</td>\n",
       "      <td>0.263</td>\n",
       "      <td>-0.122</td>\n",
       "      <td>0.098</td>\n",
       "      <td>-1.250</td>\n",
       "      <td>0.607</td>\n",
       "      <td>-0.714</td>\n",
       "    </tr>\n",
       "    <tr>\n",
       "      <th>4</th>\n",
       "      <td>T1</td>\n",
       "      <td>T3</td>\n",
       "      <td>0.141</td>\n",
       "      <td>0.200</td>\n",
       "      <td>-0.059</td>\n",
       "      <td>0.098</td>\n",
       "      <td>-0.599</td>\n",
       "      <td>0.931</td>\n",
       "      <td>-0.342</td>\n",
       "    </tr>\n",
       "    <tr>\n",
       "      <th>5</th>\n",
       "      <td>T2</td>\n",
       "      <td>T3</td>\n",
       "      <td>0.263</td>\n",
       "      <td>0.200</td>\n",
       "      <td>0.064</td>\n",
       "      <td>0.098</td>\n",
       "      <td>0.650</td>\n",
       "      <td>0.914</td>\n",
       "      <td>0.372</td>\n",
       "    </tr>\n",
       "  </tbody>\n",
       "</table>\n",
       "</div>"
      ],
      "text/plain": [
       "    A   B  mean(A)  mean(B)   diff     se      T  p-tukey  hedges\n",
       "0  T0  T1    0.435    0.141  0.294  0.104  2.831    0.055   1.688\n",
       "1  T0  T2    0.435    0.263  0.172  0.104  1.653    0.381   0.986\n",
       "2  T0  T3    0.435    0.200  0.235  0.104  2.266    0.151   1.351\n",
       "3  T1  T2    0.141    0.263 -0.122  0.098 -1.250    0.607  -0.714\n",
       "4  T1  T3    0.141    0.200 -0.059  0.098 -0.599    0.931  -0.342\n",
       "5  T2  T3    0.263    0.200  0.064  0.098  0.650    0.914   0.372"
      ]
     },
     "execution_count": 81,
     "metadata": {},
     "output_type": "execute_result"
    }
   ],
   "source": [
    "###Pairwise Comparison with Tukey HSD\n",
    "Staph_Window_Regular.pairwise_tukey(dv='Abundance', between='Time').round(3)"
   ]
  },
  {
   "cell_type": "markdown",
   "id": "45505619-6d7d-4746-a2bd-db924785fd84",
   "metadata": {},
   "source": [
    "### Air Duct (Staphylcoocccus)"
   ]
  },
  {
   "cell_type": "code",
   "execution_count": 82,
   "id": "9bf4498f-39a9-45ac-ac7c-141261ea15b6",
   "metadata": {},
   "outputs": [
    {
     "data": {
      "text/html": [
       "<div>\n",
       "<style scoped>\n",
       "    .dataframe tbody tr th:only-of-type {\n",
       "        vertical-align: middle;\n",
       "    }\n",
       "\n",
       "    .dataframe tbody tr th {\n",
       "        vertical-align: top;\n",
       "    }\n",
       "\n",
       "    .dataframe thead th {\n",
       "        text-align: right;\n",
       "    }\n",
       "</style>\n",
       "<table border=\"1\" class=\"dataframe\">\n",
       "  <thead>\n",
       "    <tr style=\"text-align: right;\">\n",
       "      <th></th>\n",
       "      <th>Room_Number</th>\n",
       "      <th>Abundance</th>\n",
       "      <th>location</th>\n",
       "      <th>Room_Type</th>\n",
       "      <th>Time</th>\n",
       "      <th>Kingdom</th>\n",
       "      <th>Phlylum</th>\n",
       "      <th>Class</th>\n",
       "      <th>Order</th>\n",
       "      <th>Family</th>\n",
       "      <th>Genus</th>\n",
       "    </tr>\n",
       "    <tr>\n",
       "      <th>Sample</th>\n",
       "      <th></th>\n",
       "      <th></th>\n",
       "      <th></th>\n",
       "      <th></th>\n",
       "      <th></th>\n",
       "      <th></th>\n",
       "      <th></th>\n",
       "      <th></th>\n",
       "      <th></th>\n",
       "      <th></th>\n",
       "      <th></th>\n",
       "    </tr>\n",
       "  </thead>\n",
       "  <tbody>\n",
       "    <tr>\n",
       "      <th>W1T3_AD</th>\n",
       "      <td>1</td>\n",
       "      <td>0.245386</td>\n",
       "      <td>AirDuct</td>\n",
       "      <td>View</td>\n",
       "      <td>T3</td>\n",
       "      <td>Bacteria</td>\n",
       "      <td>Firmicutes</td>\n",
       "      <td>Bacilli</td>\n",
       "      <td>Bacillales</td>\n",
       "      <td>Staphylococcaceae</td>\n",
       "      <td>Staphylococcus</td>\n",
       "    </tr>\n",
       "    <tr>\n",
       "      <th>W3T3_AD</th>\n",
       "      <td>3</td>\n",
       "      <td>0.386018</td>\n",
       "      <td>AirDuct</td>\n",
       "      <td>View</td>\n",
       "      <td>T3</td>\n",
       "      <td>Bacteria</td>\n",
       "      <td>Firmicutes</td>\n",
       "      <td>Bacilli</td>\n",
       "      <td>Bacillales</td>\n",
       "      <td>Staphylococcaceae</td>\n",
       "      <td>Staphylococcus</td>\n",
       "    </tr>\n",
       "    <tr>\n",
       "      <th>W4T3_AD</th>\n",
       "      <td>4</td>\n",
       "      <td>0.080549</td>\n",
       "      <td>AirDuct</td>\n",
       "      <td>View</td>\n",
       "      <td>T3</td>\n",
       "      <td>Bacteria</td>\n",
       "      <td>Firmicutes</td>\n",
       "      <td>Bacilli</td>\n",
       "      <td>Bacillales</td>\n",
       "      <td>Staphylococcaceae</td>\n",
       "      <td>Staphylococcus</td>\n",
       "    </tr>\n",
       "    <tr>\n",
       "      <th>W5T3_AD</th>\n",
       "      <td>5</td>\n",
       "      <td>0.096493</td>\n",
       "      <td>AirDuct</td>\n",
       "      <td>View</td>\n",
       "      <td>T3</td>\n",
       "      <td>Bacteria</td>\n",
       "      <td>Firmicutes</td>\n",
       "      <td>Bacilli</td>\n",
       "      <td>Bacillales</td>\n",
       "      <td>Staphylococcaceae</td>\n",
       "      <td>Staphylococcus</td>\n",
       "    </tr>\n",
       "    <tr>\n",
       "      <th>W6T3_AD</th>\n",
       "      <td>6</td>\n",
       "      <td>0.123075</td>\n",
       "      <td>AirDuct</td>\n",
       "      <td>View</td>\n",
       "      <td>T3</td>\n",
       "      <td>Bacteria</td>\n",
       "      <td>Firmicutes</td>\n",
       "      <td>Bacilli</td>\n",
       "      <td>Bacillales</td>\n",
       "      <td>Staphylococcaceae</td>\n",
       "      <td>Staphylococcus</td>\n",
       "    </tr>\n",
       "  </tbody>\n",
       "</table>\n",
       "</div>"
      ],
      "text/plain": [
       "         Room_Number  Abundance location Room_Type Time   Kingdom     Phlylum  \\\n",
       "Sample                                                                          \n",
       "W1T3_AD            1   0.245386  AirDuct      View   T3  Bacteria  Firmicutes   \n",
       "W3T3_AD            3   0.386018  AirDuct      View   T3  Bacteria  Firmicutes   \n",
       "W4T3_AD            4   0.080549  AirDuct      View   T3  Bacteria  Firmicutes   \n",
       "W5T3_AD            5   0.096493  AirDuct      View   T3  Bacteria  Firmicutes   \n",
       "W6T3_AD            6   0.123075  AirDuct      View   T3  Bacteria  Firmicutes   \n",
       "\n",
       "           Class       Order             Family           Genus  \n",
       "Sample                                                           \n",
       "W1T3_AD  Bacilli  Bacillales  Staphylococcaceae  Staphylococcus  \n",
       "W3T3_AD  Bacilli  Bacillales  Staphylococcaceae  Staphylococcus  \n",
       "W4T3_AD  Bacilli  Bacillales  Staphylococcaceae  Staphylococcus  \n",
       "W5T3_AD  Bacilli  Bacillales  Staphylococcaceae  Staphylococcus  \n",
       "W6T3_AD  Bacilli  Bacillales  Staphylococcaceae  Staphylococcus  "
      ]
     },
     "execution_count": 82,
     "metadata": {},
     "output_type": "execute_result"
    }
   ],
   "source": [
    "Staph_AirDuct_Regular= subgroup(AirDuct_Staph, \"Room_Type\", \"Regular\")\n",
    "Staph_AirDuct_View= subgroup(AirDuct_Staph, \"Room_Type\", \"View\")\n",
    "#Subgroup for each Timepoint \n",
    "Staph_ADR_T0=subgroup(Staph_AirDuct_Regular, \"Time\",\"T0\")\n",
    "Staph_ADR_T1=subgroup(Staph_AirDuct_Regular, \"Time\",\"T1\")\n",
    "Staph_ADR_T2=subgroup(Staph_AirDuct_Regular, \"Time\",\"T2\")\n",
    "Staph_ADR_T3=subgroup(Staph_AirDuct_Regular, \"Time\",\"T3\")\n",
    "Staph_ADV_T0=subgroup(Staph_AirDuct_View, \"Time\",\"T0\")\n",
    "Staph_ADV_T1=subgroup(Staph_AirDuct_View, \"Time\",\"T1\")\n",
    "Staph_ADV_T2=subgroup(Staph_AirDuct_View, \"Time\",\"T2\")\n",
    "Staph_ADV_T3=subgroup(Staph_AirDuct_View, \"Time\",\"T3\")\n",
    "Staph_ADV_T3"
   ]
  },
  {
   "cell_type": "code",
   "execution_count": 182,
   "id": "f7719cbb-227f-4b10-addc-5880d73c3aed",
   "metadata": {},
   "outputs": [
    {
     "name": "stdout",
     "output_type": "stream",
     "text": [
      "Shapiro statistics of Air Duct =0.958, p=0.148\n"
     ]
    }
   ],
   "source": [
    "# Overall Shapiro Wilk Test \n",
    "stat, p = shapiro(AirDuct_Staph[\"Abundance\"])\n",
    "print('Shapiro statistics of Air Duct =%.3f, p=%.3f' % (stat, p))"
   ]
  },
  {
   "cell_type": "markdown",
   "id": "81e01a11-9031-442b-a4fd-7f4e22656c89",
   "metadata": {},
   "source": [
    "**Normality and variance test**"
   ]
  },
  {
   "cell_type": "code",
   "execution_count": 83,
   "id": "8ed932a9-b0b7-4d1a-9329-cbab15dfce04",
   "metadata": {},
   "outputs": [
    {
     "data": {
      "text/html": [
       "<div>\n",
       "<style scoped>\n",
       "    .dataframe tbody tr th:only-of-type {\n",
       "        vertical-align: middle;\n",
       "    }\n",
       "\n",
       "    .dataframe tbody tr th {\n",
       "        vertical-align: top;\n",
       "    }\n",
       "\n",
       "    .dataframe thead th {\n",
       "        text-align: right;\n",
       "    }\n",
       "</style>\n",
       "<table border=\"1\" class=\"dataframe\">\n",
       "  <thead>\n",
       "    <tr style=\"text-align: right;\">\n",
       "      <th></th>\n",
       "      <th>W</th>\n",
       "      <th>pval</th>\n",
       "      <th>normal</th>\n",
       "    </tr>\n",
       "  </thead>\n",
       "  <tbody>\n",
       "    <tr>\n",
       "      <th>Regular</th>\n",
       "      <td>0.934488</td>\n",
       "      <td>0.169293</td>\n",
       "      <td>True</td>\n",
       "    </tr>\n",
       "    <tr>\n",
       "      <th>View</th>\n",
       "      <td>0.935121</td>\n",
       "      <td>0.215049</td>\n",
       "      <td>True</td>\n",
       "    </tr>\n",
       "  </tbody>\n",
       "</table>\n",
       "</div>"
      ],
      "text/plain": [
       "                W      pval  normal\n",
       "Regular  0.934488  0.169293    True\n",
       "View     0.935121  0.215049    True"
      ]
     },
     "execution_count": 83,
     "metadata": {},
     "output_type": "execute_result"
    }
   ],
   "source": [
    "# Normality of AirDuct Dataframe for each Timepoints \n",
    "#Shapiro Wilk Test\n",
    "pg.normality(data=AirDuct_Staph, dv='Abundance', group='Room_Type')"
   ]
  },
  {
   "cell_type": "code",
   "execution_count": 84,
   "id": "82eb79ac-b515-4054-925a-236382f64d61",
   "metadata": {},
   "outputs": [
    {
     "data": {
      "text/html": [
       "<div>\n",
       "<style scoped>\n",
       "    .dataframe tbody tr th:only-of-type {\n",
       "        vertical-align: middle;\n",
       "    }\n",
       "\n",
       "    .dataframe tbody tr th {\n",
       "        vertical-align: top;\n",
       "    }\n",
       "\n",
       "    .dataframe thead th {\n",
       "        text-align: right;\n",
       "    }\n",
       "</style>\n",
       "<table border=\"1\" class=\"dataframe\">\n",
       "  <thead>\n",
       "    <tr style=\"text-align: right;\">\n",
       "      <th></th>\n",
       "      <th>W</th>\n",
       "      <th>pval</th>\n",
       "      <th>normal</th>\n",
       "    </tr>\n",
       "  </thead>\n",
       "  <tbody>\n",
       "    <tr>\n",
       "      <th>T0</th>\n",
       "      <td>0.952904</td>\n",
       "      <td>0.721935</td>\n",
       "      <td>True</td>\n",
       "    </tr>\n",
       "    <tr>\n",
       "      <th>T1</th>\n",
       "      <td>0.938029</td>\n",
       "      <td>0.497610</td>\n",
       "      <td>True</td>\n",
       "    </tr>\n",
       "    <tr>\n",
       "      <th>T2</th>\n",
       "      <td>0.889548</td>\n",
       "      <td>0.167601</td>\n",
       "      <td>True</td>\n",
       "    </tr>\n",
       "    <tr>\n",
       "      <th>T3</th>\n",
       "      <td>0.932696</td>\n",
       "      <td>0.474927</td>\n",
       "      <td>True</td>\n",
       "    </tr>\n",
       "  </tbody>\n",
       "</table>\n",
       "</div>"
      ],
      "text/plain": [
       "           W      pval  normal\n",
       "T0  0.952904  0.721935    True\n",
       "T1  0.938029  0.497610    True\n",
       "T2  0.889548  0.167601    True\n",
       "T3  0.932696  0.474927    True"
      ]
     },
     "execution_count": 84,
     "metadata": {},
     "output_type": "execute_result"
    }
   ],
   "source": [
    "# Normality of Window Dataframe for each Timepoints\n",
    "#Shapiro Wilk Test\n",
    "pg.normality(data=AirDuct_Staph, dv='Abundance', group='Time')"
   ]
  },
  {
   "cell_type": "code",
   "execution_count": 85,
   "id": "cda9bc5d-14a4-4d1e-846f-b262c98d5086",
   "metadata": {},
   "outputs": [
    {
     "data": {
      "text/html": [
       "<div>\n",
       "<style scoped>\n",
       "    .dataframe tbody tr th:only-of-type {\n",
       "        vertical-align: middle;\n",
       "    }\n",
       "\n",
       "    .dataframe tbody tr th {\n",
       "        vertical-align: top;\n",
       "    }\n",
       "\n",
       "    .dataframe thead th {\n",
       "        text-align: right;\n",
       "    }\n",
       "</style>\n",
       "<table border=\"1\" class=\"dataframe\">\n",
       "  <thead>\n",
       "    <tr style=\"text-align: right;\">\n",
       "      <th></th>\n",
       "      <th>W</th>\n",
       "      <th>pval</th>\n",
       "      <th>equal_var</th>\n",
       "    </tr>\n",
       "  </thead>\n",
       "  <tbody>\n",
       "    <tr>\n",
       "      <th>levene</th>\n",
       "      <td>0.113995</td>\n",
       "      <td>0.737499</td>\n",
       "      <td>True</td>\n",
       "    </tr>\n",
       "  </tbody>\n",
       "</table>\n",
       "</div>"
      ],
      "text/plain": [
       "               W      pval  equal_var\n",
       "levene  0.113995  0.737499       True"
      ]
     },
     "execution_count": 85,
     "metadata": {},
     "output_type": "execute_result"
    }
   ],
   "source": [
    "# Levene's test for variance assumption\n",
    "pg.homoscedasticity(data=AirDuct_Staph, dv='Abundance', group='Room_Type')"
   ]
  },
  {
   "cell_type": "code",
   "execution_count": 86,
   "id": "3149b218-a17a-4eee-ab1d-578cd073a149",
   "metadata": {},
   "outputs": [
    {
     "data": {
      "text/html": [
       "<div>\n",
       "<style scoped>\n",
       "    .dataframe tbody tr th:only-of-type {\n",
       "        vertical-align: middle;\n",
       "    }\n",
       "\n",
       "    .dataframe tbody tr th {\n",
       "        vertical-align: top;\n",
       "    }\n",
       "\n",
       "    .dataframe thead th {\n",
       "        text-align: right;\n",
       "    }\n",
       "</style>\n",
       "<table border=\"1\" class=\"dataframe\">\n",
       "  <thead>\n",
       "    <tr style=\"text-align: right;\">\n",
       "      <th></th>\n",
       "      <th>W</th>\n",
       "      <th>pval</th>\n",
       "      <th>equal_var</th>\n",
       "    </tr>\n",
       "  </thead>\n",
       "  <tbody>\n",
       "    <tr>\n",
       "      <th>levene</th>\n",
       "      <td>0.379942</td>\n",
       "      <td>0.768025</td>\n",
       "      <td>True</td>\n",
       "    </tr>\n",
       "  </tbody>\n",
       "</table>\n",
       "</div>"
      ],
      "text/plain": [
       "               W      pval  equal_var\n",
       "levene  0.379942  0.768025       True"
      ]
     },
     "execution_count": 86,
     "metadata": {},
     "output_type": "execute_result"
    }
   ],
   "source": [
    "# Levene's test for variance assumption\n",
    "pg.homoscedasticity(data=AirDuct_Staph, dv='Abundance', group='Time')"
   ]
  },
  {
   "cell_type": "markdown",
   "id": "4c8b8e77-ff45-41b8-9157-571a0cd5745b",
   "metadata": {},
   "source": [
    "#### Effect of indoor daylight (Room Type) on relative abundnace of genus Staphylococcus on Air Duct"
   ]
  },
  {
   "cell_type": "code",
   "execution_count": 87,
   "id": "0b3d50e5-5eb5-4aeb-a0ee-cd2d75dc678c",
   "metadata": {},
   "outputs": [
    {
     "data": {
      "text/html": [
       "<div>\n",
       "<style scoped>\n",
       "    .dataframe tbody tr th:only-of-type {\n",
       "        vertical-align: middle;\n",
       "    }\n",
       "\n",
       "    .dataframe tbody tr th {\n",
       "        vertical-align: top;\n",
       "    }\n",
       "\n",
       "    .dataframe thead th {\n",
       "        text-align: right;\n",
       "    }\n",
       "</style>\n",
       "<table border=\"1\" class=\"dataframe\">\n",
       "  <thead>\n",
       "    <tr style=\"text-align: right;\">\n",
       "      <th></th>\n",
       "      <th>T</th>\n",
       "      <th>dof</th>\n",
       "      <th>alternative</th>\n",
       "      <th>p-val</th>\n",
       "      <th>CI95%</th>\n",
       "      <th>cohen-d</th>\n",
       "      <th>BF10</th>\n",
       "      <th>power</th>\n",
       "    </tr>\n",
       "  </thead>\n",
       "  <tbody>\n",
       "    <tr>\n",
       "      <th>T-test</th>\n",
       "      <td>-0.97646</td>\n",
       "      <td>6.487178</td>\n",
       "      <td>two-sided</td>\n",
       "      <td>0.363833</td>\n",
       "      <td>[-0.26, 0.11]</td>\n",
       "      <td>0.657086</td>\n",
       "      <td>0.672</td>\n",
       "      <td>0.136178</td>\n",
       "    </tr>\n",
       "  </tbody>\n",
       "</table>\n",
       "</div>"
      ],
      "text/plain": [
       "              T       dof alternative     p-val          CI95%   cohen-d  \\\n",
       "T-test -0.97646  6.487178   two-sided  0.363833  [-0.26, 0.11]  0.657086   \n",
       "\n",
       "         BF10     power  \n",
       "T-test  0.672  0.136178  "
      ]
     },
     "execution_count": 87,
     "metadata": {},
     "output_type": "execute_result"
    }
   ],
   "source": [
    "#At Time 0 between Two Room Type\n",
    "res=ttest(Staph_ADR_T0['Abundance'], Staph_ADV_T0['Abundance'],paired = False)\n",
    "res"
   ]
  },
  {
   "cell_type": "code",
   "execution_count": 88,
   "id": "231e57bd-4b34-4549-aa2e-f33502c30c64",
   "metadata": {},
   "outputs": [
    {
     "data": {
      "text/html": [
       "<div>\n",
       "<style scoped>\n",
       "    .dataframe tbody tr th:only-of-type {\n",
       "        vertical-align: middle;\n",
       "    }\n",
       "\n",
       "    .dataframe tbody tr th {\n",
       "        vertical-align: top;\n",
       "    }\n",
       "\n",
       "    .dataframe thead th {\n",
       "        text-align: right;\n",
       "    }\n",
       "</style>\n",
       "<table border=\"1\" class=\"dataframe\">\n",
       "  <thead>\n",
       "    <tr style=\"text-align: right;\">\n",
       "      <th></th>\n",
       "      <th>T</th>\n",
       "      <th>dof</th>\n",
       "      <th>alternative</th>\n",
       "      <th>p-val</th>\n",
       "      <th>CI95%</th>\n",
       "      <th>cohen-d</th>\n",
       "      <th>BF10</th>\n",
       "      <th>power</th>\n",
       "    </tr>\n",
       "  </thead>\n",
       "  <tbody>\n",
       "    <tr>\n",
       "      <th>T-test</th>\n",
       "      <td>0.21487</td>\n",
       "      <td>6.79081</td>\n",
       "      <td>two-sided</td>\n",
       "      <td>0.836178</td>\n",
       "      <td>[-0.12, 0.14]</td>\n",
       "      <td>0.135232</td>\n",
       "      <td>0.488</td>\n",
       "      <td>0.054622</td>\n",
       "    </tr>\n",
       "  </tbody>\n",
       "</table>\n",
       "</div>"
      ],
      "text/plain": [
       "              T      dof alternative     p-val          CI95%   cohen-d  \\\n",
       "T-test  0.21487  6.79081   two-sided  0.836178  [-0.12, 0.14]  0.135232   \n",
       "\n",
       "         BF10     power  \n",
       "T-test  0.488  0.054622  "
      ]
     },
     "execution_count": 88,
     "metadata": {},
     "output_type": "execute_result"
    }
   ],
   "source": [
    "#At Time 1 between Two Room Type\n",
    "res=ttest(Staph_ADR_T1['Abundance'], Staph_ADV_T1['Abundance'],paired = False)\n",
    "res"
   ]
  },
  {
   "cell_type": "code",
   "execution_count": 89,
   "id": "dfb3dead-d4cd-4929-aebe-080d2ef8f299",
   "metadata": {},
   "outputs": [
    {
     "data": {
      "text/html": [
       "<div>\n",
       "<style scoped>\n",
       "    .dataframe tbody tr th:only-of-type {\n",
       "        vertical-align: middle;\n",
       "    }\n",
       "\n",
       "    .dataframe tbody tr th {\n",
       "        vertical-align: top;\n",
       "    }\n",
       "\n",
       "    .dataframe thead th {\n",
       "        text-align: right;\n",
       "    }\n",
       "</style>\n",
       "<table border=\"1\" class=\"dataframe\">\n",
       "  <thead>\n",
       "    <tr style=\"text-align: right;\">\n",
       "      <th></th>\n",
       "      <th>T</th>\n",
       "      <th>dof</th>\n",
       "      <th>alternative</th>\n",
       "      <th>p-val</th>\n",
       "      <th>CI95%</th>\n",
       "      <th>cohen-d</th>\n",
       "      <th>BF10</th>\n",
       "      <th>power</th>\n",
       "    </tr>\n",
       "  </thead>\n",
       "  <tbody>\n",
       "    <tr>\n",
       "      <th>T-test</th>\n",
       "      <td>1.529813</td>\n",
       "      <td>8</td>\n",
       "      <td>two-sided</td>\n",
       "      <td>0.164592</td>\n",
       "      <td>[-0.06, 0.27]</td>\n",
       "      <td>0.967539</td>\n",
       "      <td>0.951</td>\n",
       "      <td>0.27128</td>\n",
       "    </tr>\n",
       "  </tbody>\n",
       "</table>\n",
       "</div>"
      ],
      "text/plain": [
       "               T  dof alternative     p-val          CI95%   cohen-d   BF10  \\\n",
       "T-test  1.529813    8   two-sided  0.164592  [-0.06, 0.27]  0.967539  0.951   \n",
       "\n",
       "          power  \n",
       "T-test  0.27128  "
      ]
     },
     "execution_count": 89,
     "metadata": {},
     "output_type": "execute_result"
    }
   ],
   "source": [
    "#At Time 2 between Two Room Type\n",
    "res=ttest(Staph_ADR_T2['Abundance'], Staph_ADV_T2['Abundance'],paired = False)\n",
    "res"
   ]
  },
  {
   "cell_type": "code",
   "execution_count": 90,
   "id": "dd4e1548-ed49-46e6-a329-6105abd1dc5e",
   "metadata": {},
   "outputs": [
    {
     "data": {
      "text/html": [
       "<div>\n",
       "<style scoped>\n",
       "    .dataframe tbody tr th:only-of-type {\n",
       "        vertical-align: middle;\n",
       "    }\n",
       "\n",
       "    .dataframe tbody tr th {\n",
       "        vertical-align: top;\n",
       "    }\n",
       "\n",
       "    .dataframe thead th {\n",
       "        text-align: right;\n",
       "    }\n",
       "</style>\n",
       "<table border=\"1\" class=\"dataframe\">\n",
       "  <thead>\n",
       "    <tr style=\"text-align: right;\">\n",
       "      <th></th>\n",
       "      <th>T</th>\n",
       "      <th>dof</th>\n",
       "      <th>alternative</th>\n",
       "      <th>p-val</th>\n",
       "      <th>CI95%</th>\n",
       "      <th>cohen-d</th>\n",
       "      <th>BF10</th>\n",
       "      <th>power</th>\n",
       "    </tr>\n",
       "  </thead>\n",
       "  <tbody>\n",
       "    <tr>\n",
       "      <th>T-test</th>\n",
       "      <td>1.253936</td>\n",
       "      <td>8</td>\n",
       "      <td>two-sided</td>\n",
       "      <td>0.245265</td>\n",
       "      <td>[-0.08, 0.29]</td>\n",
       "      <td>0.793058</td>\n",
       "      <td>0.778</td>\n",
       "      <td>0.198088</td>\n",
       "    </tr>\n",
       "  </tbody>\n",
       "</table>\n",
       "</div>"
      ],
      "text/plain": [
       "               T  dof alternative     p-val          CI95%   cohen-d   BF10  \\\n",
       "T-test  1.253936    8   two-sided  0.245265  [-0.08, 0.29]  0.793058  0.778   \n",
       "\n",
       "           power  \n",
       "T-test  0.198088  "
      ]
     },
     "execution_count": 90,
     "metadata": {},
     "output_type": "execute_result"
    }
   ],
   "source": [
    "#At Time 3 between Two Room Type\n",
    "res=ttest(Staph_ADR_T3['Abundance'], Staph_ADV_T3['Abundance'],paired = False)\n",
    "res"
   ]
  },
  {
   "cell_type": "markdown",
   "id": "3be1cbe6-6107-4c6e-9a92-ab6991794433",
   "metadata": {},
   "source": [
    "#### Effect of occupancy (Time) on relative abundnace of genus Staphylococcus on AirDuct "
   ]
  },
  {
   "cell_type": "code",
   "execution_count": 91,
   "id": "87b3e1cd-53ea-41d0-a2b5-7eed582df4c2",
   "metadata": {},
   "outputs": [
    {
     "name": "stdout",
     "output_type": "stream",
     "text": [
      "  Source  ddof1  ddof2         F    p-unc      np2       eps\n",
      "0   Time      3      9  2.199039  0.15778  0.42297  0.629719\n"
     ]
    }
   ],
   "source": [
    "# repeated One Way ANOVA\n",
    "aov = pg.rm_anova(data=Staph_AirDuct_Regular, dv=\"Abundance\", within=[\"Time\"], subject='Room_Number')\n",
    "print(aov)"
   ]
  },
  {
   "cell_type": "code",
   "execution_count": 92,
   "id": "cf04a3df-90fd-4fc5-b069-3575bcb3eb22",
   "metadata": {},
   "outputs": [
    {
     "name": "stdout",
     "output_type": "stream",
     "text": [
      "  Source  ddof1  ddof2         F    p-unc      np2       eps\n",
      "0   Time      3      9  0.369311  0.77712  0.10961  0.803191\n"
     ]
    }
   ],
   "source": [
    "# repeated One Way ANOVA\n",
    "aov = pg.rm_anova(data=Staph_AirDuct_View, dv=\"Abundance\", within=[\"Time\"], subject='Room_Number')\n",
    "print(aov)"
   ]
  },
  {
   "cell_type": "markdown",
   "id": "96e64456-5b47-496f-914e-e1a1086d1383",
   "metadata": {},
   "source": [
    "\n",
    "### Air Sample (Staphylcoocccus)"
   ]
  },
  {
   "cell_type": "code",
   "execution_count": 93,
   "id": "93403a2d-3e16-430b-9c98-29c7f624a906",
   "metadata": {},
   "outputs": [
    {
     "data": {
      "text/html": [
       "<div>\n",
       "<style scoped>\n",
       "    .dataframe tbody tr th:only-of-type {\n",
       "        vertical-align: middle;\n",
       "    }\n",
       "\n",
       "    .dataframe tbody tr th {\n",
       "        vertical-align: top;\n",
       "    }\n",
       "\n",
       "    .dataframe thead th {\n",
       "        text-align: right;\n",
       "    }\n",
       "</style>\n",
       "<table border=\"1\" class=\"dataframe\">\n",
       "  <thead>\n",
       "    <tr style=\"text-align: right;\">\n",
       "      <th></th>\n",
       "      <th>Room_Number</th>\n",
       "      <th>Abundance</th>\n",
       "      <th>location</th>\n",
       "      <th>Room_Type</th>\n",
       "      <th>Time</th>\n",
       "      <th>Kingdom</th>\n",
       "      <th>Phlylum</th>\n",
       "      <th>Class</th>\n",
       "      <th>Order</th>\n",
       "      <th>Family</th>\n",
       "      <th>Genus</th>\n",
       "    </tr>\n",
       "    <tr>\n",
       "      <th>Sample</th>\n",
       "      <th></th>\n",
       "      <th></th>\n",
       "      <th></th>\n",
       "      <th></th>\n",
       "      <th></th>\n",
       "      <th></th>\n",
       "      <th></th>\n",
       "      <th></th>\n",
       "      <th></th>\n",
       "      <th></th>\n",
       "      <th></th>\n",
       "    </tr>\n",
       "  </thead>\n",
       "  <tbody>\n",
       "    <tr>\n",
       "      <th>W1T3_AF</th>\n",
       "      <td>1</td>\n",
       "      <td>0.000000</td>\n",
       "      <td>AirFilter</td>\n",
       "      <td>View</td>\n",
       "      <td>T3</td>\n",
       "      <td>Bacteria</td>\n",
       "      <td>Firmicutes</td>\n",
       "      <td>Bacilli</td>\n",
       "      <td>Bacillales</td>\n",
       "      <td>Staphylococcaceae</td>\n",
       "      <td>Staphylococcus</td>\n",
       "    </tr>\n",
       "    <tr>\n",
       "      <th>W3T3_AF</th>\n",
       "      <td>3</td>\n",
       "      <td>0.000184</td>\n",
       "      <td>AirFilter</td>\n",
       "      <td>View</td>\n",
       "      <td>T3</td>\n",
       "      <td>Bacteria</td>\n",
       "      <td>Firmicutes</td>\n",
       "      <td>Bacilli</td>\n",
       "      <td>Bacillales</td>\n",
       "      <td>Staphylococcaceae</td>\n",
       "      <td>Staphylococcus</td>\n",
       "    </tr>\n",
       "    <tr>\n",
       "      <th>W4T3_AF</th>\n",
       "      <td>4</td>\n",
       "      <td>0.017206</td>\n",
       "      <td>AirFilter</td>\n",
       "      <td>View</td>\n",
       "      <td>T3</td>\n",
       "      <td>Bacteria</td>\n",
       "      <td>Firmicutes</td>\n",
       "      <td>Bacilli</td>\n",
       "      <td>Bacillales</td>\n",
       "      <td>Staphylococcaceae</td>\n",
       "      <td>Staphylococcus</td>\n",
       "    </tr>\n",
       "    <tr>\n",
       "      <th>W5T3_AF</th>\n",
       "      <td>5</td>\n",
       "      <td>0.104609</td>\n",
       "      <td>AirFilter</td>\n",
       "      <td>View</td>\n",
       "      <td>T3</td>\n",
       "      <td>Bacteria</td>\n",
       "      <td>Firmicutes</td>\n",
       "      <td>Bacilli</td>\n",
       "      <td>Bacillales</td>\n",
       "      <td>Staphylococcaceae</td>\n",
       "      <td>Staphylococcus</td>\n",
       "    </tr>\n",
       "    <tr>\n",
       "      <th>W6T3_AF</th>\n",
       "      <td>6</td>\n",
       "      <td>0.000000</td>\n",
       "      <td>AirFilter</td>\n",
       "      <td>View</td>\n",
       "      <td>T3</td>\n",
       "      <td>Bacteria</td>\n",
       "      <td>Firmicutes</td>\n",
       "      <td>Bacilli</td>\n",
       "      <td>Bacillales</td>\n",
       "      <td>Staphylococcaceae</td>\n",
       "      <td>Staphylococcus</td>\n",
       "    </tr>\n",
       "  </tbody>\n",
       "</table>\n",
       "</div>"
      ],
      "text/plain": [
       "         Room_Number  Abundance   location Room_Type Time   Kingdom  \\\n",
       "Sample                                                                \n",
       "W1T3_AF            1   0.000000  AirFilter      View   T3  Bacteria   \n",
       "W3T3_AF            3   0.000184  AirFilter      View   T3  Bacteria   \n",
       "W4T3_AF            4   0.017206  AirFilter      View   T3  Bacteria   \n",
       "W5T3_AF            5   0.104609  AirFilter      View   T3  Bacteria   \n",
       "W6T3_AF            6   0.000000  AirFilter      View   T3  Bacteria   \n",
       "\n",
       "            Phlylum    Class       Order             Family           Genus  \n",
       "Sample                                                                       \n",
       "W1T3_AF  Firmicutes  Bacilli  Bacillales  Staphylococcaceae  Staphylococcus  \n",
       "W3T3_AF  Firmicutes  Bacilli  Bacillales  Staphylococcaceae  Staphylococcus  \n",
       "W4T3_AF  Firmicutes  Bacilli  Bacillales  Staphylococcaceae  Staphylococcus  \n",
       "W5T3_AF  Firmicutes  Bacilli  Bacillales  Staphylococcaceae  Staphylococcus  \n",
       "W6T3_AF  Firmicutes  Bacilli  Bacillales  Staphylococcaceae  Staphylococcus  "
      ]
     },
     "execution_count": 93,
     "metadata": {},
     "output_type": "execute_result"
    }
   ],
   "source": [
    "Staph_AirSample_Regular= subgroup(AirSample_Staph, \"Room_Type\", \"Regular\")\n",
    "Staph_AirSample_View= subgroup(AirSample_Staph, \"Room_Type\", \"View\")\n",
    "#Subgroup for each Timepoint \n",
    "Staph_ASR_T1=subgroup(Staph_AirSample_Regular, \"Time\",\"T1\")\n",
    "Staph_ASR_T3=subgroup(Staph_AirSample_Regular, \"Time\",\"T3\")\n",
    "Staph_ASV_T1=subgroup(Staph_AirSample_View, \"Time\",\"T1\")\n",
    "Staph_ASV_T3=subgroup(Staph_AirSample_View, \"Time\",\"T3\")\n",
    "Staph_ASV_T3"
   ]
  },
  {
   "cell_type": "code",
   "execution_count": 183,
   "id": "18ec2b8b-9347-41bc-85fe-a4c5b154f376",
   "metadata": {},
   "outputs": [
    {
     "name": "stdout",
     "output_type": "stream",
     "text": [
      "Shapiro statistics of Air Sample =0.632, p=0.000\n"
     ]
    }
   ],
   "source": [
    "# Overall Shapiro Wilk Test \n",
    "stat, p = shapiro(AirSample_Staph[\"Abundance\"])\n",
    "print('Shapiro statistics of Air Sample =%.3f, p=%.3f' % (stat, p))"
   ]
  },
  {
   "cell_type": "markdown",
   "id": "a403e98a-acd0-4eb2-aa37-18763b6dfcac",
   "metadata": {},
   "source": [
    "**Normality and variance test**"
   ]
  },
  {
   "cell_type": "code",
   "execution_count": 94,
   "id": "3af1b54b-4386-45bf-998a-8826faa512d1",
   "metadata": {},
   "outputs": [
    {
     "data": {
      "text/html": [
       "<div>\n",
       "<style scoped>\n",
       "    .dataframe tbody tr th:only-of-type {\n",
       "        vertical-align: middle;\n",
       "    }\n",
       "\n",
       "    .dataframe tbody tr th {\n",
       "        vertical-align: top;\n",
       "    }\n",
       "\n",
       "    .dataframe thead th {\n",
       "        text-align: right;\n",
       "    }\n",
       "</style>\n",
       "<table border=\"1\" class=\"dataframe\">\n",
       "  <thead>\n",
       "    <tr style=\"text-align: right;\">\n",
       "      <th></th>\n",
       "      <th>W</th>\n",
       "      <th>pval</th>\n",
       "      <th>normal</th>\n",
       "    </tr>\n",
       "  </thead>\n",
       "  <tbody>\n",
       "    <tr>\n",
       "      <th>Regular</th>\n",
       "      <td>0.737387</td>\n",
       "      <td>0.002506</td>\n",
       "      <td>False</td>\n",
       "    </tr>\n",
       "    <tr>\n",
       "      <th>View</th>\n",
       "      <td>0.503164</td>\n",
       "      <td>0.000004</td>\n",
       "      <td>False</td>\n",
       "    </tr>\n",
       "  </tbody>\n",
       "</table>\n",
       "</div>"
      ],
      "text/plain": [
       "                W      pval  normal\n",
       "Regular  0.737387  0.002506   False\n",
       "View     0.503164  0.000004   False"
      ]
     },
     "execution_count": 94,
     "metadata": {},
     "output_type": "execute_result"
    }
   ],
   "source": [
    "# Normality of Air sample Dataframe for each Timepoints\n",
    "# Shapiro wilk test\n",
    "pg.normality(data=AirSample_Staph, dv='Abundance', group='Room_Type')"
   ]
  },
  {
   "cell_type": "code",
   "execution_count": 95,
   "id": "97ff48e5-c100-4168-9b96-036b50206ff7",
   "metadata": {},
   "outputs": [
    {
     "data": {
      "text/html": [
       "<div>\n",
       "<style scoped>\n",
       "    .dataframe tbody tr th:only-of-type {\n",
       "        vertical-align: middle;\n",
       "    }\n",
       "\n",
       "    .dataframe tbody tr th {\n",
       "        vertical-align: top;\n",
       "    }\n",
       "\n",
       "    .dataframe thead th {\n",
       "        text-align: right;\n",
       "    }\n",
       "</style>\n",
       "<table border=\"1\" class=\"dataframe\">\n",
       "  <thead>\n",
       "    <tr style=\"text-align: right;\">\n",
       "      <th></th>\n",
       "      <th>W</th>\n",
       "      <th>pval</th>\n",
       "      <th>normal</th>\n",
       "    </tr>\n",
       "  </thead>\n",
       "  <tbody>\n",
       "    <tr>\n",
       "      <th>T1</th>\n",
       "      <td>0.588249</td>\n",
       "      <td>0.000040</td>\n",
       "      <td>False</td>\n",
       "    </tr>\n",
       "    <tr>\n",
       "      <th>T3</th>\n",
       "      <td>0.684148</td>\n",
       "      <td>0.000566</td>\n",
       "      <td>False</td>\n",
       "    </tr>\n",
       "  </tbody>\n",
       "</table>\n",
       "</div>"
      ],
      "text/plain": [
       "           W      pval  normal\n",
       "T1  0.588249  0.000040   False\n",
       "T3  0.684148  0.000566   False"
      ]
     },
     "execution_count": 95,
     "metadata": {},
     "output_type": "execute_result"
    }
   ],
   "source": [
    "# Normality of Window Dataframe for each Timepoints\n",
    "# Shapiro Wilk test\n",
    "pg.normality(data=AirSample_Staph, dv='Abundance', group='Time')"
   ]
  },
  {
   "cell_type": "code",
   "execution_count": 96,
   "id": "bda0ba4a-3be7-4a24-affe-5e5a9561e8f3",
   "metadata": {},
   "outputs": [
    {
     "data": {
      "text/html": [
       "<div>\n",
       "<style scoped>\n",
       "    .dataframe tbody tr th:only-of-type {\n",
       "        vertical-align: middle;\n",
       "    }\n",
       "\n",
       "    .dataframe tbody tr th {\n",
       "        vertical-align: top;\n",
       "    }\n",
       "\n",
       "    .dataframe thead th {\n",
       "        text-align: right;\n",
       "    }\n",
       "</style>\n",
       "<table border=\"1\" class=\"dataframe\">\n",
       "  <thead>\n",
       "    <tr style=\"text-align: right;\">\n",
       "      <th></th>\n",
       "      <th>W</th>\n",
       "      <th>pval</th>\n",
       "      <th>equal_var</th>\n",
       "    </tr>\n",
       "  </thead>\n",
       "  <tbody>\n",
       "    <tr>\n",
       "      <th>levene</th>\n",
       "      <td>2.738157</td>\n",
       "      <td>0.115309</td>\n",
       "      <td>True</td>\n",
       "    </tr>\n",
       "  </tbody>\n",
       "</table>\n",
       "</div>"
      ],
      "text/plain": [
       "               W      pval  equal_var\n",
       "levene  2.738157  0.115309       True"
      ]
     },
     "execution_count": 96,
     "metadata": {},
     "output_type": "execute_result"
    }
   ],
   "source": [
    "# Levene's test for variance assumption\n",
    "pg.homoscedasticity(data=AirSample_Staph, dv='Abundance', group='Room_Type')"
   ]
  },
  {
   "cell_type": "code",
   "execution_count": 97,
   "id": "1c8542f8-7f1c-4ba7-b1f8-12a685cef977",
   "metadata": {},
   "outputs": [
    {
     "data": {
      "text/html": [
       "<div>\n",
       "<style scoped>\n",
       "    .dataframe tbody tr th:only-of-type {\n",
       "        vertical-align: middle;\n",
       "    }\n",
       "\n",
       "    .dataframe tbody tr th {\n",
       "        vertical-align: top;\n",
       "    }\n",
       "\n",
       "    .dataframe thead th {\n",
       "        text-align: right;\n",
       "    }\n",
       "</style>\n",
       "<table border=\"1\" class=\"dataframe\">\n",
       "  <thead>\n",
       "    <tr style=\"text-align: right;\">\n",
       "      <th></th>\n",
       "      <th>W</th>\n",
       "      <th>pval</th>\n",
       "      <th>equal_var</th>\n",
       "    </tr>\n",
       "  </thead>\n",
       "  <tbody>\n",
       "    <tr>\n",
       "      <th>levene</th>\n",
       "      <td>0.642209</td>\n",
       "      <td>0.433364</td>\n",
       "      <td>True</td>\n",
       "    </tr>\n",
       "  </tbody>\n",
       "</table>\n",
       "</div>"
      ],
      "text/plain": [
       "               W      pval  equal_var\n",
       "levene  0.642209  0.433364       True"
      ]
     },
     "execution_count": 97,
     "metadata": {},
     "output_type": "execute_result"
    }
   ],
   "source": [
    "# Levene's test for variance assumption\n",
    "pg.homoscedasticity(data=AirSample_Staph, dv='Abundance', group='Time')"
   ]
  },
  {
   "cell_type": "markdown",
   "id": "1640a51f-ce34-4a74-b4c8-89ae8d2aa67d",
   "metadata": {},
   "source": [
    "#### Effect of indoor daylight (Room Type) on relative abundnace of genus Staphylococcus on Air Duct"
   ]
  },
  {
   "cell_type": "code",
   "execution_count": 98,
   "id": "d75c8aaf-6f05-47ce-8f20-fd2cb3618e5d",
   "metadata": {},
   "outputs": [
    {
     "data": {
      "text/plain": [
       "MannwhitneyuResult(statistic=16.0, pvalue=0.5038124288130608)"
      ]
     },
     "execution_count": 98,
     "metadata": {},
     "output_type": "execute_result"
    }
   ],
   "source": [
    "#Window T1 MannWhitney U test\n",
    "scipy.stats.mannwhitneyu(Staph_ASR_T1['Abundance'], Staph_ASV_T1['Abundance'],alternative='two-sided')"
   ]
  },
  {
   "cell_type": "code",
   "execution_count": 99,
   "id": "0b6a681d-63a8-491b-9898-499e54ff25d5",
   "metadata": {},
   "outputs": [
    {
     "data": {
      "text/plain": [
       "MannwhitneyuResult(statistic=15.0, pvalue=0.666430033928618)"
      ]
     },
     "execution_count": 99,
     "metadata": {},
     "output_type": "execute_result"
    }
   ],
   "source": [
    "#Window T3 MannWhitney U test\n",
    "scipy.stats.mannwhitneyu(Staph_ASR_T3['Abundance'], Staph_ASV_T3['Abundance'],alternative='two-sided')"
   ]
  },
  {
   "cell_type": "markdown",
   "id": "20d4b97e-e5d2-4971-bdcd-3115cbc3265a",
   "metadata": {},
   "source": [
    "#### Effect of occupancy (Time) on relative abundnace of genus Staphylococcus on Window "
   ]
  },
  {
   "cell_type": "code",
   "execution_count": 100,
   "id": "d4e95b39-a3f0-4566-a386-fffcddf6909c",
   "metadata": {},
   "outputs": [
    {
     "data": {
      "text/html": [
       "<div>\n",
       "<style scoped>\n",
       "    .dataframe tbody tr th:only-of-type {\n",
       "        vertical-align: middle;\n",
       "    }\n",
       "\n",
       "    .dataframe tbody tr th {\n",
       "        vertical-align: top;\n",
       "    }\n",
       "\n",
       "    .dataframe thead th {\n",
       "        text-align: right;\n",
       "    }\n",
       "</style>\n",
       "<table border=\"1\" class=\"dataframe\">\n",
       "  <thead>\n",
       "    <tr style=\"text-align: right;\">\n",
       "      <th></th>\n",
       "      <th>Source</th>\n",
       "      <th>W</th>\n",
       "      <th>ddof1</th>\n",
       "      <th>Q</th>\n",
       "      <th>p-unc</th>\n",
       "    </tr>\n",
       "  </thead>\n",
       "  <tbody>\n",
       "    <tr>\n",
       "      <th>Friedman</th>\n",
       "      <td>Time</td>\n",
       "      <td>0.0</td>\n",
       "      <td>1</td>\n",
       "      <td>0.0</td>\n",
       "      <td>1.0</td>\n",
       "    </tr>\n",
       "  </tbody>\n",
       "</table>\n",
       "</div>"
      ],
      "text/plain": [
       "         Source    W  ddof1    Q  p-unc\n",
       "Friedman   Time  0.0      1  0.0    1.0"
      ]
     },
     "execution_count": 100,
     "metadata": {},
     "output_type": "execute_result"
    }
   ],
   "source": [
    "#Friedman Test to see the block effect of TIME\n",
    "res= pg.friedman(data=Staph_AirSample_Regular, dv=\"Abundance\", within=\"Time\", subject=\"Room_Number\")\n",
    "res"
   ]
  },
  {
   "cell_type": "code",
   "execution_count": 101,
   "id": "502dd519-d6b8-46ff-8700-80c9b2e69846",
   "metadata": {},
   "outputs": [
    {
     "data": {
      "text/html": [
       "<div>\n",
       "<style scoped>\n",
       "    .dataframe tbody tr th:only-of-type {\n",
       "        vertical-align: middle;\n",
       "    }\n",
       "\n",
       "    .dataframe tbody tr th {\n",
       "        vertical-align: top;\n",
       "    }\n",
       "\n",
       "    .dataframe thead th {\n",
       "        text-align: right;\n",
       "    }\n",
       "</style>\n",
       "<table border=\"1\" class=\"dataframe\">\n",
       "  <thead>\n",
       "    <tr style=\"text-align: right;\">\n",
       "      <th></th>\n",
       "      <th>Source</th>\n",
       "      <th>W</th>\n",
       "      <th>ddof1</th>\n",
       "      <th>Q</th>\n",
       "      <th>p-unc</th>\n",
       "    </tr>\n",
       "  </thead>\n",
       "  <tbody>\n",
       "    <tr>\n",
       "      <th>Friedman</th>\n",
       "      <td>Time</td>\n",
       "      <td>0.2</td>\n",
       "      <td>1</td>\n",
       "      <td>1.0</td>\n",
       "      <td>0.317311</td>\n",
       "    </tr>\n",
       "  </tbody>\n",
       "</table>\n",
       "</div>"
      ],
      "text/plain": [
       "         Source    W  ddof1    Q     p-unc\n",
       "Friedman   Time  0.2      1  1.0  0.317311"
      ]
     },
     "execution_count": 101,
     "metadata": {},
     "output_type": "execute_result"
    }
   ],
   "source": [
    "#Friedman Test to see the block effect of TIME\n",
    "res= pg.friedman(data=Staph_AirSample_View, dv=\"Abundance\", within=\"Time\", subject=\"Room_Number\")\n",
    "res"
   ]
  },
  {
   "cell_type": "markdown",
   "id": "8f35137e-f2bc-4df3-ae52-be991a41a110",
   "metadata": {},
   "source": [
    "### Palm (Staphylcoocccus)"
   ]
  },
  {
   "cell_type": "code",
   "execution_count": 102,
   "id": "41ad3101-5204-472d-abd3-4556ccdc1bd0",
   "metadata": {},
   "outputs": [
    {
     "data": {
      "text/html": [
       "<div>\n",
       "<style scoped>\n",
       "    .dataframe tbody tr th:only-of-type {\n",
       "        vertical-align: middle;\n",
       "    }\n",
       "\n",
       "    .dataframe tbody tr th {\n",
       "        vertical-align: top;\n",
       "    }\n",
       "\n",
       "    .dataframe thead th {\n",
       "        text-align: right;\n",
       "    }\n",
       "</style>\n",
       "<table border=\"1\" class=\"dataframe\">\n",
       "  <thead>\n",
       "    <tr style=\"text-align: right;\">\n",
       "      <th></th>\n",
       "      <th>Room_Number</th>\n",
       "      <th>Abundance</th>\n",
       "      <th>location</th>\n",
       "      <th>Room_Type</th>\n",
       "      <th>Time</th>\n",
       "      <th>Kingdom</th>\n",
       "      <th>Phlylum</th>\n",
       "      <th>Class</th>\n",
       "      <th>Order</th>\n",
       "      <th>Family</th>\n",
       "      <th>Genus</th>\n",
       "    </tr>\n",
       "    <tr>\n",
       "      <th>Sample</th>\n",
       "      <th></th>\n",
       "      <th></th>\n",
       "      <th></th>\n",
       "      <th></th>\n",
       "      <th></th>\n",
       "      <th></th>\n",
       "      <th></th>\n",
       "      <th></th>\n",
       "      <th></th>\n",
       "      <th></th>\n",
       "      <th></th>\n",
       "    </tr>\n",
       "  </thead>\n",
       "  <tbody>\n",
       "    <tr>\n",
       "      <th>W1T3_P</th>\n",
       "      <td>1</td>\n",
       "      <td>0.004649</td>\n",
       "      <td>Palm</td>\n",
       "      <td>View</td>\n",
       "      <td>T3</td>\n",
       "      <td>Bacteria</td>\n",
       "      <td>Firmicutes</td>\n",
       "      <td>Bacilli</td>\n",
       "      <td>Bacillales</td>\n",
       "      <td>Staphylococcaceae</td>\n",
       "      <td>Staphylococcus</td>\n",
       "    </tr>\n",
       "    <tr>\n",
       "      <th>W3T3_P</th>\n",
       "      <td>3</td>\n",
       "      <td>0.003484</td>\n",
       "      <td>Palm</td>\n",
       "      <td>View</td>\n",
       "      <td>T3</td>\n",
       "      <td>Bacteria</td>\n",
       "      <td>Firmicutes</td>\n",
       "      <td>Bacilli</td>\n",
       "      <td>Bacillales</td>\n",
       "      <td>Staphylococcaceae</td>\n",
       "      <td>Staphylococcus</td>\n",
       "    </tr>\n",
       "    <tr>\n",
       "      <th>W4T3_P</th>\n",
       "      <td>4</td>\n",
       "      <td>0.272655</td>\n",
       "      <td>Palm</td>\n",
       "      <td>View</td>\n",
       "      <td>T3</td>\n",
       "      <td>Bacteria</td>\n",
       "      <td>Firmicutes</td>\n",
       "      <td>Bacilli</td>\n",
       "      <td>Bacillales</td>\n",
       "      <td>Staphylococcaceae</td>\n",
       "      <td>Staphylococcus</td>\n",
       "    </tr>\n",
       "    <tr>\n",
       "      <th>W5T3_P</th>\n",
       "      <td>5</td>\n",
       "      <td>0.596453</td>\n",
       "      <td>Palm</td>\n",
       "      <td>View</td>\n",
       "      <td>T3</td>\n",
       "      <td>Bacteria</td>\n",
       "      <td>Firmicutes</td>\n",
       "      <td>Bacilli</td>\n",
       "      <td>Bacillales</td>\n",
       "      <td>Staphylococcaceae</td>\n",
       "      <td>Staphylococcus</td>\n",
       "    </tr>\n",
       "    <tr>\n",
       "      <th>W6T3_P</th>\n",
       "      <td>6</td>\n",
       "      <td>0.808921</td>\n",
       "      <td>Palm</td>\n",
       "      <td>View</td>\n",
       "      <td>T3</td>\n",
       "      <td>Bacteria</td>\n",
       "      <td>Firmicutes</td>\n",
       "      <td>Bacilli</td>\n",
       "      <td>Bacillales</td>\n",
       "      <td>Staphylococcaceae</td>\n",
       "      <td>Staphylococcus</td>\n",
       "    </tr>\n",
       "  </tbody>\n",
       "</table>\n",
       "</div>"
      ],
      "text/plain": [
       "        Room_Number  Abundance location Room_Type Time   Kingdom     Phlylum  \\\n",
       "Sample                                                                         \n",
       "W1T3_P            1   0.004649     Palm      View   T3  Bacteria  Firmicutes   \n",
       "W3T3_P            3   0.003484     Palm      View   T3  Bacteria  Firmicutes   \n",
       "W4T3_P            4   0.272655     Palm      View   T3  Bacteria  Firmicutes   \n",
       "W5T3_P            5   0.596453     Palm      View   T3  Bacteria  Firmicutes   \n",
       "W6T3_P            6   0.808921     Palm      View   T3  Bacteria  Firmicutes   \n",
       "\n",
       "          Class       Order             Family           Genus  \n",
       "Sample                                                          \n",
       "W1T3_P  Bacilli  Bacillales  Staphylococcaceae  Staphylococcus  \n",
       "W3T3_P  Bacilli  Bacillales  Staphylococcaceae  Staphylococcus  \n",
       "W4T3_P  Bacilli  Bacillales  Staphylococcaceae  Staphylococcus  \n",
       "W5T3_P  Bacilli  Bacillales  Staphylococcaceae  Staphylococcus  \n",
       "W6T3_P  Bacilli  Bacillales  Staphylococcaceae  Staphylococcus  "
      ]
     },
     "execution_count": 102,
     "metadata": {},
     "output_type": "execute_result"
    }
   ],
   "source": [
    "Staph_Palm_Regular= subgroup(Palm_Staph, \"Room_Type\", \"Regular\")\n",
    "Staph_Palm_View= subgroup(Palm_Staph, \"Room_Type\", \"View\")\n",
    "#Subgroup for each Timepoint \n",
    "Staph_PR_T1=subgroup(Staph_Palm_Regular, \"Time\",\"T1\")\n",
    "Staph_PR_T3=subgroup(Staph_Palm_Regular, \"Time\",\"T3\")\n",
    "Staph_PV_T1=subgroup(Staph_Palm_View, \"Time\",\"T1\")\n",
    "Staph_PV_T3=subgroup(Staph_Palm_View, \"Time\",\"T3\")\n",
    "Staph_PV_T3"
   ]
  },
  {
   "cell_type": "code",
   "execution_count": 184,
   "id": "f844518f-a6ce-4e08-ba7a-0746b7cae016",
   "metadata": {},
   "outputs": [
    {
     "name": "stdout",
     "output_type": "stream",
     "text": [
      "Shapiro statistics of Palm =0.876, p=0.015\n"
     ]
    }
   ],
   "source": [
    "# Overall Shapiro Wilk Test \n",
    "stat, p = shapiro(Palm_Staph[\"Abundance\"])\n",
    "print('Shapiro statistics of Palm =%.3f, p=%.3f' % (stat, p))"
   ]
  },
  {
   "cell_type": "markdown",
   "id": "cfb12b67-92dc-45be-a523-fba4bfb1ba46",
   "metadata": {},
   "source": [
    "**Normality and variance test**"
   ]
  },
  {
   "cell_type": "code",
   "execution_count": 103,
   "id": "20f8ca57-187d-4769-8059-7367d09445fa",
   "metadata": {},
   "outputs": [
    {
     "data": {
      "text/html": [
       "<div>\n",
       "<style scoped>\n",
       "    .dataframe tbody tr th:only-of-type {\n",
       "        vertical-align: middle;\n",
       "    }\n",
       "\n",
       "    .dataframe tbody tr th {\n",
       "        vertical-align: top;\n",
       "    }\n",
       "\n",
       "    .dataframe thead th {\n",
       "        text-align: right;\n",
       "    }\n",
       "</style>\n",
       "<table border=\"1\" class=\"dataframe\">\n",
       "  <thead>\n",
       "    <tr style=\"text-align: right;\">\n",
       "      <th></th>\n",
       "      <th>W</th>\n",
       "      <th>pval</th>\n",
       "      <th>normal</th>\n",
       "    </tr>\n",
       "  </thead>\n",
       "  <tbody>\n",
       "    <tr>\n",
       "      <th>Regular</th>\n",
       "      <td>0.862339</td>\n",
       "      <td>0.081307</td>\n",
       "      <td>True</td>\n",
       "    </tr>\n",
       "    <tr>\n",
       "      <th>View</th>\n",
       "      <td>0.837749</td>\n",
       "      <td>0.041466</td>\n",
       "      <td>False</td>\n",
       "    </tr>\n",
       "  </tbody>\n",
       "</table>\n",
       "</div>"
      ],
      "text/plain": [
       "                W      pval  normal\n",
       "Regular  0.862339  0.081307    True\n",
       "View     0.837749  0.041466   False"
      ]
     },
     "execution_count": 103,
     "metadata": {},
     "output_type": "execute_result"
    }
   ],
   "source": [
    "# Normality of Air sample Dataframe for each Timepoints\n",
    "# Shapiro wilk test\n",
    "pg.normality(data=Palm_Staph, dv='Abundance', group='Room_Type')"
   ]
  },
  {
   "cell_type": "code",
   "execution_count": 104,
   "id": "d7b08c32-145b-492d-aeb9-7366124f8b34",
   "metadata": {},
   "outputs": [
    {
     "data": {
      "text/html": [
       "<div>\n",
       "<style scoped>\n",
       "    .dataframe tbody tr th:only-of-type {\n",
       "        vertical-align: middle;\n",
       "    }\n",
       "\n",
       "    .dataframe tbody tr th {\n",
       "        vertical-align: top;\n",
       "    }\n",
       "\n",
       "    .dataframe thead th {\n",
       "        text-align: right;\n",
       "    }\n",
       "</style>\n",
       "<table border=\"1\" class=\"dataframe\">\n",
       "  <thead>\n",
       "    <tr style=\"text-align: right;\">\n",
       "      <th></th>\n",
       "      <th>W</th>\n",
       "      <th>pval</th>\n",
       "      <th>normal</th>\n",
       "    </tr>\n",
       "  </thead>\n",
       "  <tbody>\n",
       "    <tr>\n",
       "      <th>T1</th>\n",
       "      <td>0.854352</td>\n",
       "      <td>0.065432</td>\n",
       "      <td>True</td>\n",
       "    </tr>\n",
       "    <tr>\n",
       "      <th>T3</th>\n",
       "      <td>0.891248</td>\n",
       "      <td>0.175148</td>\n",
       "      <td>True</td>\n",
       "    </tr>\n",
       "  </tbody>\n",
       "</table>\n",
       "</div>"
      ],
      "text/plain": [
       "           W      pval  normal\n",
       "T1  0.854352  0.065432    True\n",
       "T3  0.891248  0.175148    True"
      ]
     },
     "execution_count": 104,
     "metadata": {},
     "output_type": "execute_result"
    }
   ],
   "source": [
    "# Normality of Air sample Dataframe for each room type\n",
    "pg.normality(data=Palm_Staph, dv='Abundance', group='Time')"
   ]
  },
  {
   "cell_type": "code",
   "execution_count": 105,
   "id": "a1c8eae4-7d81-4bc6-91ec-049c2bb07c0b",
   "metadata": {},
   "outputs": [
    {
     "data": {
      "text/html": [
       "<div>\n",
       "<style scoped>\n",
       "    .dataframe tbody tr th:only-of-type {\n",
       "        vertical-align: middle;\n",
       "    }\n",
       "\n",
       "    .dataframe tbody tr th {\n",
       "        vertical-align: top;\n",
       "    }\n",
       "\n",
       "    .dataframe thead th {\n",
       "        text-align: right;\n",
       "    }\n",
       "</style>\n",
       "<table border=\"1\" class=\"dataframe\">\n",
       "  <thead>\n",
       "    <tr style=\"text-align: right;\">\n",
       "      <th></th>\n",
       "      <th>W</th>\n",
       "      <th>pval</th>\n",
       "      <th>equal_var</th>\n",
       "    </tr>\n",
       "  </thead>\n",
       "  <tbody>\n",
       "    <tr>\n",
       "      <th>levene</th>\n",
       "      <td>0.441552</td>\n",
       "      <td>0.514798</td>\n",
       "      <td>True</td>\n",
       "    </tr>\n",
       "  </tbody>\n",
       "</table>\n",
       "</div>"
      ],
      "text/plain": [
       "               W      pval  equal_var\n",
       "levene  0.441552  0.514798       True"
      ]
     },
     "execution_count": 105,
     "metadata": {},
     "output_type": "execute_result"
    }
   ],
   "source": [
    "# Levene's test for variance assumption\n",
    "pg.homoscedasticity(data=Palm_Staph, dv='Abundance', group='Room_Type')"
   ]
  },
  {
   "cell_type": "code",
   "execution_count": 106,
   "id": "5f68fdd2-3048-4deb-b526-12dde6d249fd",
   "metadata": {},
   "outputs": [
    {
     "data": {
      "text/html": [
       "<div>\n",
       "<style scoped>\n",
       "    .dataframe tbody tr th:only-of-type {\n",
       "        vertical-align: middle;\n",
       "    }\n",
       "\n",
       "    .dataframe tbody tr th {\n",
       "        vertical-align: top;\n",
       "    }\n",
       "\n",
       "    .dataframe thead th {\n",
       "        text-align: right;\n",
       "    }\n",
       "</style>\n",
       "<table border=\"1\" class=\"dataframe\">\n",
       "  <thead>\n",
       "    <tr style=\"text-align: right;\">\n",
       "      <th></th>\n",
       "      <th>W</th>\n",
       "      <th>pval</th>\n",
       "      <th>equal_var</th>\n",
       "    </tr>\n",
       "  </thead>\n",
       "  <tbody>\n",
       "    <tr>\n",
       "      <th>levene</th>\n",
       "      <td>1.604265</td>\n",
       "      <td>0.221445</td>\n",
       "      <td>True</td>\n",
       "    </tr>\n",
       "  </tbody>\n",
       "</table>\n",
       "</div>"
      ],
      "text/plain": [
       "               W      pval  equal_var\n",
       "levene  1.604265  0.221445       True"
      ]
     },
     "execution_count": 106,
     "metadata": {},
     "output_type": "execute_result"
    }
   ],
   "source": [
    "# Levene's test for variance assumption\n",
    "pg.homoscedasticity(data=Palm_Staph, dv='Abundance', group='Time')"
   ]
  },
  {
   "cell_type": "markdown",
   "id": "54bd62a2-8ab6-4deb-9e3e-7dd25824cc1e",
   "metadata": {},
   "source": [
    "#### Effect of indoor daylight (Room Type) on relative abundnace of genus Staphylococcus on Palm"
   ]
  },
  {
   "cell_type": "code",
   "execution_count": 189,
   "id": "8c770b93-155e-44a6-878a-ed0fa8323a1b",
   "metadata": {},
   "outputs": [
    {
     "data": {
      "text/plain": [
       "MannwhitneyuResult(statistic=13.0, pvalue=1.0)"
      ]
     },
     "execution_count": 189,
     "metadata": {},
     "output_type": "execute_result"
    }
   ],
   "source": [
    "#Palm at T1: MannWhitney U test bewteen Room Type\n",
    "scipy.stats.mannwhitneyu(Staph_PR_T1['Abundance'], Staph_PV_T1['Abundance'],alternative='two-sided')"
   ]
  },
  {
   "cell_type": "code",
   "execution_count": 190,
   "id": "51914c77-4538-41a5-a04d-1ec20981bbc6",
   "metadata": {},
   "outputs": [
    {
     "data": {
      "text/plain": [
       "MannwhitneyuResult(statistic=12.0, pvalue=1.0)"
      ]
     },
     "execution_count": 190,
     "metadata": {},
     "output_type": "execute_result"
    }
   ],
   "source": [
    "#Palm at T1: MannWhitney U test bewteen Room Type\n",
    "scipy.stats.mannwhitneyu(Staph_PR_T3['Abundance'], Staph_PV_T3['Abundance'],alternative='two-sided')"
   ]
  },
  {
   "cell_type": "markdown",
   "id": "4039884c-70e5-4476-97ab-d018d6eaf107",
   "metadata": {},
   "source": [
    "#### Effect of occupancy (Time) on relative abundnace of genus Staphylococcus on Palm"
   ]
  },
  {
   "cell_type": "code",
   "execution_count": 109,
   "id": "ac3eb436-2c8d-43d0-807f-858405481acd",
   "metadata": {},
   "outputs": [
    {
     "data": {
      "text/html": [
       "<div>\n",
       "<style scoped>\n",
       "    .dataframe tbody tr th:only-of-type {\n",
       "        vertical-align: middle;\n",
       "    }\n",
       "\n",
       "    .dataframe tbody tr th {\n",
       "        vertical-align: top;\n",
       "    }\n",
       "\n",
       "    .dataframe thead th {\n",
       "        text-align: right;\n",
       "    }\n",
       "</style>\n",
       "<table border=\"1\" class=\"dataframe\">\n",
       "  <thead>\n",
       "    <tr style=\"text-align: right;\">\n",
       "      <th></th>\n",
       "      <th>Source</th>\n",
       "      <th>W</th>\n",
       "      <th>ddof1</th>\n",
       "      <th>Q</th>\n",
       "      <th>p-unc</th>\n",
       "    </tr>\n",
       "  </thead>\n",
       "  <tbody>\n",
       "    <tr>\n",
       "      <th>Friedman</th>\n",
       "      <td>Time</td>\n",
       "      <td>0.04</td>\n",
       "      <td>1</td>\n",
       "      <td>0.2</td>\n",
       "      <td>0.654721</td>\n",
       "    </tr>\n",
       "  </tbody>\n",
       "</table>\n",
       "</div>"
      ],
      "text/plain": [
       "         Source     W  ddof1    Q     p-unc\n",
       "Friedman   Time  0.04      1  0.2  0.654721"
      ]
     },
     "execution_count": 109,
     "metadata": {},
     "output_type": "execute_result"
    }
   ],
   "source": [
    "#EC Window room: Friedman Test to see the block effect of TIME\n",
    "res= pg.friedman(data=Staph_Palm_View, dv=\"Abundance\", within=\"Time\", subject=\"Room_Number\")\n",
    "res"
   ]
  },
  {
   "cell_type": "code",
   "execution_count": 191,
   "id": "14102728-bea6-4c1d-b83f-c133997daeb1",
   "metadata": {},
   "outputs": [
    {
     "data": {
      "text/html": [
       "<div>\n",
       "<style scoped>\n",
       "    .dataframe tbody tr th:only-of-type {\n",
       "        vertical-align: middle;\n",
       "    }\n",
       "\n",
       "    .dataframe tbody tr th {\n",
       "        vertical-align: top;\n",
       "    }\n",
       "\n",
       "    .dataframe thead th {\n",
       "        text-align: right;\n",
       "    }\n",
       "</style>\n",
       "<table border=\"1\" class=\"dataframe\">\n",
       "  <thead>\n",
       "    <tr style=\"text-align: right;\">\n",
       "      <th></th>\n",
       "      <th>Source</th>\n",
       "      <th>W</th>\n",
       "      <th>ddof1</th>\n",
       "      <th>Q</th>\n",
       "      <th>p-unc</th>\n",
       "    </tr>\n",
       "  </thead>\n",
       "  <tbody>\n",
       "    <tr>\n",
       "      <th>Friedman</th>\n",
       "      <td>Time</td>\n",
       "      <td>0.36</td>\n",
       "      <td>1</td>\n",
       "      <td>1.8</td>\n",
       "      <td>0.179712</td>\n",
       "    </tr>\n",
       "  </tbody>\n",
       "</table>\n",
       "</div>"
      ],
      "text/plain": [
       "         Source     W  ddof1    Q     p-unc\n",
       "Friedman   Time  0.36      1  1.8  0.179712"
      ]
     },
     "execution_count": 191,
     "metadata": {},
     "output_type": "execute_result"
    }
   ],
   "source": [
    "#Regular Room Friedman Test to see the block effect of TIME\n",
    "res= pg.friedman(data=Staph_Palm_Regular, dv=\"Abundance\", within=\"Time\", subject=\"Room_Number\")\n",
    "res"
   ]
  },
  {
   "cell_type": "markdown",
   "id": "4bcef0d0-936d-4435-9496-86d7703c99f2",
   "metadata": {},
   "source": [
    "\n",
    "### Saliva (Staphylcoocccus)"
   ]
  },
  {
   "cell_type": "code",
   "execution_count": 111,
   "id": "80cc04da-b105-417b-a8ef-b853f9538e6d",
   "metadata": {},
   "outputs": [
    {
     "data": {
      "text/html": [
       "<div>\n",
       "<style scoped>\n",
       "    .dataframe tbody tr th:only-of-type {\n",
       "        vertical-align: middle;\n",
       "    }\n",
       "\n",
       "    .dataframe tbody tr th {\n",
       "        vertical-align: top;\n",
       "    }\n",
       "\n",
       "    .dataframe thead th {\n",
       "        text-align: right;\n",
       "    }\n",
       "</style>\n",
       "<table border=\"1\" class=\"dataframe\">\n",
       "  <thead>\n",
       "    <tr style=\"text-align: right;\">\n",
       "      <th></th>\n",
       "      <th>Room_Number</th>\n",
       "      <th>Abundance</th>\n",
       "      <th>location</th>\n",
       "      <th>Room_Type</th>\n",
       "      <th>Time</th>\n",
       "      <th>Kingdom</th>\n",
       "      <th>Phlylum</th>\n",
       "      <th>Class</th>\n",
       "      <th>Order</th>\n",
       "      <th>Family</th>\n",
       "      <th>Genus</th>\n",
       "    </tr>\n",
       "    <tr>\n",
       "      <th>Sample</th>\n",
       "      <th></th>\n",
       "      <th></th>\n",
       "      <th></th>\n",
       "      <th></th>\n",
       "      <th></th>\n",
       "      <th></th>\n",
       "      <th></th>\n",
       "      <th></th>\n",
       "      <th></th>\n",
       "      <th></th>\n",
       "      <th></th>\n",
       "    </tr>\n",
       "  </thead>\n",
       "  <tbody>\n",
       "    <tr>\n",
       "      <th>W1T3_SA</th>\n",
       "      <td>1</td>\n",
       "      <td>0.0</td>\n",
       "      <td>Saliva</td>\n",
       "      <td>View</td>\n",
       "      <td>T3</td>\n",
       "      <td>Bacteria</td>\n",
       "      <td>Firmicutes</td>\n",
       "      <td>Bacilli</td>\n",
       "      <td>Bacillales</td>\n",
       "      <td>Staphylococcaceae</td>\n",
       "      <td>Staphylococcus</td>\n",
       "    </tr>\n",
       "    <tr>\n",
       "      <th>W3T3_SA</th>\n",
       "      <td>3</td>\n",
       "      <td>0.0</td>\n",
       "      <td>Saliva</td>\n",
       "      <td>View</td>\n",
       "      <td>T3</td>\n",
       "      <td>Bacteria</td>\n",
       "      <td>Firmicutes</td>\n",
       "      <td>Bacilli</td>\n",
       "      <td>Bacillales</td>\n",
       "      <td>Staphylococcaceae</td>\n",
       "      <td>Staphylococcus</td>\n",
       "    </tr>\n",
       "    <tr>\n",
       "      <th>W4T3_SA</th>\n",
       "      <td>4</td>\n",
       "      <td>0.0</td>\n",
       "      <td>Saliva</td>\n",
       "      <td>View</td>\n",
       "      <td>T3</td>\n",
       "      <td>Bacteria</td>\n",
       "      <td>Firmicutes</td>\n",
       "      <td>Bacilli</td>\n",
       "      <td>Bacillales</td>\n",
       "      <td>Staphylococcaceae</td>\n",
       "      <td>Staphylococcus</td>\n",
       "    </tr>\n",
       "    <tr>\n",
       "      <th>W5T3_SA</th>\n",
       "      <td>5</td>\n",
       "      <td>0.0</td>\n",
       "      <td>Saliva</td>\n",
       "      <td>View</td>\n",
       "      <td>T3</td>\n",
       "      <td>Bacteria</td>\n",
       "      <td>Firmicutes</td>\n",
       "      <td>Bacilli</td>\n",
       "      <td>Bacillales</td>\n",
       "      <td>Staphylococcaceae</td>\n",
       "      <td>Staphylococcus</td>\n",
       "    </tr>\n",
       "    <tr>\n",
       "      <th>W6T3_SA</th>\n",
       "      <td>6</td>\n",
       "      <td>0.0</td>\n",
       "      <td>Saliva</td>\n",
       "      <td>View</td>\n",
       "      <td>T3</td>\n",
       "      <td>Bacteria</td>\n",
       "      <td>Firmicutes</td>\n",
       "      <td>Bacilli</td>\n",
       "      <td>Bacillales</td>\n",
       "      <td>Staphylococcaceae</td>\n",
       "      <td>Staphylococcus</td>\n",
       "    </tr>\n",
       "  </tbody>\n",
       "</table>\n",
       "</div>"
      ],
      "text/plain": [
       "         Room_Number  Abundance location Room_Type Time   Kingdom     Phlylum  \\\n",
       "Sample                                                                          \n",
       "W1T3_SA            1        0.0   Saliva      View   T3  Bacteria  Firmicutes   \n",
       "W3T3_SA            3        0.0   Saliva      View   T3  Bacteria  Firmicutes   \n",
       "W4T3_SA            4        0.0   Saliva      View   T3  Bacteria  Firmicutes   \n",
       "W5T3_SA            5        0.0   Saliva      View   T3  Bacteria  Firmicutes   \n",
       "W6T3_SA            6        0.0   Saliva      View   T3  Bacteria  Firmicutes   \n",
       "\n",
       "           Class       Order             Family           Genus  \n",
       "Sample                                                           \n",
       "W1T3_SA  Bacilli  Bacillales  Staphylococcaceae  Staphylococcus  \n",
       "W3T3_SA  Bacilli  Bacillales  Staphylococcaceae  Staphylococcus  \n",
       "W4T3_SA  Bacilli  Bacillales  Staphylococcaceae  Staphylococcus  \n",
       "W5T3_SA  Bacilli  Bacillales  Staphylococcaceae  Staphylococcus  \n",
       "W6T3_SA  Bacilli  Bacillales  Staphylococcaceae  Staphylococcus  "
      ]
     },
     "execution_count": 111,
     "metadata": {},
     "output_type": "execute_result"
    }
   ],
   "source": [
    "Staph_Saliva_Regular= subgroup(Saliva_Staph, \"Room_Type\", \"Regular\")\n",
    "Staph_Saliva_View= subgroup(Saliva_Staph, \"Room_Type\", \"View\")\n",
    "#Subgroup for each Timepoint \n",
    "Staph_SR_T1=subgroup(Staph_Saliva_Regular, \"Time\",\"T1\")\n",
    "Staph_SR_T3=subgroup(Staph_Saliva_Regular, \"Time\",\"T3\")\n",
    "Staph_SV_T1=subgroup(Staph_Saliva_View, \"Time\",\"T1\")\n",
    "Staph_SV_T3=subgroup(Staph_Saliva_View, \"Time\",\"T3\")\n",
    "Staph_SV_T3"
   ]
  },
  {
   "cell_type": "markdown",
   "id": "66c26fdd-77ca-437e-9ed1-c31fcbef15e6",
   "metadata": {},
   "source": [
    "**Normality and variance test**"
   ]
  },
  {
   "cell_type": "code",
   "execution_count": 192,
   "id": "7115da4f-633c-4fae-8e4b-fc816e5d5fc8",
   "metadata": {},
   "outputs": [
    {
     "name": "stdout",
     "output_type": "stream",
     "text": [
      "Shapiro statistics of Saliva =0.448, p=0.000\n"
     ]
    }
   ],
   "source": [
    "# Overall Shapiro Wilk Test \n",
    "stat, p = shapiro(Saliva_Staph[\"Abundance\"])\n",
    "print('Shapiro statistics of Saliva =%.3f, p=%.3f' % (stat, p))"
   ]
  },
  {
   "cell_type": "code",
   "execution_count": 112,
   "id": "2202b358-a900-47a4-8b2f-1eb9e26af827",
   "metadata": {},
   "outputs": [
    {
     "data": {
      "text/html": [
       "<div>\n",
       "<style scoped>\n",
       "    .dataframe tbody tr th:only-of-type {\n",
       "        vertical-align: middle;\n",
       "    }\n",
       "\n",
       "    .dataframe tbody tr th {\n",
       "        vertical-align: top;\n",
       "    }\n",
       "\n",
       "    .dataframe thead th {\n",
       "        text-align: right;\n",
       "    }\n",
       "</style>\n",
       "<table border=\"1\" class=\"dataframe\">\n",
       "  <thead>\n",
       "    <tr style=\"text-align: right;\">\n",
       "      <th></th>\n",
       "      <th>W</th>\n",
       "      <th>pval</th>\n",
       "      <th>normal</th>\n",
       "    </tr>\n",
       "  </thead>\n",
       "  <tbody>\n",
       "    <tr>\n",
       "      <th>Regular</th>\n",
       "      <td>0.515407</td>\n",
       "      <td>5.515257e-06</td>\n",
       "      <td>False</td>\n",
       "    </tr>\n",
       "    <tr>\n",
       "      <th>View</th>\n",
       "      <td>0.365721</td>\n",
       "      <td>1.003693e-07</td>\n",
       "      <td>False</td>\n",
       "    </tr>\n",
       "  </tbody>\n",
       "</table>\n",
       "</div>"
      ],
      "text/plain": [
       "                W          pval  normal\n",
       "Regular  0.515407  5.515257e-06   False\n",
       "View     0.365721  1.003693e-07   False"
      ]
     },
     "execution_count": 112,
     "metadata": {},
     "output_type": "execute_result"
    }
   ],
   "source": [
    "# Normality of Air sample Dataframe for each Timepoints\n",
    "# Shapiro wilk test\n",
    "pg.normality(data=Saliva_Staph, dv='Abundance', group='Room_Type')"
   ]
  },
  {
   "cell_type": "code",
   "execution_count": 113,
   "id": "e7313ec4-9126-471f-92a7-4680ee61b4b0",
   "metadata": {},
   "outputs": [
    {
     "data": {
      "text/html": [
       "<div>\n",
       "<style scoped>\n",
       "    .dataframe tbody tr th:only-of-type {\n",
       "        vertical-align: middle;\n",
       "    }\n",
       "\n",
       "    .dataframe tbody tr th {\n",
       "        vertical-align: top;\n",
       "    }\n",
       "\n",
       "    .dataframe thead th {\n",
       "        text-align: right;\n",
       "    }\n",
       "</style>\n",
       "<table border=\"1\" class=\"dataframe\">\n",
       "  <thead>\n",
       "    <tr style=\"text-align: right;\">\n",
       "      <th></th>\n",
       "      <th>W</th>\n",
       "      <th>pval</th>\n",
       "      <th>normal</th>\n",
       "    </tr>\n",
       "  </thead>\n",
       "  <tbody>\n",
       "    <tr>\n",
       "      <th>T1</th>\n",
       "      <td>0.525124</td>\n",
       "      <td>7.175663e-06</td>\n",
       "      <td>False</td>\n",
       "    </tr>\n",
       "    <tr>\n",
       "      <th>T3</th>\n",
       "      <td>0.365721</td>\n",
       "      <td>1.003693e-07</td>\n",
       "      <td>False</td>\n",
       "    </tr>\n",
       "  </tbody>\n",
       "</table>\n",
       "</div>"
      ],
      "text/plain": [
       "           W          pval  normal\n",
       "T1  0.525124  7.175663e-06   False\n",
       "T3  0.365721  1.003693e-07   False"
      ]
     },
     "execution_count": 113,
     "metadata": {},
     "output_type": "execute_result"
    }
   ],
   "source": [
    "pg.normality(data=Saliva_Staph, dv='Abundance', group='Time')"
   ]
  },
  {
   "cell_type": "code",
   "execution_count": 114,
   "id": "4739a633-b800-4a42-8a60-336bb46e1c2d",
   "metadata": {},
   "outputs": [
    {
     "data": {
      "text/html": [
       "<div>\n",
       "<style scoped>\n",
       "    .dataframe tbody tr th:only-of-type {\n",
       "        vertical-align: middle;\n",
       "    }\n",
       "\n",
       "    .dataframe tbody tr th {\n",
       "        vertical-align: top;\n",
       "    }\n",
       "\n",
       "    .dataframe thead th {\n",
       "        text-align: right;\n",
       "    }\n",
       "</style>\n",
       "<table border=\"1\" class=\"dataframe\">\n",
       "  <thead>\n",
       "    <tr style=\"text-align: right;\">\n",
       "      <th></th>\n",
       "      <th>W</th>\n",
       "      <th>pval</th>\n",
       "      <th>equal_var</th>\n",
       "    </tr>\n",
       "  </thead>\n",
       "  <tbody>\n",
       "    <tr>\n",
       "      <th>levene</th>\n",
       "      <td>0.21752</td>\n",
       "      <td>0.646531</td>\n",
       "      <td>True</td>\n",
       "    </tr>\n",
       "  </tbody>\n",
       "</table>\n",
       "</div>"
      ],
      "text/plain": [
       "              W      pval  equal_var\n",
       "levene  0.21752  0.646531       True"
      ]
     },
     "execution_count": 114,
     "metadata": {},
     "output_type": "execute_result"
    }
   ],
   "source": [
    "# Levene's test for variance assumption\n",
    "pg.homoscedasticity(data=Saliva_Staph, dv='Abundance', group='Room_Type')"
   ]
  },
  {
   "cell_type": "code",
   "execution_count": 115,
   "id": "afd63508-0a06-409b-9928-31981c21756f",
   "metadata": {},
   "outputs": [
    {
     "data": {
      "text/html": [
       "<div>\n",
       "<style scoped>\n",
       "    .dataframe tbody tr th:only-of-type {\n",
       "        vertical-align: middle;\n",
       "    }\n",
       "\n",
       "    .dataframe tbody tr th {\n",
       "        vertical-align: top;\n",
       "    }\n",
       "\n",
       "    .dataframe thead th {\n",
       "        text-align: right;\n",
       "    }\n",
       "</style>\n",
       "<table border=\"1\" class=\"dataframe\">\n",
       "  <thead>\n",
       "    <tr style=\"text-align: right;\">\n",
       "      <th></th>\n",
       "      <th>W</th>\n",
       "      <th>pval</th>\n",
       "      <th>equal_var</th>\n",
       "    </tr>\n",
       "  </thead>\n",
       "  <tbody>\n",
       "    <tr>\n",
       "      <th>levene</th>\n",
       "      <td>0.477908</td>\n",
       "      <td>0.498192</td>\n",
       "      <td>True</td>\n",
       "    </tr>\n",
       "  </tbody>\n",
       "</table>\n",
       "</div>"
      ],
      "text/plain": [
       "               W      pval  equal_var\n",
       "levene  0.477908  0.498192       True"
      ]
     },
     "execution_count": 115,
     "metadata": {},
     "output_type": "execute_result"
    }
   ],
   "source": [
    "pg.homoscedasticity(data=Saliva_Staph, dv='Abundance', group='Time')"
   ]
  },
  {
   "cell_type": "markdown",
   "id": "60bcbd45-61e1-491f-9d9d-d86b5e60be36",
   "metadata": {},
   "source": [
    "#### Effect of indoor daylight (Room Type) on relative abundnace of genus Staphylococcus on Saliva"
   ]
  },
  {
   "cell_type": "code",
   "execution_count": 116,
   "id": "ad745eac-6e34-4a58-b53b-df1a8a4ed0e5",
   "metadata": {},
   "outputs": [
    {
     "data": {
      "text/plain": [
       "MannwhitneyuResult(statistic=12.0, pvalue=1.0)"
      ]
     },
     "execution_count": 116,
     "metadata": {},
     "output_type": "execute_result"
    }
   ],
   "source": [
    "#Saliva at T1: MannWhitney U test bewteen Room Type\n",
    "scipy.stats.mannwhitneyu(Staph_SR_T1['Abundance'], Staph_SV_T1['Abundance'],alternative='two-sided')"
   ]
  },
  {
   "cell_type": "code",
   "execution_count": 117,
   "id": "79c69137-ae16-4251-b8eb-0a895a0e9783",
   "metadata": {},
   "outputs": [
    {
     "data": {
      "text/plain": [
       "MannwhitneyuResult(statistic=15.0, pvalue=0.4237107971667934)"
      ]
     },
     "execution_count": 117,
     "metadata": {},
     "output_type": "execute_result"
    }
   ],
   "source": [
    "#Saliva at T3: MannWhitney U test bewteen Room Type\n",
    "scipy.stats.mannwhitneyu(Staph_SR_T3['Abundance'], Staph_SV_T3['Abundance'],alternative='two-sided')"
   ]
  },
  {
   "cell_type": "markdown",
   "id": "ad6ff71d-0f49-4383-8185-718c76cdab63",
   "metadata": {},
   "source": [
    "#### Effect of occupancy (Time) on relative abundnace of genus Staphylococcus on Saliva"
   ]
  },
  {
   "cell_type": "code",
   "execution_count": 118,
   "id": "6ae77af4-2bba-4c90-8d5f-ec9ca9be9668",
   "metadata": {},
   "outputs": [
    {
     "data": {
      "text/html": [
       "<div>\n",
       "<style scoped>\n",
       "    .dataframe tbody tr th:only-of-type {\n",
       "        vertical-align: middle;\n",
       "    }\n",
       "\n",
       "    .dataframe tbody tr th {\n",
       "        vertical-align: top;\n",
       "    }\n",
       "\n",
       "    .dataframe thead th {\n",
       "        text-align: right;\n",
       "    }\n",
       "</style>\n",
       "<table border=\"1\" class=\"dataframe\">\n",
       "  <thead>\n",
       "    <tr style=\"text-align: right;\">\n",
       "      <th></th>\n",
       "      <th>Source</th>\n",
       "      <th>W</th>\n",
       "      <th>ddof1</th>\n",
       "      <th>Q</th>\n",
       "      <th>p-unc</th>\n",
       "    </tr>\n",
       "  </thead>\n",
       "  <tbody>\n",
       "    <tr>\n",
       "      <th>Friedman</th>\n",
       "      <td>Time</td>\n",
       "      <td>0.2</td>\n",
       "      <td>1</td>\n",
       "      <td>1.0</td>\n",
       "      <td>0.317311</td>\n",
       "    </tr>\n",
       "  </tbody>\n",
       "</table>\n",
       "</div>"
      ],
      "text/plain": [
       "         Source    W  ddof1    Q     p-unc\n",
       "Friedman   Time  0.2      1  1.0  0.317311"
      ]
     },
     "execution_count": 118,
     "metadata": {},
     "output_type": "execute_result"
    }
   ],
   "source": [
    "#Friedman Test to see the block effect of TIME\n",
    "res= pg.friedman(data=Staph_Saliva_Regular, dv=\"Abundance\", within=\"Time\", subject=\"Room_Number\")\n",
    "res"
   ]
  },
  {
   "cell_type": "code",
   "execution_count": 119,
   "id": "20144473-617d-4b9b-9175-57047cb388fc",
   "metadata": {},
   "outputs": [
    {
     "data": {
      "text/html": [
       "<div>\n",
       "<style scoped>\n",
       "    .dataframe tbody tr th:only-of-type {\n",
       "        vertical-align: middle;\n",
       "    }\n",
       "\n",
       "    .dataframe tbody tr th {\n",
       "        vertical-align: top;\n",
       "    }\n",
       "\n",
       "    .dataframe thead th {\n",
       "        text-align: right;\n",
       "    }\n",
       "</style>\n",
       "<table border=\"1\" class=\"dataframe\">\n",
       "  <thead>\n",
       "    <tr style=\"text-align: right;\">\n",
       "      <th></th>\n",
       "      <th>Source</th>\n",
       "      <th>W</th>\n",
       "      <th>ddof1</th>\n",
       "      <th>Q</th>\n",
       "      <th>p-unc</th>\n",
       "    </tr>\n",
       "  </thead>\n",
       "  <tbody>\n",
       "    <tr>\n",
       "      <th>Friedman</th>\n",
       "      <td>Time</td>\n",
       "      <td>0.2</td>\n",
       "      <td>1</td>\n",
       "      <td>1.0</td>\n",
       "      <td>0.317311</td>\n",
       "    </tr>\n",
       "  </tbody>\n",
       "</table>\n",
       "</div>"
      ],
      "text/plain": [
       "         Source    W  ddof1    Q     p-unc\n",
       "Friedman   Time  0.2      1  1.0  0.317311"
      ]
     },
     "execution_count": 119,
     "metadata": {},
     "output_type": "execute_result"
    }
   ],
   "source": [
    "#Friedman Test to see the block effect of TIME\n",
    "res= pg.friedman(data=Staph_Saliva_View, dv=\"Abundance\", within=\"Time\", subject=\"Room_Number\")\n",
    "res"
   ]
  },
  {
   "cell_type": "markdown",
   "id": "87fffb64-ef1e-4c00-a3db-e7f7feecf388",
   "metadata": {},
   "source": [
    "___\n",
    "## Statistical analysis: Pseudomonas\n",
    "\n",
    "### Initial Data vaisualization"
   ]
  },
  {
   "cell_type": "code",
   "execution_count": 120,
   "id": "18336989-43c6-4eac-9163-ad3da24b6bbb",
   "metadata": {},
   "outputs": [
    {
     "data": {
      "text/plain": [
       "(0.0, 1.0)"
      ]
     },
     "execution_count": 120,
     "metadata": {},
     "output_type": "execute_result"
    },
    {
     "data": {
      "text/plain": [
       "<Figure size 1000x800 with 0 Axes>"
      ]
     },
     "metadata": {},
     "output_type": "display_data"
    },
    {
     "data": {
      "image/png": "[encoded data removed]",
      "text/plain": [
       "<Figure size 1422.88x800 with 2 Axes>"
      ]
     },
     "metadata": {},
     "output_type": "display_data"
    }
   ],
   "source": [
    "plt.figure(figsize= (10,8))\n",
    "g = sns.catplot(x=\"Time\", y=\"Abundance\",\n",
    "                hue=\"location\", hue_order=['Window','AirDuct','Palm','Saliva','Outside-Blind','AirFilter','Inside-Blind'],\n",
    "                col='Room_Type',order=['T0','T1','T2','T3'],\n",
    "                col_wrap=2, col_order=['View','Regular'], palette='muted',\n",
    "                data=Pseudo, kind=\"box\", dodge=True,\n",
    "                height=8, aspect=.8);\n",
    "g.set(ylabel='Relative Abundance')\n",
    "plt.ylim(0,1)"
   ]
  },
  {
   "cell_type": "markdown",
   "id": "75ef3623-3b96-43e7-9e0e-c78292a12ae2",
   "metadata": {},
   "source": [
    "* From the intiial data visualization, it can be shown that genus Pseudmonas are very low in abundance\n",
    "* Air Sample and Saliva barely have any detectable Pseudomonas, thus will not be included in the analysis\n",
    "___\n",
    "### Window (Pseudomonas)"
   ]
  },
  {
   "cell_type": "code",
   "execution_count": 121,
   "id": "de9afa33-d412-43b1-91b9-4e7b5338740d",
   "metadata": {},
   "outputs": [
    {
     "data": {
      "text/html": [
       "<div>\n",
       "<style scoped>\n",
       "    .dataframe tbody tr th:only-of-type {\n",
       "        vertical-align: middle;\n",
       "    }\n",
       "\n",
       "    .dataframe tbody tr th {\n",
       "        vertical-align: top;\n",
       "    }\n",
       "\n",
       "    .dataframe thead th {\n",
       "        text-align: right;\n",
       "    }\n",
       "</style>\n",
       "<table border=\"1\" class=\"dataframe\">\n",
       "  <thead>\n",
       "    <tr style=\"text-align: right;\">\n",
       "      <th></th>\n",
       "      <th>Room_Number</th>\n",
       "      <th>Abundance</th>\n",
       "      <th>location</th>\n",
       "      <th>Room_Type</th>\n",
       "      <th>Time</th>\n",
       "      <th>Kingdom</th>\n",
       "      <th>Genus</th>\n",
       "    </tr>\n",
       "    <tr>\n",
       "      <th>Sample</th>\n",
       "      <th></th>\n",
       "      <th></th>\n",
       "      <th></th>\n",
       "      <th></th>\n",
       "      <th></th>\n",
       "      <th></th>\n",
       "      <th></th>\n",
       "    </tr>\n",
       "  </thead>\n",
       "  <tbody>\n",
       "    <tr>\n",
       "      <th>W1T3_W</th>\n",
       "      <td>1</td>\n",
       "      <td>0.121154</td>\n",
       "      <td>Window</td>\n",
       "      <td>View</td>\n",
       "      <td>T3</td>\n",
       "      <td>Bacteria</td>\n",
       "      <td>Pseudomonas</td>\n",
       "    </tr>\n",
       "    <tr>\n",
       "      <th>W3T3_W</th>\n",
       "      <td>3</td>\n",
       "      <td>0.132154</td>\n",
       "      <td>Window</td>\n",
       "      <td>View</td>\n",
       "      <td>T3</td>\n",
       "      <td>Bacteria</td>\n",
       "      <td>Pseudomonas</td>\n",
       "    </tr>\n",
       "    <tr>\n",
       "      <th>W4T3_W</th>\n",
       "      <td>4</td>\n",
       "      <td>0.000000</td>\n",
       "      <td>Window</td>\n",
       "      <td>View</td>\n",
       "      <td>T3</td>\n",
       "      <td>Bacteria</td>\n",
       "      <td>Pseudomonas</td>\n",
       "    </tr>\n",
       "    <tr>\n",
       "      <th>W5T3_W</th>\n",
       "      <td>5</td>\n",
       "      <td>0.101342</td>\n",
       "      <td>Window</td>\n",
       "      <td>View</td>\n",
       "      <td>T3</td>\n",
       "      <td>Bacteria</td>\n",
       "      <td>Pseudomonas</td>\n",
       "    </tr>\n",
       "    <tr>\n",
       "      <th>W6T3_W</th>\n",
       "      <td>6</td>\n",
       "      <td>0.114535</td>\n",
       "      <td>Window</td>\n",
       "      <td>View</td>\n",
       "      <td>T3</td>\n",
       "      <td>Bacteria</td>\n",
       "      <td>Pseudomonas</td>\n",
       "    </tr>\n",
       "  </tbody>\n",
       "</table>\n",
       "</div>"
      ],
      "text/plain": [
       "        Room_Number  Abundance location Room_Type Time   Kingdom        Genus\n",
       "Sample                                                                       \n",
       "W1T3_W            1   0.121154   Window      View   T3  Bacteria  Pseudomonas\n",
       "W3T3_W            3   0.132154   Window      View   T3  Bacteria  Pseudomonas\n",
       "W4T3_W            4   0.000000   Window      View   T3  Bacteria  Pseudomonas\n",
       "W5T3_W            5   0.101342   Window      View   T3  Bacteria  Pseudomonas\n",
       "W6T3_W            6   0.114535   Window      View   T3  Bacteria  Pseudomonas"
      ]
     },
     "execution_count": 121,
     "metadata": {},
     "output_type": "execute_result"
    }
   ],
   "source": [
    "# Subgroup based on the room type\n",
    "Pseudo_Window_Regular= subgroup(Window_Pseudo, \"Room_Type\", \"Regular\")\n",
    "Pseudo_Window_View= subgroup(Window_Pseudo, \"Room_Type\", \"View\")\n",
    "#Subgroup for each Timepoint \n",
    "Pseudo_WR_T0=subgroup(Pseudo_Window_Regular, \"Time\",\"T0\")\n",
    "Pseudo_WR_T1=subgroup(Pseudo_Window_Regular, \"Time\",\"T1\")\n",
    "Pseudo_WR_T2=subgroup(Pseudo_Window_Regular, \"Time\",\"T2\")\n",
    "Pseudo_WR_T3=subgroup(Pseudo_Window_Regular, \"Time\",\"T3\")\n",
    "Pseudo_WV_T0=subgroup(Pseudo_Window_View, \"Time\",\"T0\")\n",
    "Pseudo_WV_T1=subgroup(Pseudo_Window_View, \"Time\",\"T1\")\n",
    "Pseudo_WV_T2=subgroup(Pseudo_Window_View, \"Time\",\"T2\")\n",
    "Pseudo_WV_T3=subgroup(Pseudo_Window_View, \"Time\",\"T3\")\n",
    "Pseudo_WV_T3"
   ]
  },
  {
   "cell_type": "markdown",
   "id": "eefe1bf3-e039-4f97-a081-dcdeb5a34f58",
   "metadata": {},
   "source": [
    "**Normality and variance test**"
   ]
  },
  {
   "cell_type": "code",
   "execution_count": 193,
   "id": "63d37c3b-864a-43e4-b27a-e9503f5462aa",
   "metadata": {},
   "outputs": [
    {
     "name": "stdout",
     "output_type": "stream",
     "text": [
      "Shapiro statistics of Window =0.676, p=0.000\n"
     ]
    }
   ],
   "source": [
    "# Overall Shapiro Wilk Test \n",
    "stat, p = shapiro(Window_Pseudo[\"Abundance\"])\n",
    "print('Shapiro statistics of Window =%.3f, p=%.3f' % (stat, p))"
   ]
  },
  {
   "cell_type": "code",
   "execution_count": 122,
   "id": "f9b2db28-a77f-428d-9d5c-0c71d3a44a4e",
   "metadata": {},
   "outputs": [
    {
     "data": {
      "text/html": [
       "<div>\n",
       "<style scoped>\n",
       "    .dataframe tbody tr th:only-of-type {\n",
       "        vertical-align: middle;\n",
       "    }\n",
       "\n",
       "    .dataframe tbody tr th {\n",
       "        vertical-align: top;\n",
       "    }\n",
       "\n",
       "    .dataframe thead th {\n",
       "        text-align: right;\n",
       "    }\n",
       "</style>\n",
       "<table border=\"1\" class=\"dataframe\">\n",
       "  <thead>\n",
       "    <tr style=\"text-align: right;\">\n",
       "      <th></th>\n",
       "      <th>W</th>\n",
       "      <th>pval</th>\n",
       "      <th>normal</th>\n",
       "    </tr>\n",
       "  </thead>\n",
       "  <tbody>\n",
       "    <tr>\n",
       "      <th>T0</th>\n",
       "      <td>0.901633</td>\n",
       "      <td>0.298874</td>\n",
       "      <td>True</td>\n",
       "    </tr>\n",
       "    <tr>\n",
       "      <th>T1</th>\n",
       "      <td>0.661569</td>\n",
       "      <td>0.000302</td>\n",
       "      <td>False</td>\n",
       "    </tr>\n",
       "    <tr>\n",
       "      <th>T2</th>\n",
       "      <td>0.559093</td>\n",
       "      <td>0.000018</td>\n",
       "      <td>False</td>\n",
       "    </tr>\n",
       "    <tr>\n",
       "      <th>T3</th>\n",
       "      <td>0.742120</td>\n",
       "      <td>0.002861</td>\n",
       "      <td>False</td>\n",
       "    </tr>\n",
       "  </tbody>\n",
       "</table>\n",
       "</div>"
      ],
      "text/plain": [
       "           W      pval  normal\n",
       "T0  0.901633  0.298874    True\n",
       "T1  0.661569  0.000302   False\n",
       "T2  0.559093  0.000018   False\n",
       "T3  0.742120  0.002861   False"
      ]
     },
     "execution_count": 122,
     "metadata": {},
     "output_type": "execute_result"
    }
   ],
   "source": [
    "# Normality of Window Dataframe for each Timepoints\n",
    "pg.normality(data=Window_Pseudo, dv='Abundance', group='Time')"
   ]
  },
  {
   "cell_type": "code",
   "execution_count": 123,
   "id": "f3653ae6-8ecf-48ab-88a3-fea1e154d763",
   "metadata": {},
   "outputs": [
    {
     "data": {
      "text/html": [
       "<div>\n",
       "<style scoped>\n",
       "    .dataframe tbody tr th:only-of-type {\n",
       "        vertical-align: middle;\n",
       "    }\n",
       "\n",
       "    .dataframe tbody tr th {\n",
       "        vertical-align: top;\n",
       "    }\n",
       "\n",
       "    .dataframe thead th {\n",
       "        text-align: right;\n",
       "    }\n",
       "</style>\n",
       "<table border=\"1\" class=\"dataframe\">\n",
       "  <thead>\n",
       "    <tr style=\"text-align: right;\">\n",
       "      <th></th>\n",
       "      <th>W</th>\n",
       "      <th>pval</th>\n",
       "      <th>normal</th>\n",
       "    </tr>\n",
       "  </thead>\n",
       "  <tbody>\n",
       "    <tr>\n",
       "      <th>Regular</th>\n",
       "      <td>0.577780</td>\n",
       "      <td>0.000003</td>\n",
       "      <td>False</td>\n",
       "    </tr>\n",
       "    <tr>\n",
       "      <th>View</th>\n",
       "      <td>0.818627</td>\n",
       "      <td>0.002159</td>\n",
       "      <td>False</td>\n",
       "    </tr>\n",
       "  </tbody>\n",
       "</table>\n",
       "</div>"
      ],
      "text/plain": [
       "                W      pval  normal\n",
       "Regular  0.577780  0.000003   False\n",
       "View     0.818627  0.002159   False"
      ]
     },
     "execution_count": 123,
     "metadata": {},
     "output_type": "execute_result"
    }
   ],
   "source": [
    "# Normality of Window Dataframe for each Timepoints\n",
    "pg.normality(data=Window_Pseudo, dv='Abundance', group='Room_Type')"
   ]
  },
  {
   "cell_type": "code",
   "execution_count": 124,
   "id": "da0383a3-aece-4099-a2e2-3f336d468115",
   "metadata": {},
   "outputs": [
    {
     "data": {
      "text/html": [
       "<div>\n",
       "<style scoped>\n",
       "    .dataframe tbody tr th:only-of-type {\n",
       "        vertical-align: middle;\n",
       "    }\n",
       "\n",
       "    .dataframe tbody tr th {\n",
       "        vertical-align: top;\n",
       "    }\n",
       "\n",
       "    .dataframe thead th {\n",
       "        text-align: right;\n",
       "    }\n",
       "</style>\n",
       "<table border=\"1\" class=\"dataframe\">\n",
       "  <thead>\n",
       "    <tr style=\"text-align: right;\">\n",
       "      <th></th>\n",
       "      <th>W</th>\n",
       "      <th>pval</th>\n",
       "      <th>equal_var</th>\n",
       "    </tr>\n",
       "  </thead>\n",
       "  <tbody>\n",
       "    <tr>\n",
       "      <th>levene</th>\n",
       "      <td>0.015524</td>\n",
       "      <td>0.901537</td>\n",
       "      <td>True</td>\n",
       "    </tr>\n",
       "  </tbody>\n",
       "</table>\n",
       "</div>"
      ],
      "text/plain": [
       "               W      pval  equal_var\n",
       "levene  0.015524  0.901537       True"
      ]
     },
     "execution_count": 124,
     "metadata": {},
     "output_type": "execute_result"
    }
   ],
   "source": [
    "# Levene's test for variance assumption\n",
    "pg.homoscedasticity(data=Window_Pseudo, dv='Abundance', group='Room_Type')"
   ]
  },
  {
   "cell_type": "code",
   "execution_count": 125,
   "id": "9910f04f-80b3-4c78-9238-4bf4151ad76c",
   "metadata": {},
   "outputs": [
    {
     "data": {
      "text/html": [
       "<div>\n",
       "<style scoped>\n",
       "    .dataframe tbody tr th:only-of-type {\n",
       "        vertical-align: middle;\n",
       "    }\n",
       "\n",
       "    .dataframe tbody tr th {\n",
       "        vertical-align: top;\n",
       "    }\n",
       "\n",
       "    .dataframe thead th {\n",
       "        text-align: right;\n",
       "    }\n",
       "</style>\n",
       "<table border=\"1\" class=\"dataframe\">\n",
       "  <thead>\n",
       "    <tr style=\"text-align: right;\">\n",
       "      <th></th>\n",
       "      <th>W</th>\n",
       "      <th>pval</th>\n",
       "      <th>equal_var</th>\n",
       "    </tr>\n",
       "  </thead>\n",
       "  <tbody>\n",
       "    <tr>\n",
       "      <th>levene</th>\n",
       "      <td>1.07335</td>\n",
       "      <td>0.373355</td>\n",
       "      <td>True</td>\n",
       "    </tr>\n",
       "  </tbody>\n",
       "</table>\n",
       "</div>"
      ],
      "text/plain": [
       "              W      pval  equal_var\n",
       "levene  1.07335  0.373355       True"
      ]
     },
     "execution_count": 125,
     "metadata": {},
     "output_type": "execute_result"
    }
   ],
   "source": [
    "# Levene's test for variance assumption\n",
    "pg.homoscedasticity(data=Window_Pseudo, dv='Abundance', group='Time')"
   ]
  },
  {
   "cell_type": "markdown",
   "id": "e043f620-c568-4123-9938-fff43789c2f6",
   "metadata": {},
   "source": [
    "#### Staitiscal test between room type at each time\n",
    "* Only T0(baseline) is normally distributed. All other dataset failed the normality assumption"
   ]
  },
  {
   "cell_type": "code",
   "execution_count": 126,
   "id": "d00afb4c-a03c-4ae4-a45e-ed91a32ad78b",
   "metadata": {},
   "outputs": [
    {
     "data": {
      "text/html": [
       "<div>\n",
       "<style scoped>\n",
       "    .dataframe tbody tr th:only-of-type {\n",
       "        vertical-align: middle;\n",
       "    }\n",
       "\n",
       "    .dataframe tbody tr th {\n",
       "        vertical-align: top;\n",
       "    }\n",
       "\n",
       "    .dataframe thead th {\n",
       "        text-align: right;\n",
       "    }\n",
       "</style>\n",
       "<table border=\"1\" class=\"dataframe\">\n",
       "  <thead>\n",
       "    <tr style=\"text-align: right;\">\n",
       "      <th></th>\n",
       "      <th>T</th>\n",
       "      <th>dof</th>\n",
       "      <th>alternative</th>\n",
       "      <th>p-val</th>\n",
       "      <th>CI95%</th>\n",
       "      <th>cohen-d</th>\n",
       "      <th>BF10</th>\n",
       "      <th>power</th>\n",
       "    </tr>\n",
       "  </thead>\n",
       "  <tbody>\n",
       "    <tr>\n",
       "      <th>T-test</th>\n",
       "      <td>-0.413736</td>\n",
       "      <td>6</td>\n",
       "      <td>two-sided</td>\n",
       "      <td>0.693449</td>\n",
       "      <td>[-0.08, 0.06]</td>\n",
       "      <td>0.292555</td>\n",
       "      <td>0.551</td>\n",
       "      <td>0.064318</td>\n",
       "    </tr>\n",
       "  </tbody>\n",
       "</table>\n",
       "</div>"
      ],
      "text/plain": [
       "               T  dof alternative     p-val          CI95%   cohen-d   BF10  \\\n",
       "T-test -0.413736    6   two-sided  0.693449  [-0.08, 0.06]  0.292555  0.551   \n",
       "\n",
       "           power  \n",
       "T-test  0.064318  "
      ]
     },
     "execution_count": 126,
     "metadata": {},
     "output_type": "execute_result"
    }
   ],
   "source": [
    "#At Time 0 between Two Room Type\n",
    "res=ttest(Pseudo_WR_T0['Abundance'], Pseudo_WV_T0['Abundance'],paired = False)\n",
    "res"
   ]
  },
  {
   "cell_type": "code",
   "execution_count": 127,
   "id": "76962fdc-2744-4409-a85f-175648ec3d2b",
   "metadata": {},
   "outputs": [
    {
     "data": {
      "text/plain": [
       "MannwhitneyuResult(statistic=5.5, pvalue=0.5613632102341237)"
      ]
     },
     "execution_count": 127,
     "metadata": {},
     "output_type": "execute_result"
    }
   ],
   "source": [
    "#Window T0 MannWhitney U test\n",
    "scipy.stats.mannwhitneyu(Pseudo_WR_T0['Abundance'], Pseudo_WV_T0['Abundance'],alternative='two-sided')"
   ]
  },
  {
   "cell_type": "code",
   "execution_count": 128,
   "id": "2c98efb9-e79b-4c28-83c1-d7592f9cdba8",
   "metadata": {},
   "outputs": [
    {
     "data": {
      "text/plain": [
       "MannwhitneyuResult(statistic=8.0, pvalue=0.42063492063492064)"
      ]
     },
     "execution_count": 128,
     "metadata": {},
     "output_type": "execute_result"
    }
   ],
   "source": [
    "#Window T1 MannWhitney U test\n",
    "scipy.stats.mannwhitneyu(Pseudo_WR_T1['Abundance'], Pseudo_WV_T1['Abundance'],alternative='two-sided')"
   ]
  },
  {
   "cell_type": "code",
   "execution_count": 129,
   "id": "cb5a1bb8-4bcc-4b79-b894-dfb9fd45985f",
   "metadata": {},
   "outputs": [
    {
     "data": {
      "text/plain": [
       "MannwhitneyuResult(statistic=12.0, pvalue=1.0)"
      ]
     },
     "execution_count": 129,
     "metadata": {},
     "output_type": "execute_result"
    }
   ],
   "source": [
    "#Window T2 MannWhitney U test\n",
    "scipy.stats.mannwhitneyu(Pseudo_WR_T2['Abundance'], Pseudo_WV_T2['Abundance'],alternative='two-sided')"
   ]
  },
  {
   "cell_type": "code",
   "execution_count": 130,
   "id": "e6fd0f33-7c20-4885-a126-66b674fddf91",
   "metadata": {},
   "outputs": [
    {
     "data": {
      "text/plain": [
       "MannwhitneyuResult(statistic=11.5, pvalue=0.9165626446795413)"
      ]
     },
     "execution_count": 130,
     "metadata": {},
     "output_type": "execute_result"
    }
   ],
   "source": [
    "#Window T3 MannWhitney U test\n",
    "scipy.stats.mannwhitneyu(Pseudo_WR_T3['Abundance'], Pseudo_WV_T3['Abundance'],alternative='two-sided')"
   ]
  },
  {
   "cell_type": "markdown",
   "id": "08bce7cf-7503-4dc9-947d-ed6a21bc4732",
   "metadata": {},
   "source": [
    "#### Statistical test between time in each room (effect of occupancy)"
   ]
  },
  {
   "cell_type": "code",
   "execution_count": 131,
   "id": "80a9e980-15ed-4618-a343-0187d3f0f195",
   "metadata": {},
   "outputs": [
    {
     "data": {
      "text/html": [
       "<div>\n",
       "<style scoped>\n",
       "    .dataframe tbody tr th:only-of-type {\n",
       "        vertical-align: middle;\n",
       "    }\n",
       "\n",
       "    .dataframe tbody tr th {\n",
       "        vertical-align: top;\n",
       "    }\n",
       "\n",
       "    .dataframe thead th {\n",
       "        text-align: right;\n",
       "    }\n",
       "</style>\n",
       "<table border=\"1\" class=\"dataframe\">\n",
       "  <thead>\n",
       "    <tr style=\"text-align: right;\">\n",
       "      <th></th>\n",
       "      <th>Source</th>\n",
       "      <th>W</th>\n",
       "      <th>ddof1</th>\n",
       "      <th>Q</th>\n",
       "      <th>p-unc</th>\n",
       "    </tr>\n",
       "  </thead>\n",
       "  <tbody>\n",
       "    <tr>\n",
       "      <th>Friedman</th>\n",
       "      <td>Time</td>\n",
       "      <td>0.044872</td>\n",
       "      <td>3</td>\n",
       "      <td>0.538462</td>\n",
       "      <td>0.910364</td>\n",
       "    </tr>\n",
       "  </tbody>\n",
       "</table>\n",
       "</div>"
      ],
      "text/plain": [
       "         Source         W  ddof1         Q     p-unc\n",
       "Friedman   Time  0.044872      3  0.538462  0.910364"
      ]
     },
     "execution_count": 131,
     "metadata": {},
     "output_type": "execute_result"
    }
   ],
   "source": [
    "#Regular room: Friedman Test to see the block effect of TIME\n",
    "res= pg.friedman(data=Pseudo_Window_Regular, dv=\"Abundance\", within=\"Time\", subject=\"Room_Number\")\n",
    "res"
   ]
  },
  {
   "cell_type": "code",
   "execution_count": 132,
   "id": "53a82dc3-06c6-403f-989e-e9e5b8ed356a",
   "metadata": {},
   "outputs": [
    {
     "data": {
      "text/html": [
       "<div>\n",
       "<style scoped>\n",
       "    .dataframe tbody tr th:only-of-type {\n",
       "        vertical-align: middle;\n",
       "    }\n",
       "\n",
       "    .dataframe tbody tr th {\n",
       "        vertical-align: top;\n",
       "    }\n",
       "\n",
       "    .dataframe thead th {\n",
       "        text-align: right;\n",
       "    }\n",
       "</style>\n",
       "<table border=\"1\" class=\"dataframe\">\n",
       "  <thead>\n",
       "    <tr style=\"text-align: right;\">\n",
       "      <th></th>\n",
       "      <th>Source</th>\n",
       "      <th>W</th>\n",
       "      <th>ddof1</th>\n",
       "      <th>Q</th>\n",
       "      <th>p-unc</th>\n",
       "    </tr>\n",
       "  </thead>\n",
       "  <tbody>\n",
       "    <tr>\n",
       "      <th>Friedman</th>\n",
       "      <td>Time</td>\n",
       "      <td>0.121795</td>\n",
       "      <td>3</td>\n",
       "      <td>1.461538</td>\n",
       "      <td>0.691175</td>\n",
       "    </tr>\n",
       "  </tbody>\n",
       "</table>\n",
       "</div>"
      ],
      "text/plain": [
       "         Source         W  ddof1         Q     p-unc\n",
       "Friedman   Time  0.121795      3  1.461538  0.691175"
      ]
     },
     "execution_count": 132,
     "metadata": {},
     "output_type": "execute_result"
    }
   ],
   "source": [
    "#EC Window Room: Friedman Test to see the block effect of TIME\n",
    "res= pg.friedman(data=Pseudo_Window_View, dv=\"Abundance\", within=\"Time\", subject=\"Room_Number\")\n",
    "res"
   ]
  },
  {
   "cell_type": "markdown",
   "id": "9ed0f134-9210-44dd-8a79-34e848e79ea8",
   "metadata": {},
   "source": [
    "\n",
    "### Air Duct (Pseudomonas)"
   ]
  },
  {
   "cell_type": "code",
   "execution_count": 133,
   "id": "cdfe9fca-c6f3-4c5b-bd06-3460ad56e32d",
   "metadata": {},
   "outputs": [
    {
     "data": {
      "text/html": [
       "<div>\n",
       "<style scoped>\n",
       "    .dataframe tbody tr th:only-of-type {\n",
       "        vertical-align: middle;\n",
       "    }\n",
       "\n",
       "    .dataframe tbody tr th {\n",
       "        vertical-align: top;\n",
       "    }\n",
       "\n",
       "    .dataframe thead th {\n",
       "        text-align: right;\n",
       "    }\n",
       "</style>\n",
       "<table border=\"1\" class=\"dataframe\">\n",
       "  <thead>\n",
       "    <tr style=\"text-align: right;\">\n",
       "      <th></th>\n",
       "      <th>Room_Number</th>\n",
       "      <th>Abundance</th>\n",
       "      <th>location</th>\n",
       "      <th>Room_Type</th>\n",
       "      <th>Time</th>\n",
       "      <th>Kingdom</th>\n",
       "      <th>Genus</th>\n",
       "    </tr>\n",
       "    <tr>\n",
       "      <th>Sample</th>\n",
       "      <th></th>\n",
       "      <th></th>\n",
       "      <th></th>\n",
       "      <th></th>\n",
       "      <th></th>\n",
       "      <th></th>\n",
       "      <th></th>\n",
       "    </tr>\n",
       "  </thead>\n",
       "  <tbody>\n",
       "    <tr>\n",
       "      <th>W1T3_AD</th>\n",
       "      <td>1</td>\n",
       "      <td>0.012920</td>\n",
       "      <td>AirDuct</td>\n",
       "      <td>View</td>\n",
       "      <td>T3</td>\n",
       "      <td>Bacteria</td>\n",
       "      <td>Pseudomonas</td>\n",
       "    </tr>\n",
       "    <tr>\n",
       "      <th>W3T3_AD</th>\n",
       "      <td>3</td>\n",
       "      <td>0.000000</td>\n",
       "      <td>AirDuct</td>\n",
       "      <td>View</td>\n",
       "      <td>T3</td>\n",
       "      <td>Bacteria</td>\n",
       "      <td>Pseudomonas</td>\n",
       "    </tr>\n",
       "    <tr>\n",
       "      <th>W4T3_AD</th>\n",
       "      <td>4</td>\n",
       "      <td>0.072883</td>\n",
       "      <td>AirDuct</td>\n",
       "      <td>View</td>\n",
       "      <td>T3</td>\n",
       "      <td>Bacteria</td>\n",
       "      <td>Pseudomonas</td>\n",
       "    </tr>\n",
       "    <tr>\n",
       "      <th>W5T3_AD</th>\n",
       "      <td>5</td>\n",
       "      <td>0.000000</td>\n",
       "      <td>AirDuct</td>\n",
       "      <td>View</td>\n",
       "      <td>T3</td>\n",
       "      <td>Bacteria</td>\n",
       "      <td>Pseudomonas</td>\n",
       "    </tr>\n",
       "    <tr>\n",
       "      <th>W6T3_AD</th>\n",
       "      <td>6</td>\n",
       "      <td>0.000000</td>\n",
       "      <td>AirDuct</td>\n",
       "      <td>View</td>\n",
       "      <td>T3</td>\n",
       "      <td>Bacteria</td>\n",
       "      <td>Pseudomonas</td>\n",
       "    </tr>\n",
       "  </tbody>\n",
       "</table>\n",
       "</div>"
      ],
      "text/plain": [
       "         Room_Number  Abundance location Room_Type Time   Kingdom        Genus\n",
       "Sample                                                                        \n",
       "W1T3_AD            1   0.012920  AirDuct      View   T3  Bacteria  Pseudomonas\n",
       "W3T3_AD            3   0.000000  AirDuct      View   T3  Bacteria  Pseudomonas\n",
       "W4T3_AD            4   0.072883  AirDuct      View   T3  Bacteria  Pseudomonas\n",
       "W5T3_AD            5   0.000000  AirDuct      View   T3  Bacteria  Pseudomonas\n",
       "W6T3_AD            6   0.000000  AirDuct      View   T3  Bacteria  Pseudomonas"
      ]
     },
     "execution_count": 133,
     "metadata": {},
     "output_type": "execute_result"
    }
   ],
   "source": [
    "Pseudo_AirDuct_Regular= subgroup(AirDuct_Pseudo, \"Room_Type\", \"Regular\")\n",
    "Pseudo_AirDuct_View= subgroup(AirDuct_Pseudo, \"Room_Type\", \"View\")\n",
    "#Subgroup for each Timepoint \n",
    "Pseudo_ADR_T0=subgroup(Pseudo_AirDuct_Regular, \"Time\",\"T0\")\n",
    "Pseudo_ADR_T1=subgroup(Pseudo_AirDuct_Regular, \"Time\",\"T1\")\n",
    "Pseudo_ADR_T2=subgroup(Pseudo_AirDuct_Regular, \"Time\",\"T2\")\n",
    "Pseudo_ADR_T3=subgroup(Pseudo_AirDuct_Regular, \"Time\",\"T3\")\n",
    "Pseudo_ADV_T0=subgroup(Pseudo_AirDuct_View, \"Time\",\"T0\")\n",
    "Pseudo_ADV_T1=subgroup(Pseudo_AirDuct_View, \"Time\",\"T1\")\n",
    "Pseudo_ADV_T2=subgroup(Pseudo_AirDuct_View, \"Time\",\"T2\")\n",
    "Pseudo_ADV_T3=subgroup(Pseudo_AirDuct_View, \"Time\",\"T3\")\n",
    "Pseudo_ADV_T3"
   ]
  },
  {
   "cell_type": "markdown",
   "id": "2556ad12-6b2e-48e6-9398-21aa73ce8ae2",
   "metadata": {},
   "source": [
    "**Normlaity and variance test**"
   ]
  },
  {
   "cell_type": "code",
   "execution_count": 194,
   "id": "7ba55a92-d486-4b2b-9878-1fee69ad0a5b",
   "metadata": {},
   "outputs": [
    {
     "name": "stdout",
     "output_type": "stream",
     "text": [
      "Shapiro statistics of AirDuct =0.607, p=0.000\n"
     ]
    }
   ],
   "source": [
    "# Overall Shapiro Wilk Test \n",
    "stat, p = shapiro(AirDuct_Pseudo[\"Abundance\"])\n",
    "print('Shapiro statistics of AirDuct =%.3f, p=%.3f' % (stat, p))"
   ]
  },
  {
   "cell_type": "code",
   "execution_count": 134,
   "id": "ecb6d966-4361-45b6-9524-10a278791167",
   "metadata": {},
   "outputs": [
    {
     "data": {
      "text/html": [
       "<div>\n",
       "<style scoped>\n",
       "    .dataframe tbody tr th:only-of-type {\n",
       "        vertical-align: middle;\n",
       "    }\n",
       "\n",
       "    .dataframe tbody tr th {\n",
       "        vertical-align: top;\n",
       "    }\n",
       "\n",
       "    .dataframe thead th {\n",
       "        text-align: right;\n",
       "    }\n",
       "</style>\n",
       "<table border=\"1\" class=\"dataframe\">\n",
       "  <thead>\n",
       "    <tr style=\"text-align: right;\">\n",
       "      <th></th>\n",
       "      <th>W</th>\n",
       "      <th>pval</th>\n",
       "      <th>normal</th>\n",
       "    </tr>\n",
       "  </thead>\n",
       "  <tbody>\n",
       "    <tr>\n",
       "      <th>Regular</th>\n",
       "      <td>0.412019</td>\n",
       "      <td>3.456167e-08</td>\n",
       "      <td>False</td>\n",
       "    </tr>\n",
       "    <tr>\n",
       "      <th>View</th>\n",
       "      <td>0.743973</td>\n",
       "      <td>1.952477e-04</td>\n",
       "      <td>False</td>\n",
       "    </tr>\n",
       "  </tbody>\n",
       "</table>\n",
       "</div>"
      ],
      "text/plain": [
       "                W          pval  normal\n",
       "Regular  0.412019  3.456167e-08   False\n",
       "View     0.743973  1.952477e-04   False"
      ]
     },
     "execution_count": 134,
     "metadata": {},
     "output_type": "execute_result"
    }
   ],
   "source": [
    "# Normality of AirDuct Dataframe for each Timepoints\n",
    "pg.normality(data=AirDuct_Pseudo, dv='Abundance', group='Room_Type')"
   ]
  },
  {
   "cell_type": "code",
   "execution_count": 135,
   "id": "6103ae22-ccff-46ee-a59a-fa30390112ef",
   "metadata": {},
   "outputs": [
    {
     "data": {
      "text/html": [
       "<div>\n",
       "<style scoped>\n",
       "    .dataframe tbody tr th:only-of-type {\n",
       "        vertical-align: middle;\n",
       "    }\n",
       "\n",
       "    .dataframe tbody tr th {\n",
       "        vertical-align: top;\n",
       "    }\n",
       "\n",
       "    .dataframe thead th {\n",
       "        text-align: right;\n",
       "    }\n",
       "</style>\n",
       "<table border=\"1\" class=\"dataframe\">\n",
       "  <thead>\n",
       "    <tr style=\"text-align: right;\">\n",
       "      <th></th>\n",
       "      <th>W</th>\n",
       "      <th>pval</th>\n",
       "      <th>normal</th>\n",
       "    </tr>\n",
       "  </thead>\n",
       "  <tbody>\n",
       "    <tr>\n",
       "      <th>T0</th>\n",
       "      <td>0.856205</td>\n",
       "      <td>0.087168</td>\n",
       "      <td>True</td>\n",
       "    </tr>\n",
       "    <tr>\n",
       "      <th>T1</th>\n",
       "      <td>0.651035</td>\n",
       "      <td>0.000111</td>\n",
       "      <td>False</td>\n",
       "    </tr>\n",
       "    <tr>\n",
       "      <th>T2</th>\n",
       "      <td>0.615812</td>\n",
       "      <td>0.000085</td>\n",
       "      <td>False</td>\n",
       "    </tr>\n",
       "    <tr>\n",
       "      <th>T3</th>\n",
       "      <td>0.503507</td>\n",
       "      <td>0.000004</td>\n",
       "      <td>False</td>\n",
       "    </tr>\n",
       "  </tbody>\n",
       "</table>\n",
       "</div>"
      ],
      "text/plain": [
       "           W      pval  normal\n",
       "T0  0.856205  0.087168    True\n",
       "T1  0.651035  0.000111   False\n",
       "T2  0.615812  0.000085   False\n",
       "T3  0.503507  0.000004   False"
      ]
     },
     "execution_count": 135,
     "metadata": {},
     "output_type": "execute_result"
    }
   ],
   "source": [
    "# Normality of AirDuct Dataframe for each Timepoints\n",
    "pg.normality(data=AirDuct_Pseudo, dv='Abundance', group='Time')"
   ]
  },
  {
   "cell_type": "code",
   "execution_count": 136,
   "id": "7e668972-d911-405a-a71e-8697db9d14ab",
   "metadata": {},
   "outputs": [
    {
     "data": {
      "text/html": [
       "<div>\n",
       "<style scoped>\n",
       "    .dataframe tbody tr th:only-of-type {\n",
       "        vertical-align: middle;\n",
       "    }\n",
       "\n",
       "    .dataframe tbody tr th {\n",
       "        vertical-align: top;\n",
       "    }\n",
       "\n",
       "    .dataframe thead th {\n",
       "        text-align: right;\n",
       "    }\n",
       "</style>\n",
       "<table border=\"1\" class=\"dataframe\">\n",
       "  <thead>\n",
       "    <tr style=\"text-align: right;\">\n",
       "      <th></th>\n",
       "      <th>W</th>\n",
       "      <th>pval</th>\n",
       "      <th>equal_var</th>\n",
       "    </tr>\n",
       "  </thead>\n",
       "  <tbody>\n",
       "    <tr>\n",
       "      <th>levene</th>\n",
       "      <td>0.178423</td>\n",
       "      <td>0.910329</td>\n",
       "      <td>True</td>\n",
       "    </tr>\n",
       "  </tbody>\n",
       "</table>\n",
       "</div>"
      ],
      "text/plain": [
       "               W      pval  equal_var\n",
       "levene  0.178423  0.910329       True"
      ]
     },
     "execution_count": 136,
     "metadata": {},
     "output_type": "execute_result"
    }
   ],
   "source": [
    "# Levene's test for variance assumption\n",
    "pg.homoscedasticity(data=AirDuct_Pseudo, dv='Abundance', group='Time')"
   ]
  },
  {
   "cell_type": "code",
   "execution_count": 137,
   "id": "909c66a1-9fed-43b3-b14c-d32a15a2eb21",
   "metadata": {},
   "outputs": [
    {
     "data": {
      "text/html": [
       "<div>\n",
       "<style scoped>\n",
       "    .dataframe tbody tr th:only-of-type {\n",
       "        vertical-align: middle;\n",
       "    }\n",
       "\n",
       "    .dataframe tbody tr th {\n",
       "        vertical-align: top;\n",
       "    }\n",
       "\n",
       "    .dataframe thead th {\n",
       "        text-align: right;\n",
       "    }\n",
       "</style>\n",
       "<table border=\"1\" class=\"dataframe\">\n",
       "  <thead>\n",
       "    <tr style=\"text-align: right;\">\n",
       "      <th></th>\n",
       "      <th>W</th>\n",
       "      <th>pval</th>\n",
       "      <th>equal_var</th>\n",
       "    </tr>\n",
       "  </thead>\n",
       "  <tbody>\n",
       "    <tr>\n",
       "      <th>levene</th>\n",
       "      <td>2.06148</td>\n",
       "      <td>0.159245</td>\n",
       "      <td>True</td>\n",
       "    </tr>\n",
       "  </tbody>\n",
       "</table>\n",
       "</div>"
      ],
      "text/plain": [
       "              W      pval  equal_var\n",
       "levene  2.06148  0.159245       True"
      ]
     },
     "execution_count": 137,
     "metadata": {},
     "output_type": "execute_result"
    }
   ],
   "source": [
    "# Levene's test for variance assumption\n",
    "pg.homoscedasticity(data=AirDuct_Pseudo, dv='Abundance', group='Room_Type')"
   ]
  },
  {
   "cell_type": "markdown",
   "id": "b1a61da0-88c5-4a01-9a67-f342966273eb",
   "metadata": {},
   "source": [
    "#### Statistical test between room type to see the effect of indoor daylight at each time"
   ]
  },
  {
   "cell_type": "code",
   "execution_count": 138,
   "id": "c601781a-51ee-4404-8923-074b7f07ce64",
   "metadata": {},
   "outputs": [
    {
     "data": {
      "text/plain": [
       "MannwhitneyuResult(statistic=6.5, pvalue=0.4605581692270928)"
      ]
     },
     "execution_count": 138,
     "metadata": {},
     "output_type": "execute_result"
    }
   ],
   "source": [
    "# T0 MannWhitney U test\n",
    "scipy.stats.mannwhitneyu(Pseudo_ADR_T0['Abundance'], Pseudo_ADV_T0['Abundance'],alternative='two-sided')"
   ]
  },
  {
   "cell_type": "code",
   "execution_count": 139,
   "id": "8d2ca174-b87e-4f58-b2c0-dc986faa141b",
   "metadata": {},
   "outputs": [
    {
     "data": {
      "text/plain": [
       "MannwhitneyuResult(statistic=7.0, pvalue=0.16699411792618535)"
      ]
     },
     "execution_count": 139,
     "metadata": {},
     "output_type": "execute_result"
    }
   ],
   "source": [
    "# T1 MannWhitney U test\n",
    "scipy.stats.mannwhitneyu(Pseudo_ADR_T1['Abundance'], Pseudo_ADV_T1['Abundance'],alternative='two-sided')"
   ]
  },
  {
   "cell_type": "code",
   "execution_count": 140,
   "id": "3e0c4411-1d4e-460e-a78d-c7702707e332",
   "metadata": {},
   "outputs": [
    {
     "data": {
      "text/plain": [
       "MannwhitneyuResult(statistic=1.0, pvalue=0.021176657854316622)"
      ]
     },
     "execution_count": 140,
     "metadata": {},
     "output_type": "execute_result"
    }
   ],
   "source": [
    "# T1 MannWhitney U test\n",
    "scipy.stats.mannwhitneyu(Pseudo_ADR_T2['Abundance'], Pseudo_ADV_T2['Abundance'],alternative='two-sided')"
   ]
  },
  {
   "cell_type": "code",
   "execution_count": 141,
   "id": "87294f24-9e75-4a25-b11c-cb143aeee88d",
   "metadata": {},
   "outputs": [
    {
     "data": {
      "text/plain": [
       "MannwhitneyuResult(statistic=12.0, pvalue=1.0)"
      ]
     },
     "execution_count": 141,
     "metadata": {},
     "output_type": "execute_result"
    }
   ],
   "source": [
    "# T1 MannWhitney U test\n",
    "scipy.stats.mannwhitneyu(Pseudo_ADR_T3['Abundance'], Pseudo_ADV_T3['Abundance'],alternative='two-sided')"
   ]
  },
  {
   "cell_type": "markdown",
   "id": "a5249a6c-0a0c-43eb-b09a-f273253c021f",
   "metadata": {},
   "source": [
    "#### Statistical test between Time to see the effect of occupancy in each type of room"
   ]
  },
  {
   "cell_type": "code",
   "execution_count": 142,
   "id": "48e10c68-7871-49d2-86d6-3c92dd424947",
   "metadata": {},
   "outputs": [
    {
     "data": {
      "text/html": [
       "<div>\n",
       "<style scoped>\n",
       "    .dataframe tbody tr th:only-of-type {\n",
       "        vertical-align: middle;\n",
       "    }\n",
       "\n",
       "    .dataframe tbody tr th {\n",
       "        vertical-align: top;\n",
       "    }\n",
       "\n",
       "    .dataframe thead th {\n",
       "        text-align: right;\n",
       "    }\n",
       "</style>\n",
       "<table border=\"1\" class=\"dataframe\">\n",
       "  <thead>\n",
       "    <tr style=\"text-align: right;\">\n",
       "      <th></th>\n",
       "      <th>Source</th>\n",
       "      <th>W</th>\n",
       "      <th>ddof1</th>\n",
       "      <th>Q</th>\n",
       "      <th>p-unc</th>\n",
       "    </tr>\n",
       "  </thead>\n",
       "  <tbody>\n",
       "    <tr>\n",
       "      <th>Friedman</th>\n",
       "      <td>Time</td>\n",
       "      <td>0.492857</td>\n",
       "      <td>3</td>\n",
       "      <td>5.914286</td>\n",
       "      <td>0.115856</td>\n",
       "    </tr>\n",
       "  </tbody>\n",
       "</table>\n",
       "</div>"
      ],
      "text/plain": [
       "         Source         W  ddof1         Q     p-unc\n",
       "Friedman   Time  0.492857      3  5.914286  0.115856"
      ]
     },
     "execution_count": 142,
     "metadata": {},
     "output_type": "execute_result"
    }
   ],
   "source": [
    "#Friedman Test to see the block effect of TIME\n",
    "res= pg.friedman(data=Pseudo_AirDuct_Regular, dv=\"Abundance\", within=\"Time\", subject=\"Room_Number\")\n",
    "res"
   ]
  },
  {
   "cell_type": "code",
   "execution_count": 143,
   "id": "03cca53d-dfa8-4c9e-9f5c-fb242d47325f",
   "metadata": {},
   "outputs": [
    {
     "data": {
      "text/html": [
       "<div>\n",
       "<style scoped>\n",
       "    .dataframe tbody tr th:only-of-type {\n",
       "        vertical-align: middle;\n",
       "    }\n",
       "\n",
       "    .dataframe tbody tr th {\n",
       "        vertical-align: top;\n",
       "    }\n",
       "\n",
       "    .dataframe thead th {\n",
       "        text-align: right;\n",
       "    }\n",
       "</style>\n",
       "<table border=\"1\" class=\"dataframe\">\n",
       "  <thead>\n",
       "    <tr style=\"text-align: right;\">\n",
       "      <th></th>\n",
       "      <th>Source</th>\n",
       "      <th>W</th>\n",
       "      <th>ddof1</th>\n",
       "      <th>Q</th>\n",
       "      <th>p-unc</th>\n",
       "    </tr>\n",
       "  </thead>\n",
       "  <tbody>\n",
       "    <tr>\n",
       "      <th>Friedman</th>\n",
       "      <td>Time</td>\n",
       "      <td>0.057692</td>\n",
       "      <td>3</td>\n",
       "      <td>0.692308</td>\n",
       "      <td>0.875012</td>\n",
       "    </tr>\n",
       "  </tbody>\n",
       "</table>\n",
       "</div>"
      ],
      "text/plain": [
       "         Source         W  ddof1         Q     p-unc\n",
       "Friedman   Time  0.057692      3  0.692308  0.875012"
      ]
     },
     "execution_count": 143,
     "metadata": {},
     "output_type": "execute_result"
    }
   ],
   "source": [
    "#Friedman Test to see the block effect of TIME\n",
    "res= pg.friedman(data=Pseudo_AirDuct_View, dv=\"Abundance\", within=\"Time\", subject=\"Room_Number\")\n",
    "res"
   ]
  },
  {
   "cell_type": "markdown",
   "id": "f730d5ec-c679-4667-ace2-14e047c08c5e",
   "metadata": {},
   "source": [
    "### Air Sample (Pseudomoans)"
   ]
  },
  {
   "cell_type": "code",
   "execution_count": 144,
   "id": "3065d677-c2d3-41e3-b6f4-c4cd64350c25",
   "metadata": {},
   "outputs": [
    {
     "data": {
      "text/html": [
       "<div>\n",
       "<style scoped>\n",
       "    .dataframe tbody tr th:only-of-type {\n",
       "        vertical-align: middle;\n",
       "    }\n",
       "\n",
       "    .dataframe tbody tr th {\n",
       "        vertical-align: top;\n",
       "    }\n",
       "\n",
       "    .dataframe thead th {\n",
       "        text-align: right;\n",
       "    }\n",
       "</style>\n",
       "<table border=\"1\" class=\"dataframe\">\n",
       "  <thead>\n",
       "    <tr style=\"text-align: right;\">\n",
       "      <th></th>\n",
       "      <th>Room_Number</th>\n",
       "      <th>Abundance</th>\n",
       "      <th>location</th>\n",
       "      <th>Room_Type</th>\n",
       "      <th>Time</th>\n",
       "      <th>Kingdom</th>\n",
       "      <th>Genus</th>\n",
       "    </tr>\n",
       "    <tr>\n",
       "      <th>Sample</th>\n",
       "      <th></th>\n",
       "      <th></th>\n",
       "      <th></th>\n",
       "      <th></th>\n",
       "      <th></th>\n",
       "      <th></th>\n",
       "      <th></th>\n",
       "    </tr>\n",
       "  </thead>\n",
       "  <tbody>\n",
       "    <tr>\n",
       "      <th>W1T3_AF</th>\n",
       "      <td>1</td>\n",
       "      <td>0.035508</td>\n",
       "      <td>AirFilter</td>\n",
       "      <td>View</td>\n",
       "      <td>T3</td>\n",
       "      <td>Bacteria</td>\n",
       "      <td>Pseudomonas</td>\n",
       "    </tr>\n",
       "    <tr>\n",
       "      <th>W3T3_AF</th>\n",
       "      <td>3</td>\n",
       "      <td>0.020783</td>\n",
       "      <td>AirFilter</td>\n",
       "      <td>View</td>\n",
       "      <td>T3</td>\n",
       "      <td>Bacteria</td>\n",
       "      <td>Pseudomonas</td>\n",
       "    </tr>\n",
       "    <tr>\n",
       "      <th>W4T3_AF</th>\n",
       "      <td>4</td>\n",
       "      <td>0.000000</td>\n",
       "      <td>AirFilter</td>\n",
       "      <td>View</td>\n",
       "      <td>T3</td>\n",
       "      <td>Bacteria</td>\n",
       "      <td>Pseudomonas</td>\n",
       "    </tr>\n",
       "    <tr>\n",
       "      <th>W5T3_AF</th>\n",
       "      <td>5</td>\n",
       "      <td>0.044918</td>\n",
       "      <td>AirFilter</td>\n",
       "      <td>View</td>\n",
       "      <td>T3</td>\n",
       "      <td>Bacteria</td>\n",
       "      <td>Pseudomonas</td>\n",
       "    </tr>\n",
       "    <tr>\n",
       "      <th>W6T3_AF</th>\n",
       "      <td>6</td>\n",
       "      <td>0.000000</td>\n",
       "      <td>AirFilter</td>\n",
       "      <td>View</td>\n",
       "      <td>T3</td>\n",
       "      <td>Bacteria</td>\n",
       "      <td>Pseudomonas</td>\n",
       "    </tr>\n",
       "  </tbody>\n",
       "</table>\n",
       "</div>"
      ],
      "text/plain": [
       "         Room_Number  Abundance   location Room_Type Time   Kingdom  \\\n",
       "Sample                                                                \n",
       "W1T3_AF            1   0.035508  AirFilter      View   T3  Bacteria   \n",
       "W3T3_AF            3   0.020783  AirFilter      View   T3  Bacteria   \n",
       "W4T3_AF            4   0.000000  AirFilter      View   T3  Bacteria   \n",
       "W5T3_AF            5   0.044918  AirFilter      View   T3  Bacteria   \n",
       "W6T3_AF            6   0.000000  AirFilter      View   T3  Bacteria   \n",
       "\n",
       "               Genus  \n",
       "Sample                \n",
       "W1T3_AF  Pseudomonas  \n",
       "W3T3_AF  Pseudomonas  \n",
       "W4T3_AF  Pseudomonas  \n",
       "W5T3_AF  Pseudomonas  \n",
       "W6T3_AF  Pseudomonas  "
      ]
     },
     "execution_count": 144,
     "metadata": {},
     "output_type": "execute_result"
    }
   ],
   "source": [
    "Pseudo_AirSample_Regular= subgroup(AirSample_Pseudo, \"Room_Type\", \"Regular\")\n",
    "Pseudo_AirSample_View= subgroup(AirSample_Pseudo, \"Room_Type\", \"View\")\n",
    "#Subgroup for each Timepoint \n",
    "Pseudo_ASR_T1=subgroup(Pseudo_AirSample_Regular, \"Time\",\"T1\")\n",
    "Pseudo_ASR_T3=subgroup(Pseudo_AirSample_Regular, \"Time\",\"T3\")\n",
    "Pseudo_ASV_T1=subgroup(Pseudo_AirSample_View, \"Time\",\"T1\")\n",
    "Pseudo_ASV_T3=subgroup(Pseudo_AirSample_View, \"Time\",\"T3\")\n",
    "Pseudo_ASV_T3"
   ]
  },
  {
   "cell_type": "markdown",
   "id": "14b0a9a7-043e-4f46-a254-90b137604ad3",
   "metadata": {},
   "source": [
    "**Normality and variance test**"
   ]
  },
  {
   "cell_type": "code",
   "execution_count": 195,
   "id": "8a7fe85e-9e86-4a2c-aff9-ec75f54408ef",
   "metadata": {},
   "outputs": [
    {
     "name": "stdout",
     "output_type": "stream",
     "text": [
      "Shapiro statistics of Air Sample =0.595, p=0.000\n"
     ]
    }
   ],
   "source": [
    "# Overall Shapiro Wilk Test \n",
    "stat, p = shapiro(AirSample_Pseudo[\"Abundance\"])\n",
    "print('Shapiro statistics of Air Sample =%.3f, p=%.3f' % (stat, p))"
   ]
  },
  {
   "cell_type": "code",
   "execution_count": 145,
   "id": "de533de6-fbf6-4648-9d46-48b96d0b6c85",
   "metadata": {},
   "outputs": [
    {
     "data": {
      "text/html": [
       "<div>\n",
       "<style scoped>\n",
       "    .dataframe tbody tr th:only-of-type {\n",
       "        vertical-align: middle;\n",
       "    }\n",
       "\n",
       "    .dataframe tbody tr th {\n",
       "        vertical-align: top;\n",
       "    }\n",
       "\n",
       "    .dataframe thead th {\n",
       "        text-align: right;\n",
       "    }\n",
       "</style>\n",
       "<table border=\"1\" class=\"dataframe\">\n",
       "  <thead>\n",
       "    <tr style=\"text-align: right;\">\n",
       "      <th></th>\n",
       "      <th>W</th>\n",
       "      <th>pval</th>\n",
       "      <th>normal</th>\n",
       "    </tr>\n",
       "  </thead>\n",
       "  <tbody>\n",
       "    <tr>\n",
       "      <th>Regular</th>\n",
       "      <td>0.593983</td>\n",
       "      <td>0.000047</td>\n",
       "      <td>False</td>\n",
       "    </tr>\n",
       "    <tr>\n",
       "      <th>View</th>\n",
       "      <td>0.805878</td>\n",
       "      <td>0.017089</td>\n",
       "      <td>False</td>\n",
       "    </tr>\n",
       "  </tbody>\n",
       "</table>\n",
       "</div>"
      ],
      "text/plain": [
       "                W      pval  normal\n",
       "Regular  0.593983  0.000047   False\n",
       "View     0.805878  0.017089   False"
      ]
     },
     "execution_count": 145,
     "metadata": {},
     "output_type": "execute_result"
    }
   ],
   "source": [
    "# Normality of AirSample Dataframe for each Timepoints\n",
    "pg.normality(data=AirSample_Pseudo, dv='Abundance', group='Room_Type')"
   ]
  },
  {
   "cell_type": "code",
   "execution_count": 146,
   "id": "e72c6c8e-c7a6-4e3e-9cb6-f32a6a843ec5",
   "metadata": {},
   "outputs": [
    {
     "data": {
      "text/html": [
       "<div>\n",
       "<style scoped>\n",
       "    .dataframe tbody tr th:only-of-type {\n",
       "        vertical-align: middle;\n",
       "    }\n",
       "\n",
       "    .dataframe tbody tr th {\n",
       "        vertical-align: top;\n",
       "    }\n",
       "\n",
       "    .dataframe thead th {\n",
       "        text-align: right;\n",
       "    }\n",
       "</style>\n",
       "<table border=\"1\" class=\"dataframe\">\n",
       "  <thead>\n",
       "    <tr style=\"text-align: right;\">\n",
       "      <th></th>\n",
       "      <th>W</th>\n",
       "      <th>pval</th>\n",
       "      <th>normal</th>\n",
       "    </tr>\n",
       "  </thead>\n",
       "  <tbody>\n",
       "    <tr>\n",
       "      <th>T1</th>\n",
       "      <td>0.531733</td>\n",
       "      <td>0.000009</td>\n",
       "      <td>False</td>\n",
       "    </tr>\n",
       "    <tr>\n",
       "      <th>T3</th>\n",
       "      <td>0.770221</td>\n",
       "      <td>0.006293</td>\n",
       "      <td>False</td>\n",
       "    </tr>\n",
       "  </tbody>\n",
       "</table>\n",
       "</div>"
      ],
      "text/plain": [
       "           W      pval  normal\n",
       "T1  0.531733  0.000009   False\n",
       "T3  0.770221  0.006293   False"
      ]
     },
     "execution_count": 146,
     "metadata": {},
     "output_type": "execute_result"
    }
   ],
   "source": [
    "# Normality of AirSample Dataframe for each Time\n",
    "pg.normality(data=AirSample_Pseudo, dv='Abundance', group='Time')"
   ]
  },
  {
   "cell_type": "code",
   "execution_count": 147,
   "id": "16fb5de0-44f8-4e1a-ba26-e4f652327538",
   "metadata": {},
   "outputs": [
    {
     "data": {
      "text/html": [
       "<div>\n",
       "<style scoped>\n",
       "    .dataframe tbody tr th:only-of-type {\n",
       "        vertical-align: middle;\n",
       "    }\n",
       "\n",
       "    .dataframe tbody tr th {\n",
       "        vertical-align: top;\n",
       "    }\n",
       "\n",
       "    .dataframe thead th {\n",
       "        text-align: right;\n",
       "    }\n",
       "</style>\n",
       "<table border=\"1\" class=\"dataframe\">\n",
       "  <thead>\n",
       "    <tr style=\"text-align: right;\">\n",
       "      <th></th>\n",
       "      <th>W</th>\n",
       "      <th>pval</th>\n",
       "      <th>equal_var</th>\n",
       "    </tr>\n",
       "  </thead>\n",
       "  <tbody>\n",
       "    <tr>\n",
       "      <th>levene</th>\n",
       "      <td>5.501729</td>\n",
       "      <td>0.030656</td>\n",
       "      <td>False</td>\n",
       "    </tr>\n",
       "  </tbody>\n",
       "</table>\n",
       "</div>"
      ],
      "text/plain": [
       "               W      pval  equal_var\n",
       "levene  5.501729  0.030656      False"
      ]
     },
     "execution_count": 147,
     "metadata": {},
     "output_type": "execute_result"
    }
   ],
   "source": [
    "# Levene's test for variance assumption\n",
    "pg.homoscedasticity(data=AirSample_Pseudo, dv='Abundance', group='Time')"
   ]
  },
  {
   "cell_type": "code",
   "execution_count": 148,
   "id": "2c20c6ac-dc23-48b6-9969-f9fc3a0d530e",
   "metadata": {},
   "outputs": [
    {
     "data": {
      "text/html": [
       "<div>\n",
       "<style scoped>\n",
       "    .dataframe tbody tr th:only-of-type {\n",
       "        vertical-align: middle;\n",
       "    }\n",
       "\n",
       "    .dataframe tbody tr th {\n",
       "        vertical-align: top;\n",
       "    }\n",
       "\n",
       "    .dataframe thead th {\n",
       "        text-align: right;\n",
       "    }\n",
       "</style>\n",
       "<table border=\"1\" class=\"dataframe\">\n",
       "  <thead>\n",
       "    <tr style=\"text-align: right;\">\n",
       "      <th></th>\n",
       "      <th>W</th>\n",
       "      <th>pval</th>\n",
       "      <th>equal_var</th>\n",
       "    </tr>\n",
       "  </thead>\n",
       "  <tbody>\n",
       "    <tr>\n",
       "      <th>levene</th>\n",
       "      <td>0.471284</td>\n",
       "      <td>0.501146</td>\n",
       "      <td>True</td>\n",
       "    </tr>\n",
       "  </tbody>\n",
       "</table>\n",
       "</div>"
      ],
      "text/plain": [
       "               W      pval  equal_var\n",
       "levene  0.471284  0.501146       True"
      ]
     },
     "execution_count": 148,
     "metadata": {},
     "output_type": "execute_result"
    }
   ],
   "source": [
    "# Levene's test for variance assumption\n",
    "pg.homoscedasticity(data=AirSample_Pseudo, dv='Abundance', group='Room_Type')"
   ]
  },
  {
   "cell_type": "markdown",
   "id": "8976ada4-556d-4ad7-b963-638b951e7b89",
   "metadata": {},
   "source": [
    "#### Statistical test between room type to see the effect of indoor daylight at each time"
   ]
  },
  {
   "cell_type": "code",
   "execution_count": 149,
   "id": "d1d3789c-ce8c-405e-94bb-c95b54d160c2",
   "metadata": {},
   "outputs": [
    {
     "data": {
      "text/plain": [
       "MannwhitneyuResult(statistic=16.0, pvalue=0.5038124288130608)"
      ]
     },
     "execution_count": 149,
     "metadata": {},
     "output_type": "execute_result"
    }
   ],
   "source": [
    "#T1 MannWhitney U test\n",
    "scipy.stats.mannwhitneyu(Staph_ASR_T1['Abundance'], Staph_ASV_T1['Abundance'],alternative='two-sided')"
   ]
  },
  {
   "cell_type": "code",
   "execution_count": 150,
   "id": "9f3f7920-7cff-4971-8744-cf12a2eb0d0f",
   "metadata": {},
   "outputs": [
    {
     "data": {
      "text/plain": [
       "MannwhitneyuResult(statistic=15.0, pvalue=0.666430033928618)"
      ]
     },
     "execution_count": 150,
     "metadata": {},
     "output_type": "execute_result"
    }
   ],
   "source": [
    "#T3 MannWhitney U test\n",
    "scipy.stats.mannwhitneyu(Staph_ASR_T3['Abundance'], Staph_ASV_T3['Abundance'],alternative='two-sided')"
   ]
  },
  {
   "cell_type": "markdown",
   "id": "948aeea0-79bc-4c22-b2da-1645d82088d4",
   "metadata": {},
   "source": [
    "#### Statistical test between Time to see the effect of occupancy"
   ]
  },
  {
   "cell_type": "code",
   "execution_count": 151,
   "id": "cfc6a76b-dc94-4ac4-886a-39abc13138fb",
   "metadata": {},
   "outputs": [
    {
     "data": {
      "text/html": [
       "<div>\n",
       "<style scoped>\n",
       "    .dataframe tbody tr th:only-of-type {\n",
       "        vertical-align: middle;\n",
       "    }\n",
       "\n",
       "    .dataframe tbody tr th {\n",
       "        vertical-align: top;\n",
       "    }\n",
       "\n",
       "    .dataframe thead th {\n",
       "        text-align: right;\n",
       "    }\n",
       "</style>\n",
       "<table border=\"1\" class=\"dataframe\">\n",
       "  <thead>\n",
       "    <tr style=\"text-align: right;\">\n",
       "      <th></th>\n",
       "      <th>Source</th>\n",
       "      <th>W</th>\n",
       "      <th>ddof1</th>\n",
       "      <th>Q</th>\n",
       "      <th>p-unc</th>\n",
       "    </tr>\n",
       "  </thead>\n",
       "  <tbody>\n",
       "    <tr>\n",
       "      <th>Friedman</th>\n",
       "      <td>Time</td>\n",
       "      <td>0.6</td>\n",
       "      <td>1</td>\n",
       "      <td>3.0</td>\n",
       "      <td>0.083265</td>\n",
       "    </tr>\n",
       "  </tbody>\n",
       "</table>\n",
       "</div>"
      ],
      "text/plain": [
       "         Source    W  ddof1    Q     p-unc\n",
       "Friedman   Time  0.6      1  3.0  0.083265"
      ]
     },
     "execution_count": 151,
     "metadata": {},
     "output_type": "execute_result"
    }
   ],
   "source": [
    "#Friedman Test to see the block effect of TIME\n",
    "res= pg.friedman(data=Pseudo_AirSample_Regular, dv=\"Abundance\", within=\"Time\", subject=\"Room_Number\")\n",
    "res"
   ]
  },
  {
   "cell_type": "code",
   "execution_count": 152,
   "id": "a69937ca-1360-41b8-9f5d-6a3472280de0",
   "metadata": {},
   "outputs": [
    {
     "data": {
      "text/html": [
       "<div>\n",
       "<style scoped>\n",
       "    .dataframe tbody tr th:only-of-type {\n",
       "        vertical-align: middle;\n",
       "    }\n",
       "\n",
       "    .dataframe tbody tr th {\n",
       "        vertical-align: top;\n",
       "    }\n",
       "\n",
       "    .dataframe thead th {\n",
       "        text-align: right;\n",
       "    }\n",
       "</style>\n",
       "<table border=\"1\" class=\"dataframe\">\n",
       "  <thead>\n",
       "    <tr style=\"text-align: right;\">\n",
       "      <th></th>\n",
       "      <th>Source</th>\n",
       "      <th>W</th>\n",
       "      <th>ddof1</th>\n",
       "      <th>Q</th>\n",
       "      <th>p-unc</th>\n",
       "    </tr>\n",
       "  </thead>\n",
       "  <tbody>\n",
       "    <tr>\n",
       "      <th>Friedman</th>\n",
       "      <td>Time</td>\n",
       "      <td>0.2</td>\n",
       "      <td>1</td>\n",
       "      <td>1.0</td>\n",
       "      <td>0.317311</td>\n",
       "    </tr>\n",
       "  </tbody>\n",
       "</table>\n",
       "</div>"
      ],
      "text/plain": [
       "         Source    W  ddof1    Q     p-unc\n",
       "Friedman   Time  0.2      1  1.0  0.317311"
      ]
     },
     "execution_count": 152,
     "metadata": {},
     "output_type": "execute_result"
    }
   ],
   "source": [
    "#Friedman Test to see the block effect of TIME\n",
    "res= pg.friedman(data=Pseudo_AirSample_View, dv=\"Abundance\", within=\"Time\", subject=\"Room_Number\")\n",
    "res"
   ]
  },
  {
   "cell_type": "markdown",
   "id": "dce2b23d-1678-4e71-82ad-de00e1259091",
   "metadata": {},
   "source": [
    "### Palm (Pseudomoans)"
   ]
  },
  {
   "cell_type": "code",
   "execution_count": 153,
   "id": "d7aa2bf3-1c65-43fc-8601-dbea5e0bbce2",
   "metadata": {},
   "outputs": [
    {
     "data": {
      "text/html": [
       "<div>\n",
       "<style scoped>\n",
       "    .dataframe tbody tr th:only-of-type {\n",
       "        vertical-align: middle;\n",
       "    }\n",
       "\n",
       "    .dataframe tbody tr th {\n",
       "        vertical-align: top;\n",
       "    }\n",
       "\n",
       "    .dataframe thead th {\n",
       "        text-align: right;\n",
       "    }\n",
       "</style>\n",
       "<table border=\"1\" class=\"dataframe\">\n",
       "  <thead>\n",
       "    <tr style=\"text-align: right;\">\n",
       "      <th></th>\n",
       "      <th>Room_Number</th>\n",
       "      <th>Abundance</th>\n",
       "      <th>location</th>\n",
       "      <th>Room_Type</th>\n",
       "      <th>Time</th>\n",
       "      <th>Kingdom</th>\n",
       "      <th>Genus</th>\n",
       "    </tr>\n",
       "    <tr>\n",
       "      <th>Sample</th>\n",
       "      <th></th>\n",
       "      <th></th>\n",
       "      <th></th>\n",
       "      <th></th>\n",
       "      <th></th>\n",
       "      <th></th>\n",
       "      <th></th>\n",
       "    </tr>\n",
       "  </thead>\n",
       "  <tbody>\n",
       "    <tr>\n",
       "      <th>W1T3_P</th>\n",
       "      <td>1</td>\n",
       "      <td>0.064143</td>\n",
       "      <td>Palm</td>\n",
       "      <td>View</td>\n",
       "      <td>T3</td>\n",
       "      <td>Bacteria</td>\n",
       "      <td>Pseudomonas</td>\n",
       "    </tr>\n",
       "    <tr>\n",
       "      <th>W3T3_P</th>\n",
       "      <td>3</td>\n",
       "      <td>0.000345</td>\n",
       "      <td>Palm</td>\n",
       "      <td>View</td>\n",
       "      <td>T3</td>\n",
       "      <td>Bacteria</td>\n",
       "      <td>Pseudomonas</td>\n",
       "    </tr>\n",
       "    <tr>\n",
       "      <th>W4T3_P</th>\n",
       "      <td>4</td>\n",
       "      <td>0.025437</td>\n",
       "      <td>Palm</td>\n",
       "      <td>View</td>\n",
       "      <td>T3</td>\n",
       "      <td>Bacteria</td>\n",
       "      <td>Pseudomonas</td>\n",
       "    </tr>\n",
       "    <tr>\n",
       "      <th>W5T3_P</th>\n",
       "      <td>5</td>\n",
       "      <td>0.115670</td>\n",
       "      <td>Palm</td>\n",
       "      <td>View</td>\n",
       "      <td>T3</td>\n",
       "      <td>Bacteria</td>\n",
       "      <td>Pseudomonas</td>\n",
       "    </tr>\n",
       "    <tr>\n",
       "      <th>W6T3_P</th>\n",
       "      <td>6</td>\n",
       "      <td>0.002280</td>\n",
       "      <td>Palm</td>\n",
       "      <td>View</td>\n",
       "      <td>T3</td>\n",
       "      <td>Bacteria</td>\n",
       "      <td>Pseudomonas</td>\n",
       "    </tr>\n",
       "  </tbody>\n",
       "</table>\n",
       "</div>"
      ],
      "text/plain": [
       "        Room_Number  Abundance location Room_Type Time   Kingdom        Genus\n",
       "Sample                                                                       \n",
       "W1T3_P            1   0.064143     Palm      View   T3  Bacteria  Pseudomonas\n",
       "W3T3_P            3   0.000345     Palm      View   T3  Bacteria  Pseudomonas\n",
       "W4T3_P            4   0.025437     Palm      View   T3  Bacteria  Pseudomonas\n",
       "W5T3_P            5   0.115670     Palm      View   T3  Bacteria  Pseudomonas\n",
       "W6T3_P            6   0.002280     Palm      View   T3  Bacteria  Pseudomonas"
      ]
     },
     "execution_count": 153,
     "metadata": {},
     "output_type": "execute_result"
    }
   ],
   "source": [
    "Pseudo_Palm_Regular= subgroup(Palm_Pseudo, \"Room_Type\", \"Regular\")\n",
    "Pseudo_Palm_View= subgroup(Palm_Pseudo, \"Room_Type\", \"View\")\n",
    "#Subgroup for each Timepoint \n",
    "Pseudo_PR_T1=subgroup(Pseudo_Palm_Regular, \"Time\",\"T1\")\n",
    "Pseudo_PR_T3=subgroup(Pseudo_Palm_Regular, \"Time\",\"T3\")\n",
    "Pseudo_PV_T1=subgroup(Pseudo_Palm_View, \"Time\",\"T1\")\n",
    "Pseudo_PV_T3=subgroup(Pseudo_Palm_View, \"Time\",\"T3\")\n",
    "Pseudo_PV_T3"
   ]
  },
  {
   "cell_type": "markdown",
   "id": "25b7611c-2a4c-4ec4-a88e-5715135074ef",
   "metadata": {},
   "source": [
    "**Normalty and variance test**"
   ]
  },
  {
   "cell_type": "code",
   "execution_count": 196,
   "id": "c1029595-ff8f-46a2-a1f1-1f540f3133f2",
   "metadata": {},
   "outputs": [
    {
     "name": "stdout",
     "output_type": "stream",
     "text": [
      "Shapiro statistics of Pale =0.714, p=0.000\n"
     ]
    }
   ],
   "source": [
    "# Overall Shapiro Wilk Test \n",
    "stat, p = shapiro(Palm_Pseudo[\"Abundance\"])\n",
    "print('Shapiro statistics of Pale =%.3f, p=%.3f' % (stat, p))"
   ]
  },
  {
   "cell_type": "code",
   "execution_count": 154,
   "id": "27ecc96c-608d-48c4-8f2e-961c87337cc9",
   "metadata": {},
   "outputs": [
    {
     "data": {
      "text/html": [
       "<div>\n",
       "<style scoped>\n",
       "    .dataframe tbody tr th:only-of-type {\n",
       "        vertical-align: middle;\n",
       "    }\n",
       "\n",
       "    .dataframe tbody tr th {\n",
       "        vertical-align: top;\n",
       "    }\n",
       "\n",
       "    .dataframe thead th {\n",
       "        text-align: right;\n",
       "    }\n",
       "</style>\n",
       "<table border=\"1\" class=\"dataframe\">\n",
       "  <thead>\n",
       "    <tr style=\"text-align: right;\">\n",
       "      <th></th>\n",
       "      <th>W</th>\n",
       "      <th>pval</th>\n",
       "      <th>normal</th>\n",
       "    </tr>\n",
       "  </thead>\n",
       "  <tbody>\n",
       "    <tr>\n",
       "      <th>T1</th>\n",
       "      <td>0.694031</td>\n",
       "      <td>0.000746</td>\n",
       "      <td>False</td>\n",
       "    </tr>\n",
       "    <tr>\n",
       "      <th>T3</th>\n",
       "      <td>0.760890</td>\n",
       "      <td>0.004843</td>\n",
       "      <td>False</td>\n",
       "    </tr>\n",
       "  </tbody>\n",
       "</table>\n",
       "</div>"
      ],
      "text/plain": [
       "           W      pval  normal\n",
       "T1  0.694031  0.000746   False\n",
       "T3  0.760890  0.004843   False"
      ]
     },
     "execution_count": 154,
     "metadata": {},
     "output_type": "execute_result"
    }
   ],
   "source": [
    "# Normality of Window Dataframe for each Timepoints\n",
    "pg.normality(data=Palm_Pseudo, dv='Abundance', group='Time')"
   ]
  },
  {
   "cell_type": "code",
   "execution_count": 155,
   "id": "5ebf813c-0403-4759-95a4-c90599ac0423",
   "metadata": {},
   "outputs": [
    {
     "data": {
      "text/html": [
       "<div>\n",
       "<style scoped>\n",
       "    .dataframe tbody tr th:only-of-type {\n",
       "        vertical-align: middle;\n",
       "    }\n",
       "\n",
       "    .dataframe tbody tr th {\n",
       "        vertical-align: top;\n",
       "    }\n",
       "\n",
       "    .dataframe thead th {\n",
       "        text-align: right;\n",
       "    }\n",
       "</style>\n",
       "<table border=\"1\" class=\"dataframe\">\n",
       "  <thead>\n",
       "    <tr style=\"text-align: right;\">\n",
       "      <th></th>\n",
       "      <th>W</th>\n",
       "      <th>pval</th>\n",
       "      <th>normal</th>\n",
       "    </tr>\n",
       "  </thead>\n",
       "  <tbody>\n",
       "    <tr>\n",
       "      <th>Regular</th>\n",
       "      <td>0.806669</td>\n",
       "      <td>0.017471</td>\n",
       "      <td>False</td>\n",
       "    </tr>\n",
       "    <tr>\n",
       "      <th>View</th>\n",
       "      <td>0.750875</td>\n",
       "      <td>0.003657</td>\n",
       "      <td>False</td>\n",
       "    </tr>\n",
       "  </tbody>\n",
       "</table>\n",
       "</div>"
      ],
      "text/plain": [
       "                W      pval  normal\n",
       "Regular  0.806669  0.017471   False\n",
       "View     0.750875  0.003657   False"
      ]
     },
     "execution_count": 155,
     "metadata": {},
     "output_type": "execute_result"
    }
   ],
   "source": [
    "# Normality of Window Dataframe for each type of room\n",
    "pg.normality(data=Palm_Pseudo, dv='Abundance', group='Room_Type')"
   ]
  },
  {
   "cell_type": "code",
   "execution_count": 197,
   "id": "bb8f4454-5bd4-47d6-8eb5-2d55bddc90f0",
   "metadata": {},
   "outputs": [
    {
     "data": {
      "text/html": [
       "<div>\n",
       "<style scoped>\n",
       "    .dataframe tbody tr th:only-of-type {\n",
       "        vertical-align: middle;\n",
       "    }\n",
       "\n",
       "    .dataframe tbody tr th {\n",
       "        vertical-align: top;\n",
       "    }\n",
       "\n",
       "    .dataframe thead th {\n",
       "        text-align: right;\n",
       "    }\n",
       "</style>\n",
       "<table border=\"1\" class=\"dataframe\">\n",
       "  <thead>\n",
       "    <tr style=\"text-align: right;\">\n",
       "      <th></th>\n",
       "      <th>W</th>\n",
       "      <th>pval</th>\n",
       "      <th>equal_var</th>\n",
       "    </tr>\n",
       "  </thead>\n",
       "  <tbody>\n",
       "    <tr>\n",
       "      <th>levene</th>\n",
       "      <td>0.861742</td>\n",
       "      <td>0.365534</td>\n",
       "      <td>True</td>\n",
       "    </tr>\n",
       "  </tbody>\n",
       "</table>\n",
       "</div>"
      ],
      "text/plain": [
       "               W      pval  equal_var\n",
       "levene  0.861742  0.365534       True"
      ]
     },
     "execution_count": 197,
     "metadata": {},
     "output_type": "execute_result"
    }
   ],
   "source": [
    "# Levene's test for variance assumption\n",
    "pg.homoscedasticity(data=Palm_Pseudo, dv='Abundance', group='Time')"
   ]
  },
  {
   "cell_type": "code",
   "execution_count": null,
   "id": "bb5d5348-48be-4fda-a05a-02f4d54e9baf",
   "metadata": {},
   "outputs": [
    {
     "data": {
      "text/html": [
       "<div>\n",
       "<style scoped>\n",
       "    .dataframe tbody tr th:only-of-type {\n",
       "        vertical-align: middle;\n",
       "    }\n",
       "\n",
       "    .dataframe tbody tr th {\n",
       "        vertical-align: top;\n",
       "    }\n",
       "\n",
       "    .dataframe thead th {\n",
       "        text-align: right;\n",
       "    }\n",
       "</style>\n",
       "<table border=\"1\" class=\"dataframe\">\n",
       "  <thead>\n",
       "    <tr style=\"text-align: right;\">\n",
       "      <th></th>\n",
       "      <th>W</th>\n",
       "      <th>pval</th>\n",
       "      <th>equal_var</th>\n",
       "    </tr>\n",
       "  </thead>\n",
       "  <tbody>\n",
       "    <tr>\n",
       "      <th>levene</th>\n",
       "      <td>1.61495</td>\n",
       "      <td>0.219976</td>\n",
       "      <td>True</td>\n",
       "    </tr>\n",
       "  </tbody>\n",
       "</table>\n",
       "</div>"
      ],
      "text/plain": [
       "              W      pval  equal_var\n",
       "levene  1.61495  0.219976       True"
      ]
     },
     "execution_count": 198,
     "metadata": {},
     "output_type": "execute_result"
    }
   ],
   "source": [
    "# Levene's test for variance assumption\n",
    "pg.homoscedasticity(data=Palm_Pseudo, dv='Abundance', group='Room')"
   ]
  },
  {
   "cell_type": "markdown",
   "id": "af1f6e31-35bd-46ef-93d8-0a8fb27167df",
   "metadata": {},
   "source": [
    "#### Statistical test between room type to see the effect of indoo daylight at each time"
   ]
  },
  {
   "cell_type": "code",
   "execution_count": 199,
   "id": "3ef22dbc-0871-40cd-a925-ef513a16bf1b",
   "metadata": {},
   "outputs": [
    {
     "data": {
      "text/plain": [
       "MannwhitneyuResult(statistic=12.5, pvalue=1.0)"
      ]
     },
     "execution_count": 199,
     "metadata": {},
     "output_type": "execute_result"
    }
   ],
   "source": [
    "#T1 MannWhitney U test\n",
    "scipy.stats.mannwhitneyu(Pseudo_PR_T1['Abundance'], Pseudo_PR_T1['Abundance'],alternative='two-sided')"
   ]
  },
  {
   "cell_type": "code",
   "execution_count": 200,
   "id": "c2821050-9cb4-462e-be51-296d7a90e082",
   "metadata": {},
   "outputs": [
    {
     "data": {
      "text/plain": [
       "MannwhitneyuResult(statistic=12.5, pvalue=1.0)"
      ]
     },
     "execution_count": 200,
     "metadata": {},
     "output_type": "execute_result"
    }
   ],
   "source": [
    "#T3 MannWhitney U test\n",
    "scipy.stats.mannwhitneyu(Pseudo_PR_T3['Abundance'], Pseudo_PR_T3['Abundance'],alternative='two-sided')"
   ]
  },
  {
   "cell_type": "markdown",
   "id": "999d664a-ad7d-46a9-a509-88724f3032a5",
   "metadata": {},
   "source": [
    "#### Statistical test between time to see the effect of occupancy"
   ]
  },
  {
   "cell_type": "code",
   "execution_count": 158,
   "id": "84653240-b48b-4e37-a152-f66a4cdafa0a",
   "metadata": {},
   "outputs": [
    {
     "data": {
      "text/html": [
       "<div>\n",
       "<style scoped>\n",
       "    .dataframe tbody tr th:only-of-type {\n",
       "        vertical-align: middle;\n",
       "    }\n",
       "\n",
       "    .dataframe tbody tr th {\n",
       "        vertical-align: top;\n",
       "    }\n",
       "\n",
       "    .dataframe thead th {\n",
       "        text-align: right;\n",
       "    }\n",
       "</style>\n",
       "<table border=\"1\" class=\"dataframe\">\n",
       "  <thead>\n",
       "    <tr style=\"text-align: right;\">\n",
       "      <th></th>\n",
       "      <th>Source</th>\n",
       "      <th>W</th>\n",
       "      <th>ddof1</th>\n",
       "      <th>Q</th>\n",
       "      <th>p-unc</th>\n",
       "    </tr>\n",
       "  </thead>\n",
       "  <tbody>\n",
       "    <tr>\n",
       "      <th>Friedman</th>\n",
       "      <td>Time</td>\n",
       "      <td>0.04</td>\n",
       "      <td>1</td>\n",
       "      <td>0.2</td>\n",
       "      <td>0.654721</td>\n",
       "    </tr>\n",
       "  </tbody>\n",
       "</table>\n",
       "</div>"
      ],
      "text/plain": [
       "         Source     W  ddof1    Q     p-unc\n",
       "Friedman   Time  0.04      1  0.2  0.654721"
      ]
     },
     "execution_count": 158,
     "metadata": {},
     "output_type": "execute_result"
    }
   ],
   "source": [
    "#Regular Room Friedman Test to see the block effect of TIME \n",
    "res= pg.friedman(data=Pseudo_Palm_Regular, dv=\"Abundance\", within=\"Time\", subject=\"Room_Number\")\n",
    "res"
   ]
  },
  {
   "cell_type": "code",
   "execution_count": 159,
   "id": "126cd625-a23d-4906-9ceb-9aa053bc1039",
   "metadata": {},
   "outputs": [
    {
     "data": {
      "text/html": [
       "<div>\n",
       "<style scoped>\n",
       "    .dataframe tbody tr th:only-of-type {\n",
       "        vertical-align: middle;\n",
       "    }\n",
       "\n",
       "    .dataframe tbody tr th {\n",
       "        vertical-align: top;\n",
       "    }\n",
       "\n",
       "    .dataframe thead th {\n",
       "        text-align: right;\n",
       "    }\n",
       "</style>\n",
       "<table border=\"1\" class=\"dataframe\">\n",
       "  <thead>\n",
       "    <tr style=\"text-align: right;\">\n",
       "      <th></th>\n",
       "      <th>Source</th>\n",
       "      <th>W</th>\n",
       "      <th>ddof1</th>\n",
       "      <th>Q</th>\n",
       "      <th>p-unc</th>\n",
       "    </tr>\n",
       "  </thead>\n",
       "  <tbody>\n",
       "    <tr>\n",
       "      <th>Friedman</th>\n",
       "      <td>Time</td>\n",
       "      <td>0.36</td>\n",
       "      <td>1</td>\n",
       "      <td>1.8</td>\n",
       "      <td>0.179712</td>\n",
       "    </tr>\n",
       "  </tbody>\n",
       "</table>\n",
       "</div>"
      ],
      "text/plain": [
       "         Source     W  ddof1    Q     p-unc\n",
       "Friedman   Time  0.36      1  1.8  0.179712"
      ]
     },
     "execution_count": 159,
     "metadata": {},
     "output_type": "execute_result"
    }
   ],
   "source": [
    "#EC window room: Friedman Test to see the block effect of TIME\n",
    "res= pg.friedman(data=Pseudo_Palm_View, dv=\"Abundance\", within=\"Time\", subject=\"Room_Number\")\n",
    "res"
   ]
  },
  {
   "cell_type": "markdown",
   "id": "69568d22-0744-4299-a2d9-36a604bf1548",
   "metadata": {},
   "source": [
    "### Saliva (Pseudomoans)"
   ]
  },
  {
   "cell_type": "code",
   "execution_count": 160,
   "id": "af8523a5-90ce-4590-9010-851628b8eed6",
   "metadata": {},
   "outputs": [
    {
     "data": {
      "text/html": [
       "<div>\n",
       "<style scoped>\n",
       "    .dataframe tbody tr th:only-of-type {\n",
       "        vertical-align: middle;\n",
       "    }\n",
       "\n",
       "    .dataframe tbody tr th {\n",
       "        vertical-align: top;\n",
       "    }\n",
       "\n",
       "    .dataframe thead th {\n",
       "        text-align: right;\n",
       "    }\n",
       "</style>\n",
       "<table border=\"1\" class=\"dataframe\">\n",
       "  <thead>\n",
       "    <tr style=\"text-align: right;\">\n",
       "      <th></th>\n",
       "      <th>Room_Number</th>\n",
       "      <th>Abundance</th>\n",
       "      <th>location</th>\n",
       "      <th>Room_Type</th>\n",
       "      <th>Time</th>\n",
       "      <th>Kingdom</th>\n",
       "      <th>Genus</th>\n",
       "    </tr>\n",
       "    <tr>\n",
       "      <th>Sample</th>\n",
       "      <th></th>\n",
       "      <th></th>\n",
       "      <th></th>\n",
       "      <th></th>\n",
       "      <th></th>\n",
       "      <th></th>\n",
       "      <th></th>\n",
       "    </tr>\n",
       "  </thead>\n",
       "  <tbody>\n",
       "    <tr>\n",
       "      <th>R1T1_SA</th>\n",
       "      <td>1</td>\n",
       "      <td>0.000000</td>\n",
       "      <td>Saliva</td>\n",
       "      <td>Regular</td>\n",
       "      <td>T1</td>\n",
       "      <td>Bacteria</td>\n",
       "      <td>Pseudomonas</td>\n",
       "    </tr>\n",
       "    <tr>\n",
       "      <th>R1T3_SA</th>\n",
       "      <td>1</td>\n",
       "      <td>0.000000</td>\n",
       "      <td>Saliva</td>\n",
       "      <td>Regular</td>\n",
       "      <td>T3</td>\n",
       "      <td>Bacteria</td>\n",
       "      <td>Pseudomonas</td>\n",
       "    </tr>\n",
       "    <tr>\n",
       "      <th>R2T1_SA</th>\n",
       "      <td>2</td>\n",
       "      <td>0.000000</td>\n",
       "      <td>Saliva</td>\n",
       "      <td>Regular</td>\n",
       "      <td>T1</td>\n",
       "      <td>Bacteria</td>\n",
       "      <td>Pseudomonas</td>\n",
       "    </tr>\n",
       "    <tr>\n",
       "      <th>R2T3_SA</th>\n",
       "      <td>2</td>\n",
       "      <td>0.000000</td>\n",
       "      <td>Saliva</td>\n",
       "      <td>Regular</td>\n",
       "      <td>T3</td>\n",
       "      <td>Bacteria</td>\n",
       "      <td>Pseudomonas</td>\n",
       "    </tr>\n",
       "    <tr>\n",
       "      <th>R3T1_SA</th>\n",
       "      <td>3</td>\n",
       "      <td>0.000000</td>\n",
       "      <td>Saliva</td>\n",
       "      <td>Regular</td>\n",
       "      <td>T1</td>\n",
       "      <td>Bacteria</td>\n",
       "      <td>Pseudomonas</td>\n",
       "    </tr>\n",
       "    <tr>\n",
       "      <th>R3T3_SA</th>\n",
       "      <td>3</td>\n",
       "      <td>0.000000</td>\n",
       "      <td>Saliva</td>\n",
       "      <td>Regular</td>\n",
       "      <td>T3</td>\n",
       "      <td>Bacteria</td>\n",
       "      <td>Pseudomonas</td>\n",
       "    </tr>\n",
       "    <tr>\n",
       "      <th>R5T1_SA</th>\n",
       "      <td>5</td>\n",
       "      <td>0.000000</td>\n",
       "      <td>Saliva</td>\n",
       "      <td>Regular</td>\n",
       "      <td>T1</td>\n",
       "      <td>Bacteria</td>\n",
       "      <td>Pseudomonas</td>\n",
       "    </tr>\n",
       "    <tr>\n",
       "      <th>R5T3_SA</th>\n",
       "      <td>5</td>\n",
       "      <td>0.000000</td>\n",
       "      <td>Saliva</td>\n",
       "      <td>Regular</td>\n",
       "      <td>T3</td>\n",
       "      <td>Bacteria</td>\n",
       "      <td>Pseudomonas</td>\n",
       "    </tr>\n",
       "    <tr>\n",
       "      <th>R6T1_SA</th>\n",
       "      <td>6</td>\n",
       "      <td>0.000000</td>\n",
       "      <td>Saliva</td>\n",
       "      <td>Regular</td>\n",
       "      <td>T1</td>\n",
       "      <td>Bacteria</td>\n",
       "      <td>Pseudomonas</td>\n",
       "    </tr>\n",
       "    <tr>\n",
       "      <th>R6T3_SA</th>\n",
       "      <td>6</td>\n",
       "      <td>0.000000</td>\n",
       "      <td>Saliva</td>\n",
       "      <td>Regular</td>\n",
       "      <td>T3</td>\n",
       "      <td>Bacteria</td>\n",
       "      <td>Pseudomonas</td>\n",
       "    </tr>\n",
       "    <tr>\n",
       "      <th>W1T1_SA</th>\n",
       "      <td>1</td>\n",
       "      <td>0.000000</td>\n",
       "      <td>Saliva</td>\n",
       "      <td>View</td>\n",
       "      <td>T1</td>\n",
       "      <td>Bacteria</td>\n",
       "      <td>Pseudomonas</td>\n",
       "    </tr>\n",
       "    <tr>\n",
       "      <th>W1T3_SA</th>\n",
       "      <td>1</td>\n",
       "      <td>0.000000</td>\n",
       "      <td>Saliva</td>\n",
       "      <td>View</td>\n",
       "      <td>T3</td>\n",
       "      <td>Bacteria</td>\n",
       "      <td>Pseudomonas</td>\n",
       "    </tr>\n",
       "    <tr>\n",
       "      <th>W3T1_SA</th>\n",
       "      <td>3</td>\n",
       "      <td>0.000000</td>\n",
       "      <td>Saliva</td>\n",
       "      <td>View</td>\n",
       "      <td>T1</td>\n",
       "      <td>Bacteria</td>\n",
       "      <td>Pseudomonas</td>\n",
       "    </tr>\n",
       "    <tr>\n",
       "      <th>W3T3_SA</th>\n",
       "      <td>3</td>\n",
       "      <td>0.000000</td>\n",
       "      <td>Saliva</td>\n",
       "      <td>View</td>\n",
       "      <td>T3</td>\n",
       "      <td>Bacteria</td>\n",
       "      <td>Pseudomonas</td>\n",
       "    </tr>\n",
       "    <tr>\n",
       "      <th>W4T1_SA</th>\n",
       "      <td>4</td>\n",
       "      <td>0.000000</td>\n",
       "      <td>Saliva</td>\n",
       "      <td>View</td>\n",
       "      <td>T1</td>\n",
       "      <td>Bacteria</td>\n",
       "      <td>Pseudomonas</td>\n",
       "    </tr>\n",
       "    <tr>\n",
       "      <th>W4T3_SA</th>\n",
       "      <td>4</td>\n",
       "      <td>0.000000</td>\n",
       "      <td>Saliva</td>\n",
       "      <td>View</td>\n",
       "      <td>T3</td>\n",
       "      <td>Bacteria</td>\n",
       "      <td>Pseudomonas</td>\n",
       "    </tr>\n",
       "    <tr>\n",
       "      <th>W5T1_SA</th>\n",
       "      <td>5</td>\n",
       "      <td>0.000000</td>\n",
       "      <td>Saliva</td>\n",
       "      <td>View</td>\n",
       "      <td>T1</td>\n",
       "      <td>Bacteria</td>\n",
       "      <td>Pseudomonas</td>\n",
       "    </tr>\n",
       "    <tr>\n",
       "      <th>W5T3_SA</th>\n",
       "      <td>5</td>\n",
       "      <td>0.000651</td>\n",
       "      <td>Saliva</td>\n",
       "      <td>View</td>\n",
       "      <td>T3</td>\n",
       "      <td>Bacteria</td>\n",
       "      <td>Pseudomonas</td>\n",
       "    </tr>\n",
       "    <tr>\n",
       "      <th>W6T1_SA</th>\n",
       "      <td>6</td>\n",
       "      <td>0.000000</td>\n",
       "      <td>Saliva</td>\n",
       "      <td>View</td>\n",
       "      <td>T1</td>\n",
       "      <td>Bacteria</td>\n",
       "      <td>Pseudomonas</td>\n",
       "    </tr>\n",
       "    <tr>\n",
       "      <th>W6T3_SA</th>\n",
       "      <td>6</td>\n",
       "      <td>0.000000</td>\n",
       "      <td>Saliva</td>\n",
       "      <td>View</td>\n",
       "      <td>T3</td>\n",
       "      <td>Bacteria</td>\n",
       "      <td>Pseudomonas</td>\n",
       "    </tr>\n",
       "  </tbody>\n",
       "</table>\n",
       "</div>"
      ],
      "text/plain": [
       "         Room_Number  Abundance location Room_Type Time   Kingdom        Genus\n",
       "Sample                                                                        \n",
       "R1T1_SA            1   0.000000   Saliva   Regular   T1  Bacteria  Pseudomonas\n",
       "R1T3_SA            1   0.000000   Saliva   Regular   T3  Bacteria  Pseudomonas\n",
       "R2T1_SA            2   0.000000   Saliva   Regular   T1  Bacteria  Pseudomonas\n",
       "R2T3_SA            2   0.000000   Saliva   Regular   T3  Bacteria  Pseudomonas\n",
       "R3T1_SA            3   0.000000   Saliva   Regular   T1  Bacteria  Pseudomonas\n",
       "R3T3_SA            3   0.000000   Saliva   Regular   T3  Bacteria  Pseudomonas\n",
       "R5T1_SA            5   0.000000   Saliva   Regular   T1  Bacteria  Pseudomonas\n",
       "R5T3_SA            5   0.000000   Saliva   Regular   T3  Bacteria  Pseudomonas\n",
       "R6T1_SA            6   0.000000   Saliva   Regular   T1  Bacteria  Pseudomonas\n",
       "R6T3_SA            6   0.000000   Saliva   Regular   T3  Bacteria  Pseudomonas\n",
       "W1T1_SA            1   0.000000   Saliva      View   T1  Bacteria  Pseudomonas\n",
       "W1T3_SA            1   0.000000   Saliva      View   T3  Bacteria  Pseudomonas\n",
       "W3T1_SA            3   0.000000   Saliva      View   T1  Bacteria  Pseudomonas\n",
       "W3T3_SA            3   0.000000   Saliva      View   T3  Bacteria  Pseudomonas\n",
       "W4T1_SA            4   0.000000   Saliva      View   T1  Bacteria  Pseudomonas\n",
       "W4T3_SA            4   0.000000   Saliva      View   T3  Bacteria  Pseudomonas\n",
       "W5T1_SA            5   0.000000   Saliva      View   T1  Bacteria  Pseudomonas\n",
       "W5T3_SA            5   0.000651   Saliva      View   T3  Bacteria  Pseudomonas\n",
       "W6T1_SA            6   0.000000   Saliva      View   T1  Bacteria  Pseudomonas\n",
       "W6T3_SA            6   0.000000   Saliva      View   T3  Bacteria  Pseudomonas"
      ]
     },
     "execution_count": 160,
     "metadata": {},
     "output_type": "execute_result"
    }
   ],
   "source": [
    "Saliva_Pseudo"
   ]
  },
  {
   "cell_type": "markdown",
   "id": "d2426552-d665-4a85-8997-e54df60a8413",
   "metadata": {},
   "source": [
    "* Pseudo is NOT detected in any of the patient saliva, so no further analysis is needed"
   ]
  }
 ],
 "metadata": {
  "kernelspec": {
   "display_name": "Python 3 (ipykernel)",
   "language": "python",
   "name": "python3"
  },
  "language_info": {
   "codemirror_mode": {
    "name": "ipython",
    "version": 3
   },
   "file_extension": ".py",
   "mimetype": "text/x-python",
   "name": "python",
   "nbconvert_exporter": "python",
   "pygments_lexer": "ipython3",
   "version": "3.8.13"
  }
 },
 "nbformat": 4,
 "nbformat_minor": 5
}
