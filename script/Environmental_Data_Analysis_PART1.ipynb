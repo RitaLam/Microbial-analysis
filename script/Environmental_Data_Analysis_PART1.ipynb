{
 "cells": [
  {
   "cell_type": "markdown",
   "id": "wicked-dividend",
   "metadata": {},
   "source": [
    "# Environmental Data Analysis-PART 1\n",
    "____\n",
    "\n",
    "* Raw Sensor readings were processed in excel first to include time from 6:00am-8:00pm, and each environmental data are imported \n",
    "* Data contain the following variable:\n",
    "    * Condition (indoor daylight): \"Blinds\" mean regular window and blinds, \"View\" mean EC window without blidns\n",
    "    \n",
    "    * Day (Time variable): T0 is baseline before patient admission, T1 is first day of patient admission, T2 is second day of patient admission, and T3 is third day of patient admission. \n",
    "\n",
    "    * Environmental factors (column: \"Envir\") measured by the sensor include light intensity (lx), temperature, Relative humidity (RH %), PM2.5, and co2"
   ]
  },
  {
   "cell_type": "code",
   "execution_count": 19,
   "id": "north-committee",
   "metadata": {},
   "outputs": [],
   "source": [
    "import numpy as np\n",
    "from numpy.random import seed\n",
    "from numpy.random import rand\n",
    "import pandas as pd\n",
    "import seaborn as sns\n",
    "import matplotlib.pyplot as plt\n",
    "from matplotlib.legend_handler import HandlerTuple\n",
    "import statsmodels.api as sm\n",
    "from statsmodels.formula.api import ols\n",
    "import sys\n",
    "from scipy import stats\n",
    "from scipy.stats import levene\n",
    "from scipy.stats import bartlett\n",
    "from scipy.stats import shapiro\n",
    "from scipy.stats.mstats import kruskal\n",
    "import scipy.spatial"
   ]
  },
  {
   "cell_type": "code",
   "execution_count": 20,
   "id": "82a74c29-3056-4776-9f52-4be2b1a4068c",
   "metadata": {},
   "outputs": [],
   "source": [
    "from scipy.stats import f_oneway\n",
    "from scipy.stats import boxcox\n",
    "from scipy.stats import yeojohnson\n",
    "from statsmodels.stats.multicomp import pairwise_tukeyhsd\n",
    "from statsmodels.stats.anova import AnovaRM\n",
    "from pingouin import welch_anova, read_dataset\n",
    "from pingouin import kruskal, read_dataset\n",
    "from pingouin import ttest\n",
    "import pingouin as pg"
   ]
  },
  {
   "cell_type": "markdown",
   "id": "assumed-glossary",
   "metadata": {},
   "source": [
    "## Import Dataframe "
   ]
  },
  {
   "cell_type": "code",
   "execution_count": 21,
   "id": "4e35de66-27a5-481b-8c92-3290b9881dbb",
   "metadata": {},
   "outputs": [
    {
     "data": {
      "text/html": [
       "<div>\n",
       "<style scoped>\n",
       "    .dataframe tbody tr th:only-of-type {\n",
       "        vertical-align: middle;\n",
       "    }\n",
       "\n",
       "    .dataframe tbody tr th {\n",
       "        vertical-align: top;\n",
       "    }\n",
       "\n",
       "    .dataframe thead th {\n",
       "        text-align: right;\n",
       "    }\n",
       "</style>\n",
       "<table border=\"1\" class=\"dataframe\">\n",
       "  <thead>\n",
       "    <tr style=\"text-align: right;\">\n",
       "      <th></th>\n",
       "      <th>Day</th>\n",
       "      <th>Time</th>\n",
       "      <th>Condition</th>\n",
       "      <th>Envir</th>\n",
       "      <th>Reading</th>\n",
       "      <th>PID</th>\n",
       "    </tr>\n",
       "  </thead>\n",
       "  <tbody>\n",
       "    <tr>\n",
       "      <th>0</th>\n",
       "      <td>T0</td>\n",
       "      <td>7:30:00</td>\n",
       "      <td>Blinds</td>\n",
       "      <td>light</td>\n",
       "      <td>83.7</td>\n",
       "      <td>RR1</td>\n",
       "    </tr>\n",
       "    <tr>\n",
       "      <th>1</th>\n",
       "      <td>T0</td>\n",
       "      <td>7:45:00</td>\n",
       "      <td>Blinds</td>\n",
       "      <td>light</td>\n",
       "      <td>122.5</td>\n",
       "      <td>RR1</td>\n",
       "    </tr>\n",
       "    <tr>\n",
       "      <th>2</th>\n",
       "      <td>T0</td>\n",
       "      <td>8:00:00</td>\n",
       "      <td>Blinds</td>\n",
       "      <td>light</td>\n",
       "      <td>663.2</td>\n",
       "      <td>RR1</td>\n",
       "    </tr>\n",
       "    <tr>\n",
       "      <th>3</th>\n",
       "      <td>T0</td>\n",
       "      <td>8:15:00</td>\n",
       "      <td>Blinds</td>\n",
       "      <td>light</td>\n",
       "      <td>990.4</td>\n",
       "      <td>RR1</td>\n",
       "    </tr>\n",
       "    <tr>\n",
       "      <th>4</th>\n",
       "      <td>T0</td>\n",
       "      <td>8:30:00</td>\n",
       "      <td>Blinds</td>\n",
       "      <td>light</td>\n",
       "      <td>1267.9</td>\n",
       "      <td>RR1</td>\n",
       "    </tr>\n",
       "  </tbody>\n",
       "</table>\n",
       "</div>"
      ],
      "text/plain": [
       "  Day     Time Condition  Envir  Reading  PID\n",
       "0  T0  7:30:00    Blinds  light     83.7  RR1\n",
       "1  T0  7:45:00    Blinds  light    122.5  RR1\n",
       "2  T0  8:00:00    Blinds  light    663.2  RR1\n",
       "3  T0  8:15:00    Blinds  light    990.4  RR1\n",
       "4  T0  8:30:00    Blinds  light   1267.9  RR1"
      ]
     },
     "execution_count": 21,
     "metadata": {},
     "output_type": "execute_result"
    }
   ],
   "source": [
    "#Light Intensity\n",
    "light= pd.read_csv(\"/Users/ritalam519/Documents/GitHub/Microbial-analysis/Raw_data/Environmental_Data/light.csv\",delimiter=\",\")\n",
    "# Temperature\n",
    "temp=pd.read_csv(\"/Users/ritalam519/Documents/GitHub/Microbial-analysis/Raw_data/Environmental_Data/temp.csv\",delimiter=\",\")\n",
    "# Relative Humidity (RH)\n",
    "RH= pd.read_csv(\"/Users/ritalam519/Documents/GitHub/Microbial-analysis/Raw_data/Environmental_Data/RH.csv\",delimiter=\",\")\n",
    "#CO2\n",
    "co2=pd.read_csv(\"/Users/ritalam519/Documents/GitHub/Microbial-analysis/Raw_data/Environmental_Data/co2.csv\",delimiter=\",\")\n",
    "#PM2.5\n",
    "pm25= pd.read_csv(\"/Users/ritalam519/Documents/GitHub/Microbial-analysis/Raw_data/Environmental_Data/pm25.csv\",delimiter=\",\")\n",
    "\n",
    "light.head(5)"
   ]
  },
  {
   "cell_type": "markdown",
   "id": "miniature-helping",
   "metadata": {},
   "source": [
    "## Data processing"
   ]
  },
  {
   "cell_type": "code",
   "execution_count": 22,
   "id": "handled-belgium",
   "metadata": {},
   "outputs": [],
   "source": [
    "def subgroup(data, field, val):\n",
    "    return data.loc[data[field] == val]"
   ]
  },
  {
   "cell_type": "code",
   "execution_count": 23,
   "id": "c381e12d-fc6b-426c-b2d6-ce72235997a0",
   "metadata": {},
   "outputs": [],
   "source": [
    "light_R=subgroup(light,\"Condition\",\"Blinds\")\n",
    "light_V=subgroup(light,\"Condition\",\"View\")\n",
    "pm25_R=subgroup(pm25,\"Condition\",\"Blinds\")\n",
    "pm25_V=subgroup(pm25,\"Condition\",\"View\")\n",
    "temp_R=subgroup(temp,\"Condition\",\"Blinds\")\n",
    "temp_V=subgroup(temp,\"Condition\",\"View\")\n",
    "co2_R=subgroup(co2,\"Condition\",\"Blinds\")\n",
    "co2_V=subgroup(co2,\"Condition\",\"View\")\n",
    "RH_R=subgroup(RH,\"Condition\",\"Blinds\")\n",
    "RH_V=subgroup(RH,\"Condition\",\"View\")"
   ]
  },
  {
   "cell_type": "markdown",
   "id": "0657484f-cfad-417b-92b7-71711f1a7edf",
   "metadata": {},
   "source": [
    "_______\n",
    "## Statistical Analysios\n",
    "\n",
    "### Light intensity"
   ]
  },
  {
   "cell_type": "code",
   "execution_count": 24,
   "id": "a6e7d66e-804a-4245-9cc5-47f74699454e",
   "metadata": {},
   "outputs": [
    {
     "data": {
      "image/png": "[encoded data removed]",
      "text/plain": [
       "<Figure size 600x400 with 1 Axes>"
      ]
     },
     "metadata": {},
     "output_type": "display_data"
    }
   ],
   "source": [
    "# Light Boxplot\n",
    "plt.figure(figsize= (6,4))\n",
    "light.plt =sns.boxplot(x='Condition', y='Reading', palette='muted',data=light)\n",
    "light.plt.set(title=\"Light intensity overview\")\n",
    "light.plt.set(ylabel=\"Light intensity (lx)\")\n",
    "plt.ylim(0,6000)\n",
    "plt.show() "
   ]
  },
  {
   "cell_type": "code",
   "execution_count": 25,
   "id": "1e3566fa-6491-4812-b6b6-6e18db422f9f",
   "metadata": {},
   "outputs": [
    {
     "data": {
      "text/html": [
       "<div>\n",
       "<style scoped>\n",
       "    .dataframe tbody tr th:only-of-type {\n",
       "        vertical-align: middle;\n",
       "    }\n",
       "\n",
       "    .dataframe tbody tr th {\n",
       "        vertical-align: top;\n",
       "    }\n",
       "\n",
       "    .dataframe thead th {\n",
       "        text-align: right;\n",
       "    }\n",
       "</style>\n",
       "<table border=\"1\" class=\"dataframe\">\n",
       "  <thead>\n",
       "    <tr style=\"text-align: right;\">\n",
       "      <th></th>\n",
       "      <th>W</th>\n",
       "      <th>pval</th>\n",
       "      <th>normal</th>\n",
       "    </tr>\n",
       "  </thead>\n",
       "  <tbody>\n",
       "    <tr>\n",
       "      <th>Blinds</th>\n",
       "      <td>0.775349</td>\n",
       "      <td>3.287446e-41</td>\n",
       "      <td>False</td>\n",
       "    </tr>\n",
       "    <tr>\n",
       "      <th>View</th>\n",
       "      <td>0.677345</td>\n",
       "      <td>0.000000e+00</td>\n",
       "      <td>False</td>\n",
       "    </tr>\n",
       "  </tbody>\n",
       "</table>\n",
       "</div>"
      ],
      "text/plain": [
       "               W          pval  normal\n",
       "Blinds  0.775349  3.287446e-41   False\n",
       "View    0.677345  0.000000e+00   False"
      ]
     },
     "execution_count": 25,
     "metadata": {},
     "output_type": "execute_result"
    }
   ],
   "source": [
    "# Normality for each Timepoints\n",
    "pg.normality(data=light, dv='Reading', group='Condition')"
   ]
  },
  {
   "cell_type": "code",
   "execution_count": 26,
   "id": "caa20daa-5003-4398-a2c8-de8ce6b48d69",
   "metadata": {},
   "outputs": [
    {
     "data": {
      "text/html": [
       "<div>\n",
       "<style scoped>\n",
       "    .dataframe tbody tr th:only-of-type {\n",
       "        vertical-align: middle;\n",
       "    }\n",
       "\n",
       "    .dataframe tbody tr th {\n",
       "        vertical-align: top;\n",
       "    }\n",
       "\n",
       "    .dataframe thead th {\n",
       "        text-align: right;\n",
       "    }\n",
       "</style>\n",
       "<table border=\"1\" class=\"dataframe\">\n",
       "  <thead>\n",
       "    <tr style=\"text-align: right;\">\n",
       "      <th></th>\n",
       "      <th>W</th>\n",
       "      <th>pval</th>\n",
       "      <th>equal_var</th>\n",
       "    </tr>\n",
       "  </thead>\n",
       "  <tbody>\n",
       "    <tr>\n",
       "      <th>levene</th>\n",
       "      <td>61.008119</td>\n",
       "      <td>7.608786e-15</td>\n",
       "      <td>False</td>\n",
       "    </tr>\n",
       "  </tbody>\n",
       "</table>\n",
       "</div>"
      ],
      "text/plain": [
       "                W          pval  equal_var\n",
       "levene  61.008119  7.608786e-15      False"
      ]
     },
     "execution_count": 26,
     "metadata": {},
     "output_type": "execute_result"
    }
   ],
   "source": [
    "# Levene's test for variance assumption\n",
    "pg.homoscedasticity(data=light, dv='Reading', group='Condition')"
   ]
  },
  {
   "cell_type": "code",
   "execution_count": 27,
   "id": "deb62e95-3a50-470f-99af-69423b70f021",
   "metadata": {},
   "outputs": [
    {
     "data": {
      "text/plain": [
       "MannwhitneyuResult(statistic=1519495.0, pvalue=9.304949280712079e-15)"
      ]
     },
     "execution_count": 27,
     "metadata": {},
     "output_type": "execute_result"
    }
   ],
   "source": [
    "#MannWhitney U test\n",
    "scipy.stats.mannwhitneyu(light_R['Reading'], light_V['Reading'], alternative='two-sided')"
   ]
  },
  {
   "cell_type": "markdown",
   "id": "f217fcaa-d759-4f69-84c4-3c59d6046f95",
   "metadata": {},
   "source": [
    "### Temperature "
   ]
  },
  {
   "cell_type": "code",
   "execution_count": 28,
   "id": "551a92d7-c2e9-4508-8e83-f496fdbea094",
   "metadata": {},
   "outputs": [
    {
     "data": {
      "image/png": "[encoded data removed]",
      "text/plain": [
       "<Figure size 600x400 with 1 Axes>"
      ]
     },
     "metadata": {},
     "output_type": "display_data"
    }
   ],
   "source": [
    "# Light Boxplot\n",
    "plt.figure(figsize= (6,4))\n",
    "light.plt =sns.boxplot(x='Condition', y='Reading',\n",
    "                        palette='muted',data=temp)\n",
    "light.plt.set(title=\"Temperature overview\")\n",
    "light.plt.set(ylabel=\"Temperature(F)\")\n",
    "plt.show() "
   ]
  },
  {
   "cell_type": "code",
   "execution_count": 29,
   "id": "93482e31-2fe2-457e-8c3a-990935f7fbd6",
   "metadata": {},
   "outputs": [
    {
     "data": {
      "text/html": [
       "<div>\n",
       "<style scoped>\n",
       "    .dataframe tbody tr th:only-of-type {\n",
       "        vertical-align: middle;\n",
       "    }\n",
       "\n",
       "    .dataframe tbody tr th {\n",
       "        vertical-align: top;\n",
       "    }\n",
       "\n",
       "    .dataframe thead th {\n",
       "        text-align: right;\n",
       "    }\n",
       "</style>\n",
       "<table border=\"1\" class=\"dataframe\">\n",
       "  <thead>\n",
       "    <tr style=\"text-align: right;\">\n",
       "      <th></th>\n",
       "      <th>W</th>\n",
       "      <th>pval</th>\n",
       "      <th>normal</th>\n",
       "    </tr>\n",
       "  </thead>\n",
       "  <tbody>\n",
       "    <tr>\n",
       "      <th>Blinds</th>\n",
       "      <td>0.984895</td>\n",
       "      <td>2.047449e-11</td>\n",
       "      <td>False</td>\n",
       "    </tr>\n",
       "    <tr>\n",
       "      <th>View</th>\n",
       "      <td>0.975144</td>\n",
       "      <td>6.745129e-17</td>\n",
       "      <td>False</td>\n",
       "    </tr>\n",
       "  </tbody>\n",
       "</table>\n",
       "</div>"
      ],
      "text/plain": [
       "               W          pval  normal\n",
       "Blinds  0.984895  2.047449e-11   False\n",
       "View    0.975144  6.745129e-17   False"
      ]
     },
     "execution_count": 29,
     "metadata": {},
     "output_type": "execute_result"
    }
   ],
   "source": [
    "# Normality for each Timepoints\n",
    "pg.normality(data=temp, dv='Reading', group='Condition')"
   ]
  },
  {
   "cell_type": "code",
   "execution_count": 30,
   "id": "b24d1d3c-b53f-47c1-a2d7-1b92d4f78dc5",
   "metadata": {},
   "outputs": [
    {
     "data": {
      "text/html": [
       "<div>\n",
       "<style scoped>\n",
       "    .dataframe tbody tr th:only-of-type {\n",
       "        vertical-align: middle;\n",
       "    }\n",
       "\n",
       "    .dataframe tbody tr th {\n",
       "        vertical-align: top;\n",
       "    }\n",
       "\n",
       "    .dataframe thead th {\n",
       "        text-align: right;\n",
       "    }\n",
       "</style>\n",
       "<table border=\"1\" class=\"dataframe\">\n",
       "  <thead>\n",
       "    <tr style=\"text-align: right;\">\n",
       "      <th></th>\n",
       "      <th>W</th>\n",
       "      <th>pval</th>\n",
       "      <th>equal_var</th>\n",
       "    </tr>\n",
       "  </thead>\n",
       "  <tbody>\n",
       "    <tr>\n",
       "      <th>levene</th>\n",
       "      <td>15.25391</td>\n",
       "      <td>0.000096</td>\n",
       "      <td>False</td>\n",
       "    </tr>\n",
       "  </tbody>\n",
       "</table>\n",
       "</div>"
      ],
      "text/plain": [
       "               W      pval  equal_var\n",
       "levene  15.25391  0.000096      False"
      ]
     },
     "execution_count": 30,
     "metadata": {},
     "output_type": "execute_result"
    }
   ],
   "source": [
    "# Levene's test for variance assumption\n",
    "pg.homoscedasticity(data=temp, dv='Reading', group='Condition')"
   ]
  },
  {
   "cell_type": "code",
   "execution_count": 31,
   "id": "b052871e-6409-4d98-8b76-7ecb1e8f472d",
   "metadata": {},
   "outputs": [
    {
     "data": {
      "text/plain": [
       "MannwhitneyuResult(statistic=1519495.0, pvalue=9.304949280712079e-15)"
      ]
     },
     "execution_count": 31,
     "metadata": {},
     "output_type": "execute_result"
    }
   ],
   "source": [
    "#Data is not normally distributed and variance is not homogenous so perform MannWhitney U test\n",
    "scipy.stats.mannwhitneyu(light_R['Reading'], light_V['Reading'], alternative='two-sided')"
   ]
  },
  {
   "cell_type": "markdown",
   "id": "e273e32e-d968-4a54-a3ee-83ba9f9999c5",
   "metadata": {},
   "source": [
    "### Humidity"
   ]
  },
  {
   "cell_type": "code",
   "execution_count": 32,
   "id": "e7786907-64b6-4d93-8998-43e34c7450d4",
   "metadata": {},
   "outputs": [
    {
     "data": {
      "image/png": "[encoded data removed]",
      "text/plain": [
       "<Figure size 600x400 with 1 Axes>"
      ]
     },
     "metadata": {},
     "output_type": "display_data"
    }
   ],
   "source": [
    "# Light Boxplot\n",
    "plt.figure(figsize= (6,4))\n",
    "light.plt =sns.boxplot(x='Condition', y='Reading',\n",
    "                        palette='muted',data=RH)\n",
    "light.plt.set(title=\"Relatiove overview\")\n",
    "light.plt.set(ylabel=\"RH (%)\")\n",
    "plt.show() "
   ]
  },
  {
   "cell_type": "code",
   "execution_count": 33,
   "id": "d1d25b7c-33a7-4355-80b6-4bb33b576fc6",
   "metadata": {},
   "outputs": [
    {
     "data": {
      "text/html": [
       "<div>\n",
       "<style scoped>\n",
       "    .dataframe tbody tr th:only-of-type {\n",
       "        vertical-align: middle;\n",
       "    }\n",
       "\n",
       "    .dataframe tbody tr th {\n",
       "        vertical-align: top;\n",
       "    }\n",
       "\n",
       "    .dataframe thead th {\n",
       "        text-align: right;\n",
       "    }\n",
       "</style>\n",
       "<table border=\"1\" class=\"dataframe\">\n",
       "  <thead>\n",
       "    <tr style=\"text-align: right;\">\n",
       "      <th></th>\n",
       "      <th>W</th>\n",
       "      <th>pval</th>\n",
       "      <th>normal</th>\n",
       "    </tr>\n",
       "  </thead>\n",
       "  <tbody>\n",
       "    <tr>\n",
       "      <th>Blinds</th>\n",
       "      <td>0.952377</td>\n",
       "      <td>1.172592e-21</td>\n",
       "      <td>False</td>\n",
       "    </tr>\n",
       "    <tr>\n",
       "      <th>View</th>\n",
       "      <td>0.943228</td>\n",
       "      <td>1.881193e-25</td>\n",
       "      <td>False</td>\n",
       "    </tr>\n",
       "  </tbody>\n",
       "</table>\n",
       "</div>"
      ],
      "text/plain": [
       "               W          pval  normal\n",
       "Blinds  0.952377  1.172592e-21   False\n",
       "View    0.943228  1.881193e-25   False"
      ]
     },
     "execution_count": 33,
     "metadata": {},
     "output_type": "execute_result"
    }
   ],
   "source": [
    "# Normality for each Timepoints\n",
    "pg.normality(data=RH, dv='Reading', group='Condition')"
   ]
  },
  {
   "cell_type": "code",
   "execution_count": 34,
   "id": "d7634f6d-aa3f-447b-b174-90b3df77a9b2",
   "metadata": {},
   "outputs": [
    {
     "data": {
      "text/html": [
       "<div>\n",
       "<style scoped>\n",
       "    .dataframe tbody tr th:only-of-type {\n",
       "        vertical-align: middle;\n",
       "    }\n",
       "\n",
       "    .dataframe tbody tr th {\n",
       "        vertical-align: top;\n",
       "    }\n",
       "\n",
       "    .dataframe thead th {\n",
       "        text-align: right;\n",
       "    }\n",
       "</style>\n",
       "<table border=\"1\" class=\"dataframe\">\n",
       "  <thead>\n",
       "    <tr style=\"text-align: right;\">\n",
       "      <th></th>\n",
       "      <th>W</th>\n",
       "      <th>pval</th>\n",
       "      <th>equal_var</th>\n",
       "    </tr>\n",
       "  </thead>\n",
       "  <tbody>\n",
       "    <tr>\n",
       "      <th>levene</th>\n",
       "      <td>30.265083</td>\n",
       "      <td>4.060001e-08</td>\n",
       "      <td>False</td>\n",
       "    </tr>\n",
       "  </tbody>\n",
       "</table>\n",
       "</div>"
      ],
      "text/plain": [
       "                W          pval  equal_var\n",
       "levene  30.265083  4.060001e-08      False"
      ]
     },
     "execution_count": 34,
     "metadata": {},
     "output_type": "execute_result"
    }
   ],
   "source": [
    "# Levene's test for variance assumption\n",
    "pg.homoscedasticity(data=RH, dv='Reading', group='Condition')"
   ]
  },
  {
   "cell_type": "code",
   "execution_count": 35,
   "id": "6176805e-9126-4e38-b0a6-585140f79155",
   "metadata": {},
   "outputs": [
    {
     "data": {
      "text/plain": [
       "MannwhitneyuResult(statistic=1001307.0, pvalue=3.9708917678974666e-32)"
      ]
     },
     "execution_count": 35,
     "metadata": {},
     "output_type": "execute_result"
    }
   ],
   "source": [
    "#Data is not normally distributed and variance is not homogenous so perform MannWhitney U test\n",
    "scipy.stats.mannwhitneyu(RH_R['Reading'], RH_V['Reading'], alternative='two-sided')"
   ]
  },
  {
   "cell_type": "markdown",
   "id": "537fcb3f-f251-47d0-a929-7296c38d3087",
   "metadata": {},
   "source": [
    "### CO2 Analysis"
   ]
  },
  {
   "cell_type": "code",
   "execution_count": 36,
   "id": "fa979f32-aa56-4383-8aff-3d7917f5d420",
   "metadata": {},
   "outputs": [
    {
     "data": {
      "image/png": "[encoded data removed]",
      "text/plain": [
       "<Figure size 600x400 with 1 Axes>"
      ]
     },
     "metadata": {},
     "output_type": "display_data"
    }
   ],
   "source": [
    "# Light Boxplot\n",
    "plt.figure(figsize= (6,4))\n",
    "light.plt =sns.boxplot(x='Condition', y='Reading',\n",
    "                        palette='muted',data=co2)\n",
    "light.plt.set(title=\"co2 concentration overview\")\n",
    "light.plt.set(ylabel=\"CO2 (ppm)\")\n",
    "plt.show() "
   ]
  },
  {
   "cell_type": "code",
   "execution_count": 37,
   "id": "749a8962-e3f5-499f-8b58-dcbe0f3d929b",
   "metadata": {},
   "outputs": [
    {
     "data": {
      "text/html": [
       "<div>\n",
       "<style scoped>\n",
       "    .dataframe tbody tr th:only-of-type {\n",
       "        vertical-align: middle;\n",
       "    }\n",
       "\n",
       "    .dataframe tbody tr th {\n",
       "        vertical-align: top;\n",
       "    }\n",
       "\n",
       "    .dataframe thead th {\n",
       "        text-align: right;\n",
       "    }\n",
       "</style>\n",
       "<table border=\"1\" class=\"dataframe\">\n",
       "  <thead>\n",
       "    <tr style=\"text-align: right;\">\n",
       "      <th></th>\n",
       "      <th>W</th>\n",
       "      <th>pval</th>\n",
       "      <th>normal</th>\n",
       "    </tr>\n",
       "  </thead>\n",
       "  <tbody>\n",
       "    <tr>\n",
       "      <th>Blinds</th>\n",
       "      <td>0.955317</td>\n",
       "      <td>5.298600e-21</td>\n",
       "      <td>False</td>\n",
       "    </tr>\n",
       "    <tr>\n",
       "      <th>View</th>\n",
       "      <td>0.971541</td>\n",
       "      <td>3.594281e-18</td>\n",
       "      <td>False</td>\n",
       "    </tr>\n",
       "  </tbody>\n",
       "</table>\n",
       "</div>"
      ],
      "text/plain": [
       "               W          pval  normal\n",
       "Blinds  0.955317  5.298600e-21   False\n",
       "View    0.971541  3.594281e-18   False"
      ]
     },
     "execution_count": 37,
     "metadata": {},
     "output_type": "execute_result"
    }
   ],
   "source": [
    "# Normality for each Timepoints\n",
    "pg.normality(data=co2_v2, dv='Reading', group='Condition')"
   ]
  },
  {
   "cell_type": "code",
   "execution_count": 38,
   "id": "71dadefd-eefa-45cb-af71-0268a8546410",
   "metadata": {},
   "outputs": [
    {
     "data": {
      "text/html": [
       "<div>\n",
       "<style scoped>\n",
       "    .dataframe tbody tr th:only-of-type {\n",
       "        vertical-align: middle;\n",
       "    }\n",
       "\n",
       "    .dataframe tbody tr th {\n",
       "        vertical-align: top;\n",
       "    }\n",
       "\n",
       "    .dataframe thead th {\n",
       "        text-align: right;\n",
       "    }\n",
       "</style>\n",
       "<table border=\"1\" class=\"dataframe\">\n",
       "  <thead>\n",
       "    <tr style=\"text-align: right;\">\n",
       "      <th></th>\n",
       "      <th>W</th>\n",
       "      <th>pval</th>\n",
       "      <th>equal_var</th>\n",
       "    </tr>\n",
       "  </thead>\n",
       "  <tbody>\n",
       "    <tr>\n",
       "      <th>levene</th>\n",
       "      <td>39.209688</td>\n",
       "      <td>4.304948e-10</td>\n",
       "      <td>False</td>\n",
       "    </tr>\n",
       "  </tbody>\n",
       "</table>\n",
       "</div>"
      ],
      "text/plain": [
       "                W          pval  equal_var\n",
       "levene  39.209688  4.304948e-10      False"
      ]
     },
     "execution_count": 38,
     "metadata": {},
     "output_type": "execute_result"
    }
   ],
   "source": [
    "# Levene's test for variance assumption\n",
    "pg.homoscedasticity(data=co2, dv='Reading', group='Condition')"
   ]
  },
  {
   "cell_type": "code",
   "execution_count": 39,
   "id": "71d72169-2406-4120-96a4-b67a13dee457",
   "metadata": {},
   "outputs": [
    {
     "data": {
      "text/plain": [
       "MannwhitneyuResult(statistic=1317379.5, pvalue=0.992808989397836)"
      ]
     },
     "execution_count": 39,
     "metadata": {},
     "output_type": "execute_result"
    }
   ],
   "source": [
    "#MannWhitney U test\n",
    "scipy.stats.mannwhitneyu(co2_R['Reading'], co2_V['Reading'], alternative='two-sided')"
   ]
  },
  {
   "cell_type": "markdown",
   "id": "9160e4ed-fbfc-4032-849a-64bbc073273f",
   "metadata": {},
   "source": [
    "### PM2.5"
   ]
  },
  {
   "cell_type": "code",
   "execution_count": 40,
   "id": "29df1f76-b09b-4ed5-b613-938b0ed34a43",
   "metadata": {},
   "outputs": [
    {
     "data": {
      "image/png": "[encoded data removed]",
      "text/plain": [
       "<Figure size 600x400 with 1 Axes>"
      ]
     },
     "metadata": {},
     "output_type": "display_data"
    }
   ],
   "source": [
    "# Light Boxplot\n",
    "plt.figure(figsize= (6,4))\n",
    "light.plt =sns.boxplot(x='Condition', y='Reading',\n",
    "                        palette='muted',data=pm25)\n",
    "light.plt.set(title=\"pm2.5 concentration overview\")\n",
    "light.plt.set(ylabel=\"pm2.5 (microgram per cm3)\")\n",
    "plt.show() "
   ]
  },
  {
   "cell_type": "code",
   "execution_count": 41,
   "id": "f7d15c00-a592-4ce3-b96d-a87a4e8a2b3d",
   "metadata": {},
   "outputs": [
    {
     "data": {
      "text/html": [
       "<div>\n",
       "<style scoped>\n",
       "    .dataframe tbody tr th:only-of-type {\n",
       "        vertical-align: middle;\n",
       "    }\n",
       "\n",
       "    .dataframe tbody tr th {\n",
       "        vertical-align: top;\n",
       "    }\n",
       "\n",
       "    .dataframe thead th {\n",
       "        text-align: right;\n",
       "    }\n",
       "</style>\n",
       "<table border=\"1\" class=\"dataframe\">\n",
       "  <thead>\n",
       "    <tr style=\"text-align: right;\">\n",
       "      <th></th>\n",
       "      <th>W</th>\n",
       "      <th>pval</th>\n",
       "      <th>normal</th>\n",
       "    </tr>\n",
       "  </thead>\n",
       "  <tbody>\n",
       "    <tr>\n",
       "      <th>Blinds</th>\n",
       "      <td>0.124327</td>\n",
       "      <td>0.0</td>\n",
       "      <td>False</td>\n",
       "    </tr>\n",
       "    <tr>\n",
       "      <th>View</th>\n",
       "      <td>0.511119</td>\n",
       "      <td>0.0</td>\n",
       "      <td>False</td>\n",
       "    </tr>\n",
       "  </tbody>\n",
       "</table>\n",
       "</div>"
      ],
      "text/plain": [
       "               W  pval  normal\n",
       "Blinds  0.124327   0.0   False\n",
       "View    0.511119   0.0   False"
      ]
     },
     "execution_count": 41,
     "metadata": {},
     "output_type": "execute_result"
    }
   ],
   "source": [
    "# Normality for each Timepoints\n",
    "pg.normality(data=pm25, dv='Reading', group='Condition')"
   ]
  },
  {
   "cell_type": "code",
   "execution_count": 42,
   "id": "d4d70dee-5a33-4325-a535-c294b2b0b756",
   "metadata": {},
   "outputs": [
    {
     "data": {
      "text/html": [
       "<div>\n",
       "<style scoped>\n",
       "    .dataframe tbody tr th:only-of-type {\n",
       "        vertical-align: middle;\n",
       "    }\n",
       "\n",
       "    .dataframe tbody tr th {\n",
       "        vertical-align: top;\n",
       "    }\n",
       "\n",
       "    .dataframe thead th {\n",
       "        text-align: right;\n",
       "    }\n",
       "</style>\n",
       "<table border=\"1\" class=\"dataframe\">\n",
       "  <thead>\n",
       "    <tr style=\"text-align: right;\">\n",
       "      <th></th>\n",
       "      <th>W</th>\n",
       "      <th>pval</th>\n",
       "      <th>equal_var</th>\n",
       "    </tr>\n",
       "  </thead>\n",
       "  <tbody>\n",
       "    <tr>\n",
       "      <th>levene</th>\n",
       "      <td>0.011282</td>\n",
       "      <td>0.915417</td>\n",
       "      <td>True</td>\n",
       "    </tr>\n",
       "  </tbody>\n",
       "</table>\n",
       "</div>"
      ],
      "text/plain": [
       "               W      pval  equal_var\n",
       "levene  0.011282  0.915417       True"
      ]
     },
     "execution_count": 42,
     "metadata": {},
     "output_type": "execute_result"
    }
   ],
   "source": [
    "# Levene's test for variance assumption\n",
    "pg.homoscedasticity(data=pm25, dv='Reading', group='Condition')"
   ]
  },
  {
   "cell_type": "code",
   "execution_count": 43,
   "id": "738afb96-2d17-4ded-94a5-6293d7751b0c",
   "metadata": {},
   "outputs": [
    {
     "data": {
      "text/html": [
       "<div>\n",
       "<style scoped>\n",
       "    .dataframe tbody tr th:only-of-type {\n",
       "        vertical-align: middle;\n",
       "    }\n",
       "\n",
       "    .dataframe tbody tr th {\n",
       "        vertical-align: top;\n",
       "    }\n",
       "\n",
       "    .dataframe thead th {\n",
       "        text-align: right;\n",
       "    }\n",
       "</style>\n",
       "<table border=\"1\" class=\"dataframe\">\n",
       "  <thead>\n",
       "    <tr style=\"text-align: right;\">\n",
       "      <th></th>\n",
       "      <th>T</th>\n",
       "      <th>dof</th>\n",
       "      <th>alternative</th>\n",
       "      <th>p-val</th>\n",
       "      <th>CI95%</th>\n",
       "      <th>cohen-d</th>\n",
       "      <th>BF10</th>\n",
       "      <th>power</th>\n",
       "    </tr>\n",
       "  </thead>\n",
       "  <tbody>\n",
       "    <tr>\n",
       "      <th>T-test</th>\n",
       "      <td>0.099646</td>\n",
       "      <td>1778.985277</td>\n",
       "      <td>two-sided</td>\n",
       "      <td>0.920637</td>\n",
       "      <td>[-0.23, 0.26]</td>\n",
       "      <td>0.003734</td>\n",
       "      <td>0.04</td>\n",
       "      <td>0.051293</td>\n",
       "    </tr>\n",
       "  </tbody>\n",
       "</table>\n",
       "</div>"
      ],
      "text/plain": [
       "               T          dof alternative     p-val          CI95%   cohen-d  \\\n",
       "T-test  0.099646  1778.985277   two-sided  0.920637  [-0.23, 0.26]  0.003734   \n",
       "\n",
       "        BF10     power  \n",
       "T-test  0.04  0.051293  "
      ]
     },
     "execution_count": 43,
     "metadata": {},
     "output_type": "execute_result"
    }
   ],
   "source": [
    "# 2 sample t-test\n",
    "res=ttest(pm25_R['Reading'], pm25_V['Reading'],paired = False)\n",
    "res"
   ]
  },
  {
   "cell_type": "code",
   "execution_count": 44,
   "id": "474356be-8c39-4424-9ec6-497a7c26ceeb",
   "metadata": {},
   "outputs": [
    {
     "data": {
      "text/plain": [
       "MannwhitneyuResult(statistic=1270607.5, pvalue=0.04793813804679945)"
      ]
     },
     "execution_count": 44,
     "metadata": {},
     "output_type": "execute_result"
    }
   ],
   "source": [
    "#MannWhitney U test\n",
    "scipy.stats.mannwhitneyu(pm25_R['Reading'], pm25_V['Reading'], alternative='two-sided')"
   ]
  }
 ],
 "metadata": {
  "kernelspec": {
   "display_name": "Python 3 (ipykernel)",
   "language": "python",
   "name": "python3"
  },
  "language_info": {
   "codemirror_mode": {
    "name": "ipython",
    "version": 3
   },
   "file_extension": ".py",
   "mimetype": "text/x-python",
   "name": "python",
   "nbconvert_exporter": "python",
   "pygments_lexer": "ipython3",
   "version": "3.8.13"
  }
 },
 "nbformat": 4,
 "nbformat_minor": 5
}
